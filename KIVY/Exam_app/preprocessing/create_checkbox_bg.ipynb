{
 "cells": [
  {
   "cell_type": "code",
   "execution_count": 1,
   "id": "927a2455",
   "metadata": {},
   "outputs": [],
   "source": [
    "from PIL import Image,ImageDraw"
   ]
  },
  {
   "cell_type": "code",
   "execution_count": 2,
   "id": "960a24a6",
   "metadata": {},
   "outputs": [],
   "source": [
    "img=Image.new('RGBA',(40,40),color='white')\n",
    "ImageDraw.Draw(img).ellipse((0,0,39,39),outline = 'black', width = 5) # 1st arg bounding box\n",
    "img\n",
    "\n",
    "img.save(\"D:/Users/Dell\\Documents\\PythonProjects\\KIVY/question_set/checkbox_bg.png\",quality=80,optimize=True)"
   ]
  },
  {
   "cell_type": "code",
   "execution_count": 3,
   "id": "73c122ce",
   "metadata": {},
   "outputs": [],
   "source": [
    "img2=Image.new('RGBA',(100,100),color='white')"
   ]
  },
  {
   "cell_type": "code",
   "execution_count": 4,
   "id": "3bf320ad",
   "metadata": {},
   "outputs": [
    {
     "data": {
      "image/png": "[encoded data removed]",
      "text/plain": [
       "<PIL.Image.Image image mode=RGBA size=100x100>"
      ]
     },
     "execution_count": 4,
     "metadata": {},
     "output_type": "execute_result"
    }
   ],
   "source": [
    "ImageDraw.Draw(img2).ellipse((0,0,20,20), fill=(0,0,0),outline = 'black', width = 5) # 1st arg bounding box\n",
    "img2"
   ]
  },
  {
   "cell_type": "code",
   "execution_count": 5,
   "id": "38601797",
   "metadata": {},
   "outputs": [
    {
     "data": {
      "image/png": "[encoded data removed]",
      "text/plain": [
       "<PIL.Image.Image image mode=RGBA size=40x40>"
      ]
     },
     "execution_count": 5,
     "metadata": {},
     "output_type": "execute_result"
    }
   ],
   "source": [
    "img3=Image.new('RGBA',(40,40),color='white')\n",
    "ImageDraw.Draw(img3).ellipse((0,0,39,39),outline = 'black', width = 8) # 1st arg bounding box\n",
    "img3\n"
   ]
  },
  {
   "cell_type": "code",
   "execution_count": 6,
   "id": "ef4e6822",
   "metadata": {},
   "outputs": [
    {
     "data": {
      "text/plain": [
       "('R', 'G', 'B', 'A')"
      ]
     },
     "execution_count": 6,
     "metadata": {},
     "output_type": "execute_result"
    }
   ],
   "source": [
    "img3.getbands()"
   ]
  },
  {
   "cell_type": "code",
   "execution_count": 7,
   "id": "3df3237f",
   "metadata": {},
   "outputs": [],
   "source": [
    "img3.show()"
   ]
  },
  {
   "cell_type": "code",
   "execution_count": 8,
   "id": "b0f33ca7",
   "metadata": {},
   "outputs": [],
   "source": [
    "import numpy as np"
   ]
  },
  {
   "cell_type": "code",
   "execution_count": 9,
   "id": "fbd2ee25",
   "metadata": {},
   "outputs": [],
   "source": [
    "arr=np.array(img3)"
   ]
  },
  {
   "cell_type": "code",
   "execution_count": 10,
   "id": "f5dcf98b",
   "metadata": {},
   "outputs": [
    {
     "data": {
      "text/plain": [
       "(40, 40, 4)"
      ]
     },
     "execution_count": 10,
     "metadata": {},
     "output_type": "execute_result"
    }
   ],
   "source": [
    "arr.shape"
   ]
  },
  {
   "cell_type": "code",
   "execution_count": 11,
   "id": "f42bd988",
   "metadata": {},
   "outputs": [],
   "source": [
    "col=0\n",
    "for col in arr:\n",
    "    for ele in col:\n",
    "        if ele[0]:\n",
    "            ele[3]=0"
   ]
  },
  {
   "cell_type": "code",
   "execution_count": 12,
   "id": "36fa8bc4",
   "metadata": {},
   "outputs": [],
   "source": [
    "img4=Image.fromarray(arr)"
   ]
  },
  {
   "cell_type": "code",
   "execution_count": 13,
   "id": "1f3bd12b",
   "metadata": {},
   "outputs": [
    {
     "data": {
      "image/png": "[encoded data removed]",
      "text/plain": [
       "<PIL.Image.Image image mode=RGBA size=40x40>"
      ]
     },
     "execution_count": 13,
     "metadata": {},
     "output_type": "execute_result"
    }
   ],
   "source": [
    "img4"
   ]
  },
  {
   "cell_type": "code",
   "execution_count": 14,
   "id": "5419efbd",
   "metadata": {},
   "outputs": [],
   "source": [
    "img4.show()"
   ]
  },
  {
   "cell_type": "code",
   "execution_count": 15,
   "id": "f4e6258c",
   "metadata": {},
   "outputs": [],
   "source": [
    "img4.save(\"D:/Users/Dell/Documents/PythonProjects/KIVY/question_set/checkbox_bg.png\",quality=80,optimize=True)"
   ]
  },
  {
   "cell_type": "code",
   "execution_count": null,
   "id": "d2ca77eb",
   "metadata": {},
   "outputs": [],
   "source": []
  }
 ],
 "metadata": {
  "kernelspec": {
   "display_name": "Python 3",
   "language": "python",
   "name": "python3"
  },
  "language_info": {
   "codemirror_mode": {
    "name": "ipython",
    "version": 3
   },
   "file_extension": ".py",
   "mimetype": "text/x-python",
   "name": "python",
   "nbconvert_exporter": "python",
   "pygments_lexer": "ipython3",
   "version": "3.8.8"
  }
 },
 "nbformat": 4,
 "nbformat_minor": 5
}
