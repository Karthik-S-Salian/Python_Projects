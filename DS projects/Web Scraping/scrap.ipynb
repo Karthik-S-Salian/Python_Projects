{
 "cells": [
  {
   "cell_type": "code",
   "execution_count": 1,
   "id": "5f2c16ca",
   "metadata": {},
   "outputs": [],
   "source": [
    "import requests\n",
    "from bs4 import BeautifulSoup\n",
    "import re"
   ]
  },
  {
   "cell_type": "code",
   "execution_count": null,
   "id": "03f22e27",
   "metadata": {},
   "outputs": [],
   "source": [
    "page = requests.get(\"https://www.ef.com/wwen/english-resources/english-vocabulary/top-3000-words/\")\n",
    "soup = BeautifulSoup(page.text, 'html.parser')"
   ]
  },
  {
   "cell_type": "code",
   "execution_count": null,
   "id": "387d3396",
   "metadata": {},
   "outputs": [],
   "source": [
    "text=soup.find_all(\"p\")[-1]"
   ]
  },
  {
   "cell_type": "code",
   "execution_count": null,
   "id": "4c8e14bd",
   "metadata": {},
   "outputs": [],
   "source": [
    "words=text.get_text(strip=True,separator=\",\")"
   ]
  },
  {
   "cell_type": "code",
   "execution_count": null,
   "id": "c3e490a6",
   "metadata": {},
   "outputs": [],
   "source": [
    "word_list1=words.split(\",\")"
   ]
  },
  {
   "cell_type": "code",
   "execution_count": null,
   "id": "826b4b6c",
   "metadata": {},
   "outputs": [],
   "source": [
    "word_list2=None\n",
    "with open(\"C:/Users\\Dell\\Downloads\\words.txt\",'r') as f:\n",
    "    text=f.read()\n",
    "    word_list2=re.findall(r'[A-Za-z]+', text.lower().replace('-',''))"
   ]
  },
  {
   "cell_type": "code",
   "execution_count": null,
   "id": "de0108f1",
   "metadata": {},
   "outputs": [],
   "source": [
    "unique_words=list(set(word_list1+word_list2))\n",
    "len(unique_words)"
   ]
  },
  {
   "cell_type": "code",
   "execution_count": null,
   "id": "781d876e",
   "metadata": {},
   "outputs": [],
   "source": [
    "word_str=unique_words[0]\n",
    "\n",
    "for word in unique_words[1:]:\n",
    "    word_str+=\",\"+word\n",
    "word_str    "
   ]
  },
  {
   "cell_type": "code",
   "execution_count": null,
   "id": "494ad0d8",
   "metadata": {},
   "outputs": [],
   "source": [
    "with open(\"words_new.txt\",'w') as f:\n",
    "    f.write(word_str)"
   ]
  },
  {
   "cell_type": "code",
   "execution_count": null,
   "id": "4f27d8bc",
   "metadata": {},
   "outputs": [],
   "source": [
    "word_str.split(\",\")"
   ]
  },
  {
   "cell_type": "code",
   "execution_count": null,
   "id": "7006f43d",
   "metadata": {},
   "outputs": [],
   "source": []
  },
  {
   "cell_type": "code",
   "execution_count": null,
   "id": "c0c10485",
   "metadata": {},
   "outputs": [],
   "source": []
  }
 ],
 "metadata": {
  "kernelspec": {
   "display_name": "Python 3 (ipykernel)",
   "language": "python",
   "name": "python3"
  },
  "language_info": {
   "codemirror_mode": {
    "name": "ipython",
    "version": 3
   },
   "file_extension": ".py",
   "mimetype": "text/x-python",
   "name": "python",
   "nbconvert_exporter": "python",
   "pygments_lexer": "ipython3",
   "version": "3.10.7"
  }
 },
 "nbformat": 4,
 "nbformat_minor": 5
}
