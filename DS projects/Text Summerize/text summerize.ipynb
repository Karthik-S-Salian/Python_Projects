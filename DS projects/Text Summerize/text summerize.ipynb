{
 "cells": [
  {
   "cell_type": "code",
   "execution_count": null,
   "id": "97e83e95",
   "metadata": {},
   "outputs": [],
   "source": [
    "import nltk\n",
    "from nltk.corpus import stopwords\n",
    "from nltk.tokenize import word_tokenize, sent_tokenize\n",
    "\n",
    "#nltk.download('punkt')\n",
    "#nltk.download('stopwords')"
   ]
  },
  {
   "cell_type": "code",
   "execution_count": 33,
   "id": "fee69d67",
   "metadata": {},
   "outputs": [],
   "source": [
    "def summerize(text):\n",
    "    # Tokenizing the text\n",
    "    stopWords = set(stopwords.words(\"english\"))\n",
    "    words = word_tokenize(text)\n",
    "\n",
    "    # Creating a frequency table to keep the \n",
    "    # score of each word\n",
    "\n",
    "    freqTable = dict()\n",
    "    for word in words:\n",
    "        word = word.lower()\n",
    "        if word in stopWords:\n",
    "            continue\n",
    "        if word in freqTable:\n",
    "            freqTable[word] += 1\n",
    "        else:\n",
    "            freqTable[word] = 1\n",
    "\n",
    "    # Creating a dictionary to keep the score\n",
    "    # of each sentence\n",
    "    sentences = sent_tokenize(text)\n",
    "    sentenceValue = dict()\n",
    "\n",
    "    for sentence in sentences:\n",
    "        for word, freq in freqTable.items():\n",
    "            if word in sentence.lower():\n",
    "                if sentence in sentenceValue:\n",
    "                    sentenceValue[sentence] += freq\n",
    "                else:\n",
    "                    sentenceValue[sentence] = freq\n",
    "\n",
    "    sumValues = 0\n",
    "    for sentence in sentenceValue:\n",
    "        sumValues += sentenceValue[sentence]\n",
    "\n",
    "    # Average value of a sentence from the original text\n",
    "\n",
    "    average = int(sumValues / len(sentenceValue))\n",
    "\n",
    "    # Storing sentences into our summary.\n",
    "    summary = ''\n",
    "    for sentence in sentences:\n",
    "        if (sentence in sentenceValue) and (sentenceValue[sentence] > (1.2 * average)):\n",
    "            summary += \" \" + sentence\n",
    "    return summary"
   ]
  },
  {
   "cell_type": "code",
   "execution_count": 34,
   "id": "9123ae5f",
   "metadata": {},
   "outputs": [
    {
     "data": {
      "text/plain": [
       "' There are many techniques available to generate extractive summarization to keep it simple, I will be using an unsupervised learning approach to find the sentences similarity and rank them. Cosine similarity is a measure of similarity between two non-zero vectors of an inner product space that measures the cosine of the angle between them.'"
      ]
     },
     "execution_count": 34,
     "metadata": {},
     "output_type": "execute_result"
    }
   ],
   "source": [
    "text1 = \"\"\"There are many techniques available to generate extractive summarization to keep it simple, I will \n",
    "be using an unsupervised learning approach to find the sentences similarity and rank them. Summarization can be \n",
    "defined as a task of producing a concise and fluent summary while preserving key information and overall meaning.\n",
    "One benefit of this will be, you don’t need to train and build a model prior start using it for your project.\n",
    "It’s good to understand Cosine similarity to make the best use of the code you are going to see. Cosine similarity \n",
    "is a measure of similarity between two non-zero vectors of an inner product space that measures the cosine of the angle\n",
    "between them. Its measures cosine of the angle between vectors. The angle will be 0 if sentences are similar. \"\"\"\n",
    "\n",
    "summerize(text1)"
   ]
  },
  {
   "cell_type": "code",
   "execution_count": 6,
   "id": "d6f524db",
   "metadata": {},
   "outputs": [
    {
     "name": "stderr",
     "output_type": "stream",
     "text": [
      "[nltk_data] Downloading package punkt to\n",
      "[nltk_data]     C:\\Users\\Dell\\AppData\\Roaming\\nltk_data...\n",
      "[nltk_data]   Unzipping tokenizers\\punkt.zip.\n"
     ]
    },
    {
     "data": {
      "text/plain": [
       "True"
      ]
     },
     "execution_count": 6,
     "metadata": {},
     "output_type": "execute_result"
    }
   ],
   "source": []
  },
  {
   "cell_type": "code",
   "execution_count": 36,
   "id": "58b4a759",
   "metadata": {},
   "outputs": [
    {
     "data": {
      "text/plain": [
       "10149"
      ]
     },
     "execution_count": 36,
     "metadata": {},
     "output_type": "execute_result"
    }
   ],
   "source": [
    "text2=\"\"\"As we all know India was ruled by the British for almost 200 years and the first outburst for freedom was the Revolt \n",
    "of 1857 also called as the Indian Mutiny or the Sepoy Mutiny which began on 10thMay, 1857 at Meerut and continued until December\n",
    "1858. After this revolt, it was certain that India will achieve its freedom and after freedom India needed a government. \n",
    "And for the effective functioning of a government certain set of principles and rules & regulations were required to be framed,\n",
    "hence India needed a Constitution[1].\n",
    "\n",
    "In 1934, an idea for a Constituent Assembly was proposed by Manabendra Nath Roy[2]. It became an official demand of the Indian\n",
    "National Congress in 1935, C. Rajagopalachari voiced the demand for a Constituent Assembly on 15thNovember, 1939 based on adult \n",
    "franchise, and was accepted by the British in August 1940. On 8thAugust, 1940 early in the Battle of Britain, \n",
    "the Viceroy of India, Lord Linlithgow, made the so-called “August Offer”, a fresh proposal promising the expansion of the \n",
    "Executive Council to include more Indians, the establishment of an advisory war council, giving full weight to minority opinion,\n",
    "and the recognition of Indians’ right to frame their own constitution (after the end of the war). In return, \n",
    "it was hoped that all parties and communities in India would cooperate in Britain's war effort. The Congress did not trust the\n",
    "intentions of the British government. Consequently, Linlithgow recorded that the British government “could not contemplate the\n",
    "transfer of their present responsibilities for the peace and tranquillity of India to any system of Government whose authority \n",
    "is directly denied by large and power elements in the India’s national life.” Therefore, Linlithgow stated that the \n",
    "constitutional future of India could be resolved in the future once the war was over by establishing a constituent assembly\n",
    "that was representative of the principal elements in India’s national life. The Congress Working Committee meeting at Wardha \n",
    "on 21stAugust, 1940 eventually rejected the offer.\n",
    "\n",
    "TheCripps Mission was a failed attempt in late March 1942 by the British Government to secure full Indian cooperation and\n",
    "support for their efforts in World War II. The mission was headed by a senior minister Sir Stafford Cripps, Lord Privy Seal\n",
    "and leader of the House of Commons. Cripps was sent to negotiate an agreement with the nationalist Congress leaders, who spoke \n",
    "for the majority Indians, and Muhammad Ali Jinnah and the Muslim League, who spoke for the minority Muslim population. \n",
    "Cripps worked to keep India loyal to the British war effort in exchange for a promise of elections and full self-government \n",
    "(Dominion Status) once the war was over. Cripps discussed the proposals, which he had drafted himself, with the Indian leaders \n",
    "and published them. Both the major parties rejected his proposals, and they were also unacceptable to Churchill; no middle way \n",
    "was found and the mission failed.\n",
    "\n",
    "In 1946, the Cabinet Mission Plan came to India with an aim to discuss the transfer of power from the British Government to the\n",
    "Indian leadership, with the aim of preserving India's unity and granting it independence. The Cabinet Mission’s role was to \n",
    "hold preparatory discussions with the elected representatives of British India and the Indian states so as to secure agreement\n",
    "to the method of framing the constitution, to set up a constitution body and to set up an Executive Council with the support of\n",
    "the main Indian parties. Thus, it was under this Plan, India formed its Constituent Assembly.\n",
    "\n",
    "Drafting of the Constitution\n",
    "India under the British Raj consisted of two types of territories, that is, British India and Princely States[3].TheConstituent\n",
    "Assembly was formed on the basis of the population, for every 10 lakh people there was one representative. So there were 389 \n",
    "representatives who were called from entire India to form theConstituent Assembly, 296 representatives from the British India\n",
    "and 93representativesfrom Princely States. The Princely States denied participation in the Constituent Assembly as they were \n",
    "in the hopes that they would create their own independent states and rule them after the British left India. Hence the \n",
    "Constituent Assembly was formed with the 296 representatives from the British India. The Constituent Assembly was not \n",
    "elected on the basis of universal adult suffrage, and Muslims and Sikhs received special representation as minorities. \n",
    "These 296 representatives also included women members viz., Sarojini Naidu, Hansa Mehta, Durgabai Deshmukh, \n",
    "Rajkumari Amrit KaurandVijayalakshmi Pandit.Dr. B.R. Ambedkar, Sanjay Phakey, Jawaharlal Nehru, C. Rajagopalachari,\n",
    "Dr. Rajendra Prasad, Sardar Vallabhbhai Patel, Purushottam Mavalankar, Sandip kumar Patel, Maulana Abul Kalam Azad, \n",
    "Shyama Prasad Mukherjee, Nalini Ranjan Ghosh, Balwantrai Mehta H. P. Modi, Ari Bahadur Gururng and Frank Anthony were some\n",
    "important figures in the Constituent Assembly. Prominent jurists like Alladi Krishnaswamy Iyer, Benegal Narsing Rauand \n",
    "\n",
    "K. M. Munshiand Ganesh Mavlankar were also members of the Assembly.\n",
    "\n",
    "The members of the Constituent Assembly met for the first time on 9thDecember, 1946. The first temporary two day president of \n",
    "the Constituent Assembly wasDr. Sachchidananda Sinha[4]. The second meeting of the Constituent Assembly was on 11thDecember, \n",
    "1946 whereinDr. Rajendra Prasad[5]was elected as the president,Harendra Coomar Mookerjee[6]as the vice-president and \n",
    "Benegal  Narsing Rao[7]as the constitutional advisor of the Constituent Assembly. In the third meeting, that is, on 13thDecember\n",
    ", 1946 Jawaharlal Nehru presented an ‘Objective Resolution’ in the Constituent Assembly, laying down the underlying principles \n",
    "of the constitution. In the next meeting, that is, on 22ndJanuary, 1947 the said Resolution was unanimously adopted by the \n",
    "Constituent Assembly[8]and it finally became the Preamble of the Constitution.\n",
    "\n",
    "The Assembly met in sessions open to the public, for 166 days, spread over a period of 2 years, 11 months and 18 days before \n",
    "adopting the Constitution. In the last meeting of the Assembly, that is, on 24thJanuary, 1950 the members of the Assembly \n",
    "signed two copies of the document (one each in Hindi and English) and also“Jana Gana Mana”was adopted as the national anthem \n",
    "and the first two verses of“ Vande Mataram” as the national song. The original Constitution of India is hand-written with \n",
    "beautiful calligraphy, each page beautified and decorated by artists from Shantiniketan including Beohar Rammanohar Sinhaand\n",
    "Nandalal Bose. Two days later, on 26th January, 1950, the Constitution of India became the law of all the States and \n",
    "territories of India[9].Rupees One Crore was official estimate of expenditure on constituent assembly.\n",
    "\n",
    "Most Indians recognise 26thJanuary as Republic Day, but not many are aware that on 26thJanuary 1930, that is, exactly 20 years\n",
    "before India became a republic. The Indian National Congress in an electrifying resolution declared Purna Swaraj - complete \n",
    "freedom from the British Raj. From then on, it was a question of ‘When’ — not ‘If’ —India would become free.\n",
    "\n",
    "The Congress appointed its own commission, led by Motilal Nehru, to propose constitutional reforms for the country. In 1928,\n",
    "the ‘Nehru Report’ called for self-government for India under dominion status of the British Empire. However, a younger\n",
    "generation of Congress leaders such as Motilal’s son Jawaharlal Nehru and Subhas Chandra Bose felt the demand for dominion \n",
    "status was asking for too little. Eventually in its December 1928 session in Calcutta the Congress passed a resolution calling\n",
    "for the British to grant dominion status to India within one year, failure to do so would lead to a Congress call for\n",
    "complete independence. With no concessions forthcoming from the government, the stage was set in December 1929 for the Congress\n",
    "to pass a historic resolution at its Lahore session at the banks of river Ravi.\n",
    "\n",
    "The “Indian Declaration of Independence” of 26thDecember, 1929 boldly stated:\" We believe that it is the inalienable right \n",
    "of the Indian people, as of any other people, to have freedom and to enjoy the fruits of their toil and have the necessities\n",
    "of life, so that they may have full opportunities of growth. We believe also that if any government deprives people of these \n",
    "rights and oppresses them; the people have a further right to alter it or to abolish it. The British Government in India has \n",
    "not only deprived the Indian people of their freedom but has based itself on the exploitation of the masses, and has ruined \n",
    "India economically, politically, culturally, and spiritually. We believe, therefore, that India must sever the British \n",
    "connection and attain Purna Swaraj, or complete independence.”\n",
    "\n",
    "The Congress declared 26thJanuary, 1930 as ‘Independence Day’, when the Declaration of Independence was officially promulgated. \n",
    "India got independence from British rule in 1947, but was not a republic till 1950, until when the constitution of the country \n",
    "was adopted and the country was declared a Republic. The country was separated and was recognized as a separate country but it \n",
    "still followed British constitution and acknowledged British Monarch as its head. It was only when India adopted its newly \n",
    "written constitution on 26thJanuary, 1950 that India became a Republic.The new Indian Constitution took effect on 26thJanuary,\n",
    "1950 to mark the 1930 declaration. That is why 26thJanuary is a special day in India’s history in more ways than one.\n",
    "\n",
    "The Constitution of India is the supreme law of India. It is a living document, the permanent instrument which makes the\n",
    "government system work.[10]It lays down the framework defining fundamental political principles, establishes the structure,\n",
    "procedures, powers and duties of government institutions and sets out fundamental rights, directive principles and the duties \n",
    "of citizens. It is the longest written constitution of any sovereign country in the world.[11]At the time of commencement, \n",
    "the constitution had 395 articles in 22 parts and 8 schedules and consists of almost 80,000 words.\"\"\"\n",
    "\n",
    "\n",
    "len(text2)"
   ]
  },
  {
   "cell_type": "code",
   "execution_count": 38,
   "id": "f62f71ce",
   "metadata": {},
   "outputs": [
    {
     "data": {
      "text/plain": [
       "' As we all know India was ruled by the British for almost 200 years and the first outburst for freedom was the Revolt \\nof 1857 also called as the Indian Mutiny or the Sepoy Mutiny which began on 10thMay, 1857 at Meerut and continued until December\\n1858. And for the effective functioning of a government certain set of principles and rules & regulations were required to be framed,\\nhence India needed a Constitution[1]. It became an official demand of the Indian\\nNational Congress in 1935, C. Rajagopalachari voiced the demand for a Constituent Assembly on 15thNovember, 1939 based on adult \\nfranchise, and was accepted by the British in August 1940. On 8thAugust, 1940 early in the Battle of Britain, \\nthe Viceroy of India, Lord Linlithgow, made the so-called “August Offer”, a fresh proposal promising the expansion of the \\nExecutive Council to include more Indians, the establishment of an advisory war council, giving full weight to minority opinion,\\nand the recognition of Indians’ right to frame their own constitution (after the end of the war). Consequently, Linlithgow recorded that the British government “could not contemplate the\\ntransfer of their present responsibilities for the peace and tranquillity of India to any system of Government whose authority \\nis directly denied by large and power elements in the India’s national life.” Therefore, Linlithgow stated that the \\nconstitutional future of India could be resolved in the future once the war was over by establishing a constituent assembly\\nthat was representative of the principal elements in India’s national life. In 1946, the Cabinet Mission Plan came to India with an aim to discuss the transfer of power from the British Government to the\\nIndian leadership, with the aim of preserving India\\'s unity and granting it independence. The Cabinet Mission’s role was to \\nhold preparatory discussions with the elected representatives of British India and the Indian states so as to secure agreement\\nto the method of framing the constitution, to set up a constitution body and to set up an Executive Council with the support of\\nthe main Indian parties. Drafting of the Constitution\\nIndia under the British Raj consisted of two types of territories, that is, British India and Princely States[3].TheConstituent\\nAssembly was formed on the basis of the population, for every 10 lakh people there was one representative. So there were 389 \\nrepresentatives who were called from entire India to form theConstituent Assembly, 296 representatives from the British India\\nand 93representativesfrom Princely States. In the third meeting, that is, on 13thDecember\\n, 1946 Jawaharlal Nehru presented an ‘Objective Resolution’ in the Constituent Assembly, laying down the underlying principles \\nof the constitution. In the next meeting, that is, on 22ndJanuary, 1947 the said Resolution was unanimously adopted by the \\nConstituent Assembly[8]and it finally became the Preamble of the Constitution. Two days later, on 26th January, 1950, the Constitution of India became the law of all the States and \\nterritories of India[9].Rupees One Crore was official estimate of expenditure on constituent assembly. In 1928,\\nthe ‘Nehru Report’ called for self-government for India under dominion status of the British Empire. Eventually in its December 1928 session in Calcutta the Congress passed a resolution calling\\nfor the British to grant dominion status to India within one year, failure to do so would lead to a Congress call for\\ncomplete independence. The “Indian Declaration of Independence” of 26thDecember, 1929 boldly stated:\" We believe that it is the inalienable right \\nof the Indian people, as of any other people, to have freedom and to enjoy the fruits of their toil and have the necessities\\nof life, so that they may have full opportunities of growth. We believe, therefore, that India must sever the British \\nconnection and attain Purna Swaraj, or complete independence.”\\n\\nThe Congress declared 26thJanuary, 1930 as ‘Independence Day’, when the Declaration of Independence was officially promulgated. India got independence from British rule in 1947, but was not a republic till 1950, until when the constitution of the country \\nwas adopted and the country was declared a Republic. It was only when India adopted its newly \\nwritten constitution on 26thJanuary, 1950 that India became a Republic.The new Indian Constitution took effect on 26thJanuary,\\n1950 to mark the 1930 declaration.'"
      ]
     },
     "execution_count": 38,
     "metadata": {},
     "output_type": "execute_result"
    }
   ],
   "source": [
    "summerize(text2)"
   ]
  },
  {
   "cell_type": "code",
   "execution_count": 39,
   "id": "72795dd4",
   "metadata": {},
   "outputs": [
    {
     "data": {
      "text/plain": [
       "2440"
      ]
     },
     "execution_count": 39,
     "metadata": {},
     "output_type": "execute_result"
    }
   ],
   "source": [
    "text3=\"\"\"In 1934, an idea for a Constituent Assembly was proposed by Manabendra Nath Roy[2]. It became an official demand of \n",
    "the Indian National Congress in 1935, C. Rajagopalachari voiced the demand for a Constituent Assembly on 15thNovember, 1939 \n",
    "based on adult franchise, and was accepted by the British in August 1940. On 8thAugust, 1940 early in the Battle of Britain,\n",
    "the Viceroy of India, Lord Linlithgow, made the so-called “August Offer”, a fresh proposal promising the expansion of the \n",
    "Executive Council to include more Indians, the establishment of an advisory war council, giving full weight to minority opinion,\n",
    "and the recognition of Indians’ right to frame their own constitution (after the end of the war). In return, it was hoped that \n",
    "all parties and communities in India would cooperate in Britain's war effort. The Congress did not trust the intentions of the \n",
    "British government. Consequently, Linlithgow recorded that the British government “could not contemplate the transfer of their \n",
    "present responsibilities for the peace and tranquillity of India to any system of Government whose authority is directly denied \n",
    "by large and power elements in the India’s national life.” Therefore, Linlithgow stated that the constitutional future of India \n",
    "could be resolved in the future once the war was over by establishing a constituent assembly that was representative of the \n",
    "principal elements in India’s national life. The Congress Working Committee meeting at Wardha on 21stAugust, 1940 eventually \n",
    "rejected the offer.\n",
    "\n",
    "TheCripps Mission was a failed attempt in late March 1942 by the British Government to secure full Indian cooperation and \n",
    "support for their efforts in World War II. The mission was headed by a senior minister Sir Stafford Cripps, Lord Privy Seal\n",
    "and leader of the House of Commons. Cripps was sent to negotiate an agreement with the nationalist Congress leaders, who \n",
    "spoke for the majority Indians, and Muhammad Ali Jinnah and the Muslim League, who spoke for the minority Muslim population.\n",
    "Cripps worked to keep India loyal to the British war effort in exchange for a promise of elections and full self-government \n",
    "(Dominion Status) once the war was over. Cripps discussed the proposals, which he had drafted himself, with the Indian leaders\n",
    "and published them. Both the major parties rejected his proposals, and they were also unacceptable to Churchill; no middle way\n",
    "was found and the mission failed..\"\"\"\n",
    "\n",
    "len(text3)"
   ]
  },
  {
   "cell_type": "code",
   "execution_count": 40,
   "id": "cf1f2b49",
   "metadata": {},
   "outputs": [
    {
     "data": {
      "text/plain": [
       "' It became an official demand of \\nthe Indian National Congress in 1935, C. Rajagopalachari voiced the demand for a Constituent Assembly on 15thNovember, 1939 \\nbased on adult franchise, and was accepted by the British in August 1940. On 8thAugust, 1940 early in the Battle of Britain,\\nthe Viceroy of India, Lord Linlithgow, made the so-called “August Offer”, a fresh proposal promising the expansion of the \\nExecutive Council to include more Indians, the establishment of an advisory war council, giving full weight to minority opinion,\\nand the recognition of Indians’ right to frame their own constitution (after the end of the war). Consequently, Linlithgow recorded that the British government “could not contemplate the transfer of their \\npresent responsibilities for the peace and tranquillity of India to any system of Government whose authority is directly denied \\nby large and power elements in the India’s national life.” Therefore, Linlithgow stated that the constitutional future of India \\ncould be resolved in the future once the war was over by establishing a constituent assembly that was representative of the \\nprincipal elements in India’s national life.'"
      ]
     },
     "execution_count": 40,
     "metadata": {},
     "output_type": "execute_result"
    }
   ],
   "source": [
    "summerize(text3)"
   ]
  },
  {
   "cell_type": "markdown",
   "id": "465e0f53",
   "metadata": {},
   "source": [
    "# SPACY"
   ]
  },
  {
   "cell_type": "code",
   "execution_count": 3,
   "id": "343d791b",
   "metadata": {},
   "outputs": [],
   "source": [
    "from spacy import load"
   ]
  },
  {
   "cell_type": "code",
   "execution_count": 4,
   "id": "0834bb6c",
   "metadata": {},
   "outputs": [
    {
     "ename": "OSError",
     "evalue": "[E050] Can't find model 'en_core_web_sm'. It doesn't seem to be a Python package or a valid path to a data directory.",
     "output_type": "error",
     "traceback": [
      "\u001b[1;31m---------------------------------------------------------------------------\u001b[0m",
      "\u001b[1;31mOSError\u001b[0m                                   Traceback (most recent call last)",
      "\u001b[1;32m<ipython-input-4-8d092272a28e>\u001b[0m in \u001b[0;36m<module>\u001b[1;34m\u001b[0m\n\u001b[1;32m----> 1\u001b[1;33m \u001b[0mnlp\u001b[0m \u001b[1;33m=\u001b[0m \u001b[0mspacy\u001b[0m\u001b[1;33m.\u001b[0m\u001b[0mload\u001b[0m\u001b[1;33m(\u001b[0m\u001b[1;34m\"en_core_web_sm\"\u001b[0m\u001b[1;33m)\u001b[0m\u001b[1;33m\u001b[0m\u001b[1;33m\u001b[0m\u001b[0m\n\u001b[0m",
      "\u001b[1;32mC:\\ProgramData\\Anaconda3\\lib\\site-packages\\spacy\\__init__.py\u001b[0m in \u001b[0;36mload\u001b[1;34m(name, vocab, disable, exclude, config)\u001b[0m\n\u001b[0;32m     48\u001b[0m     \u001b[0mRETURNS\u001b[0m \u001b[1;33m(\u001b[0m\u001b[0mLanguage\u001b[0m\u001b[1;33m)\u001b[0m\u001b[1;33m:\u001b[0m \u001b[0mThe\u001b[0m \u001b[0mloaded\u001b[0m \u001b[0mnlp\u001b[0m \u001b[0mobject\u001b[0m\u001b[1;33m.\u001b[0m\u001b[1;33m\u001b[0m\u001b[1;33m\u001b[0m\u001b[0m\n\u001b[0;32m     49\u001b[0m     \"\"\"\n\u001b[1;32m---> 50\u001b[1;33m     return util.load_model(\n\u001b[0m\u001b[0;32m     51\u001b[0m         \u001b[0mname\u001b[0m\u001b[1;33m,\u001b[0m \u001b[0mvocab\u001b[0m\u001b[1;33m=\u001b[0m\u001b[0mvocab\u001b[0m\u001b[1;33m,\u001b[0m \u001b[0mdisable\u001b[0m\u001b[1;33m=\u001b[0m\u001b[0mdisable\u001b[0m\u001b[1;33m,\u001b[0m \u001b[0mexclude\u001b[0m\u001b[1;33m=\u001b[0m\u001b[0mexclude\u001b[0m\u001b[1;33m,\u001b[0m \u001b[0mconfig\u001b[0m\u001b[1;33m=\u001b[0m\u001b[0mconfig\u001b[0m\u001b[1;33m\u001b[0m\u001b[1;33m\u001b[0m\u001b[0m\n\u001b[0;32m     52\u001b[0m     )\n",
      "\u001b[1;32mC:\\ProgramData\\Anaconda3\\lib\\site-packages\\spacy\\util.py\u001b[0m in \u001b[0;36mload_model\u001b[1;34m(name, vocab, disable, exclude, config)\u001b[0m\n\u001b[0;32m    329\u001b[0m     \u001b[1;32mif\u001b[0m \u001b[0mname\u001b[0m \u001b[1;32min\u001b[0m \u001b[0mOLD_MODEL_SHORTCUTS\u001b[0m\u001b[1;33m:\u001b[0m\u001b[1;33m\u001b[0m\u001b[1;33m\u001b[0m\u001b[0m\n\u001b[0;32m    330\u001b[0m         \u001b[1;32mraise\u001b[0m \u001b[0mIOError\u001b[0m\u001b[1;33m(\u001b[0m\u001b[0mErrors\u001b[0m\u001b[1;33m.\u001b[0m\u001b[0mE941\u001b[0m\u001b[1;33m.\u001b[0m\u001b[0mformat\u001b[0m\u001b[1;33m(\u001b[0m\u001b[0mname\u001b[0m\u001b[1;33m=\u001b[0m\u001b[0mname\u001b[0m\u001b[1;33m,\u001b[0m \u001b[0mfull\u001b[0m\u001b[1;33m=\u001b[0m\u001b[0mOLD_MODEL_SHORTCUTS\u001b[0m\u001b[1;33m[\u001b[0m\u001b[0mname\u001b[0m\u001b[1;33m]\u001b[0m\u001b[1;33m)\u001b[0m\u001b[1;33m)\u001b[0m\u001b[1;33m\u001b[0m\u001b[1;33m\u001b[0m\u001b[0m\n\u001b[1;32m--> 331\u001b[1;33m     \u001b[1;32mraise\u001b[0m \u001b[0mIOError\u001b[0m\u001b[1;33m(\u001b[0m\u001b[0mErrors\u001b[0m\u001b[1;33m.\u001b[0m\u001b[0mE050\u001b[0m\u001b[1;33m.\u001b[0m\u001b[0mformat\u001b[0m\u001b[1;33m(\u001b[0m\u001b[0mname\u001b[0m\u001b[1;33m=\u001b[0m\u001b[0mname\u001b[0m\u001b[1;33m)\u001b[0m\u001b[1;33m)\u001b[0m\u001b[1;33m\u001b[0m\u001b[1;33m\u001b[0m\u001b[0m\n\u001b[0m\u001b[0;32m    332\u001b[0m \u001b[1;33m\u001b[0m\u001b[0m\n\u001b[0;32m    333\u001b[0m \u001b[1;33m\u001b[0m\u001b[0m\n",
      "\u001b[1;31mOSError\u001b[0m: [E050] Can't find model 'en_core_web_sm'. It doesn't seem to be a Python package or a valid path to a data directory."
     ]
    }
   ],
   "source": [
    "nlp = spacy.load(\"en_core_web_sm\")"
   ]
  },
  {
   "cell_type": "code",
   "execution_count": 5,
   "id": "d8d01fac",
   "metadata": {},
   "outputs": [],
   "source": [
    "text4 = \"Google was initially funded by an August 1998 contribution of $100,000 from Andy Bechtolsheim, co-founder of Sun Microsystems; the money was given before Google was incorporated.[30] Google received money from three other angel investors in 1998: Amazon.com founder Jeff Bezos, Stanford University computer science professor David Cheriton, and entrepreneur Ram Shriram.[31] Between these initial investors, friends, and family Google raised around 1 million dollars, which is what allowed them to open up their original shop in Menlo Park, California\""
   ]
  },
  {
   "cell_type": "markdown",
   "id": "e690f371",
   "metadata": {},
   "source": [
    "### Tokenization"
   ]
  },
  {
   "cell_type": "code",
   "execution_count": 6,
   "id": "c5731975",
   "metadata": {},
   "outputs": [
    {
     "ename": "NameError",
     "evalue": "name 'nlp' is not defined",
     "output_type": "error",
     "traceback": [
      "\u001b[1;31m---------------------------------------------------------------------------\u001b[0m",
      "\u001b[1;31mNameError\u001b[0m                                 Traceback (most recent call last)",
      "\u001b[1;32m<ipython-input-6-0213d40c81e3>\u001b[0m in \u001b[0;36m<module>\u001b[1;34m\u001b[0m\n\u001b[1;32m----> 1\u001b[1;33m \u001b[0mdoc\u001b[0m \u001b[1;33m=\u001b[0m \u001b[0mnlp\u001b[0m\u001b[1;33m(\u001b[0m\u001b[0mtext\u001b[0m\u001b[1;33m)\u001b[0m\u001b[1;33m\u001b[0m\u001b[1;33m\u001b[0m\u001b[0m\n\u001b[0m",
      "\u001b[1;31mNameError\u001b[0m: name 'nlp' is not defined"
     ]
    }
   ],
   "source": [
    "doc = nlp(text)"
   ]
  },
  {
   "cell_type": "code",
   "execution_count": 7,
   "id": "445a6740",
   "metadata": {},
   "outputs": [
    {
     "ename": "NameError",
     "evalue": "name 'doc' is not defined",
     "output_type": "error",
     "traceback": [
      "\u001b[1;31m---------------------------------------------------------------------------\u001b[0m",
      "\u001b[1;31mNameError\u001b[0m                                 Traceback (most recent call last)",
      "\u001b[1;32m<ipython-input-7-74785c4a0479>\u001b[0m in \u001b[0;36m<module>\u001b[1;34m\u001b[0m\n\u001b[1;32m----> 1\u001b[1;33m \u001b[1;32mfor\u001b[0m \u001b[0mtoken\u001b[0m \u001b[1;32min\u001b[0m \u001b[0mdoc\u001b[0m\u001b[1;33m:\u001b[0m\u001b[1;33m\u001b[0m\u001b[1;33m\u001b[0m\u001b[0m\n\u001b[0m\u001b[0;32m      2\u001b[0m     \u001b[0mprint\u001b[0m\u001b[1;33m(\u001b[0m\u001b[0mtoken\u001b[0m\u001b[1;33m)\u001b[0m\u001b[1;33m\u001b[0m\u001b[1;33m\u001b[0m\u001b[0m\n",
      "\u001b[1;31mNameError\u001b[0m: name 'doc' is not defined"
     ]
    }
   ],
   "source": [
    "for token in doc:\n",
    "    print(token)"
   ]
  },
  {
   "cell_type": "code",
   "execution_count": 8,
   "id": "fd0ee887",
   "metadata": {},
   "outputs": [
    {
     "ename": "NameError",
     "evalue": "name 'doc' is not defined",
     "output_type": "error",
     "traceback": [
      "\u001b[1;31m---------------------------------------------------------------------------\u001b[0m",
      "\u001b[1;31mNameError\u001b[0m                                 Traceback (most recent call last)",
      "\u001b[1;32m<ipython-input-8-5a82b4d8b2f8>\u001b[0m in \u001b[0;36m<module>\u001b[1;34m\u001b[0m\n\u001b[1;32m----> 1\u001b[1;33m \u001b[1;32mfor\u001b[0m \u001b[0mtoken\u001b[0m \u001b[1;32min\u001b[0m \u001b[0mdoc\u001b[0m\u001b[1;33m:\u001b[0m\u001b[1;33m\u001b[0m\u001b[1;33m\u001b[0m\u001b[0m\n\u001b[0m\u001b[0;32m      2\u001b[0m     \u001b[1;32mif\u001b[0m \u001b[0mtoken\u001b[0m\u001b[1;33m.\u001b[0m\u001b[0mpos_\u001b[0m \u001b[1;33m==\u001b[0m \u001b[1;34m\"ADJ\"\u001b[0m\u001b[1;33m:\u001b[0m\u001b[1;33m\u001b[0m\u001b[1;33m\u001b[0m\u001b[0m\n\u001b[0;32m      3\u001b[0m         \u001b[0mprint\u001b[0m\u001b[1;33m(\u001b[0m\u001b[0mtoken\u001b[0m\u001b[1;33m)\u001b[0m\u001b[1;33m\u001b[0m\u001b[1;33m\u001b[0m\u001b[0m\n",
      "\u001b[1;31mNameError\u001b[0m: name 'doc' is not defined"
     ]
    }
   ],
   "source": [
    "for token in doc:\n",
    "    if token.pos_ == \"ADJ\":\n",
    "        print(token)"
   ]
  },
  {
   "cell_type": "markdown",
   "id": "093b4903",
   "metadata": {},
   "source": [
    "### Named Entity Recognition"
   ]
  },
  {
   "cell_type": "code",
   "execution_count": 9,
   "id": "e61f8bbe",
   "metadata": {},
   "outputs": [
    {
     "ename": "NameError",
     "evalue": "name 'doc' is not defined",
     "output_type": "error",
     "traceback": [
      "\u001b[1;31m---------------------------------------------------------------------------\u001b[0m",
      "\u001b[1;31mNameError\u001b[0m                                 Traceback (most recent call last)",
      "\u001b[1;32m<ipython-input-9-da1097d25cf4>\u001b[0m in \u001b[0;36m<module>\u001b[1;34m\u001b[0m\n\u001b[1;32m----> 1\u001b[1;33m \u001b[1;32mfor\u001b[0m \u001b[0mentity\u001b[0m \u001b[1;32min\u001b[0m \u001b[0mdoc\u001b[0m\u001b[1;33m.\u001b[0m\u001b[0ments\u001b[0m\u001b[1;33m:\u001b[0m\u001b[1;33m\u001b[0m\u001b[1;33m\u001b[0m\u001b[0m\n\u001b[0m\u001b[0;32m      2\u001b[0m         \u001b[0mprint\u001b[0m\u001b[1;33m(\u001b[0m\u001b[0mentity\u001b[0m\u001b[1;33m.\u001b[0m\u001b[0mtext\u001b[0m\u001b[1;33m,\u001b[0m \u001b[0mentity\u001b[0m\u001b[1;33m.\u001b[0m\u001b[0mlabel_\u001b[0m\u001b[1;33m)\u001b[0m\u001b[1;33m\u001b[0m\u001b[1;33m\u001b[0m\u001b[0m\n",
      "\u001b[1;31mNameError\u001b[0m: name 'doc' is not defined"
     ]
    }
   ],
   "source": [
    "for entity in doc.ents:\n",
    "        print(entity.text, entity.label_)"
   ]
  },
  {
   "cell_type": "code",
   "execution_count": null,
   "id": "d5597e07",
   "metadata": {},
   "outputs": [],
   "source": []
  }
 ],
 "metadata": {
  "kernelspec": {
   "display_name": "Python 3 (ipykernel)",
   "language": "python",
   "name": "python3"
  },
  "language_info": {
   "codemirror_mode": {
    "name": "ipython",
    "version": 3
   },
   "file_extension": ".py",
   "mimetype": "text/x-python",
   "name": "python",
   "nbconvert_exporter": "python",
   "pygments_lexer": "ipython3",
   "version": "3.10.7"
  }
 },
 "nbformat": 4,
 "nbformat_minor": 5
}
