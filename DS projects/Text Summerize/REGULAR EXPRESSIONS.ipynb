{
 "cells": [
  {
   "cell_type": "code",
   "execution_count": 1,
   "id": "a1ed6bb0",
   "metadata": {},
   "outputs": [],
   "source": [
    "import re"
   ]
  },
  {
   "cell_type": "code",
   "execution_count": 2,
   "id": "bf06988f",
   "metadata": {},
   "outputs": [],
   "source": [
    "str2=\"rssssSCIENCE\""
   ]
  },
  {
   "cell_type": "code",
   "execution_count": 3,
   "id": "3580bae1",
   "metadata": {},
   "outputs": [],
   "source": [
    "str3='vg'"
   ]
  },
  {
   "cell_type": "code",
   "execution_count": 4,
   "id": "959ca50e",
   "metadata": {
    "scrolled": true
   },
   "outputs": [
    {
     "data": {
      "text/plain": [
       "'rssss'"
      ]
     },
     "execution_count": 4,
     "metadata": {},
     "output_type": "execute_result"
    }
   ],
   "source": [
    "s=str2\n",
    "re.sub(r'SCIENCE|Commerce',\"\",s)"
   ]
  },
  {
   "cell_type": "code",
   "execution_count": 5,
   "id": "965af6e0",
   "metadata": {},
   "outputs": [],
   "source": [
    "a='all dog and cats are good friends'"
   ]
  },
  {
   "cell_type": "code",
   "execution_count": 6,
   "id": "e8a8aeac",
   "metadata": {},
   "outputs": [
    {
     "data": {
      "text/plain": [
       "['all', 'dog', 'and', 'cats', 'are', 'good', 'friends']"
      ]
     },
     "execution_count": 6,
     "metadata": {},
     "output_type": "execute_result"
    }
   ],
   "source": [
    "re.findall(r'[a-z]+',a)"
   ]
  },
  {
   "cell_type": "code",
   "execution_count": 7,
   "id": "0b4cf34a",
   "metadata": {},
   "outputs": [
    {
     "data": {
      "text/plain": [
       "'rssssSCIENCE'"
      ]
     },
     "execution_count": 7,
     "metadata": {},
     "output_type": "execute_result"
    }
   ],
   "source": [
    "str2"
   ]
  },
  {
   "cell_type": "code",
   "execution_count": 8,
   "id": "9af4ce7f",
   "metadata": {},
   "outputs": [],
   "source": [
    "x=re.search(\"SCIENCE\",str2)"
   ]
  },
  {
   "cell_type": "code",
   "execution_count": 9,
   "id": "978365cd",
   "metadata": {},
   "outputs": [
    {
     "data": {
      "text/plain": [
       "True"
      ]
     },
     "execution_count": 9,
     "metadata": {},
     "output_type": "execute_result"
    }
   ],
   "source": [
    "bool(x)"
   ]
  },
  {
   "cell_type": "code",
   "execution_count": 17,
   "id": "8ac8f282",
   "metadata": {},
   "outputs": [],
   "source": [
    "str1=\"vxvsbvvsCOMMERCE\""
   ]
  },
  {
   "cell_type": "code",
   "execution_count": 19,
   "id": "a6ef72c2",
   "metadata": {},
   "outputs": [
    {
     "data": {
      "text/plain": [
       "<re.Match object; span=(5, 12), match='SCIENCE'>"
      ]
     },
     "execution_count": 19,
     "metadata": {},
     "output_type": "execute_result"
    }
   ],
   "source": [
    "re.search(\"SCIENCE\",str2)"
   ]
  },
  {
   "cell_type": "code",
   "execution_count": 15,
   "id": "da0c7702",
   "metadata": {},
   "outputs": [
    {
     "data": {
      "text/plain": [
       "'rsss'"
      ]
     },
     "execution_count": 15,
     "metadata": {},
     "output_type": "execute_result"
    }
   ],
   "source": []
  },
  {
   "cell_type": "code",
   "execution_count": 13,
   "id": "12201993",
   "metadata": {},
   "outputs": [],
   "source": [
    "email='gkhkjhkhk89787@gmail.com'"
   ]
  },
  {
   "cell_type": "code",
   "execution_count": 18,
   "id": "65b8651d",
   "metadata": {},
   "outputs": [],
   "source": [
    "str3='34Sq. Feet'"
   ]
  },
  {
   "cell_type": "code",
   "execution_count": 22,
   "id": "55018c63",
   "metadata": {},
   "outputs": [
    {
     "data": {
      "text/plain": [
       "['', '', 'Sq. Feet']"
      ]
     },
     "execution_count": 22,
     "metadata": {},
     "output_type": "execute_result"
    }
   ],
   "source": [
    "re.split(r'\\d',str3)"
   ]
  },
  {
   "cell_type": "code",
   "execution_count": 19,
   "id": "f5ba6b93",
   "metadata": {},
   "outputs": [
    {
     "data": {
      "text/plain": [
       "'Sq. Feet'"
      ]
     },
     "execution_count": 19,
     "metadata": {},
     "output_type": "execute_result"
    }
   ],
   "source": [
    "re.sub('\\d','',str3)"
   ]
  },
  {
   "cell_type": "code",
   "execution_count": 15,
   "id": "9bd585a1",
   "metadata": {},
   "outputs": [
    {
     "data": {
      "text/plain": [
       "'Sq. feet'"
      ]
     },
     "execution_count": 15,
     "metadata": {},
     "output_type": "execute_result"
    }
   ],
   "source": [
    "re.sub(r'[0-9]+ +','','323131   Sq. feet')"
   ]
  },
  {
   "cell_type": "code",
   "execution_count": 16,
   "id": "d58ae37f",
   "metadata": {},
   "outputs": [
    {
     "data": {
      "text/plain": [
       "['', 'Sq. feet']"
      ]
     },
     "execution_count": 16,
     "metadata": {},
     "output_type": "execute_result"
    }
   ],
   "source": [
    "re.split(r'[0-9]+ +','323131   Sq. feet')"
   ]
  },
  {
   "cell_type": "code",
   "execution_count": 21,
   "id": "ab7a5f92",
   "metadata": {},
   "outputs": [
    {
     "data": {
      "text/plain": [
       "'3'"
      ]
     },
     "execution_count": 21,
     "metadata": {},
     "output_type": "execute_result"
    }
   ],
   "source": [
    "re.sub(r' / 10 [A-Za-z]+','','3 / 10 Vinit')"
   ]
  },
  {
   "cell_type": "code",
   "execution_count": 1,
   "id": "95f36d00",
   "metadata": {},
   "outputs": [],
   "source": [
    "import re"
   ]
  },
  {
   "cell_type": "code",
   "execution_count": 14,
   "id": "60829bc5",
   "metadata": {},
   "outputs": [
    {
     "data": {
      "text/plain": [
       "'MSSubClass'"
      ]
     },
     "execution_count": 14,
     "metadata": {},
     "output_type": "execute_result"
    }
   ],
   "source": [
    "re.findall(r\"^[A-z]+:\",\"MSSubClass: Identifies the type of dwelling involved in the sale.\")[0].split(':')[0]"
   ]
  },
  {
   "cell_type": "code",
   "execution_count": 7,
   "id": "fc08824b",
   "metadata": {},
   "outputs": [
    {
     "ename": "TypeError",
     "evalue": "string indices must be integers",
     "output_type": "error",
     "traceback": [
      "\u001b[1;31m---------------------------------------------------------------------------\u001b[0m",
      "\u001b[1;31mTypeError\u001b[0m                                 Traceback (most recent call last)",
      "\u001b[1;32m<ipython-input-7-23d7d1ae4b36>\u001b[0m in \u001b[0;36m<module>\u001b[1;34m\u001b[0m\n\u001b[1;32m----> 1\u001b[1;33m \u001b[0ms\u001b[0m\u001b[1;33m.\u001b[0m\u001b[0mstring\u001b[0m\u001b[1;33m[\u001b[0m\u001b[0ms\u001b[0m\u001b[1;33m.\u001b[0m\u001b[0mlastindex\u001b[0m\u001b[1;33m]\u001b[0m\u001b[1;33m\u001b[0m\u001b[1;33m\u001b[0m\u001b[0m\n\u001b[0m",
      "\u001b[1;31mTypeError\u001b[0m: string indices must be integers"
     ]
    }
   ],
   "source": [
    "s.string[]"
   ]
  },
  {
   "cell_type": "code",
   "execution_count": 18,
   "id": "5421256d",
   "metadata": {},
   "outputs": [
    {
     "data": {
      "text/plain": [
       "['MSSubClass', ' Identifies the type of dwelling involved in the sale.']"
      ]
     },
     "execution_count": 18,
     "metadata": {},
     "output_type": "execute_result"
    }
   ],
   "source": [
    "re.split(\":\",\"MSSubClass: Identifies the type of dwelling involved in the sale.\")"
   ]
  },
  {
   "cell_type": "code",
   "execution_count": 53,
   "id": "8ddb2d4b",
   "metadata": {},
   "outputs": [
    {
     "data": {
      "text/plain": [
       "'27762.kajha)kas655.ftd)tyftf'"
      ]
     },
     "execution_count": 53,
     "metadata": {},
     "output_type": "execute_result"
    }
   ],
   "source": [
    "re.sub(,\"\",\"a)27762.kajha)kas655.ftd)tyftf\")"
   ]
  },
  {
   "cell_type": "code",
   "execution_count": null,
   "id": "74b0adee",
   "metadata": {},
   "outputs": [],
   "source": []
  }
 ],
 "metadata": {
  "kernelspec": {
   "display_name": "Python 3",
   "language": "python",
   "name": "python3"
  },
  "language_info": {
   "codemirror_mode": {
    "name": "ipython",
    "version": 3
   },
   "file_extension": ".py",
   "mimetype": "text/x-python",
   "name": "python",
   "nbconvert_exporter": "python",
   "pygments_lexer": "ipython3",
   "version": "3.8.8"
  }
 },
 "nbformat": 4,
 "nbformat_minor": 5
}
