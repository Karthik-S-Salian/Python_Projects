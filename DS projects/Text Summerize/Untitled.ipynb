{
 "cells": [
  {
   "cell_type": "code",
   "execution_count": 1,
   "id": "4337b331",
   "metadata": {},
   "outputs": [],
   "source": [
    "import re"
   ]
  },
  {
   "cell_type": "code",
   "execution_count": 33,
   "id": "e72b684f",
   "metadata": {},
   "outputs": [
    {
     "data": {
      "text/plain": [
       "['255', '255', '2.0']"
      ]
     },
     "execution_count": 33,
     "metadata": {},
     "output_type": "execute_result"
    }
   ],
   "source": [
    "re.findall(r\"[0-9.]+\",'255 255,2.0')"
   ]
  },
  {
   "cell_type": "code",
   "execution_count": 18,
   "id": "77bfb136",
   "metadata": {},
   "outputs": [
    {
     "data": {
      "text/plain": [
       "['#967686']"
      ]
     },
     "execution_count": 18,
     "metadata": {},
     "output_type": "execute_result"
    }
   ],
   "source": [
    "re.findall(r\"^#[0-9]{6}\",'#967686')"
   ]
  },
  {
   "cell_type": "code",
   "execution_count": 44,
   "id": "a3aa5716",
   "metadata": {},
   "outputs": [],
   "source": [
    "\n",
    "\n",
    "            \n",
    "            "
   ]
  },
  {
   "cell_type": "code",
   "execution_count": 34,
   "id": "b1823b77",
   "metadata": {},
   "outputs": [
    {
     "data": {
      "text/plain": [
       "(34, 1)"
      ]
     },
     "execution_count": 34,
     "metadata": {},
     "output_type": "execute_result"
    }
   ],
   "source": [
    "34 if 0<=.4<=1 else 1,4 if 0<=5<=1 else 1"
   ]
  },
  {
   "cell_type": "code",
   "execution_count": 36,
   "id": "effb878a",
   "metadata": {},
   "outputs": [
    {
     "name": "stdout",
     "output_type": "stream",
     "text": [
      "(0, 0, 0)\n"
     ]
    }
   ],
   "source": [
    "validate_input(\"255,255,255\",'rgb')"
   ]
  },
  {
   "cell_type": "code",
   "execution_count": 45,
   "id": "0d01dec9",
   "metadata": {},
   "outputs": [],
   "source": [
    "validate_input(\"255,255,255\",'hex')"
   ]
  },
  {
   "cell_type": "code",
   "execution_count": 46,
   "id": "213bc386",
   "metadata": {},
   "outputs": [
    {
     "name": "stdout",
     "output_type": "stream",
     "text": [
      "(243, 1, 1)\n"
     ]
    }
   ],
   "source": [
    "validate_input(\"243,1,1\",'hsv')"
   ]
  },
  {
   "cell_type": "code",
   "execution_count": null,
   "id": "ce4a52be",
   "metadata": {},
   "outputs": [],
   "source": []
  }
 ],
 "metadata": {
  "kernelspec": {
   "display_name": "Python 3 (ipykernel)",
   "language": "python",
   "name": "python3"
  },
  "language_info": {
   "codemirror_mode": {
    "name": "ipython",
    "version": 3
   },
   "file_extension": ".py",
   "mimetype": "text/x-python",
   "name": "python",
   "nbconvert_exporter": "python",
   "pygments_lexer": "ipython3",
   "version": "3.10.7"
  }
 },
 "nbformat": 4,
 "nbformat_minor": 5
}
