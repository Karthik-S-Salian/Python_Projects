{
 "cells": [
  {
   "cell_type": "code",
   "execution_count": 1,
   "id": "9263de25",
   "metadata": {},
   "outputs": [],
   "source": [
    "from sklearn.metrics import classification_report,accuracy_score,precision_score,recall_score"
   ]
  },
  {
   "cell_type": "code",
   "execution_count": 4,
   "id": "7c704cdc",
   "metadata": {},
   "outputs": [],
   "source": [
    "y_truth=    [1,1,1,0,0,0,1,0]\n",
    "y_predicted=[1,1,0,1,0,0,0,0]"
   ]
  },
  {
   "cell_type": "code",
   "execution_count": 5,
   "id": "9307f434",
   "metadata": {},
   "outputs": [],
   "source": [
    "from sklearn.metrics import confusion_matrix\n",
    "from seaborn import heatmap\n",
    "%matplotlib inline \n",
    "import matplotlib.pyplot as plt"
   ]
  },
  {
   "cell_type": "code",
   "execution_count": 13,
   "id": "a8c9d053",
   "metadata": {},
   "outputs": [
    {
     "data": {
      "text/plain": [
       "Text(33.0, 0.5, 'truth')"
      ]
     },
     "execution_count": 13,
     "metadata": {},
     "output_type": "execute_result"
    },
    {
     "data": {
      "image/png": "[encoded data removed]",
      "text/plain": [
       "<Figure size 432x288 with 2 Axes>"
      ]
     },
     "metadata": {
      "needs_background": "light"
     },
     "output_type": "display_data"
    }
   ],
   "source": [
    "cm=confusion_matrix(y_truth,y_predicted)\n",
    "heatmap(cm,annot=True,yticklabels=['true','false'],xticklabels=['true','false'])\n",
    "plt.xlabel('Predicted')\n",
    "plt.ylabel('truth')\n"
   ]
  },
  {
   "cell_type": "code",
   "execution_count": 7,
   "id": "7e51cef1",
   "metadata": {},
   "outputs": [
    {
     "data": {
      "text/html": [
       "<img width= '500' src='../resources/Images/confusion-matrix.jpg'>\n"
      ],
      "text/plain": [
       "<IPython.core.display.HTML object>"
      ]
     },
     "metadata": {},
     "output_type": "display_data"
    }
   ],
   "source": [
    "%%html \n",
    "<img width= '500' src='../resources/Images/confusion-matrix.jpg'>"
   ]
  },
  {
   "cell_type": "code",
   "execution_count": 8,
   "id": "c24995bf",
   "metadata": {},
   "outputs": [
    {
     "name": "stdout",
     "output_type": "stream",
     "text": [
      "              precision    recall  f1-score   support\n",
      "\n",
      "           0       0.60      0.75      0.67         4\n",
      "           1       0.67      0.50      0.57         4\n",
      "\n",
      "    accuracy                           0.62         8\n",
      "   macro avg       0.63      0.62      0.62         8\n",
      "weighted avg       0.63      0.62      0.62         8\n",
      "\n"
     ]
    }
   ],
   "source": [
    "print(classification_report(y_truth,y_predicted))"
   ]
  },
  {
   "cell_type": "markdown",
   "id": "c30002ef",
   "metadata": {},
   "source": [
    "## PRECISION\n",
    "\n",
    " based on prediction"
   ]
  },
  {
   "cell_type": "markdown",
   "id": "d2dfb55c",
   "metadata": {},
   "source": [
    "precision=TP/(TP + FP) or FN(FN+TN)"
   ]
  },
  {
   "cell_type": "code",
   "execution_count": 9,
   "id": "166d3943",
   "metadata": {},
   "outputs": [
    {
     "data": {
      "text/plain": [
       "0.6666666666666666"
      ]
     },
     "execution_count": 9,
     "metadata": {},
     "output_type": "execute_result"
    }
   ],
   "source": [
    "precision_score(y_truth,y_predicted)"
   ]
  },
  {
   "cell_type": "markdown",
   "id": "441d9c3c",
   "metadata": {},
   "source": [
    "## RECALL\n",
    "based on truth"
   ]
  },
  {
   "cell_type": "markdown",
   "id": "91993536",
   "metadata": {},
   "source": [
    "recall = TP/(TP+TN) or FN/(FP+FN)"
   ]
  },
  {
   "cell_type": "code",
   "execution_count": 10,
   "id": "1950288d",
   "metadata": {},
   "outputs": [
    {
     "data": {
      "text/plain": [
       "0.5"
      ]
     },
     "execution_count": 10,
     "metadata": {},
     "output_type": "execute_result"
    }
   ],
   "source": [
    "recall_score(y_truth,y_predicted)"
   ]
  },
  {
   "cell_type": "markdown",
   "id": "0badf1c8",
   "metadata": {},
   "source": [
    "## ACCURACY"
   ]
  },
  {
   "cell_type": "markdown",
   "id": "07073b12",
   "metadata": {},
   "source": [
    "how many of the prediction are right"
   ]
  },
  {
   "cell_type": "code",
   "execution_count": 14,
   "id": "f110de56",
   "metadata": {},
   "outputs": [
    {
     "data": {
      "text/plain": [
       "0.625"
      ]
     },
     "execution_count": 14,
     "metadata": {},
     "output_type": "execute_result"
    }
   ],
   "source": [
    "accuracy_score(y_truth,y_predicted)"
   ]
  },
  {
   "cell_type": "markdown",
   "id": "53ddbcc5",
   "metadata": {},
   "source": [
    "## F1 SCORE"
   ]
  },
  {
   "cell_type": "markdown",
   "id": "90573bf3",
   "metadata": {},
   "source": [
    "f1 = 2 * ( precision * recall) / (precision + recall)"
   ]
  }
 ],
 "metadata": {
  "kernelspec": {
   "display_name": "Python 3",
   "language": "python",
   "name": "python3"
  },
  "language_info": {
   "codemirror_mode": {
    "name": "ipython",
    "version": 3
   },
   "file_extension": ".py",
   "mimetype": "text/x-python",
   "name": "python",
   "nbconvert_exporter": "python",
   "pygments_lexer": "ipython3",
   "version": "3.8.8"
  }
 },
 "nbformat": 4,
 "nbformat_minor": 5
}
