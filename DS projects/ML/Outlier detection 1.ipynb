{
 "cells": [
  {
   "cell_type": "code",
   "execution_count": 1,
   "id": "df7e4150",
   "metadata": {},
   "outputs": [],
   "source": [
    "import pandas as pd\n",
    "%matplotlib inline\n",
    "import matplotlib.pyplot as plt\n",
    "import numpy as np"
   ]
  },
  {
   "cell_type": "markdown",
   "id": "edfc623c",
   "metadata": {},
   "source": [
    "PERCENTILE:\n",
    "   1. given value y is x percentile implies there are x% are below that given point\n",
    "   2. percentile of max value =100%\n",
    "   3. percentile of min value is 0%   "
   ]
  },
  {
   "cell_type": "code",
   "execution_count": 2,
   "id": "83994eef",
   "metadata": {},
   "outputs": [
    {
     "data": {
      "text/html": [
       "<div>\n",
       "<style scoped>\n",
       "    .dataframe tbody tr th:only-of-type {\n",
       "        vertical-align: middle;\n",
       "    }\n",
       "\n",
       "    .dataframe tbody tr th {\n",
       "        vertical-align: top;\n",
       "    }\n",
       "\n",
       "    .dataframe thead th {\n",
       "        text-align: right;\n",
       "    }\n",
       "</style>\n",
       "<table border=\"1\" class=\"dataframe\">\n",
       "  <thead>\n",
       "    <tr style=\"text-align: right;\">\n",
       "      <th></th>\n",
       "      <th>area_type</th>\n",
       "      <th>availability</th>\n",
       "      <th>location</th>\n",
       "      <th>size</th>\n",
       "      <th>society</th>\n",
       "      <th>total_sqft</th>\n",
       "      <th>bath</th>\n",
       "      <th>balcony</th>\n",
       "      <th>price</th>\n",
       "    </tr>\n",
       "  </thead>\n",
       "  <tbody>\n",
       "    <tr>\n",
       "      <th>0</th>\n",
       "      <td>Super built-up  Area</td>\n",
       "      <td>19-Dec</td>\n",
       "      <td>Electronic City Phase II</td>\n",
       "      <td>2 BHK</td>\n",
       "      <td>Coomee</td>\n",
       "      <td>1056</td>\n",
       "      <td>2.0</td>\n",
       "      <td>1.0</td>\n",
       "      <td>39.07</td>\n",
       "    </tr>\n",
       "    <tr>\n",
       "      <th>1</th>\n",
       "      <td>Plot  Area</td>\n",
       "      <td>Ready To Move</td>\n",
       "      <td>Chikka Tirupathi</td>\n",
       "      <td>4 Bedroom</td>\n",
       "      <td>Theanmp</td>\n",
       "      <td>2600</td>\n",
       "      <td>5.0</td>\n",
       "      <td>3.0</td>\n",
       "      <td>120.00</td>\n",
       "    </tr>\n",
       "    <tr>\n",
       "      <th>2</th>\n",
       "      <td>Built-up  Area</td>\n",
       "      <td>Ready To Move</td>\n",
       "      <td>Uttarahalli</td>\n",
       "      <td>3 BHK</td>\n",
       "      <td>NaN</td>\n",
       "      <td>1440</td>\n",
       "      <td>2.0</td>\n",
       "      <td>3.0</td>\n",
       "      <td>62.00</td>\n",
       "    </tr>\n",
       "    <tr>\n",
       "      <th>3</th>\n",
       "      <td>Super built-up  Area</td>\n",
       "      <td>Ready To Move</td>\n",
       "      <td>Lingadheeranahalli</td>\n",
       "      <td>3 BHK</td>\n",
       "      <td>Soiewre</td>\n",
       "      <td>1521</td>\n",
       "      <td>3.0</td>\n",
       "      <td>1.0</td>\n",
       "      <td>95.00</td>\n",
       "    </tr>\n",
       "    <tr>\n",
       "      <th>4</th>\n",
       "      <td>Super built-up  Area</td>\n",
       "      <td>Ready To Move</td>\n",
       "      <td>Kothanur</td>\n",
       "      <td>2 BHK</td>\n",
       "      <td>NaN</td>\n",
       "      <td>1200</td>\n",
       "      <td>2.0</td>\n",
       "      <td>1.0</td>\n",
       "      <td>51.00</td>\n",
       "    </tr>\n",
       "  </tbody>\n",
       "</table>\n",
       "</div>"
      ],
      "text/plain": [
       "              area_type   availability                  location       size  \\\n",
       "0  Super built-up  Area         19-Dec  Electronic City Phase II      2 BHK   \n",
       "1            Plot  Area  Ready To Move          Chikka Tirupathi  4 Bedroom   \n",
       "2        Built-up  Area  Ready To Move               Uttarahalli      3 BHK   \n",
       "3  Super built-up  Area  Ready To Move        Lingadheeranahalli      3 BHK   \n",
       "4  Super built-up  Area  Ready To Move                  Kothanur      2 BHK   \n",
       "\n",
       "   society total_sqft  bath  balcony   price  \n",
       "0  Coomee        1056   2.0      1.0   39.07  \n",
       "1  Theanmp       2600   5.0      3.0  120.00  \n",
       "2      NaN       1440   2.0      3.0   62.00  \n",
       "3  Soiewre       1521   3.0      1.0   95.00  \n",
       "4      NaN       1200   2.0      1.0   51.00  "
      ]
     },
     "execution_count": 2,
     "metadata": {},
     "output_type": "execute_result"
    }
   ],
   "source": [
    "df=pd.read_csv('../resources/Excel_sheets/Bengaluru_House_Data.csv')\n",
    "df.head()"
   ]
  },
  {
   "cell_type": "code",
   "execution_count": 3,
   "id": "c55888af",
   "metadata": {},
   "outputs": [
    {
     "data": {
      "text/plain": [
       "area_type          0\n",
       "availability       0\n",
       "location           1\n",
       "size              16\n",
       "society         5502\n",
       "total_sqft         0\n",
       "bath              73\n",
       "balcony          609\n",
       "price              0\n",
       "dtype: int64"
      ]
     },
     "execution_count": 3,
     "metadata": {},
     "output_type": "execute_result"
    }
   ],
   "source": [
    "df.isnull().sum()"
   ]
  },
  {
   "cell_type": "code",
   "execution_count": 4,
   "id": "5ea6680b",
   "metadata": {},
   "outputs": [
    {
     "data": {
      "text/plain": [
       "area_type          4\n",
       "availability      81\n",
       "location        1305\n",
       "size              31\n",
       "society         2688\n",
       "total_sqft      2117\n",
       "bath              19\n",
       "balcony            4\n",
       "price           1994\n",
       "dtype: int64"
      ]
     },
     "execution_count": 4,
     "metadata": {},
     "output_type": "execute_result"
    }
   ],
   "source": [
    "df.nunique()"
   ]
  },
  {
   "cell_type": "code",
   "execution_count": 5,
   "id": "e5ce4230",
   "metadata": {},
   "outputs": [],
   "source": [
    "df2=df.dropna(subset=['size','location'])"
   ]
  },
  {
   "cell_type": "code",
   "execution_count": 6,
   "id": "dbd77fa5",
   "metadata": {},
   "outputs": [],
   "source": [
    "df3=df2.copy()"
   ]
  },
  {
   "cell_type": "code",
   "execution_count": 7,
   "id": "1f8936e9",
   "metadata": {},
   "outputs": [],
   "source": [
    "df3['bhk']=df2['size'].apply(lambda x: int(x.split(\" \")[0]))"
   ]
  },
  {
   "cell_type": "code",
   "execution_count": 8,
   "id": "79424309",
   "metadata": {},
   "outputs": [
    {
     "data": {
      "text/html": [
       "<div>\n",
       "<style scoped>\n",
       "    .dataframe tbody tr th:only-of-type {\n",
       "        vertical-align: middle;\n",
       "    }\n",
       "\n",
       "    .dataframe tbody tr th {\n",
       "        vertical-align: top;\n",
       "    }\n",
       "\n",
       "    .dataframe thead th {\n",
       "        text-align: right;\n",
       "    }\n",
       "</style>\n",
       "<table border=\"1\" class=\"dataframe\">\n",
       "  <thead>\n",
       "    <tr style=\"text-align: right;\">\n",
       "      <th></th>\n",
       "      <th>area_type</th>\n",
       "      <th>availability</th>\n",
       "      <th>location</th>\n",
       "      <th>society</th>\n",
       "      <th>total_sqft</th>\n",
       "      <th>bath</th>\n",
       "      <th>balcony</th>\n",
       "      <th>price</th>\n",
       "      <th>bhk</th>\n",
       "    </tr>\n",
       "  </thead>\n",
       "  <tbody>\n",
       "    <tr>\n",
       "      <th>0</th>\n",
       "      <td>Super built-up  Area</td>\n",
       "      <td>19-Dec</td>\n",
       "      <td>Electronic City Phase II</td>\n",
       "      <td>Coomee</td>\n",
       "      <td>1056</td>\n",
       "      <td>2.0</td>\n",
       "      <td>1.0</td>\n",
       "      <td>39.07</td>\n",
       "      <td>2</td>\n",
       "    </tr>\n",
       "    <tr>\n",
       "      <th>1</th>\n",
       "      <td>Plot  Area</td>\n",
       "      <td>Ready To Move</td>\n",
       "      <td>Chikka Tirupathi</td>\n",
       "      <td>Theanmp</td>\n",
       "      <td>2600</td>\n",
       "      <td>5.0</td>\n",
       "      <td>3.0</td>\n",
       "      <td>120.00</td>\n",
       "      <td>4</td>\n",
       "    </tr>\n",
       "    <tr>\n",
       "      <th>2</th>\n",
       "      <td>Built-up  Area</td>\n",
       "      <td>Ready To Move</td>\n",
       "      <td>Uttarahalli</td>\n",
       "      <td>unknown</td>\n",
       "      <td>1440</td>\n",
       "      <td>2.0</td>\n",
       "      <td>3.0</td>\n",
       "      <td>62.00</td>\n",
       "      <td>3</td>\n",
       "    </tr>\n",
       "    <tr>\n",
       "      <th>3</th>\n",
       "      <td>Super built-up  Area</td>\n",
       "      <td>Ready To Move</td>\n",
       "      <td>Lingadheeranahalli</td>\n",
       "      <td>Soiewre</td>\n",
       "      <td>1521</td>\n",
       "      <td>3.0</td>\n",
       "      <td>1.0</td>\n",
       "      <td>95.00</td>\n",
       "      <td>3</td>\n",
       "    </tr>\n",
       "    <tr>\n",
       "      <th>4</th>\n",
       "      <td>Super built-up  Area</td>\n",
       "      <td>Ready To Move</td>\n",
       "      <td>Kothanur</td>\n",
       "      <td>unknown</td>\n",
       "      <td>1200</td>\n",
       "      <td>2.0</td>\n",
       "      <td>1.0</td>\n",
       "      <td>51.00</td>\n",
       "      <td>2</td>\n",
       "    </tr>\n",
       "  </tbody>\n",
       "</table>\n",
       "</div>"
      ],
      "text/plain": [
       "              area_type   availability                  location  society  \\\n",
       "0  Super built-up  Area         19-Dec  Electronic City Phase II  Coomee    \n",
       "1            Plot  Area  Ready To Move          Chikka Tirupathi  Theanmp   \n",
       "2        Built-up  Area  Ready To Move               Uttarahalli  unknown   \n",
       "3  Super built-up  Area  Ready To Move        Lingadheeranahalli  Soiewre   \n",
       "4  Super built-up  Area  Ready To Move                  Kothanur  unknown   \n",
       "\n",
       "  total_sqft  bath  balcony   price  bhk  \n",
       "0       1056   2.0      1.0   39.07    2  \n",
       "1       2600   5.0      3.0  120.00    4  \n",
       "2       1440   2.0      3.0   62.00    3  \n",
       "3       1521   3.0      1.0   95.00    3  \n",
       "4       1200   2.0      1.0   51.00    2  "
      ]
     },
     "execution_count": 8,
     "metadata": {},
     "output_type": "execute_result"
    }
   ],
   "source": [
    "df3.bath.fillna(int(df3.bath.mean()),inplace=True)\n",
    "df3.balcony.fillna(0,inplace=True)\n",
    "df3.society.fillna('unknown',inplace=True)\n",
    "df3.drop('size',axis=1,inplace=True)\n",
    "df3.head()"
   ]
  },
  {
   "cell_type": "code",
   "execution_count": 9,
   "id": "b6d2a3fc",
   "metadata": {},
   "outputs": [
    {
     "data": {
      "text/plain": [
       "area_type       0\n",
       "availability    0\n",
       "location        0\n",
       "society         0\n",
       "total_sqft      0\n",
       "bath            0\n",
       "balcony         0\n",
       "price           0\n",
       "bhk             0\n",
       "dtype: int64"
      ]
     },
     "execution_count": 9,
     "metadata": {},
     "output_type": "execute_result"
    }
   ],
   "source": [
    "df3.isnull().sum()"
   ]
  },
  {
   "cell_type": "code",
   "execution_count": 10,
   "id": "61a88c5c",
   "metadata": {},
   "outputs": [
    {
     "data": {
      "text/html": [
       "<div>\n",
       "<style scoped>\n",
       "    .dataframe tbody tr th:only-of-type {\n",
       "        vertical-align: middle;\n",
       "    }\n",
       "\n",
       "    .dataframe tbody tr th {\n",
       "        vertical-align: top;\n",
       "    }\n",
       "\n",
       "    .dataframe thead th {\n",
       "        text-align: right;\n",
       "    }\n",
       "</style>\n",
       "<table border=\"1\" class=\"dataframe\">\n",
       "  <thead>\n",
       "    <tr style=\"text-align: right;\">\n",
       "      <th></th>\n",
       "      <th>count</th>\n",
       "      <th>mean</th>\n",
       "      <th>std</th>\n",
       "      <th>min</th>\n",
       "      <th>25%</th>\n",
       "      <th>50%</th>\n",
       "      <th>75%</th>\n",
       "      <th>max</th>\n",
       "    </tr>\n",
       "    <tr>\n",
       "      <th>area_type</th>\n",
       "      <th></th>\n",
       "      <th></th>\n",
       "      <th></th>\n",
       "      <th></th>\n",
       "      <th></th>\n",
       "      <th></th>\n",
       "      <th></th>\n",
       "      <th></th>\n",
       "    </tr>\n",
       "  </thead>\n",
       "  <tbody>\n",
       "    <tr>\n",
       "      <th>Built-up  Area</th>\n",
       "      <td>2418.0</td>\n",
       "      <td>104.285498</td>\n",
       "      <td>109.270222</td>\n",
       "      <td>9.0</td>\n",
       "      <td>47.0000</td>\n",
       "      <td>70.0</td>\n",
       "      <td>120.0</td>\n",
       "      <td>2050.0</td>\n",
       "    </tr>\n",
       "    <tr>\n",
       "      <th>Carpet  Area</th>\n",
       "      <td>87.0</td>\n",
       "      <td>89.502356</td>\n",
       "      <td>73.446012</td>\n",
       "      <td>13.0</td>\n",
       "      <td>47.7025</td>\n",
       "      <td>70.0</td>\n",
       "      <td>100.0</td>\n",
       "      <td>500.0</td>\n",
       "    </tr>\n",
       "    <tr>\n",
       "      <th>Plot  Area</th>\n",
       "      <td>2009.0</td>\n",
       "      <td>209.368148</td>\n",
       "      <td>253.849250</td>\n",
       "      <td>10.5</td>\n",
       "      <td>85.0000</td>\n",
       "      <td>140.0</td>\n",
       "      <td>240.0</td>\n",
       "      <td>3600.0</td>\n",
       "    </tr>\n",
       "    <tr>\n",
       "      <th>Super built-up  Area</th>\n",
       "      <td>8789.0</td>\n",
       "      <td>92.972550</td>\n",
       "      <td>113.977674</td>\n",
       "      <td>8.0</td>\n",
       "      <td>47.2500</td>\n",
       "      <td>65.0</td>\n",
       "      <td>98.2</td>\n",
       "      <td>2912.0</td>\n",
       "    </tr>\n",
       "  </tbody>\n",
       "</table>\n",
       "</div>"
      ],
      "text/plain": [
       "                       count        mean         std   min      25%    50%  \\\n",
       "area_type                                                                    \n",
       "Built-up  Area        2418.0  104.285498  109.270222   9.0  47.0000   70.0   \n",
       "Carpet  Area            87.0   89.502356   73.446012  13.0  47.7025   70.0   \n",
       "Plot  Area            2009.0  209.368148  253.849250  10.5  85.0000  140.0   \n",
       "Super built-up  Area  8789.0   92.972550  113.977674   8.0  47.2500   65.0   \n",
       "\n",
       "                        75%     max  \n",
       "area_type                            \n",
       "Built-up  Area        120.0  2050.0  \n",
       "Carpet  Area          100.0   500.0  \n",
       "Plot  Area            240.0  3600.0  \n",
       "Super built-up  Area   98.2  2912.0  "
      ]
     },
     "execution_count": 10,
     "metadata": {},
     "output_type": "execute_result"
    }
   ],
   "source": [
    "df3.groupby('area_type')['price'].describe()"
   ]
  },
  {
   "cell_type": "code",
   "execution_count": 11,
   "id": "7f298b42",
   "metadata": {},
   "outputs": [
    {
     "data": {
      "text/plain": [
       "1304"
      ]
     },
     "execution_count": 11,
     "metadata": {},
     "output_type": "execute_result"
    }
   ],
   "source": [
    "df3.location.nunique()"
   ]
  },
  {
   "cell_type": "code",
   "execution_count": 12,
   "id": "b1acbed0",
   "metadata": {},
   "outputs": [],
   "source": [
    "df4=df3.copy()"
   ]
  },
  {
   "cell_type": "code",
   "execution_count": 13,
   "id": "a8a0fc37",
   "metadata": {},
   "outputs": [],
   "source": [
    "location_stats=df3.location.value_counts()\n",
    "z=location_stats[location_stats<10].index\n",
    "df4.location=df4.location.apply(lambda x: 'other' if x in z  else x)"
   ]
  },
  {
   "cell_type": "code",
   "execution_count": 14,
   "id": "dcf39b79",
   "metadata": {},
   "outputs": [
    {
     "data": {
      "text/plain": [
       "254"
      ]
     },
     "execution_count": 14,
     "metadata": {},
     "output_type": "execute_result"
    }
   ],
   "source": [
    "df4.location.nunique()"
   ]
  },
  {
   "cell_type": "code",
   "execution_count": 15,
   "id": "99f3e785",
   "metadata": {},
   "outputs": [
    {
     "data": {
      "text/html": [
       "<div>\n",
       "<style scoped>\n",
       "    .dataframe tbody tr th:only-of-type {\n",
       "        vertical-align: middle;\n",
       "    }\n",
       "\n",
       "    .dataframe tbody tr th {\n",
       "        vertical-align: top;\n",
       "    }\n",
       "\n",
       "    .dataframe thead th {\n",
       "        text-align: right;\n",
       "    }\n",
       "</style>\n",
       "<table border=\"1\" class=\"dataframe\">\n",
       "  <thead>\n",
       "    <tr style=\"text-align: right;\">\n",
       "      <th></th>\n",
       "      <th>area_type</th>\n",
       "      <th>availability</th>\n",
       "      <th>location</th>\n",
       "      <th>society</th>\n",
       "      <th>total_sqft</th>\n",
       "      <th>bath</th>\n",
       "      <th>balcony</th>\n",
       "      <th>price</th>\n",
       "      <th>bhk</th>\n",
       "    </tr>\n",
       "  </thead>\n",
       "  <tbody>\n",
       "    <tr>\n",
       "      <th>0</th>\n",
       "      <td>Super built-up  Area</td>\n",
       "      <td>19-Dec</td>\n",
       "      <td>Electronic City Phase II</td>\n",
       "      <td>Coomee</td>\n",
       "      <td>1056</td>\n",
       "      <td>2.0</td>\n",
       "      <td>1.0</td>\n",
       "      <td>39.07</td>\n",
       "      <td>2</td>\n",
       "    </tr>\n",
       "    <tr>\n",
       "      <th>1</th>\n",
       "      <td>Plot  Area</td>\n",
       "      <td>Ready To Move</td>\n",
       "      <td>Chikka Tirupathi</td>\n",
       "      <td>Theanmp</td>\n",
       "      <td>2600</td>\n",
       "      <td>5.0</td>\n",
       "      <td>3.0</td>\n",
       "      <td>120.00</td>\n",
       "      <td>4</td>\n",
       "    </tr>\n",
       "    <tr>\n",
       "      <th>2</th>\n",
       "      <td>Built-up  Area</td>\n",
       "      <td>Ready To Move</td>\n",
       "      <td>Uttarahalli</td>\n",
       "      <td>unknown</td>\n",
       "      <td>1440</td>\n",
       "      <td>2.0</td>\n",
       "      <td>3.0</td>\n",
       "      <td>62.00</td>\n",
       "      <td>3</td>\n",
       "    </tr>\n",
       "    <tr>\n",
       "      <th>3</th>\n",
       "      <td>Super built-up  Area</td>\n",
       "      <td>Ready To Move</td>\n",
       "      <td>Lingadheeranahalli</td>\n",
       "      <td>Soiewre</td>\n",
       "      <td>1521</td>\n",
       "      <td>3.0</td>\n",
       "      <td>1.0</td>\n",
       "      <td>95.00</td>\n",
       "      <td>3</td>\n",
       "    </tr>\n",
       "    <tr>\n",
       "      <th>4</th>\n",
       "      <td>Super built-up  Area</td>\n",
       "      <td>Ready To Move</td>\n",
       "      <td>Kothanur</td>\n",
       "      <td>unknown</td>\n",
       "      <td>1200</td>\n",
       "      <td>2.0</td>\n",
       "      <td>1.0</td>\n",
       "      <td>51.00</td>\n",
       "      <td>2</td>\n",
       "    </tr>\n",
       "    <tr>\n",
       "      <th>...</th>\n",
       "      <td>...</td>\n",
       "      <td>...</td>\n",
       "      <td>...</td>\n",
       "      <td>...</td>\n",
       "      <td>...</td>\n",
       "      <td>...</td>\n",
       "      <td>...</td>\n",
       "      <td>...</td>\n",
       "      <td>...</td>\n",
       "    </tr>\n",
       "    <tr>\n",
       "      <th>96</th>\n",
       "      <td>Plot  Area</td>\n",
       "      <td>Ready To Move</td>\n",
       "      <td>Kengeri</td>\n",
       "      <td>Goardth</td>\n",
       "      <td>2894</td>\n",
       "      <td>4.0</td>\n",
       "      <td>1.0</td>\n",
       "      <td>245.00</td>\n",
       "      <td>4</td>\n",
       "    </tr>\n",
       "    <tr>\n",
       "      <th>97</th>\n",
       "      <td>Super built-up  Area</td>\n",
       "      <td>Ready To Move</td>\n",
       "      <td>Sarjapura - Attibele Road</td>\n",
       "      <td>unknown</td>\n",
       "      <td>1330</td>\n",
       "      <td>2.0</td>\n",
       "      <td>1.0</td>\n",
       "      <td>48.00</td>\n",
       "      <td>3</td>\n",
       "    </tr>\n",
       "    <tr>\n",
       "      <th>98</th>\n",
       "      <td>Built-up  Area</td>\n",
       "      <td>Ready To Move</td>\n",
       "      <td>other</td>\n",
       "      <td>unknown</td>\n",
       "      <td>1200</td>\n",
       "      <td>2.0</td>\n",
       "      <td>1.0</td>\n",
       "      <td>65.00</td>\n",
       "      <td>2</td>\n",
       "    </tr>\n",
       "    <tr>\n",
       "      <th>99</th>\n",
       "      <td>Built-up  Area</td>\n",
       "      <td>Ready To Move</td>\n",
       "      <td>other</td>\n",
       "      <td>unknown</td>\n",
       "      <td>1200</td>\n",
       "      <td>3.0</td>\n",
       "      <td>1.0</td>\n",
       "      <td>90.00</td>\n",
       "      <td>3</td>\n",
       "    </tr>\n",
       "    <tr>\n",
       "      <th>100</th>\n",
       "      <td>Super built-up  Area</td>\n",
       "      <td>Ready To Move</td>\n",
       "      <td>Yeshwanthpur</td>\n",
       "      <td>IBityin</td>\n",
       "      <td>2502</td>\n",
       "      <td>3.0</td>\n",
       "      <td>3.0</td>\n",
       "      <td>138.00</td>\n",
       "      <td>3</td>\n",
       "    </tr>\n",
       "  </tbody>\n",
       "</table>\n",
       "<p>101 rows × 9 columns</p>\n",
       "</div>"
      ],
      "text/plain": [
       "                area_type   availability                   location  society  \\\n",
       "0    Super built-up  Area         19-Dec   Electronic City Phase II  Coomee    \n",
       "1              Plot  Area  Ready To Move           Chikka Tirupathi  Theanmp   \n",
       "2          Built-up  Area  Ready To Move                Uttarahalli  unknown   \n",
       "3    Super built-up  Area  Ready To Move         Lingadheeranahalli  Soiewre   \n",
       "4    Super built-up  Area  Ready To Move                   Kothanur  unknown   \n",
       "..                    ...            ...                        ...      ...   \n",
       "96             Plot  Area  Ready To Move                    Kengeri  Goardth   \n",
       "97   Super built-up  Area  Ready To Move  Sarjapura - Attibele Road  unknown   \n",
       "98         Built-up  Area  Ready To Move                      other  unknown   \n",
       "99         Built-up  Area  Ready To Move                      other  unknown   \n",
       "100  Super built-up  Area  Ready To Move               Yeshwanthpur  IBityin   \n",
       "\n",
       "    total_sqft  bath  balcony   price  bhk  \n",
       "0         1056   2.0      1.0   39.07    2  \n",
       "1         2600   5.0      3.0  120.00    4  \n",
       "2         1440   2.0      3.0   62.00    3  \n",
       "3         1521   3.0      1.0   95.00    3  \n",
       "4         1200   2.0      1.0   51.00    2  \n",
       "..         ...   ...      ...     ...  ...  \n",
       "96        2894   4.0      1.0  245.00    4  \n",
       "97        1330   2.0      1.0   48.00    3  \n",
       "98        1200   2.0      1.0   65.00    2  \n",
       "99        1200   3.0      1.0   90.00    3  \n",
       "100       2502   3.0      3.0  138.00    3  \n",
       "\n",
       "[101 rows x 9 columns]"
      ]
     },
     "execution_count": 15,
     "metadata": {},
     "output_type": "execute_result"
    }
   ],
   "source": [
    "df4.head(101)"
   ]
  },
  {
   "cell_type": "code",
   "execution_count": 16,
   "id": "d7918531",
   "metadata": {},
   "outputs": [
    {
     "data": {
      "text/plain": [
       "2677"
      ]
     },
     "execution_count": 16,
     "metadata": {},
     "output_type": "execute_result"
    }
   ],
   "source": [
    "df4.society.nunique()"
   ]
  },
  {
   "cell_type": "code",
   "execution_count": 17,
   "id": "ab41a1d7",
   "metadata": {},
   "outputs": [
    {
     "name": "stdout",
     "output_type": "stream",
     "text": [
      "<class 'pandas.core.frame.DataFrame'>\n",
      "Int64Index: 13303 entries, 0 to 13319\n",
      "Data columns (total 9 columns):\n",
      " #   Column        Non-Null Count  Dtype  \n",
      "---  ------        --------------  -----  \n",
      " 0   area_type     13303 non-null  object \n",
      " 1   availability  13303 non-null  object \n",
      " 2   location      13303 non-null  object \n",
      " 3   society       13303 non-null  object \n",
      " 4   total_sqft    13303 non-null  object \n",
      " 5   bath          13303 non-null  float64\n",
      " 6   balcony       13303 non-null  float64\n",
      " 7   price         13303 non-null  float64\n",
      " 8   bhk           13303 non-null  int64  \n",
      "dtypes: float64(3), int64(1), object(5)\n",
      "memory usage: 1.0+ MB\n"
     ]
    }
   ],
   "source": [
    "df4.info()"
   ]
  },
  {
   "cell_type": "code",
   "execution_count": 18,
   "id": "c59af54f",
   "metadata": {},
   "outputs": [
    {
     "data": {
      "text/plain": [
       "array(['1056', '2600', '1440', ..., '1133 - 1384', '774', '4689'],\n",
       "      dtype=object)"
      ]
     },
     "execution_count": 18,
     "metadata": {},
     "output_type": "execute_result"
    }
   ],
   "source": [
    "df4.total_sqft.unique()"
   ]
  },
  {
   "cell_type": "code",
   "execution_count": 19,
   "id": "5f17ab52",
   "metadata": {},
   "outputs": [],
   "source": [
    "df5=df4.copy()"
   ]
  },
  {
   "cell_type": "code",
   "execution_count": 20,
   "id": "407b2e2d",
   "metadata": {},
   "outputs": [
    {
     "data": {
      "text/plain": [
       "['2100 - 2850',\n",
       " '3010 - 3410',\n",
       " '2957 - 3450',\n",
       " '3067 - 8156',\n",
       " '1042 - 1105',\n",
       " '1145 - 1340',\n",
       " '1015 - 1540',\n",
       " '1520 - 1740',\n",
       " '34.46Sq. Meter',\n",
       " '1195 - 1440',\n",
       " '4125Perch',\n",
       " '1120 - 1145',\n",
       " '4400 - 6640',\n",
       " '3090 - 5002',\n",
       " '4400 - 6800',\n",
       " '1160 - 1195',\n",
       " '1000Sq. Meter',\n",
       " '4000 - 5249',\n",
       " '1115 - 1130',\n",
       " '1100Sq. Yards',\n",
       " '520 - 645',\n",
       " '1000 - 1285',\n",
       " '3606 - 5091',\n",
       " '650 - 665',\n",
       " '633 - 666',\n",
       " '5.31Acres',\n",
       " '30Acres',\n",
       " '1445 - 1455',\n",
       " '884 - 1116',\n",
       " '850 - 1093',\n",
       " '1440 - 1884',\n",
       " '716Sq. Meter',\n",
       " '547.34 - 827.31',\n",
       " '580 - 650',\n",
       " '3425 - 3435',\n",
       " '1804 - 2273',\n",
       " '3630 - 3800',\n",
       " '660 - 670',\n",
       " '4000 - 5249',\n",
       " '1500Sq. Meter',\n",
       " '620 - 933',\n",
       " '142.61Sq. Meter',\n",
       " '2695 - 2940',\n",
       " '1574Sq. Yards',\n",
       " '3450 - 3472',\n",
       " '1250 - 1305',\n",
       " '670 - 980',\n",
       " '1005.03 - 1252.49',\n",
       " '3630 - 3800',\n",
       " '1004 - 1204',\n",
       " '361.33Sq. Yards',\n",
       " '645 - 936',\n",
       " '2710 - 3360',\n",
       " '2249.81 - 4112.19',\n",
       " '3436 - 3643',\n",
       " '2830 - 2882',\n",
       " '596 - 804',\n",
       " '1255 - 1863',\n",
       " '1300 - 1405',\n",
       " '117Sq. Yards',\n",
       " '934 - 1437',\n",
       " '980 - 1030',\n",
       " '1564 - 1850',\n",
       " '1446 - 1506',\n",
       " '2249.81 - 4112.19',\n",
       " '1070 - 1315',\n",
       " '3040Sq. Meter',\n",
       " '500Sq. Yards',\n",
       " '2806 - 3019',\n",
       " '613 - 648',\n",
       " '1430 - 1630',\n",
       " '704 - 730',\n",
       " '1482 - 1846',\n",
       " '2805 - 3565',\n",
       " '3293 - 5314',\n",
       " '1210 - 1477',\n",
       " '3369 - 3464',\n",
       " '1125 - 1500',\n",
       " '167Sq. Meter',\n",
       " '1076 - 1199',\n",
       " '381 - 535',\n",
       " '2215 - 2475',\n",
       " '524 - 894',\n",
       " '540 - 670',\n",
       " '315Sq. Yards',\n",
       " '1650 - 2538',\n",
       " '2725 - 3250',\n",
       " '1974 - 2171',\n",
       " '888 - 1290',\n",
       " '1360 - 1890',\n",
       " '2466 - 2856',\n",
       " '660 - 700',\n",
       " '385 - 440',\n",
       " '770 - 841',\n",
       " '524 - 894',\n",
       " '3Cents',\n",
       " '1310 - 1615',\n",
       " '1782 - 2000',\n",
       " '188.89Sq. Yards',\n",
       " '1469 - 1766',\n",
       " '204Sq. Meter',\n",
       " '1255 - 1350',\n",
       " '870 - 1080',\n",
       " '45Sq. Yards',\n",
       " '133.3Sq. Yards',\n",
       " '2580 - 2591',\n",
       " '613 - 648',\n",
       " '2563 - 2733',\n",
       " '605 - 624',\n",
       " '4260 - 4408',\n",
       " '1349 - 3324',\n",
       " '78.03Sq. Meter',\n",
       " '1255 - 1350',\n",
       " '3300 - 3335',\n",
       " '1180 - 1630',\n",
       " '1365 - 1700',\n",
       " '3500 - 3600',\n",
       " '122Sq. Yards',\n",
       " '2830 - 2882',\n",
       " '84.53Sq. Meter',\n",
       " '2.09Acres',\n",
       " '2830 - 2882',\n",
       " '1482 - 1684',\n",
       " '981 - 1249',\n",
       " '1100 - 1225',\n",
       " '1565 - 1595',\n",
       " '24Guntha',\n",
       " '1270 - 1275',\n",
       " '840 - 1010',\n",
       " '697Sq. Meter',\n",
       " '2830 - 2882',\n",
       " '655 - 742',\n",
       " '1408 - 1455',\n",
       " '4050 - 4075',\n",
       " '942 - 1117',\n",
       " '1750 - 2640',\n",
       " '142.61Sq. Meter',\n",
       " '1390 - 1600',\n",
       " '598 - 958',\n",
       " '1500Cents',\n",
       " '132Sq. Yards',\n",
       " '1010 - 1300',\n",
       " '2Acres',\n",
       " '3103 - 3890',\n",
       " '1450 - 1950',\n",
       " '1100Sq. Meter',\n",
       " '15Acres',\n",
       " '1450 - 1595',\n",
       " '763 - 805',\n",
       " '3307 - 3464',\n",
       " '1.26Acres',\n",
       " '620 - 934',\n",
       " '2462 - 2467',\n",
       " '540 - 740',\n",
       " '1618 - 1929',\n",
       " '3508 - 4201',\n",
       " '2249.81 - 4112.19',\n",
       " '4900 - 4940',\n",
       " '1610 - 1880',\n",
       " '755 - 770',\n",
       " '664 - 722',\n",
       " '151.11Sq. Yards',\n",
       " '700 - 900',\n",
       " '596 - 861',\n",
       " '1925 - 2680',\n",
       " '615 - 985',\n",
       " '540 - 565',\n",
       " '1390 - 1600',\n",
       " '750 - 800',\n",
       " '1660 - 1805',\n",
       " '1365 - 1700',\n",
       " '1410 - 1710',\n",
       " '1079 - 1183',\n",
       " '2800 - 2870',\n",
       " '1230 - 1290',\n",
       " '943 - 1220',\n",
       " '2041 - 2090',\n",
       " '527 - 639',\n",
       " '645 - 936',\n",
       " '1Grounds',\n",
       " '1160 - 1315',\n",
       " '706 - 716',\n",
       " '2940Sq. Yards',\n",
       " '1791 - 4000',\n",
       " '45.06Sq. Meter',\n",
       " '799 - 803',\n",
       " '2470 - 2790',\n",
       " '783 - 943',\n",
       " '4500 - 5540',\n",
       " '1255 - 1375',\n",
       " '1430 - 1630',\n",
       " '610 - 615',\n",
       " '854 - 960',\n",
       " '2650 - 2990',\n",
       " '1.25Acres',\n",
       " '86.72Sq. Meter',\n",
       " '381 - 535',\n",
       " '1230 - 1490',\n",
       " '3630 - 3800',\n",
       " '660 - 780',\n",
       " '1618 - 1929',\n",
       " '1150 - 1194',\n",
       " '684 - 810',\n",
       " '1510 - 1670',\n",
       " '1550 - 1590',\n",
       " '1235 - 1410',\n",
       " '3484 - 3550',\n",
       " '38Guntha',\n",
       " '929 - 1078',\n",
       " '2150 - 2225',\n",
       " '1520 - 1759',\n",
       " '2580 - 2591',\n",
       " '629 - 1026',\n",
       " '1215 - 1495',\n",
       " '6Acres',\n",
       " '1140 - 1250',\n",
       " '2400 - 2600',\n",
       " '1052 - 1322',\n",
       " '5666 - 5669',\n",
       " '620 - 934',\n",
       " '712 - 938',\n",
       " '1783 - 1878',\n",
       " '120Sq. Yards',\n",
       " '24Sq. Meter',\n",
       " '2528 - 3188',\n",
       " '650 - 760',\n",
       " '1400 - 1421',\n",
       " '4000 - 4450',\n",
       " '142.84Sq. Meter',\n",
       " '300Sq. Yards',\n",
       " '1115 - 1130',\n",
       " '2204 - 2362',\n",
       " '1437 - 1629',\n",
       " '850 - 1060',\n",
       " '1804 - 2273',\n",
       " '1200 - 1470',\n",
       " '1020 - 1130',\n",
       " '1133 - 1384',\n",
       " '2830 - 2882']"
      ]
     },
     "execution_count": 20,
     "metadata": {},
     "output_type": "execute_result"
    }
   ],
   "source": [
    "errors=[]\n",
    "def con_float(x):\n",
    "    try:\n",
    "        float(x)\n",
    "    except ValueError:\n",
    "        errors.append(x)\n",
    "df5.total_sqft.apply(con_float)\n",
    "errors"
   ]
  },
  {
   "cell_type": "code",
   "execution_count": 21,
   "id": "8f0483f7",
   "metadata": {},
   "outputs": [],
   "source": [
    "def con_float(x):\n",
    "    try:\n",
    "        z=x.split(\"-\")\n",
    "        if len(z)==2:\n",
    "            return (float(z[0])+float(z[1]))/2\n",
    "        else:\n",
    "            if x.endswith(\"Sq. Meter\"):\n",
    "                return float(x.split(\"Sq. Meter\")[0])*10.764\n",
    "            elif x.endswith(\"Sq. Yards\"):\n",
    "                return float(x.split(\"Sq. Yards\")[0])*9\n",
    "            elif x.endswith(\"Acres\"):\n",
    "                return float(x.split(\"Acres\")[0])*43560\n",
    "            elif x.endswith(\"Cents\"):\n",
    "                return float(x.split(\"Cents\")[0])*435.56\n",
    "            elif x.endswith(\"Perch\"):\n",
    "                return float(x.split(\"Perch\")[0])*272.25\n",
    "            elif x.endswith(\"Guntha\"):\n",
    "                return float(x.split(\"Guntha\")[0])*1089\n",
    "            elif x.endswith(\"Grounds\"):\n",
    "                return float(x.split(\"Grounds\")[0])*2400           \n",
    "    except AttributeError:\n",
    "        return float(x)\n",
    "    return float(x)"
   ]
  },
  {
   "cell_type": "code",
   "execution_count": 22,
   "id": "5289b323",
   "metadata": {},
   "outputs": [],
   "source": [
    "df5.total_sqft=df5.total_sqft.apply(con_float)"
   ]
  },
  {
   "cell_type": "code",
   "execution_count": 23,
   "id": "25f2ea93",
   "metadata": {},
   "outputs": [],
   "source": [
    "df5=df5.astype({'total_sqft':np.float32,'bath':np.uint8,'balcony': np.uint8,'bhk':np.uint8})"
   ]
  },
  {
   "cell_type": "code",
   "execution_count": 24,
   "id": "d00e93f5",
   "metadata": {},
   "outputs": [
    {
     "name": "stdout",
     "output_type": "stream",
     "text": [
      "<class 'pandas.core.frame.DataFrame'>\n",
      "Int64Index: 13303 entries, 0 to 13319\n",
      "Data columns (total 9 columns):\n",
      " #   Column        Non-Null Count  Dtype  \n",
      "---  ------        --------------  -----  \n",
      " 0   area_type     13303 non-null  object \n",
      " 1   availability  13303 non-null  object \n",
      " 2   location      13303 non-null  object \n",
      " 3   society       13303 non-null  object \n",
      " 4   total_sqft    13303 non-null  float32\n",
      " 5   bath          13303 non-null  uint8  \n",
      " 6   balcony       13303 non-null  uint8  \n",
      " 7   price         13303 non-null  float64\n",
      " 8   bhk           13303 non-null  uint8  \n",
      "dtypes: float32(1), float64(1), object(4), uint8(3)\n",
      "memory usage: 714.5+ KB\n"
     ]
    }
   ],
   "source": [
    "df5.info()"
   ]
  },
  {
   "cell_type": "code",
   "execution_count": 25,
   "id": "56f159fc",
   "metadata": {},
   "outputs": [],
   "source": [
    "df6=df5.copy()"
   ]
  },
  {
   "cell_type": "code",
   "execution_count": 26,
   "id": "f0d4d27f",
   "metadata": {},
   "outputs": [
    {
     "data": {
      "text/html": [
       "<div>\n",
       "<style scoped>\n",
       "    .dataframe tbody tr th:only-of-type {\n",
       "        vertical-align: middle;\n",
       "    }\n",
       "\n",
       "    .dataframe tbody tr th {\n",
       "        vertical-align: top;\n",
       "    }\n",
       "\n",
       "    .dataframe thead th {\n",
       "        text-align: right;\n",
       "    }\n",
       "</style>\n",
       "<table border=\"1\" class=\"dataframe\">\n",
       "  <thead>\n",
       "    <tr style=\"text-align: right;\">\n",
       "      <th></th>\n",
       "      <th>area_type</th>\n",
       "      <th>availability</th>\n",
       "      <th>location</th>\n",
       "      <th>society</th>\n",
       "      <th>total_sqft</th>\n",
       "      <th>bath</th>\n",
       "      <th>balcony</th>\n",
       "      <th>price</th>\n",
       "      <th>bhk</th>\n",
       "      <th>price_per_sqft</th>\n",
       "    </tr>\n",
       "  </thead>\n",
       "  <tbody>\n",
       "    <tr>\n",
       "      <th>0</th>\n",
       "      <td>Super built-up  Area</td>\n",
       "      <td>19-Dec</td>\n",
       "      <td>Electronic City Phase II</td>\n",
       "      <td>Coomee</td>\n",
       "      <td>1056.0</td>\n",
       "      <td>2</td>\n",
       "      <td>1</td>\n",
       "      <td>39.07</td>\n",
       "      <td>2</td>\n",
       "      <td>3699.81</td>\n",
       "    </tr>\n",
       "    <tr>\n",
       "      <th>1</th>\n",
       "      <td>Plot  Area</td>\n",
       "      <td>Ready To Move</td>\n",
       "      <td>Chikka Tirupathi</td>\n",
       "      <td>Theanmp</td>\n",
       "      <td>2600.0</td>\n",
       "      <td>5</td>\n",
       "      <td>3</td>\n",
       "      <td>120.00</td>\n",
       "      <td>4</td>\n",
       "      <td>4615.38</td>\n",
       "    </tr>\n",
       "    <tr>\n",
       "      <th>2</th>\n",
       "      <td>Built-up  Area</td>\n",
       "      <td>Ready To Move</td>\n",
       "      <td>Uttarahalli</td>\n",
       "      <td>unknown</td>\n",
       "      <td>1440.0</td>\n",
       "      <td>2</td>\n",
       "      <td>3</td>\n",
       "      <td>62.00</td>\n",
       "      <td>3</td>\n",
       "      <td>4305.56</td>\n",
       "    </tr>\n",
       "    <tr>\n",
       "      <th>3</th>\n",
       "      <td>Super built-up  Area</td>\n",
       "      <td>Ready To Move</td>\n",
       "      <td>Lingadheeranahalli</td>\n",
       "      <td>Soiewre</td>\n",
       "      <td>1521.0</td>\n",
       "      <td>3</td>\n",
       "      <td>1</td>\n",
       "      <td>95.00</td>\n",
       "      <td>3</td>\n",
       "      <td>6245.89</td>\n",
       "    </tr>\n",
       "    <tr>\n",
       "      <th>4</th>\n",
       "      <td>Super built-up  Area</td>\n",
       "      <td>Ready To Move</td>\n",
       "      <td>Kothanur</td>\n",
       "      <td>unknown</td>\n",
       "      <td>1200.0</td>\n",
       "      <td>2</td>\n",
       "      <td>1</td>\n",
       "      <td>51.00</td>\n",
       "      <td>2</td>\n",
       "      <td>4250.00</td>\n",
       "    </tr>\n",
       "  </tbody>\n",
       "</table>\n",
       "</div>"
      ],
      "text/plain": [
       "              area_type   availability                  location  society  \\\n",
       "0  Super built-up  Area         19-Dec  Electronic City Phase II  Coomee    \n",
       "1            Plot  Area  Ready To Move          Chikka Tirupathi  Theanmp   \n",
       "2        Built-up  Area  Ready To Move               Uttarahalli  unknown   \n",
       "3  Super built-up  Area  Ready To Move        Lingadheeranahalli  Soiewre   \n",
       "4  Super built-up  Area  Ready To Move                  Kothanur  unknown   \n",
       "\n",
       "   total_sqft  bath  balcony   price  bhk  price_per_sqft  \n",
       "0      1056.0     2        1   39.07    2         3699.81  \n",
       "1      2600.0     5        3  120.00    4         4615.38  \n",
       "2      1440.0     2        3   62.00    3         4305.56  \n",
       "3      1521.0     3        1   95.00    3         6245.89  \n",
       "4      1200.0     2        1   51.00    2         4250.00  "
      ]
     },
     "execution_count": 26,
     "metadata": {},
     "output_type": "execute_result"
    }
   ],
   "source": [
    "df6['price_per_sqft']=round((df5.price/df5.total_sqft)*100000,2)\n",
    "df6.head()"
   ]
  },
  {
   "cell_type": "markdown",
   "id": "ec280149",
   "metadata": {},
   "source": [
    "## Outlier Detection"
   ]
  },
  {
   "cell_type": "code",
   "execution_count": 27,
   "id": "93a45499",
   "metadata": {},
   "outputs": [
    {
     "data": {
      "text/plain": [
       "count    1.330300e+04\n",
       "mean     7.907398e+03\n",
       "std      1.063169e+05\n",
       "min      2.260000e+00\n",
       "25%      4.263485e+03\n",
       "50%      5.433830e+03\n",
       "75%      7.313545e+03\n",
       "max      1.200000e+07\n",
       "Name: price_per_sqft, dtype: float64"
      ]
     },
     "execution_count": 27,
     "metadata": {},
     "output_type": "execute_result"
    }
   ],
   "source": [
    "df6.price_per_sqft.describe()"
   ]
  },
  {
   "cell_type": "code",
   "execution_count": 28,
   "id": "b8243c00",
   "metadata": {},
   "outputs": [
    {
     "data": {
      "image/png": "[encoded data removed]",
      "text/plain": [
       "<Figure size 432x288 with 1 Axes>"
      ]
     },
     "metadata": {
      "needs_background": "light"
     },
     "output_type": "display_data"
    }
   ],
   "source": [
    "plt.hist(df6.price_per_sqft,bins=20,rwidth=0.8)\n",
    "plt.ylabel('count')\n",
    "plt.xlabel('price_per_sqft')\n",
    "plt.show()"
   ]
  },
  {
   "cell_type": "code",
   "execution_count": 29,
   "id": "f2c67c39",
   "metadata": {},
   "outputs": [
    {
     "data": {
      "text/plain": [
       "15284.939999999991"
      ]
     },
     "execution_count": 29,
     "metadata": {},
     "output_type": "execute_result"
    }
   ],
   "source": [
    "max_tresh=df6.price_per_sqft.quantile(0.95)\n",
    "max_tresh"
   ]
  },
  {
   "cell_type": "markdown",
   "id": "751bc814",
   "metadata": {},
   "source": [
    "### using quantile"
   ]
  },
  {
   "cell_type": "code",
   "execution_count": 30,
   "id": "1a264724",
   "metadata": {},
   "outputs": [
    {
     "data": {
      "text/plain": [
       "(15284.939999999991, 2500.0)"
      ]
     },
     "execution_count": 30,
     "metadata": {},
     "output_type": "execute_result"
    }
   ],
   "source": [
    "max_tresh,min_tresh=df6.price_per_sqft.quantile([0.95,0.01])\n",
    "max_tresh,min_tresh"
   ]
  },
  {
   "cell_type": "code",
   "execution_count": 31,
   "id": "95c3d1e2",
   "metadata": {},
   "outputs": [
    {
     "data": {
      "text/html": [
       "<div>\n",
       "<style scoped>\n",
       "    .dataframe tbody tr th:only-of-type {\n",
       "        vertical-align: middle;\n",
       "    }\n",
       "\n",
       "    .dataframe tbody tr th {\n",
       "        vertical-align: top;\n",
       "    }\n",
       "\n",
       "    .dataframe thead th {\n",
       "        text-align: right;\n",
       "    }\n",
       "</style>\n",
       "<table border=\"1\" class=\"dataframe\">\n",
       "  <thead>\n",
       "    <tr style=\"text-align: right;\">\n",
       "      <th></th>\n",
       "      <th>area_type</th>\n",
       "      <th>availability</th>\n",
       "      <th>location</th>\n",
       "      <th>society</th>\n",
       "      <th>total_sqft</th>\n",
       "      <th>bath</th>\n",
       "      <th>balcony</th>\n",
       "      <th>price</th>\n",
       "      <th>bhk</th>\n",
       "      <th>price_per_sqft</th>\n",
       "    </tr>\n",
       "  </thead>\n",
       "  <tbody>\n",
       "    <tr>\n",
       "      <th>7</th>\n",
       "      <td>Super built-up  Area</td>\n",
       "      <td>Ready To Move</td>\n",
       "      <td>Rajaji Nagar</td>\n",
       "      <td>Brway G</td>\n",
       "      <td>3300.0</td>\n",
       "      <td>4</td>\n",
       "      <td>0</td>\n",
       "      <td>600.0</td>\n",
       "      <td>4</td>\n",
       "      <td>18181.82</td>\n",
       "    </tr>\n",
       "    <tr>\n",
       "      <th>9</th>\n",
       "      <td>Plot  Area</td>\n",
       "      <td>Ready To Move</td>\n",
       "      <td>other</td>\n",
       "      <td>unknown</td>\n",
       "      <td>1020.0</td>\n",
       "      <td>6</td>\n",
       "      <td>0</td>\n",
       "      <td>370.0</td>\n",
       "      <td>6</td>\n",
       "      <td>36274.51</td>\n",
       "    </tr>\n",
       "    <tr>\n",
       "      <th>45</th>\n",
       "      <td>Plot  Area</td>\n",
       "      <td>Ready To Move</td>\n",
       "      <td>HSR Layout</td>\n",
       "      <td>unknown</td>\n",
       "      <td>600.0</td>\n",
       "      <td>9</td>\n",
       "      <td>0</td>\n",
       "      <td>200.0</td>\n",
       "      <td>8</td>\n",
       "      <td>33333.33</td>\n",
       "    </tr>\n",
       "    <tr>\n",
       "      <th>48</th>\n",
       "      <td>Plot  Area</td>\n",
       "      <td>Ready To Move</td>\n",
       "      <td>KR Puram</td>\n",
       "      <td>unknown</td>\n",
       "      <td>800.0</td>\n",
       "      <td>1</td>\n",
       "      <td>1</td>\n",
       "      <td>130.0</td>\n",
       "      <td>2</td>\n",
       "      <td>16250.00</td>\n",
       "    </tr>\n",
       "    <tr>\n",
       "      <th>70</th>\n",
       "      <td>Plot  Area</td>\n",
       "      <td>Ready To Move</td>\n",
       "      <td>other</td>\n",
       "      <td>unknown</td>\n",
       "      <td>500.0</td>\n",
       "      <td>3</td>\n",
       "      <td>2</td>\n",
       "      <td>100.0</td>\n",
       "      <td>3</td>\n",
       "      <td>20000.00</td>\n",
       "    </tr>\n",
       "    <tr>\n",
       "      <th>89</th>\n",
       "      <td>Plot  Area</td>\n",
       "      <td>Ready To Move</td>\n",
       "      <td>Rajaji Nagar</td>\n",
       "      <td>unknown</td>\n",
       "      <td>710.0</td>\n",
       "      <td>6</td>\n",
       "      <td>3</td>\n",
       "      <td>160.0</td>\n",
       "      <td>6</td>\n",
       "      <td>22535.21</td>\n",
       "    </tr>\n",
       "    <tr>\n",
       "      <th>133</th>\n",
       "      <td>Plot  Area</td>\n",
       "      <td>Ready To Move</td>\n",
       "      <td>other</td>\n",
       "      <td>unknown</td>\n",
       "      <td>1200.0</td>\n",
       "      <td>4</td>\n",
       "      <td>0</td>\n",
       "      <td>210.0</td>\n",
       "      <td>4</td>\n",
       "      <td>17500.00</td>\n",
       "    </tr>\n",
       "    <tr>\n",
       "      <th>149</th>\n",
       "      <td>Plot  Area</td>\n",
       "      <td>Ready To Move</td>\n",
       "      <td>other</td>\n",
       "      <td>unknown</td>\n",
       "      <td>1034.0</td>\n",
       "      <td>5</td>\n",
       "      <td>0</td>\n",
       "      <td>185.0</td>\n",
       "      <td>6</td>\n",
       "      <td>17891.68</td>\n",
       "    </tr>\n",
       "    <tr>\n",
       "      <th>159</th>\n",
       "      <td>Plot  Area</td>\n",
       "      <td>Ready To Move</td>\n",
       "      <td>Mahalakshmi Layout</td>\n",
       "      <td>unknown</td>\n",
       "      <td>3750.0</td>\n",
       "      <td>4</td>\n",
       "      <td>0</td>\n",
       "      <td>760.0</td>\n",
       "      <td>4</td>\n",
       "      <td>20266.67</td>\n",
       "    </tr>\n",
       "    <tr>\n",
       "      <th>185</th>\n",
       "      <td>Plot  Area</td>\n",
       "      <td>Ready To Move</td>\n",
       "      <td>other</td>\n",
       "      <td>unknown</td>\n",
       "      <td>1846.0</td>\n",
       "      <td>3</td>\n",
       "      <td>2</td>\n",
       "      <td>300.0</td>\n",
       "      <td>3</td>\n",
       "      <td>16251.35</td>\n",
       "    </tr>\n",
       "  </tbody>\n",
       "</table>\n",
       "</div>"
      ],
      "text/plain": [
       "                area_type   availability            location  society  \\\n",
       "7    Super built-up  Area  Ready To Move        Rajaji Nagar  Brway G   \n",
       "9              Plot  Area  Ready To Move               other  unknown   \n",
       "45             Plot  Area  Ready To Move          HSR Layout  unknown   \n",
       "48             Plot  Area  Ready To Move            KR Puram  unknown   \n",
       "70             Plot  Area  Ready To Move               other  unknown   \n",
       "89             Plot  Area  Ready To Move        Rajaji Nagar  unknown   \n",
       "133            Plot  Area  Ready To Move               other  unknown   \n",
       "149            Plot  Area  Ready To Move               other  unknown   \n",
       "159            Plot  Area  Ready To Move  Mahalakshmi Layout  unknown   \n",
       "185            Plot  Area  Ready To Move               other  unknown   \n",
       "\n",
       "     total_sqft  bath  balcony  price  bhk  price_per_sqft  \n",
       "7        3300.0     4        0  600.0    4        18181.82  \n",
       "9        1020.0     6        0  370.0    6        36274.51  \n",
       "45        600.0     9        0  200.0    8        33333.33  \n",
       "48        800.0     1        1  130.0    2        16250.00  \n",
       "70        500.0     3        2  100.0    3        20000.00  \n",
       "89        710.0     6        3  160.0    6        22535.21  \n",
       "133      1200.0     4        0  210.0    4        17500.00  \n",
       "149      1034.0     5        0  185.0    6        17891.68  \n",
       "159      3750.0     4        0  760.0    4        20266.67  \n",
       "185      1846.0     3        2  300.0    3        16251.35  "
      ]
     },
     "execution_count": 31,
     "metadata": {},
     "output_type": "execute_result"
    }
   ],
   "source": [
    "df6[df6.price_per_sqft>max_tresh].head(10)"
   ]
  },
  {
   "cell_type": "code",
   "execution_count": 32,
   "id": "79067980",
   "metadata": {},
   "outputs": [],
   "source": [
    "df7=df6[(df6.price_per_sqft<max_tresh) & (df6.price_per_sqft>min_tresh)]"
   ]
  },
  {
   "cell_type": "code",
   "execution_count": 54,
   "id": "4c14aeac",
   "metadata": {},
   "outputs": [
    {
     "data": {
      "image/png": "[encoded data removed]",
      "text/plain": [
       "<Figure size 432x288 with 1 Axes>"
      ]
     },
     "metadata": {
      "needs_background": "light"
     },
     "output_type": "display_data"
    }
   ],
   "source": [
    "plt.hist(df7.price_per_sqft,bins=20,rwidth=0.8)\n",
    "plt.ylabel('count')\n",
    "plt.xlabel('price_per_sqft')\n",
    "plt.show()"
   ]
  },
  {
   "cell_type": "code",
   "execution_count": 52,
   "id": "d61802d2",
   "metadata": {},
   "outputs": [
    {
     "data": {
      "image/png": "[encoded data removed]",
      "text/plain": [
       "<Figure size 432x288 with 1 Axes>"
      ]
     },
     "metadata": {
      "needs_background": "light"
     },
     "output_type": "display_data"
    }
   ],
   "source": [
    "from scipy.stats import norm\n",
    "import numpy as np\n",
    "\n",
    "plt.hist(df7.price_per_sqft,bins=20,rwidth=0.8,density=True)\n",
    "\n",
    "\n",
    "rng=np.arange(df7.price_per_sqft.min(),df7.price_per_sqft.max(),0.1)\n",
    "plt.plot(rng,norm.pdf(rng,df7.price_per_sqft.mean(),df7.price_per_sqft.std()))\n",
    "plt.ylabel('count')\n",
    "plt.xlabel('price_per_sqft')\n",
    "plt.show()"
   ]
  },
  {
   "cell_type": "code",
   "execution_count": 34,
   "id": "ac3a8c18",
   "metadata": {},
   "outputs": [
    {
     "data": {
      "image/png": "[encoded data removed]",
      "text/plain": [
       "<Figure size 432x288 with 1 Axes>"
      ]
     },
     "metadata": {
      "needs_background": "light"
     },
     "output_type": "display_data"
    }
   ],
   "source": [
    "plt.hist(df7.price,bins=20,rwidth=0.8)\n",
    "plt.ylabel('count')\n",
    "plt.xlabel('price')\n",
    "plt.show()"
   ]
  },
  {
   "cell_type": "code",
   "execution_count": null,
   "id": "b41e8ad6",
   "metadata": {},
   "outputs": [],
   "source": []
  },
  {
   "cell_type": "markdown",
   "id": "523cd1f9",
   "metadata": {},
   "source": [
    "### using std"
   ]
  },
  {
   "cell_type": "code",
   "execution_count": 35,
   "id": "7c4be06b",
   "metadata": {},
   "outputs": [
    {
     "data": {
      "text/plain": [
       "5989.9457054871"
      ]
     },
     "execution_count": 35,
     "metadata": {},
     "output_type": "execute_result"
    }
   ],
   "source": [
    "m=df7.price_per_sqft.mean()\n",
    "m"
   ]
  },
  {
   "cell_type": "code",
   "execution_count": 36,
   "id": "4a1a9723",
   "metadata": {},
   "outputs": [
    {
     "data": {
      "text/plain": [
       "2533.570857578368"
      ]
     },
     "execution_count": 36,
     "metadata": {},
     "output_type": "execute_result"
    }
   ],
   "source": [
    "s=df7.price_per_sqft.std()\n",
    "s"
   ]
  },
  {
   "cell_type": "code",
   "execution_count": 37,
   "id": "6bda5e74",
   "metadata": {},
   "outputs": [
    {
     "data": {
      "text/plain": [
       "(13590.658278222203, -1610.766867248003)"
      ]
     },
     "execution_count": 37,
     "metadata": {},
     "output_type": "execute_result"
    }
   ],
   "source": [
    "upperlimit=m+3*s\n",
    "lowerlimit=m-3*s\n",
    "upperlimit,lowerlimit"
   ]
  },
  {
   "cell_type": "code",
   "execution_count": 41,
   "id": "f5dbf0b5",
   "metadata": {},
   "outputs": [
    {
     "data": {
      "text/plain": [
       "2560"
      ]
     },
     "execution_count": 41,
     "metadata": {},
     "output_type": "execute_result"
    }
   ],
   "source": [
    "df7[df7.price_per_sqft>upperlimit].size"
   ]
  },
  {
   "cell_type": "code",
   "execution_count": 42,
   "id": "74c97b75",
   "metadata": {},
   "outputs": [],
   "source": [
    "df8=df7[df7.price_per_sqft<upperlimit]"
   ]
  },
  {
   "cell_type": "code",
   "execution_count": 43,
   "id": "f97eeb69",
   "metadata": {},
   "outputs": [
    {
     "data": {
      "text/plain": [
       "(12246, 10)"
      ]
     },
     "execution_count": 43,
     "metadata": {},
     "output_type": "execute_result"
    }
   ],
   "source": [
    "df8.shape"
   ]
  },
  {
   "cell_type": "code",
   "execution_count": 56,
   "id": "12a67648",
   "metadata": {},
   "outputs": [
    {
     "data": {
      "image/png": "[encoded data removed]",
      "text/plain": [
       "<Figure size 432x288 with 1 Axes>"
      ]
     },
     "metadata": {
      "needs_background": "light"
     },
     "output_type": "display_data"
    }
   ],
   "source": [
    "plt.hist(df8.price_per_sqft,bins=20,rwidth=0.8,density=True)\n",
    "rng=np.arange(df8.price_per_sqft.min(),df8.price_per_sqft.max(),0.1)\n",
    "plt.plot(rng,norm.pdf(rng,df8.price_per_sqft.mean(),df8.price_per_sqft.std()))\n",
    "plt.ylabel('count')\n",
    "plt.xlabel('price_per_sqft')\n",
    "plt.show()"
   ]
  },
  {
   "cell_type": "markdown",
   "id": "db03d3ff",
   "metadata": {},
   "source": [
    "## using Z- score"
   ]
  },
  {
   "cell_type": "markdown",
   "id": "023571d7",
   "metadata": {},
   "source": [
    "Z= (x-mean)/std"
   ]
  },
  {
   "cell_type": "code",
   "execution_count": 57,
   "id": "869993f6",
   "metadata": {},
   "outputs": [
    {
     "name": "stderr",
     "output_type": "stream",
     "text": [
      "<ipython-input-57-0a70b86e4fca>:1: SettingWithCopyWarning: \n",
      "A value is trying to be set on a copy of a slice from a DataFrame.\n",
      "Try using .loc[row_indexer,col_indexer] = value instead\n",
      "\n",
      "See the caveats in the documentation: https://pandas.pydata.org/pandas-docs/stable/user_guide/indexing.html#returning-a-view-versus-a-copy\n",
      "  df8['z_score']=(df8.price_per_sqft-df8.price_per_sqft.mean())/df8.price_per_sqft.std()\n"
     ]
    }
   ],
   "source": [
    "df8['z_score']=(df8.price_per_sqft-df8.price_per_sqft.mean())/df8.price_per_sqft.std()"
   ]
  },
  {
   "cell_type": "code",
   "execution_count": 58,
   "id": "58a0ef31",
   "metadata": {},
   "outputs": [
    {
     "data": {
      "text/html": [
       "<div>\n",
       "<style scoped>\n",
       "    .dataframe tbody tr th:only-of-type {\n",
       "        vertical-align: middle;\n",
       "    }\n",
       "\n",
       "    .dataframe tbody tr th {\n",
       "        vertical-align: top;\n",
       "    }\n",
       "\n",
       "    .dataframe thead th {\n",
       "        text-align: right;\n",
       "    }\n",
       "</style>\n",
       "<table border=\"1\" class=\"dataframe\">\n",
       "  <thead>\n",
       "    <tr style=\"text-align: right;\">\n",
       "      <th></th>\n",
       "      <th>area_type</th>\n",
       "      <th>availability</th>\n",
       "      <th>location</th>\n",
       "      <th>society</th>\n",
       "      <th>total_sqft</th>\n",
       "      <th>bath</th>\n",
       "      <th>balcony</th>\n",
       "      <th>price</th>\n",
       "      <th>bhk</th>\n",
       "      <th>price_per_sqft</th>\n",
       "      <th>z_score</th>\n",
       "    </tr>\n",
       "  </thead>\n",
       "  <tbody>\n",
       "    <tr>\n",
       "      <th>0</th>\n",
       "      <td>Super built-up  Area</td>\n",
       "      <td>19-Dec</td>\n",
       "      <td>Electronic City Phase II</td>\n",
       "      <td>Coomee</td>\n",
       "      <td>1056.0</td>\n",
       "      <td>2</td>\n",
       "      <td>1</td>\n",
       "      <td>39.07</td>\n",
       "      <td>2</td>\n",
       "      <td>3699.81</td>\n",
       "      <td>-0.942425</td>\n",
       "    </tr>\n",
       "    <tr>\n",
       "      <th>1</th>\n",
       "      <td>Plot  Area</td>\n",
       "      <td>Ready To Move</td>\n",
       "      <td>Chikka Tirupathi</td>\n",
       "      <td>Theanmp</td>\n",
       "      <td>2600.0</td>\n",
       "      <td>5</td>\n",
       "      <td>3</td>\n",
       "      <td>120.00</td>\n",
       "      <td>4</td>\n",
       "      <td>4615.38</td>\n",
       "      <td>-0.534241</td>\n",
       "    </tr>\n",
       "    <tr>\n",
       "      <th>2</th>\n",
       "      <td>Built-up  Area</td>\n",
       "      <td>Ready To Move</td>\n",
       "      <td>Uttarahalli</td>\n",
       "      <td>unknown</td>\n",
       "      <td>1440.0</td>\n",
       "      <td>2</td>\n",
       "      <td>3</td>\n",
       "      <td>62.00</td>\n",
       "      <td>3</td>\n",
       "      <td>4305.56</td>\n",
       "      <td>-0.672367</td>\n",
       "    </tr>\n",
       "    <tr>\n",
       "      <th>3</th>\n",
       "      <td>Super built-up  Area</td>\n",
       "      <td>Ready To Move</td>\n",
       "      <td>Lingadheeranahalli</td>\n",
       "      <td>Soiewre</td>\n",
       "      <td>1521.0</td>\n",
       "      <td>3</td>\n",
       "      <td>1</td>\n",
       "      <td>95.00</td>\n",
       "      <td>3</td>\n",
       "      <td>6245.89</td>\n",
       "      <td>0.192680</td>\n",
       "    </tr>\n",
       "    <tr>\n",
       "      <th>4</th>\n",
       "      <td>Super built-up  Area</td>\n",
       "      <td>Ready To Move</td>\n",
       "      <td>Kothanur</td>\n",
       "      <td>unknown</td>\n",
       "      <td>1200.0</td>\n",
       "      <td>2</td>\n",
       "      <td>1</td>\n",
       "      <td>51.00</td>\n",
       "      <td>2</td>\n",
       "      <td>4250.00</td>\n",
       "      <td>-0.697137</td>\n",
       "    </tr>\n",
       "  </tbody>\n",
       "</table>\n",
       "</div>"
      ],
      "text/plain": [
       "              area_type   availability                  location  society  \\\n",
       "0  Super built-up  Area         19-Dec  Electronic City Phase II  Coomee    \n",
       "1            Plot  Area  Ready To Move          Chikka Tirupathi  Theanmp   \n",
       "2        Built-up  Area  Ready To Move               Uttarahalli  unknown   \n",
       "3  Super built-up  Area  Ready To Move        Lingadheeranahalli  Soiewre   \n",
       "4  Super built-up  Area  Ready To Move                  Kothanur  unknown   \n",
       "\n",
       "   total_sqft  bath  balcony   price  bhk  price_per_sqft   z_score  \n",
       "0      1056.0     2        1   39.07    2         3699.81 -0.942425  \n",
       "1      2600.0     5        3  120.00    4         4615.38 -0.534241  \n",
       "2      1440.0     2        3   62.00    3         4305.56 -0.672367  \n",
       "3      1521.0     3        1   95.00    3         6245.89  0.192680  \n",
       "4      1200.0     2        1   51.00    2         4250.00 -0.697137  "
      ]
     },
     "execution_count": 58,
     "metadata": {},
     "output_type": "execute_result"
    }
   ],
   "source": [
    "df8.head()"
   ]
  },
  {
   "cell_type": "code",
   "execution_count": 73,
   "id": "bc11fb85",
   "metadata": {},
   "outputs": [],
   "source": [
    "df9=df8[df8.z_score<2.5]"
   ]
  },
  {
   "cell_type": "code",
   "execution_count": 74,
   "id": "0aa254d9",
   "metadata": {},
   "outputs": [
    {
     "data": {
      "text/plain": [
       "(11800, 11)"
      ]
     },
     "execution_count": 74,
     "metadata": {},
     "output_type": "execute_result"
    }
   ],
   "source": [
    "df9.shape"
   ]
  },
  {
   "cell_type": "code",
   "execution_count": 75,
   "id": "8e7a2f10",
   "metadata": {},
   "outputs": [
    {
     "data": {
      "image/png": "[encoded data removed]",
      "text/plain": [
       "<Figure size 432x288 with 1 Axes>"
      ]
     },
     "metadata": {
      "needs_background": "light"
     },
     "output_type": "display_data"
    }
   ],
   "source": [
    "plt.hist(df9.price_per_sqft,bins=20,rwidth=0.8,density=True)\n",
    "rng=np.arange(df9.price_per_sqft.min(),df9.price_per_sqft.max(),0.1)\n",
    "plt.plot(rng,norm.pdf(rng,df9.price_per_sqft.mean(),df9.price_per_sqft.std()))\n",
    "plt.ylabel('count')\n",
    "plt.xlabel('price_per_sqft')\n",
    "plt.show()"
   ]
  },
  {
   "cell_type": "markdown",
   "id": "63195d26",
   "metadata": {},
   "source": [
    "### Using IQR"
   ]
  },
  {
   "cell_type": "markdown",
   "id": "284052b1",
   "metadata": {},
   "source": [
    "|data          | min    |      Q1    |   Q2     |    Q3   |       max  |\n",
    "|--------------|--------|------------|----------|---------|------------|\n",
    "|percentile    |0th     |     25th   |  50th    |  75th   |     100th  |"
   ]
  },
  {
   "cell_type": "markdown",
   "id": "1acdf26d",
   "metadata": {},
   "source": [
    "IQR = Q3 - Q1\n",
    "\n",
    "lower_limit = Q1 - 1.5 * IQR\n",
    "\n",
    "upper_limit = Q3 + 1.5 * IQR"
   ]
  },
  {
   "cell_type": "code",
   "execution_count": 76,
   "id": "52637c57",
   "metadata": {},
   "outputs": [
    {
     "data": {
      "text/plain": [
       "2396.6675000000005"
      ]
     },
     "execution_count": 76,
     "metadata": {},
     "output_type": "execute_result"
    }
   ],
   "source": [
    "Q1,Q3=df9.price_per_sqft.quantile([0.25,0.75])\n",
    "IQR =Q3-Q1\n",
    "IQR"
   ]
  },
  {
   "cell_type": "code",
   "execution_count": 77,
   "id": "c1f99c95",
   "metadata": {},
   "outputs": [
    {
     "data": {
      "text/plain": [
       "(594.0112499999991, 10180.681250000001)"
      ]
     },
     "execution_count": 77,
     "metadata": {},
     "output_type": "execute_result"
    }
   ],
   "source": [
    "lower_limit = Q1 - 1.5*IQR\n",
    "upper_limit = Q3 + 1.5*IQR\n",
    "lower_limit,upper_limit"
   ]
  },
  {
   "cell_type": "code",
   "execution_count": 78,
   "id": "9b0a2308",
   "metadata": {},
   "outputs": [],
   "source": [
    "df10=df9[(df9.price_per_sqft>lower_limit) & (df9.price_per_sqft<upper_limit)]"
   ]
  },
  {
   "cell_type": "code",
   "execution_count": 79,
   "id": "b9c348dc",
   "metadata": {},
   "outputs": [
    {
     "data": {
      "text/plain": [
       "342"
      ]
     },
     "execution_count": 79,
     "metadata": {},
     "output_type": "execute_result"
    }
   ],
   "source": [
    "df9.shape[0]-df10.shape[0]"
   ]
  },
  {
   "cell_type": "code",
   "execution_count": 80,
   "id": "0dac733a",
   "metadata": {},
   "outputs": [
    {
     "data": {
      "image/png": "[encoded data removed]",
      "text/plain": [
       "<Figure size 432x288 with 1 Axes>"
      ]
     },
     "metadata": {
      "needs_background": "light"
     },
     "output_type": "display_data"
    }
   ],
   "source": [
    "plt.hist(df10.price_per_sqft,bins=20,rwidth=0.8,density=True)\n",
    "rng=np.arange(df10.price_per_sqft.min(),df10.price_per_sqft.max(),0.1)\n",
    "plt.plot(rng,norm.pdf(rng,df10.price_per_sqft.mean(),df10.price_per_sqft.std()))\n",
    "plt.ylabel('count')\n",
    "plt.xlabel('price_per_sqft')\n",
    "plt.show()"
   ]
  },
  {
   "cell_type": "code",
   "execution_count": null,
   "id": "885f2725",
   "metadata": {},
   "outputs": [],
   "source": []
  }
 ],
 "metadata": {
  "kernelspec": {
   "display_name": "Python 3",
   "language": "python",
   "name": "python3"
  },
  "language_info": {
   "codemirror_mode": {
    "name": "ipython",
    "version": 3
   },
   "file_extension": ".py",
   "mimetype": "text/x-python",
   "name": "python",
   "nbconvert_exporter": "python",
   "pygments_lexer": "ipython3",
   "version": "3.8.8"
  }
 },
 "nbformat": 4,
 "nbformat_minor": 5
}
