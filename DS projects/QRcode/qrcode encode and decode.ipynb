{
 "cells": [
  {
   "cell_type": "code",
   "execution_count": 39,
   "id": "6e465ddc",
   "metadata": {},
   "outputs": [],
   "source": [
    "import qrcode"
   ]
  },
  {
   "cell_type": "code",
   "execution_count": 40,
   "id": "53486005",
   "metadata": {},
   "outputs": [
    {
     "data": {
      "text/plain": [
       "qrcode.image.pil.PilImage"
      ]
     },
     "execution_count": 40,
     "metadata": {},
     "output_type": "execute_result"
    }
   ],
   "source": [
    "img = qrcode.make('Hello it is a qrcode')\n",
    "type(img)"
   ]
  },
  {
   "cell_type": "code",
   "execution_count": 41,
   "id": "7067d1ef",
   "metadata": {},
   "outputs": [],
   "source": [
    "img.save(\"1stqrcode.png\")"
   ]
  },
  {
   "cell_type": "code",
   "execution_count": 42,
   "id": "526e8d7d",
   "metadata": {},
   "outputs": [
    {
     "data": {
      "image/png": "[encoded data removed]",
      "text/plain": [
       "<qrcode.image.pil.PilImage at 0x2a29ac769a0>"
      ]
     },
     "execution_count": 42,
     "metadata": {},
     "output_type": "execute_result"
    }
   ],
   "source": [
    "img"
   ]
  },
  {
   "cell_type": "markdown",
   "id": "504d77c8",
   "metadata": {},
   "source": [
    "#### another way"
   ]
  },
  {
   "cell_type": "code",
   "execution_count": 57,
   "id": "8fb1d86e",
   "metadata": {},
   "outputs": [
    {
     "data": {
      "image/png": "[encoded data removed]",
      "text/plain": [
       "<qrcode.image.pil.PilImage at 0x2a29b2ed610>"
      ]
     },
     "execution_count": 57,
     "metadata": {},
     "output_type": "execute_result"
    }
   ],
   "source": [
    "qr = qrcode.QRCode(\n",
    "    version=1,  # 1-40 sontrol size\n",
    "    error_correction=qrcode.constants.ERROR_CORRECT_L,  # error_correction  _L,_M,_Q,_H =7,15(default),25,30 %\n",
    "    box_size=10,\n",
    "    border=4,\n",
    ")\n",
    "qr.add_data('Hello it is a qrcode 2')\n",
    "qr.make(fit=True)\n",
    "\n",
    "img2 = qr.make_image(fill_color=\"black\", back_color=\"white\")\n",
    "img2"
   ]
  },
  {
   "cell_type": "code",
   "execution_count": 44,
   "id": "341d6659",
   "metadata": {},
   "outputs": [],
   "source": [
    "import cv2\n",
    "import numpy as np"
   ]
  },
  {
   "cell_type": "code",
   "execution_count": 45,
   "id": "2d640b1f",
   "metadata": {},
   "outputs": [],
   "source": [
    "detector = cv2.QRCodeDetector()"
   ]
  },
  {
   "cell_type": "code",
   "execution_count": 48,
   "id": "ada4fa40",
   "metadata": {},
   "outputs": [
    {
     "data": {
      "text/plain": [
       "'Hello it is a qrcode'"
      ]
     },
     "execution_count": 48,
     "metadata": {},
     "output_type": "execute_result"
    }
   ],
   "source": [
    "data, bbox,straight_qrcode = detector.detectAndDecode(cv2.imread('1stqrcode.png'))\n",
    "data"
   ]
  },
  {
   "cell_type": "code",
   "execution_count": 49,
   "id": "78e655b4",
   "metadata": {},
   "outputs": [
    {
     "data": {
      "text/plain": [
       "array([[[ 40.     ,  40.     ]],\n",
       "\n",
       "       [[288.99997,  40.     ]],\n",
       "\n",
       "       [[288.99997, 288.99997]],\n",
       "\n",
       "       [[ 40.     , 288.99997]]], dtype=float32)"
      ]
     },
     "execution_count": 49,
     "metadata": {},
     "output_type": "execute_result"
    }
   ],
   "source": [
    "bbox"
   ]
  },
  {
   "cell_type": "code",
   "execution_count": 50,
   "id": "13ccf085",
   "metadata": {},
   "outputs": [
    {
     "data": {
      "text/plain": [
       "array([[  0.,   0.,   0.,   0.,   0.,   0.,   0., 255., 255., 255.,   0.,\n",
       "        255., 255.,   0., 255., 255.,   0., 255.,   0.,   0.,   0.,   0.,\n",
       "          0.,   0.,   0.],\n",
       "       [  0., 255., 255., 255., 255., 255.,   0., 255., 255., 255.,   0.,\n",
       "        255.,   0.,   0.,   0.,   0.,   0., 255.,   0., 255., 255., 255.,\n",
       "        255., 255.,   0.],\n",
       "       [  0., 255.,   0.,   0.,   0., 255.,   0., 255.,   0., 255., 255.,\n",
       "        255., 255., 255.,   0., 255., 255., 255.,   0., 255.,   0.,   0.,\n",
       "          0., 255.,   0.],\n",
       "       [  0., 255.,   0.,   0.,   0., 255.,   0., 255.,   0.,   0.,   0.,\n",
       "        255.,   0.,   0.,   0.,   0., 255., 255.,   0., 255.,   0.,   0.,\n",
       "          0., 255.,   0.],\n",
       "       [  0., 255.,   0.,   0.,   0., 255.,   0., 255.,   0.,   0., 255.,\n",
       "        255., 255., 255., 255., 255.,   0., 255.,   0., 255.,   0.,   0.,\n",
       "          0., 255.,   0.],\n",
       "       [  0., 255., 255., 255., 255., 255.,   0., 255.,   0., 255., 255.,\n",
       "        255.,   0., 255.,   0.,   0., 255., 255.,   0., 255., 255., 255.,\n",
       "        255., 255.,   0.],\n",
       "       [  0.,   0.,   0.,   0.,   0.,   0.,   0., 255.,   0., 255.,   0.,\n",
       "        255.,   0., 255.,   0., 255.,   0., 255.,   0.,   0.,   0.,   0.,\n",
       "          0.,   0.,   0.],\n",
       "       [255., 255., 255., 255., 255., 255., 255., 255.,   0., 255.,   0.,\n",
       "        255.,   0., 255., 255., 255., 255., 255., 255., 255., 255., 255.,\n",
       "        255., 255., 255.],\n",
       "       [  0., 255.,   0.,   0.,   0.,   0.,   0., 255., 255.,   0.,   0.,\n",
       "        255., 255.,   0.,   0.,   0.,   0., 255.,   0.,   0.,   0.,   0.,\n",
       "          0., 255., 255.],\n",
       "       [255., 255.,   0.,   0.,   0.,   0., 255.,   0., 255.,   0., 255.,\n",
       "        255.,   0., 255., 255., 255.,   0., 255., 255.,   0., 255., 255.,\n",
       "          0., 255., 255.],\n",
       "       [255.,   0.,   0., 255., 255.,   0.,   0.,   0., 255.,   0., 255.,\n",
       "        255., 255., 255.,   0.,   0.,   0., 255., 255., 255., 255.,   0.,\n",
       "        255.,   0.,   0.],\n",
       "       [255., 255.,   0., 255., 255., 255., 255.,   0., 255., 255.,   0.,\n",
       "          0.,   0., 255.,   0.,   0., 255.,   0.,   0., 255., 255., 255.,\n",
       "        255.,   0.,   0.],\n",
       "       [  0.,   0.,   0., 255., 255., 255.,   0., 255., 255., 255.,   0.,\n",
       "        255., 255., 255., 255.,   0.,   0.,   0.,   0., 255.,   0.,   0.,\n",
       "          0.,   0.,   0.],\n",
       "       [  0.,   0., 255.,   0., 255., 255., 255., 255.,   0.,   0.,   0.,\n",
       "        255.,   0.,   0., 255., 255.,   0.,   0., 255., 255., 255., 255.,\n",
       "          0., 255., 255.],\n",
       "       [  0., 255.,   0.,   0.,   0., 255.,   0., 255.,   0.,   0.,   0.,\n",
       "        255., 255.,   0.,   0.,   0., 255., 255.,   0., 255., 255.,   0.,\n",
       "        255.,   0.,   0.],\n",
       "       [  0., 255., 255., 255., 255.,   0., 255., 255.,   0.,   0., 255.,\n",
       "        255.,   0.,   0., 255.,   0., 255.,   0., 255.,   0., 255., 255.,\n",
       "        255., 255.,   0.],\n",
       "       [  0., 255., 255., 255.,   0., 255.,   0., 255., 255.,   0., 255.,\n",
       "        255.,   0., 255.,   0.,   0.,   0.,   0.,   0.,   0.,   0.,   0.,\n",
       "          0., 255., 255.],\n",
       "       [255., 255., 255., 255., 255., 255., 255., 255.,   0.,   0.,   0.,\n",
       "        255., 255., 255., 255.,   0.,   0., 255., 255., 255.,   0., 255.,\n",
       "          0., 255.,   0.],\n",
       "       [  0.,   0.,   0.,   0.,   0.,   0.,   0., 255., 255., 255., 255.,\n",
       "          0.,   0., 255., 255., 255.,   0., 255.,   0., 255.,   0., 255.,\n",
       "          0.,   0.,   0.],\n",
       "       [  0., 255., 255., 255., 255., 255.,   0., 255.,   0., 255., 255.,\n",
       "          0., 255., 255.,   0.,   0.,   0., 255., 255., 255.,   0.,   0.,\n",
       "        255., 255.,   0.],\n",
       "       [  0., 255.,   0.,   0.,   0., 255.,   0., 255.,   0.,   0., 255.,\n",
       "          0., 255., 255., 255.,   0.,   0.,   0.,   0.,   0.,   0.,   0.,\n",
       "          0.,   0.,   0.],\n",
       "       [  0., 255.,   0.,   0.,   0., 255.,   0., 255.,   0.,   0., 255.,\n",
       "        255.,   0.,   0.,   0., 255., 255., 255.,   0.,   0.,   0.,   0.,\n",
       "        255.,   0.,   0.],\n",
       "       [  0., 255.,   0.,   0.,   0., 255.,   0., 255.,   0.,   0.,   0.,\n",
       "        255., 255.,   0.,   0.,   0., 255., 255., 255.,   0., 255.,   0.,\n",
       "        255., 255.,   0.],\n",
       "       [  0., 255., 255., 255., 255., 255.,   0., 255., 255., 255.,   0.,\n",
       "        255.,   0.,   0., 255.,   0.,   0., 255.,   0.,   0., 255., 255.,\n",
       "        255., 255.,   0.],\n",
       "       [  0.,   0.,   0.,   0.,   0.,   0.,   0., 255.,   0., 255., 255.,\n",
       "        255.,   0., 255.,   0., 255., 255., 255.,   0., 255.,   0.,   0.,\n",
       "          0.,   0.,   0.]], dtype=float32)"
      ]
     },
     "execution_count": 50,
     "metadata": {},
     "output_type": "execute_result"
    }
   ],
   "source": [
    "straight_qrcode"
   ]
  },
  {
   "cell_type": "markdown",
   "id": "5ea6fbf1",
   "metadata": {},
   "source": [
    "qrcode 2"
   ]
  },
  {
   "cell_type": "code",
   "execution_count": 58,
   "id": "3ba1f2bd",
   "metadata": {},
   "outputs": [
    {
     "data": {
      "text/plain": [
       "array([[1, 1, 1, ..., 1, 1, 1],\n",
       "       [1, 1, 1, ..., 1, 1, 1],\n",
       "       [1, 1, 1, ..., 1, 1, 1],\n",
       "       ...,\n",
       "       [1, 1, 1, ..., 1, 1, 1],\n",
       "       [1, 1, 1, ..., 1, 1, 1],\n",
       "       [1, 1, 1, ..., 1, 1, 1]], dtype=uint8)"
      ]
     },
     "execution_count": 58,
     "metadata": {},
     "output_type": "execute_result"
    }
   ],
   "source": [
    "arr=np.array(img2,dtype=np.uint8)\n",
    "arr"
   ]
  },
  {
   "cell_type": "code",
   "execution_count": 59,
   "id": "750a1b66",
   "metadata": {},
   "outputs": [],
   "source": [
    "arr[arr==1]=255"
   ]
  },
  {
   "cell_type": "code",
   "execution_count": 60,
   "id": "344a36d0",
   "metadata": {},
   "outputs": [
    {
     "data": {
      "text/plain": [
       "array([[255, 255, 255, ..., 255, 255, 255],\n",
       "       [255, 255, 255, ..., 255, 255, 255],\n",
       "       [255, 255, 255, ..., 255, 255, 255],\n",
       "       ...,\n",
       "       [255, 255, 255, ..., 255, 255, 255],\n",
       "       [255, 255, 255, ..., 255, 255, 255],\n",
       "       [255, 255, 255, ..., 255, 255, 255]], dtype=uint8)"
      ]
     },
     "execution_count": 60,
     "metadata": {},
     "output_type": "execute_result"
    }
   ],
   "source": [
    "arr"
   ]
  },
  {
   "cell_type": "code",
   "execution_count": 61,
   "id": "88c2800d",
   "metadata": {},
   "outputs": [
    {
     "data": {
      "text/plain": [
       "'Hello it is a qrcode 2'"
      ]
     },
     "execution_count": 61,
     "metadata": {},
     "output_type": "execute_result"
    }
   ],
   "source": [
    "data2, bbox2,straight_qrcode2 = detector.detectAndDecode(arr)\n",
    "data2"
   ]
  },
  {
   "cell_type": "code",
   "execution_count": null,
   "id": "3c43a62a",
   "metadata": {},
   "outputs": [],
   "source": []
  }
 ],
 "metadata": {
  "kernelspec": {
   "display_name": "Python 3",
   "language": "python",
   "name": "python3"
  },
  "language_info": {
   "codemirror_mode": {
    "name": "ipython",
    "version": 3
   },
   "file_extension": ".py",
   "mimetype": "text/x-python",
   "name": "python",
   "nbconvert_exporter": "python",
   "pygments_lexer": "ipython3",
   "version": "3.8.8"
  }
 },
 "nbformat": 4,
 "nbformat_minor": 5
}
