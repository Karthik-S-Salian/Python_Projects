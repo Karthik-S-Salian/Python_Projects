{
 "cells": [
  {
   "cell_type": "code",
   "execution_count": 2,
   "id": "0b29a61a",
   "metadata": {},
   "outputs": [],
   "source": [
    "import pandas as pd\n",
    "import numpy as np\n",
    "from matplotlib import pyplot as plt\n",
    "%matplotlib inline\n",
    "import matplotlib\n",
    "matplotlib.rcParams[\"figure.figsize\"]=(20,10)\n",
    "import re\n",
    "from sklearn.linear_model import Lasso,Ridge\n",
    "from sklearn.ensemble import GradientBoostingRegressor,RandomForestRegressor\n",
    "from sklearn.tree import DecisionTreeRegressor\n",
    "from sklearn.neighbors import KNeighborsRegressor\n",
    "from sklearn.svm import SVR\n",
    "from sklearn.model_selection import ShuffleSplit\n",
    "from sklearn.model_selection import cross_val_score\n",
    "from sklearn.linear_model import LinearRegression\n",
    "from sklearn.model_selection import train_test_split\n",
    "import seaborn as sns"
   ]
  },
  {
   "cell_type": "code",
   "execution_count": 3,
   "id": "4227012c",
   "metadata": {},
   "outputs": [
    {
     "data": {
      "text/html": [
       "<div>\n",
       "<style scoped>\n",
       "    .dataframe tbody tr th:only-of-type {\n",
       "        vertical-align: middle;\n",
       "    }\n",
       "\n",
       "    .dataframe tbody tr th {\n",
       "        vertical-align: top;\n",
       "    }\n",
       "\n",
       "    .dataframe thead th {\n",
       "        text-align: right;\n",
       "    }\n",
       "</style>\n",
       "<table border=\"1\" class=\"dataframe\">\n",
       "  <thead>\n",
       "    <tr style=\"text-align: right;\">\n",
       "      <th></th>\n",
       "      <th>area_type</th>\n",
       "      <th>availability</th>\n",
       "      <th>location</th>\n",
       "      <th>size</th>\n",
       "      <th>society</th>\n",
       "      <th>total_sqft</th>\n",
       "      <th>bath</th>\n",
       "      <th>balcony</th>\n",
       "      <th>price</th>\n",
       "    </tr>\n",
       "  </thead>\n",
       "  <tbody>\n",
       "    <tr>\n",
       "      <th>0</th>\n",
       "      <td>Super built-up  Area</td>\n",
       "      <td>19-Dec</td>\n",
       "      <td>Electronic City Phase II</td>\n",
       "      <td>2 BHK</td>\n",
       "      <td>Coomee</td>\n",
       "      <td>1056</td>\n",
       "      <td>2.0</td>\n",
       "      <td>1.0</td>\n",
       "      <td>39.07</td>\n",
       "    </tr>\n",
       "    <tr>\n",
       "      <th>1</th>\n",
       "      <td>Plot  Area</td>\n",
       "      <td>Ready To Move</td>\n",
       "      <td>Chikka Tirupathi</td>\n",
       "      <td>4 Bedroom</td>\n",
       "      <td>Theanmp</td>\n",
       "      <td>2600</td>\n",
       "      <td>5.0</td>\n",
       "      <td>3.0</td>\n",
       "      <td>120.00</td>\n",
       "    </tr>\n",
       "    <tr>\n",
       "      <th>2</th>\n",
       "      <td>Built-up  Area</td>\n",
       "      <td>Ready To Move</td>\n",
       "      <td>Uttarahalli</td>\n",
       "      <td>3 BHK</td>\n",
       "      <td>NaN</td>\n",
       "      <td>1440</td>\n",
       "      <td>2.0</td>\n",
       "      <td>3.0</td>\n",
       "      <td>62.00</td>\n",
       "    </tr>\n",
       "    <tr>\n",
       "      <th>3</th>\n",
       "      <td>Super built-up  Area</td>\n",
       "      <td>Ready To Move</td>\n",
       "      <td>Lingadheeranahalli</td>\n",
       "      <td>3 BHK</td>\n",
       "      <td>Soiewre</td>\n",
       "      <td>1521</td>\n",
       "      <td>3.0</td>\n",
       "      <td>1.0</td>\n",
       "      <td>95.00</td>\n",
       "    </tr>\n",
       "    <tr>\n",
       "      <th>4</th>\n",
       "      <td>Super built-up  Area</td>\n",
       "      <td>Ready To Move</td>\n",
       "      <td>Kothanur</td>\n",
       "      <td>2 BHK</td>\n",
       "      <td>NaN</td>\n",
       "      <td>1200</td>\n",
       "      <td>2.0</td>\n",
       "      <td>1.0</td>\n",
       "      <td>51.00</td>\n",
       "    </tr>\n",
       "  </tbody>\n",
       "</table>\n",
       "</div>"
      ],
      "text/plain": [
       "              area_type   availability                  location       size  \\\n",
       "0  Super built-up  Area         19-Dec  Electronic City Phase II      2 BHK   \n",
       "1            Plot  Area  Ready To Move          Chikka Tirupathi  4 Bedroom   \n",
       "2        Built-up  Area  Ready To Move               Uttarahalli      3 BHK   \n",
       "3  Super built-up  Area  Ready To Move        Lingadheeranahalli      3 BHK   \n",
       "4  Super built-up  Area  Ready To Move                  Kothanur      2 BHK   \n",
       "\n",
       "   society total_sqft  bath  balcony   price  \n",
       "0  Coomee        1056   2.0      1.0   39.07  \n",
       "1  Theanmp       2600   5.0      3.0  120.00  \n",
       "2      NaN       1440   2.0      3.0   62.00  \n",
       "3  Soiewre       1521   3.0      1.0   95.00  \n",
       "4      NaN       1200   2.0      1.0   51.00  "
      ]
     },
     "execution_count": 3,
     "metadata": {},
     "output_type": "execute_result"
    }
   ],
   "source": [
    "df=pd.read_csv(\"Bengaluru_House_Data.csv\")\n",
    "df.head()"
   ]
  },
  {
   "cell_type": "code",
   "execution_count": 4,
   "id": "0dab713c",
   "metadata": {},
   "outputs": [
    {
     "name": "stdout",
     "output_type": "stream",
     "text": [
      "<class 'pandas.core.frame.DataFrame'>\n",
      "RangeIndex: 13320 entries, 0 to 13319\n",
      "Data columns (total 9 columns):\n",
      " #   Column        Non-Null Count  Dtype  \n",
      "---  ------        --------------  -----  \n",
      " 0   area_type     13320 non-null  object \n",
      " 1   availability  13320 non-null  object \n",
      " 2   location      13319 non-null  object \n",
      " 3   size          13304 non-null  object \n",
      " 4   society       7818 non-null   object \n",
      " 5   total_sqft    13320 non-null  object \n",
      " 6   bath          13247 non-null  float64\n",
      " 7   balcony       12711 non-null  float64\n",
      " 8   price         13320 non-null  float64\n",
      "dtypes: float64(3), object(6)\n",
      "memory usage: 936.7+ KB\n"
     ]
    }
   ],
   "source": [
    "df.info()"
   ]
  },
  {
   "cell_type": "code",
   "execution_count": 5,
   "id": "f6e58375",
   "metadata": {},
   "outputs": [
    {
     "data": {
      "text/plain": [
       "<AxesSubplot:xlabel='count', ylabel='area_type'>"
      ]
     },
     "execution_count": 5,
     "metadata": {},
     "output_type": "execute_result"
    },
    {
     "data": {
      "image/png": "[encoded data removed]",
      "text/plain": [
       "<Figure size 864x288 with 1 Axes>"
      ]
     },
     "metadata": {
      "needs_background": "light"
     },
     "output_type": "display_data"
    }
   ],
   "source": [
    "plt.figure(figsize=(12,4))\n",
    "df.groupby('area_type')['area_type'].count()  #agg('count')\n",
    "sns.countplot(y=df['area_type'])"
   ]
  },
  {
   "cell_type": "code",
   "execution_count": 6,
   "id": "ab2d65d6",
   "metadata": {
    "scrolled": false
   },
   "outputs": [
    {
     "data": {
      "text/plain": [
       "<AxesSubplot:xlabel='area_type', ylabel='price'>"
      ]
     },
     "execution_count": 6,
     "metadata": {},
     "output_type": "execute_result"
    },
    {
     "data": {
      "image/png": "[encoded data removed]",
      "text/plain": [
       "<Figure size 864x432 with 1 Axes>"
      ]
     },
     "metadata": {
      "needs_background": "light"
     },
     "output_type": "display_data"
    }
   ],
   "source": [
    "plt.figure(figsize=(12,6))\n",
    "sns.boxplot(x='area_type',y=\"price\",data=df)"
   ]
  },
  {
   "cell_type": "code",
   "execution_count": 7,
   "id": "5c49b0d8",
   "metadata": {},
   "outputs": [
    {
     "data": {
      "text/plain": [
       "(array(['Coomee ', 'Theanmp', nan, ..., 'SJovest', 'ThhtsV ', 'RSntsAp'],\n",
       "       dtype=object),\n",
       " 2688)"
      ]
     },
     "execution_count": 7,
     "metadata": {},
     "output_type": "execute_result"
    }
   ],
   "source": [
    "df.society.unique(),df.society.nunique()"
   ]
  },
  {
   "cell_type": "code",
   "execution_count": 8,
   "id": "df291256",
   "metadata": {},
   "outputs": [
    {
     "data": {
      "text/plain": [
       "(array(['Electronic City Phase II', 'Chikka Tirupathi', 'Uttarahalli', ...,\n",
       "        '12th cross srinivas nagar banshankari 3rd stage',\n",
       "        'Havanur extension', 'Abshot Layout'], dtype=object),\n",
       " 1305)"
      ]
     },
     "execution_count": 8,
     "metadata": {},
     "output_type": "execute_result"
    }
   ],
   "source": [
    "df.location.unique(),df.location.nunique()"
   ]
  },
  {
   "cell_type": "code",
   "execution_count": 9,
   "id": "64064a09",
   "metadata": {},
   "outputs": [
    {
     "data": {
      "text/html": [
       "<div>\n",
       "<style scoped>\n",
       "    .dataframe tbody tr th:only-of-type {\n",
       "        vertical-align: middle;\n",
       "    }\n",
       "\n",
       "    .dataframe tbody tr th {\n",
       "        vertical-align: top;\n",
       "    }\n",
       "\n",
       "    .dataframe thead th {\n",
       "        text-align: right;\n",
       "    }\n",
       "</style>\n",
       "<table border=\"1\" class=\"dataframe\">\n",
       "  <thead>\n",
       "    <tr style=\"text-align: right;\">\n",
       "      <th></th>\n",
       "      <th>location</th>\n",
       "      <th>size</th>\n",
       "      <th>total_sqft</th>\n",
       "      <th>bath</th>\n",
       "      <th>price</th>\n",
       "    </tr>\n",
       "  </thead>\n",
       "  <tbody>\n",
       "    <tr>\n",
       "      <th>8262</th>\n",
       "      <td>Kannamangala</td>\n",
       "      <td>3 BHK</td>\n",
       "      <td>1536</td>\n",
       "      <td>3.0</td>\n",
       "      <td>104.0</td>\n",
       "    </tr>\n",
       "    <tr>\n",
       "      <th>3735</th>\n",
       "      <td>EPIP Zone</td>\n",
       "      <td>3 BHK</td>\n",
       "      <td>1500</td>\n",
       "      <td>3.0</td>\n",
       "      <td>102.0</td>\n",
       "    </tr>\n",
       "    <tr>\n",
       "      <th>7677</th>\n",
       "      <td>Ramamurthy Nagar</td>\n",
       "      <td>3 BHK</td>\n",
       "      <td>1305</td>\n",
       "      <td>3.0</td>\n",
       "      <td>60.0</td>\n",
       "    </tr>\n",
       "    <tr>\n",
       "      <th>1870</th>\n",
       "      <td>Yelachenahalli</td>\n",
       "      <td>4 Bedroom</td>\n",
       "      <td>1800</td>\n",
       "      <td>3.0</td>\n",
       "      <td>220.0</td>\n",
       "    </tr>\n",
       "  </tbody>\n",
       "</table>\n",
       "</div>"
      ],
      "text/plain": [
       "              location       size total_sqft  bath  price\n",
       "8262      Kannamangala      3 BHK       1536   3.0  104.0\n",
       "3735         EPIP Zone      3 BHK       1500   3.0  102.0\n",
       "7677  Ramamurthy Nagar      3 BHK       1305   3.0   60.0\n",
       "1870    Yelachenahalli  4 Bedroom       1800   3.0  220.0"
      ]
     },
     "execution_count": 9,
     "metadata": {},
     "output_type": "execute_result"
    }
   ],
   "source": [
    "df1=df.drop([\"society\",\"area_type\",\"balcony\",\"availability\"],axis=1)\n",
    "df1.sample(4)"
   ]
  },
  {
   "cell_type": "code",
   "execution_count": 10,
   "id": "9898f83d",
   "metadata": {},
   "outputs": [
    {
     "data": {
      "text/plain": [
       "location       object\n",
       "size           object\n",
       "total_sqft     object\n",
       "bath          float64\n",
       "price         float64\n",
       "dtype: object"
      ]
     },
     "execution_count": 10,
     "metadata": {},
     "output_type": "execute_result"
    }
   ],
   "source": [
    "df1.dtypes"
   ]
  },
  {
   "cell_type": "code",
   "execution_count": 11,
   "id": "f94cba08",
   "metadata": {},
   "outputs": [
    {
     "data": {
      "text/plain": [
       "Index(['location', 'bhk', 'total_sqft', 'bath', 'price'], dtype='object')"
      ]
     },
     "execution_count": 11,
     "metadata": {},
     "output_type": "execute_result"
    }
   ],
   "source": [
    "cols=df1.columns.to_list()\n",
    "cols[cols.index(\"size\")]=\"bhk\"\n",
    "df1.columns=cols\n",
    "df1.columns"
   ]
  },
  {
   "cell_type": "code",
   "execution_count": 12,
   "id": "81f1e63b",
   "metadata": {},
   "outputs": [
    {
     "data": {
      "text/plain": [
       "location       1\n",
       "bhk           16\n",
       "total_sqft     0\n",
       "bath          73\n",
       "price          0\n",
       "dtype: int64"
      ]
     },
     "execution_count": 12,
     "metadata": {},
     "output_type": "execute_result"
    }
   ],
   "source": [
    "df1.isnull().sum()"
   ]
  },
  {
   "cell_type": "code",
   "execution_count": 13,
   "id": "cc997278",
   "metadata": {},
   "outputs": [],
   "source": [
    "df1.dropna(subset=['location','bhk'],inplace=True)"
   ]
  },
  {
   "cell_type": "code",
   "execution_count": 14,
   "id": "0bfaf285",
   "metadata": {},
   "outputs": [
    {
     "data": {
      "text/plain": [
       "array(['2 BHK', '4 Bedroom', '3 BHK', '4 BHK', '6 Bedroom', '3 Bedroom',\n",
       "       '1 BHK', '1 RK', '1 Bedroom', '8 Bedroom', '2 Bedroom',\n",
       "       '7 Bedroom', '5 BHK', '7 BHK', '6 BHK', '5 Bedroom', '11 BHK',\n",
       "       '9 BHK', '9 Bedroom', '27 BHK', '10 Bedroom', '11 Bedroom',\n",
       "       '10 BHK', '19 BHK', '16 BHK', '43 Bedroom', '14 BHK', '8 BHK',\n",
       "       '12 Bedroom', '13 BHK', '18 Bedroom'], dtype=object)"
      ]
     },
     "execution_count": 14,
     "metadata": {},
     "output_type": "execute_result"
    }
   ],
   "source": [
    "df1['bhk'].unique()"
   ]
  },
  {
   "cell_type": "code",
   "execution_count": 15,
   "id": "745b5951",
   "metadata": {},
   "outputs": [],
   "source": [
    "df1['bhk']=df1['bhk'].apply(lambda x: int(x.split(\" \")[0]))"
   ]
  },
  {
   "cell_type": "code",
   "execution_count": 16,
   "id": "37a8261b",
   "metadata": {},
   "outputs": [],
   "source": [
    "df1.bath.fillna(0,inplace=True)"
   ]
  },
  {
   "cell_type": "code",
   "execution_count": 17,
   "id": "8ab27644",
   "metadata": {
    "scrolled": false
   },
   "outputs": [
    {
     "data": {
      "text/plain": [
       "location      0\n",
       "bhk           0\n",
       "total_sqft    0\n",
       "bath          0\n",
       "price         0\n",
       "dtype: int64"
      ]
     },
     "execution_count": 17,
     "metadata": {},
     "output_type": "execute_result"
    }
   ],
   "source": [
    "df1.isnull().sum()"
   ]
  },
  {
   "cell_type": "code",
   "execution_count": 18,
   "id": "d4a13f7d",
   "metadata": {},
   "outputs": [],
   "source": [
    "df2=df1.copy()"
   ]
  },
  {
   "cell_type": "code",
   "execution_count": 19,
   "id": "6485d497",
   "metadata": {},
   "outputs": [
    {
     "data": {
      "text/plain": [
       "array(['2100 - 2850', '1330.74', '3010 - 3410', '2957 - 3450',\n",
       "       '3067 - 8156', '1042 - 1105', '1563.05', '1145 - 1340',\n",
       "       '1015 - 1540', '1520 - 1740', '2023.71', '1113.27',\n",
       "       '34.46Sq. Meter', '1752.12', '1195 - 1440', '4125Perch',\n",
       "       '1120 - 1145', '4400 - 6640', '3090 - 5002', '4400 - 6800',\n",
       "       '1160 - 1195', '1000Sq. Meter', '4000 - 5249', '1115 - 1130',\n",
       "       '1100Sq. Yards', '520 - 645', '1000 - 1285', '3606 - 5091',\n",
       "       '650 - 665', '633 - 666', '2112.95', '5.31Acres', '30Acres',\n",
       "       '1445 - 1455', '884 - 1116', '850 - 1093', '1440 - 1884',\n",
       "       '1558.67', '3467.86', '716Sq. Meter', '547.34 - 827.31', '804.1',\n",
       "       '580 - 650', '3425 - 3435', '1269.72', '1804 - 2273',\n",
       "       '3630 - 3800', '660 - 670', '1500Sq. Meter', '620 - 933',\n",
       "       '142.61Sq. Meter', '2695 - 2940', '1574Sq. Yards', '3450 - 3472',\n",
       "       '2479.13', '2172.65', '581.91', '1250 - 1305', '670 - 980',\n",
       "       '1005.03 - 1252.49', '1004 - 1204', '361.33Sq. Yards', '645 - 936',\n",
       "       '2710 - 3360', '1452.55', '2249.81 - 4112.19', '3436 - 3643',\n",
       "       '2830 - 2882', '596 - 804', '1776.42', '1255 - 1863',\n",
       "       '1300 - 1405', '117Sq. Yards', '934 - 1437', '980 - 1030',\n",
       "       '1564 - 1850', '1452.19', '1446 - 1506', '1419.59', '461.82',\n",
       "       '1070 - 1315', '3040Sq. Meter', '500Sq. Yards', '1020.07',\n",
       "       '2806 - 3019', '613 - 648', '1430 - 1630', '1451.5', '704 - 730',\n",
       "       '1584.01', '1205.47', '1482 - 1846', '1689.28', '2805 - 3565',\n",
       "       '1819.18', '3293 - 5314', '1210 - 1477', '3369 - 3464',\n",
       "       '1125 - 1500', '167Sq. Meter', '1076 - 1199', '381 - 535',\n",
       "       '1627.86', '2215 - 2475', '524 - 894', '1369.1', '1053.4',\n",
       "       '540 - 670', '315Sq. Yards', '1650 - 2538', '2725 - 3250',\n",
       "       '1732.46', '910.2', '1974 - 2171', '2006.8', '888 - 1290',\n",
       "       '1360 - 1890', '2466 - 2856', '660 - 700', '385 - 440',\n",
       "       '770 - 841', '3Cents', '1310 - 1615', '1113.12', '1782 - 2000',\n",
       "       '1548.3', '1525.84', '188.89Sq. Yards', '1469 - 1766',\n",
       "       '204Sq. Meter', '1255 - 1350', '870 - 1080', '45Sq. Yards',\n",
       "       '2777.29', '133.3Sq. Yards', '1554.3', '3405.1', '2580 - 2591',\n",
       "       '1652.5', '2563 - 2733', '605 - 624', '4260 - 4408', '1349 - 3324',\n",
       "       '78.03Sq. Meter', '1208.51', '3300 - 3335', '1180 - 1630',\n",
       "       '1660.4', '1365 - 1700', '3500 - 3600', '122Sq. Yards',\n",
       "       '84.53Sq. Meter', '2.09Acres', '1482 - 1684', '981 - 1249',\n",
       "       '1100 - 1225', '1565 - 1595', '24Guntha', '1270 - 1275',\n",
       "       '840 - 1010', '697Sq. Meter', '655 - 742', '1107.83',\n",
       "       '1408 - 1455', '4050 - 4075', '1266.67', '942 - 1117', '1777.26',\n",
       "       '1750 - 2640', '1390 - 1600', '598 - 958', '1500Cents', '1567.2',\n",
       "       '132Sq. Yards', '1691.2', '1010 - 1300', '2Acres', '3103 - 3890',\n",
       "       '1450 - 1950', '2274.24', '1100Sq. Meter', '947.55', '15Acres',\n",
       "       '3301.8', '1450 - 1595', '763 - 805', '3307 - 3464', '1.26Acres',\n",
       "       '620 - 934', '1542.14', '2144.6', '2462 - 2467', '540 - 740',\n",
       "       '1618 - 1929', '3508 - 4201', '4900 - 4940', '1610 - 1880',\n",
       "       '755 - 770', '1181.7', '664 - 722', '151.11Sq. Yards', '700 - 900',\n",
       "       '596 - 861', '1925 - 2680', '615 - 985', '540 - 565', '2087.01',\n",
       "       '750 - 800', '1660 - 1805', '1719.3', '1410 - 1710', '1079 - 1183',\n",
       "       '2800 - 2870', '1230 - 1290', '943 - 1220', '2041 - 2090',\n",
       "       '1234.6', '1763.25', '527 - 639', '2249.81', '1Grounds',\n",
       "       '1160 - 1315', '706 - 716', '2940Sq. Yards', '1791 - 4000',\n",
       "       '45.06Sq. Meter', '799 - 803', '2470 - 2790', '783 - 943',\n",
       "       '4500 - 5540', '2801.25', '1688.12', '1255 - 1375', '1733.5',\n",
       "       '610 - 615', '854 - 960', '2650 - 2990', '1.25Acres',\n",
       "       '86.72Sq. Meter', '1230 - 1490', '896.9', '660 - 780', '1626.6',\n",
       "       '1150 - 1194', '684 - 810', '866.28', '1510 - 1670', '1248.52',\n",
       "       '1370.07', '1550 - 1590', '777.4', '1235 - 1410', '3484 - 3550',\n",
       "       '1139.7', '38Guntha', '929 - 1078', '2150 - 2225', '1520 - 1759',\n",
       "       '629 - 1026', '1215 - 1495', '6Acres', '1140 - 1250',\n",
       "       '2400 - 2600', '1052 - 1322', '5666 - 5669', '2162.03', '2999.97',\n",
       "       '1950.2', '712 - 938', '2171.66', '1783 - 1878', '120Sq. Yards',\n",
       "       '24Sq. Meter', '2528 - 3188', '1623.29', '650 - 760',\n",
       "       '1400 - 1421', '4000 - 4450', '142.84Sq. Meter', '300Sq. Yards',\n",
       "       '1932.47', '2204 - 2362', '1437 - 1629', '850 - 1060',\n",
       "       '1200 - 1470', '5665.84', '1331.95', '1020 - 1130', '1133 - 1384'],\n",
       "      dtype=object)"
      ]
     },
     "execution_count": 19,
     "metadata": {},
     "output_type": "execute_result"
    }
   ],
   "source": [
    "def is_float(x):\n",
    "    try:\n",
    "        np.uint16(x)\n",
    "    except:\n",
    "        return True\n",
    "    return False\n",
    "\n",
    "df2.loc[df2['total_sqft'].apply(is_float)].total_sqft.unique()"
   ]
  },
  {
   "cell_type": "code",
   "execution_count": 20,
   "id": "dc02089b",
   "metadata": {},
   "outputs": [],
   "source": [
    "def con_float(x):\n",
    "    try:\n",
    "        return float(x)\n",
    "    except ValueError:\n",
    "        z=x.split(\"-\")\n",
    "        if len(z)==2:\n",
    "            return (float(z[0])+float(z[1]))/2\n",
    "        return None"
   ]
  },
  {
   "cell_type": "code",
   "execution_count": 21,
   "id": "e1138526",
   "metadata": {},
   "outputs": [],
   "source": [
    "df2['total_sqft']=df1['total_sqft'].apply(con_float)"
   ]
  },
  {
   "cell_type": "code",
   "execution_count": 22,
   "id": "1b82c17b",
   "metadata": {},
   "outputs": [
    {
     "data": {
      "text/plain": [
       "location       0\n",
       "bhk            0\n",
       "total_sqft    46\n",
       "bath           0\n",
       "price          0\n",
       "dtype: int64"
      ]
     },
     "execution_count": 22,
     "metadata": {},
     "output_type": "execute_result"
    }
   ],
   "source": [
    "df2.isnull().sum()"
   ]
  },
  {
   "cell_type": "code",
   "execution_count": 23,
   "id": "e062a150",
   "metadata": {},
   "outputs": [],
   "source": [
    "df2.dropna(inplace=True)"
   ]
  },
  {
   "cell_type": "code",
   "execution_count": 24,
   "id": "b9f9d691",
   "metadata": {},
   "outputs": [
    {
     "data": {
      "text/html": [
       "<div>\n",
       "<style scoped>\n",
       "    .dataframe tbody tr th:only-of-type {\n",
       "        vertical-align: middle;\n",
       "    }\n",
       "\n",
       "    .dataframe tbody tr th {\n",
       "        vertical-align: top;\n",
       "    }\n",
       "\n",
       "    .dataframe thead th {\n",
       "        text-align: right;\n",
       "    }\n",
       "</style>\n",
       "<table border=\"1\" class=\"dataframe\">\n",
       "  <thead>\n",
       "    <tr style=\"text-align: right;\">\n",
       "      <th></th>\n",
       "      <th>location</th>\n",
       "      <th>bhk</th>\n",
       "      <th>total_sqft</th>\n",
       "      <th>bath</th>\n",
       "      <th>price</th>\n",
       "    </tr>\n",
       "  </thead>\n",
       "  <tbody>\n",
       "  </tbody>\n",
       "</table>\n",
       "</div>"
      ],
      "text/plain": [
       "Empty DataFrame\n",
       "Columns: [location, bhk, total_sqft, bath, price]\n",
       "Index: []"
      ]
     },
     "execution_count": 24,
     "metadata": {},
     "output_type": "execute_result"
    }
   ],
   "source": [
    "df2[df2['total_sqft'].apply(is_float)]"
   ]
  },
  {
   "cell_type": "code",
   "execution_count": 25,
   "id": "49e60d77",
   "metadata": {},
   "outputs": [
    {
     "data": {
      "text/plain": [
       "location       object\n",
       "bhk             int64\n",
       "total_sqft    float64\n",
       "bath          float64\n",
       "price         float64\n",
       "dtype: object"
      ]
     },
     "execution_count": 25,
     "metadata": {},
     "output_type": "execute_result"
    }
   ],
   "source": [
    "df2.dtypes"
   ]
  },
  {
   "cell_type": "code",
   "execution_count": 26,
   "id": "bd92b033",
   "metadata": {},
   "outputs": [
    {
     "data": {
      "text/plain": [
       "1298"
      ]
     },
     "execution_count": 26,
     "metadata": {},
     "output_type": "execute_result"
    }
   ],
   "source": [
    "df2.location.nunique()"
   ]
  },
  {
   "cell_type": "code",
   "execution_count": 27,
   "id": "cb0bb235",
   "metadata": {},
   "outputs": [
    {
     "data": {
      "text/plain": [
       "1047"
      ]
     },
     "execution_count": 27,
     "metadata": {},
     "output_type": "execute_result"
    }
   ],
   "source": [
    "df2.location=df2.location.apply(lambda x: x.strip())\n",
    "loc_counts=df2.location.value_counts()\n",
    "len(loc_counts[loc_counts<=10])"
   ]
  },
  {
   "cell_type": "code",
   "execution_count": 28,
   "id": "4d5d1c98",
   "metadata": {},
   "outputs": [],
   "source": [
    "loc_names=loc_counts[loc_counts>10].index"
   ]
  },
  {
   "cell_type": "code",
   "execution_count": 29,
   "id": "36353c2b",
   "metadata": {},
   "outputs": [
    {
     "data": {
      "text/plain": [
       "241"
      ]
     },
     "execution_count": 29,
     "metadata": {},
     "output_type": "execute_result"
    }
   ],
   "source": [
    "df2.location=df2.location.apply(lambda x: x if x in loc_names else \"other\")\n",
    "df2.location.nunique()"
   ]
  },
  {
   "cell_type": "code",
   "execution_count": 30,
   "id": "e1de6488",
   "metadata": {},
   "outputs": [],
   "source": [
    "df3=df2.copy()"
   ]
  },
  {
   "cell_type": "code",
   "execution_count": 31,
   "id": "6ecffd98",
   "metadata": {},
   "outputs": [
    {
     "data": {
      "text/html": [
       "<div>\n",
       "<style scoped>\n",
       "    .dataframe tbody tr th:only-of-type {\n",
       "        vertical-align: middle;\n",
       "    }\n",
       "\n",
       "    .dataframe tbody tr th {\n",
       "        vertical-align: top;\n",
       "    }\n",
       "\n",
       "    .dataframe thead th {\n",
       "        text-align: right;\n",
       "    }\n",
       "</style>\n",
       "<table border=\"1\" class=\"dataframe\">\n",
       "  <thead>\n",
       "    <tr style=\"text-align: right;\">\n",
       "      <th></th>\n",
       "      <th>location</th>\n",
       "      <th>bhk</th>\n",
       "      <th>total_sqft</th>\n",
       "      <th>bath</th>\n",
       "      <th>price</th>\n",
       "      <th>price_per_sqft</th>\n",
       "    </tr>\n",
       "  </thead>\n",
       "  <tbody>\n",
       "    <tr>\n",
       "      <th>5858</th>\n",
       "      <td>Shampura</td>\n",
       "      <td>6</td>\n",
       "      <td>1150.0</td>\n",
       "      <td>6.0</td>\n",
       "      <td>75.00</td>\n",
       "      <td>6521.74</td>\n",
       "    </tr>\n",
       "    <tr>\n",
       "      <th>2626</th>\n",
       "      <td>Raja Rajeshwari Nagar</td>\n",
       "      <td>2</td>\n",
       "      <td>1306.0</td>\n",
       "      <td>2.0</td>\n",
       "      <td>55.91</td>\n",
       "      <td>4281.01</td>\n",
       "    </tr>\n",
       "    <tr>\n",
       "      <th>4359</th>\n",
       "      <td>other</td>\n",
       "      <td>6</td>\n",
       "      <td>1790.0</td>\n",
       "      <td>5.0</td>\n",
       "      <td>250.00</td>\n",
       "      <td>13966.48</td>\n",
       "    </tr>\n",
       "    <tr>\n",
       "      <th>12640</th>\n",
       "      <td>Horamavu Agara</td>\n",
       "      <td>3</td>\n",
       "      <td>1300.0</td>\n",
       "      <td>2.0</td>\n",
       "      <td>52.00</td>\n",
       "      <td>4000.00</td>\n",
       "    </tr>\n",
       "    <tr>\n",
       "      <th>11187</th>\n",
       "      <td>Bannerghatta</td>\n",
       "      <td>4</td>\n",
       "      <td>940.0</td>\n",
       "      <td>4.0</td>\n",
       "      <td>45.00</td>\n",
       "      <td>4787.23</td>\n",
       "    </tr>\n",
       "  </tbody>\n",
       "</table>\n",
       "</div>"
      ],
      "text/plain": [
       "                    location  bhk  total_sqft  bath   price  price_per_sqft\n",
       "5858                Shampura    6      1150.0   6.0   75.00         6521.74\n",
       "2626   Raja Rajeshwari Nagar    2      1306.0   2.0   55.91         4281.01\n",
       "4359                   other    6      1790.0   5.0  250.00        13966.48\n",
       "12640         Horamavu Agara    3      1300.0   2.0   52.00         4000.00\n",
       "11187           Bannerghatta    4       940.0   4.0   45.00         4787.23"
      ]
     },
     "execution_count": 31,
     "metadata": {},
     "output_type": "execute_result"
    }
   ],
   "source": [
    "df3['price_per_sqft']=round((df3.price*100000)/df3.total_sqft,2)\n",
    "df3.sample(5)"
   ]
  },
  {
   "cell_type": "code",
   "execution_count": 32,
   "id": "9ce8d344",
   "metadata": {
    "scrolled": false
   },
   "outputs": [
    {
     "data": {
      "text/plain": [
       "<AxesSubplot:xlabel='total_sqft', ylabel='price'>"
      ]
     },
     "execution_count": 32,
     "metadata": {},
     "output_type": "execute_result"
    },
    {
     "data": {
      "image/png": "[encoded data removed]",
      "text/plain": [
       "<Figure size 864x432 with 1 Axes>"
      ]
     },
     "metadata": {
      "needs_background": "light"
     },
     "output_type": "display_data"
    }
   ],
   "source": [
    "plt.figure(figsize=(12,6))\n",
    "sns.scatterplot(x=\"total_sqft\",y=\"price\",data=df3)"
   ]
  },
  {
   "cell_type": "code",
   "execution_count": 64,
   "id": "479ec4b7",
   "metadata": {},
   "outputs": [
    {
     "data": {
      "text/plain": [
       "<AxesSubplot:xlabel='total_sqft', ylabel='price'>"
      ]
     },
     "execution_count": 64,
     "metadata": {},
     "output_type": "execute_result"
    },
    {
     "data": {
      "image/png": "[encoded data removed]",
      "text/plain": [
       "<Figure size 864x432 with 1 Axes>"
      ]
     },
     "metadata": {
      "needs_background": "light"
     },
     "output_type": "display_data"
    }
   ],
   "source": [
    "plt.figure(figsize=(12,6))\n",
    "sns.scatterplot(x=df3[df3.total_sqft<15000][\"total_sqft\"],y=df3[\"price\"])"
   ]
  },
  {
   "cell_type": "code",
   "execution_count": 70,
   "id": "3f71480e",
   "metadata": {
    "scrolled": false
   },
   "outputs": [
    {
     "data": {
      "text/plain": [
       "<AxesSubplot:xlabel='total_sqft', ylabel='Count'>"
      ]
     },
     "execution_count": 70,
     "metadata": {},
     "output_type": "execute_result"
    },
    {
     "data": {
      "image/png": "[encoded data removed]",
      "text/plain": [
       "<Figure size 720x360 with 1 Axes>"
      ]
     },
     "metadata": {
      "needs_background": "light"
     },
     "output_type": "display_data"
    }
   ],
   "source": [
    "plt.figure(figsize=(10,5))\n",
    "sns.histplot(df3.total_sqft,bins=20)"
   ]
  },
  {
   "cell_type": "code",
   "execution_count": 71,
   "id": "f92d1bb5",
   "metadata": {},
   "outputs": [
    {
     "data": {
      "text/plain": [
       "<AxesSubplot:xlabel='total_sqft', ylabel='Count'>"
      ]
     },
     "execution_count": 71,
     "metadata": {},
     "output_type": "execute_result"
    },
    {
     "data": {
      "image/png": "[encoded data removed]",
      "text/plain": [
       "<Figure size 720x360 with 1 Axes>"
      ]
     },
     "metadata": {
      "needs_background": "light"
     },
     "output_type": "display_data"
    }
   ],
   "source": [
    "plt.figure(figsize=(10,5))\n",
    "sns.histplot(np.log(df3.total_sqft),bins=20)"
   ]
  },
  {
   "cell_type": "code",
   "execution_count": 72,
   "id": "50b0d57c",
   "metadata": {
    "scrolled": false
   },
   "outputs": [
    {
     "data": {
      "text/plain": [
       "<AxesSubplot:xlabel='total_sqft'>"
      ]
     },
     "execution_count": 72,
     "metadata": {},
     "output_type": "execute_result"
    },
    {
     "data": {
      "image/png": "[encoded data removed]",
      "text/plain": [
       "<Figure size 720x360 with 1 Axes>"
      ]
     },
     "metadata": {
      "needs_background": "light"
     },
     "output_type": "display_data"
    }
   ],
   "source": [
    "plt.figure(figsize=(10,5))\n",
    "sns.boxplot(x=df3.total_sqft)"
   ]
  },
  {
   "cell_type": "code",
   "execution_count": 36,
   "id": "dd3493cb",
   "metadata": {},
   "outputs": [
    {
     "data": {
      "text/html": [
       "<div>\n",
       "<style scoped>\n",
       "    .dataframe tbody tr th:only-of-type {\n",
       "        vertical-align: middle;\n",
       "    }\n",
       "\n",
       "    .dataframe tbody tr th {\n",
       "        vertical-align: top;\n",
       "    }\n",
       "\n",
       "    .dataframe thead th {\n",
       "        text-align: right;\n",
       "    }\n",
       "</style>\n",
       "<table border=\"1\" class=\"dataframe\">\n",
       "  <thead>\n",
       "    <tr style=\"text-align: right;\">\n",
       "      <th></th>\n",
       "      <th>location</th>\n",
       "      <th>bhk</th>\n",
       "      <th>total_sqft</th>\n",
       "      <th>bath</th>\n",
       "      <th>price</th>\n",
       "      <th>price_per_sqft</th>\n",
       "    </tr>\n",
       "  </thead>\n",
       "  <tbody>\n",
       "    <tr>\n",
       "      <th>78</th>\n",
       "      <td>Kaval Byrasandra</td>\n",
       "      <td>2</td>\n",
       "      <td>460.0</td>\n",
       "      <td>1.0</td>\n",
       "      <td>22.0</td>\n",
       "      <td>4782.61</td>\n",
       "    </tr>\n",
       "    <tr>\n",
       "      <th>119</th>\n",
       "      <td>Hennur Road</td>\n",
       "      <td>2</td>\n",
       "      <td>276.0</td>\n",
       "      <td>3.0</td>\n",
       "      <td>23.0</td>\n",
       "      <td>8333.33</td>\n",
       "    </tr>\n",
       "    <tr>\n",
       "      <th>171</th>\n",
       "      <td>Attibele</td>\n",
       "      <td>1</td>\n",
       "      <td>450.0</td>\n",
       "      <td>1.0</td>\n",
       "      <td>11.0</td>\n",
       "      <td>2444.44</td>\n",
       "    </tr>\n",
       "    <tr>\n",
       "      <th>177</th>\n",
       "      <td>Nagavara</td>\n",
       "      <td>1</td>\n",
       "      <td>400.0</td>\n",
       "      <td>1.0</td>\n",
       "      <td>14.0</td>\n",
       "      <td>3500.00</td>\n",
       "    </tr>\n",
       "    <tr>\n",
       "      <th>349</th>\n",
       "      <td>other</td>\n",
       "      <td>3</td>\n",
       "      <td>11.0</td>\n",
       "      <td>3.0</td>\n",
       "      <td>74.0</td>\n",
       "      <td>672727.27</td>\n",
       "    </tr>\n",
       "    <tr>\n",
       "      <th>...</th>\n",
       "      <td>...</td>\n",
       "      <td>...</td>\n",
       "      <td>...</td>\n",
       "      <td>...</td>\n",
       "      <td>...</td>\n",
       "      <td>...</td>\n",
       "    </tr>\n",
       "    <tr>\n",
       "      <th>12579</th>\n",
       "      <td>Chandapura</td>\n",
       "      <td>1</td>\n",
       "      <td>410.0</td>\n",
       "      <td>1.0</td>\n",
       "      <td>10.0</td>\n",
       "      <td>2439.02</td>\n",
       "    </tr>\n",
       "    <tr>\n",
       "      <th>12666</th>\n",
       "      <td>Marsur</td>\n",
       "      <td>2</td>\n",
       "      <td>497.0</td>\n",
       "      <td>1.0</td>\n",
       "      <td>20.0</td>\n",
       "      <td>4024.14</td>\n",
       "    </tr>\n",
       "    <tr>\n",
       "      <th>12895</th>\n",
       "      <td>other</td>\n",
       "      <td>1</td>\n",
       "      <td>450.0</td>\n",
       "      <td>1.0</td>\n",
       "      <td>20.0</td>\n",
       "      <td>4444.44</td>\n",
       "    </tr>\n",
       "    <tr>\n",
       "      <th>13112</th>\n",
       "      <td>Nagavara</td>\n",
       "      <td>3</td>\n",
       "      <td>440.0</td>\n",
       "      <td>3.0</td>\n",
       "      <td>35.0</td>\n",
       "      <td>7954.55</td>\n",
       "    </tr>\n",
       "    <tr>\n",
       "      <th>13216</th>\n",
       "      <td>other</td>\n",
       "      <td>1</td>\n",
       "      <td>250.0</td>\n",
       "      <td>2.0</td>\n",
       "      <td>40.0</td>\n",
       "      <td>16000.00</td>\n",
       "    </tr>\n",
       "  </tbody>\n",
       "</table>\n",
       "<p>120 rows × 6 columns</p>\n",
       "</div>"
      ],
      "text/plain": [
       "               location  bhk  total_sqft  bath  price  price_per_sqft\n",
       "78     Kaval Byrasandra    2       460.0   1.0   22.0         4782.61\n",
       "119         Hennur Road    2       276.0   3.0   23.0         8333.33\n",
       "171            Attibele    1       450.0   1.0   11.0         2444.44\n",
       "177            Nagavara    1       400.0   1.0   14.0         3500.00\n",
       "349               other    3        11.0   3.0   74.0       672727.27\n",
       "...                 ...  ...         ...   ...    ...             ...\n",
       "12579        Chandapura    1       410.0   1.0   10.0         2439.02\n",
       "12666            Marsur    2       497.0   1.0   20.0         4024.14\n",
       "12895             other    1       450.0   1.0   20.0         4444.44\n",
       "13112          Nagavara    3       440.0   3.0   35.0         7954.55\n",
       "13216             other    1       250.0   2.0   40.0        16000.00\n",
       "\n",
       "[120 rows x 6 columns]"
      ]
     },
     "execution_count": 36,
     "metadata": {},
     "output_type": "execute_result"
    }
   ],
   "source": [
    "df3[df3.total_sqft<500]"
   ]
  },
  {
   "cell_type": "code",
   "execution_count": 68,
   "id": "48f68f1e",
   "metadata": {},
   "outputs": [],
   "source": [
    "df4=df3.drop(df3[df3.total_sqft<500].index)\n",
    "df4=df4.drop(df4[df4.total_sqft>15000].index)"
   ]
  },
  {
   "cell_type": "code",
   "execution_count": 67,
   "id": "69750fed",
   "metadata": {},
   "outputs": [
    {
     "data": {
      "text/plain": [
       "<AxesSubplot:xlabel='total_sqft', ylabel='price'>"
      ]
     },
     "execution_count": 67,
     "metadata": {},
     "output_type": "execute_result"
    },
    {
     "data": {
      "image/png": "[encoded data removed]",
      "text/plain": [
       "<Figure size 864x432 with 1 Axes>"
      ]
     },
     "metadata": {
      "needs_background": "light"
     },
     "output_type": "display_data"
    }
   ],
   "source": [
    "plt.figure(figsize=(12,6))\n",
    "sns.scatterplot(x=np.log(df4.total_sqft),y=np.log(df4.price))"
   ]
  },
  {
   "cell_type": "code",
   "execution_count": 94,
   "id": "40d408d7",
   "metadata": {},
   "outputs": [
    {
     "data": {
      "text/plain": [
       "<AxesSubplot:xlabel='price', ylabel='Count'>"
      ]
     },
     "execution_count": 94,
     "metadata": {},
     "output_type": "execute_result"
    },
    {
     "data": {
      "image/png": "[encoded data removed]",
      "text/plain": [
       "<Figure size 864x432 with 1 Axes>"
      ]
     },
     "metadata": {
      "needs_background": "light"
     },
     "output_type": "display_data"
    }
   ],
   "source": [
    "plt.figure(figsize=(12,6))\n",
    "sns.histplot(np.log(df4.price),bins=20)"
   ]
  },
  {
   "cell_type": "code",
   "execution_count": 95,
   "id": "02f87bfa",
   "metadata": {
    "scrolled": false
   },
   "outputs": [
    {
     "data": {
      "text/html": [
       "<div>\n",
       "<style scoped>\n",
       "    .dataframe tbody tr th:only-of-type {\n",
       "        vertical-align: middle;\n",
       "    }\n",
       "\n",
       "    .dataframe tbody tr th {\n",
       "        vertical-align: top;\n",
       "    }\n",
       "\n",
       "    .dataframe thead th {\n",
       "        text-align: right;\n",
       "    }\n",
       "</style>\n",
       "<table border=\"1\" class=\"dataframe\">\n",
       "  <thead>\n",
       "    <tr style=\"text-align: right;\">\n",
       "      <th></th>\n",
       "      <th>location</th>\n",
       "      <th>bhk</th>\n",
       "      <th>total_sqft</th>\n",
       "      <th>bath</th>\n",
       "      <th>price</th>\n",
       "      <th>price_per_sqft</th>\n",
       "    </tr>\n",
       "  </thead>\n",
       "  <tbody>\n",
       "    <tr>\n",
       "      <th>938</th>\n",
       "      <td>5th Phase JP Nagar</td>\n",
       "      <td>9</td>\n",
       "      <td>1260.0</td>\n",
       "      <td>11.0</td>\n",
       "      <td>290.0</td>\n",
       "      <td>23015.87</td>\n",
       "    </tr>\n",
       "    <tr>\n",
       "      <th>1078</th>\n",
       "      <td>other</td>\n",
       "      <td>9</td>\n",
       "      <td>3300.0</td>\n",
       "      <td>14.0</td>\n",
       "      <td>500.0</td>\n",
       "      <td>15151.52</td>\n",
       "    </tr>\n",
       "    <tr>\n",
       "      <th>1718</th>\n",
       "      <td>other</td>\n",
       "      <td>27</td>\n",
       "      <td>8000.0</td>\n",
       "      <td>27.0</td>\n",
       "      <td>230.0</td>\n",
       "      <td>2875.00</td>\n",
       "    </tr>\n",
       "    <tr>\n",
       "      <th>1768</th>\n",
       "      <td>other</td>\n",
       "      <td>11</td>\n",
       "      <td>1200.0</td>\n",
       "      <td>11.0</td>\n",
       "      <td>170.0</td>\n",
       "      <td>14166.67</td>\n",
       "    </tr>\n",
       "    <tr>\n",
       "      <th>1953</th>\n",
       "      <td>KR Puram</td>\n",
       "      <td>8</td>\n",
       "      <td>1200.0</td>\n",
       "      <td>12.0</td>\n",
       "      <td>110.0</td>\n",
       "      <td>9166.67</td>\n",
       "    </tr>\n",
       "    <tr>\n",
       "      <th>1979</th>\n",
       "      <td>other</td>\n",
       "      <td>8</td>\n",
       "      <td>990.0</td>\n",
       "      <td>12.0</td>\n",
       "      <td>120.0</td>\n",
       "      <td>12121.21</td>\n",
       "    </tr>\n",
       "    <tr>\n",
       "      <th>3096</th>\n",
       "      <td>other</td>\n",
       "      <td>10</td>\n",
       "      <td>12000.0</td>\n",
       "      <td>12.0</td>\n",
       "      <td>525.0</td>\n",
       "      <td>4375.00</td>\n",
       "    </tr>\n",
       "    <tr>\n",
       "      <th>3379</th>\n",
       "      <td>other</td>\n",
       "      <td>19</td>\n",
       "      <td>2000.0</td>\n",
       "      <td>16.0</td>\n",
       "      <td>490.0</td>\n",
       "      <td>24500.00</td>\n",
       "    </tr>\n",
       "    <tr>\n",
       "      <th>3609</th>\n",
       "      <td>other</td>\n",
       "      <td>16</td>\n",
       "      <td>10000.0</td>\n",
       "      <td>16.0</td>\n",
       "      <td>550.0</td>\n",
       "      <td>5500.00</td>\n",
       "    </tr>\n",
       "    <tr>\n",
       "      <th>4684</th>\n",
       "      <td>Munnekollal</td>\n",
       "      <td>43</td>\n",
       "      <td>2400.0</td>\n",
       "      <td>40.0</td>\n",
       "      <td>660.0</td>\n",
       "      <td>27500.00</td>\n",
       "    </tr>\n",
       "    <tr>\n",
       "      <th>4916</th>\n",
       "      <td>other</td>\n",
       "      <td>14</td>\n",
       "      <td>1250.0</td>\n",
       "      <td>15.0</td>\n",
       "      <td>125.0</td>\n",
       "      <td>10000.00</td>\n",
       "    </tr>\n",
       "    <tr>\n",
       "      <th>6937</th>\n",
       "      <td>5th Block Hbr Layout</td>\n",
       "      <td>9</td>\n",
       "      <td>2600.0</td>\n",
       "      <td>12.0</td>\n",
       "      <td>675.0</td>\n",
       "      <td>25961.54</td>\n",
       "    </tr>\n",
       "    <tr>\n",
       "      <th>7979</th>\n",
       "      <td>other</td>\n",
       "      <td>11</td>\n",
       "      <td>6000.0</td>\n",
       "      <td>12.0</td>\n",
       "      <td>150.0</td>\n",
       "      <td>2500.00</td>\n",
       "    </tr>\n",
       "    <tr>\n",
       "      <th>8106</th>\n",
       "      <td>other</td>\n",
       "      <td>8</td>\n",
       "      <td>1850.0</td>\n",
       "      <td>12.0</td>\n",
       "      <td>300.0</td>\n",
       "      <td>16216.22</td>\n",
       "    </tr>\n",
       "    <tr>\n",
       "      <th>8636</th>\n",
       "      <td>Neeladri Nagar</td>\n",
       "      <td>10</td>\n",
       "      <td>4000.0</td>\n",
       "      <td>12.0</td>\n",
       "      <td>160.0</td>\n",
       "      <td>4000.00</td>\n",
       "    </tr>\n",
       "    <tr>\n",
       "      <th>9935</th>\n",
       "      <td>other</td>\n",
       "      <td>13</td>\n",
       "      <td>5425.0</td>\n",
       "      <td>13.0</td>\n",
       "      <td>275.0</td>\n",
       "      <td>5069.12</td>\n",
       "    </tr>\n",
       "    <tr>\n",
       "      <th>10695</th>\n",
       "      <td>Electronic City</td>\n",
       "      <td>9</td>\n",
       "      <td>1200.0</td>\n",
       "      <td>13.0</td>\n",
       "      <td>150.0</td>\n",
       "      <td>12500.00</td>\n",
       "    </tr>\n",
       "    <tr>\n",
       "      <th>11128</th>\n",
       "      <td>Jigani</td>\n",
       "      <td>10</td>\n",
       "      <td>1200.0</td>\n",
       "      <td>11.0</td>\n",
       "      <td>105.0</td>\n",
       "      <td>8750.00</td>\n",
       "    </tr>\n",
       "    <tr>\n",
       "      <th>11559</th>\n",
       "      <td>other</td>\n",
       "      <td>18</td>\n",
       "      <td>1200.0</td>\n",
       "      <td>18.0</td>\n",
       "      <td>200.0</td>\n",
       "      <td>16666.67</td>\n",
       "    </tr>\n",
       "    <tr>\n",
       "      <th>13067</th>\n",
       "      <td>other</td>\n",
       "      <td>10</td>\n",
       "      <td>7150.0</td>\n",
       "      <td>13.0</td>\n",
       "      <td>3600.0</td>\n",
       "      <td>50349.65</td>\n",
       "    </tr>\n",
       "  </tbody>\n",
       "</table>\n",
       "</div>"
      ],
      "text/plain": [
       "                   location  bhk  total_sqft  bath   price  price_per_sqft\n",
       "938      5th Phase JP Nagar    9      1260.0  11.0   290.0        23015.87\n",
       "1078                  other    9      3300.0  14.0   500.0        15151.52\n",
       "1718                  other   27      8000.0  27.0   230.0         2875.00\n",
       "1768                  other   11      1200.0  11.0   170.0        14166.67\n",
       "1953               KR Puram    8      1200.0  12.0   110.0         9166.67\n",
       "1979                  other    8       990.0  12.0   120.0        12121.21\n",
       "3096                  other   10     12000.0  12.0   525.0         4375.00\n",
       "3379                  other   19      2000.0  16.0   490.0        24500.00\n",
       "3609                  other   16     10000.0  16.0   550.0         5500.00\n",
       "4684            Munnekollal   43      2400.0  40.0   660.0        27500.00\n",
       "4916                  other   14      1250.0  15.0   125.0        10000.00\n",
       "6937   5th Block Hbr Layout    9      2600.0  12.0   675.0        25961.54\n",
       "7979                  other   11      6000.0  12.0   150.0         2500.00\n",
       "8106                  other    8      1850.0  12.0   300.0        16216.22\n",
       "8636         Neeladri Nagar   10      4000.0  12.0   160.0         4000.00\n",
       "9935                  other   13      5425.0  13.0   275.0         5069.12\n",
       "10695       Electronic City    9      1200.0  13.0   150.0        12500.00\n",
       "11128                Jigani   10      1200.0  11.0   105.0         8750.00\n",
       "11559                 other   18      1200.0  18.0   200.0        16666.67\n",
       "13067                 other   10      7150.0  13.0  3600.0        50349.65"
      ]
     },
     "execution_count": 95,
     "metadata": {},
     "output_type": "execute_result"
    }
   ],
   "source": [
    "df4[df4.bath>10]"
   ]
  },
  {
   "cell_type": "code",
   "execution_count": 103,
   "id": "570ed78e",
   "metadata": {},
   "outputs": [
    {
     "data": {
      "text/html": [
       "<div>\n",
       "<style scoped>\n",
       "    .dataframe tbody tr th:only-of-type {\n",
       "        vertical-align: middle;\n",
       "    }\n",
       "\n",
       "    .dataframe tbody tr th {\n",
       "        vertical-align: top;\n",
       "    }\n",
       "\n",
       "    .dataframe thead th {\n",
       "        text-align: right;\n",
       "    }\n",
       "</style>\n",
       "<table border=\"1\" class=\"dataframe\">\n",
       "  <thead>\n",
       "    <tr style=\"text-align: right;\">\n",
       "      <th></th>\n",
       "      <th>location</th>\n",
       "      <th>bhk</th>\n",
       "      <th>total_sqft</th>\n",
       "      <th>bath</th>\n",
       "      <th>price</th>\n",
       "      <th>price_per_sqft</th>\n",
       "    </tr>\n",
       "  </thead>\n",
       "  <tbody>\n",
       "    <tr>\n",
       "      <th>13198</th>\n",
       "      <td>other</td>\n",
       "      <td>8</td>\n",
       "      <td>1200.0</td>\n",
       "      <td>8.0</td>\n",
       "      <td>140.0</td>\n",
       "      <td>11666.67</td>\n",
       "    </tr>\n",
       "    <tr>\n",
       "      <th>2391</th>\n",
       "      <td>other</td>\n",
       "      <td>4</td>\n",
       "      <td>800.0</td>\n",
       "      <td>4.0</td>\n",
       "      <td>120.0</td>\n",
       "      <td>15000.00</td>\n",
       "    </tr>\n",
       "    <tr>\n",
       "      <th>3418</th>\n",
       "      <td>Kumaraswami Layout</td>\n",
       "      <td>5</td>\n",
       "      <td>1270.0</td>\n",
       "      <td>4.0</td>\n",
       "      <td>128.0</td>\n",
       "      <td>10078.74</td>\n",
       "    </tr>\n",
       "    <tr>\n",
       "      <th>4011</th>\n",
       "      <td>Hoodi</td>\n",
       "      <td>8</td>\n",
       "      <td>1120.0</td>\n",
       "      <td>8.0</td>\n",
       "      <td>150.0</td>\n",
       "      <td>13392.86</td>\n",
       "    </tr>\n",
       "    <tr>\n",
       "      <th>4912</th>\n",
       "      <td>other</td>\n",
       "      <td>9</td>\n",
       "      <td>750.0</td>\n",
       "      <td>6.0</td>\n",
       "      <td>112.0</td>\n",
       "      <td>14933.33</td>\n",
       "    </tr>\n",
       "  </tbody>\n",
       "</table>\n",
       "</div>"
      ],
      "text/plain": [
       "                 location  bhk  total_sqft  bath  price  price_per_sqft\n",
       "13198               other    8      1200.0   8.0  140.0        11666.67\n",
       "2391                other    4       800.0   4.0  120.0        15000.00\n",
       "3418   Kumaraswami Layout    5      1270.0   4.0  128.0        10078.74\n",
       "4011                Hoodi    8      1120.0   8.0  150.0        13392.86\n",
       "4912                other    9       750.0   6.0  112.0        14933.33"
      ]
     },
     "execution_count": 103,
     "metadata": {},
     "output_type": "execute_result"
    }
   ],
   "source": [
    "d=df4[df4.total_sqft/df4.bhk <300]\n",
    "d.sample(5)"
   ]
  },
  {
   "cell_type": "code",
   "execution_count": 104,
   "id": "1b0ae03c",
   "metadata": {},
   "outputs": [],
   "source": [
    "df5=df4.drop(d.index)"
   ]
  },
  {
   "cell_type": "code",
   "execution_count": 109,
   "id": "f86107fe",
   "metadata": {},
   "outputs": [
    {
     "data": {
      "text/html": [
       "<div>\n",
       "<style scoped>\n",
       "    .dataframe tbody tr th:only-of-type {\n",
       "        vertical-align: middle;\n",
       "    }\n",
       "\n",
       "    .dataframe tbody tr th {\n",
       "        vertical-align: top;\n",
       "    }\n",
       "\n",
       "    .dataframe thead th {\n",
       "        text-align: right;\n",
       "    }\n",
       "</style>\n",
       "<table border=\"1\" class=\"dataframe\">\n",
       "  <thead>\n",
       "    <tr style=\"text-align: right;\">\n",
       "      <th></th>\n",
       "      <th>location</th>\n",
       "      <th>bhk</th>\n",
       "      <th>total_sqft</th>\n",
       "      <th>bath</th>\n",
       "      <th>price</th>\n",
       "      <th>price_per_sqft</th>\n",
       "    </tr>\n",
       "  </thead>\n",
       "  <tbody>\n",
       "    <tr>\n",
       "      <th>5464</th>\n",
       "      <td>KR Puram</td>\n",
       "      <td>3</td>\n",
       "      <td>1462.5</td>\n",
       "      <td>0.0</td>\n",
       "      <td>62.81</td>\n",
       "      <td>4294.70</td>\n",
       "    </tr>\n",
       "    <tr>\n",
       "      <th>12443</th>\n",
       "      <td>other</td>\n",
       "      <td>4</td>\n",
       "      <td>4350.0</td>\n",
       "      <td>8.0</td>\n",
       "      <td>2600.00</td>\n",
       "      <td>59770.11</td>\n",
       "    </tr>\n",
       "    <tr>\n",
       "      <th>7709</th>\n",
       "      <td>Chikkabanavar</td>\n",
       "      <td>4</td>\n",
       "      <td>2460.0</td>\n",
       "      <td>7.0</td>\n",
       "      <td>80.00</td>\n",
       "      <td>3252.03</td>\n",
       "    </tr>\n",
       "    <tr>\n",
       "      <th>4340</th>\n",
       "      <td>Dasarahalli</td>\n",
       "      <td>7</td>\n",
       "      <td>2400.0</td>\n",
       "      <td>3.0</td>\n",
       "      <td>150.00</td>\n",
       "      <td>6250.00</td>\n",
       "    </tr>\n",
       "  </tbody>\n",
       "</table>\n",
       "</div>"
      ],
      "text/plain": [
       "            location  bhk  total_sqft  bath    price  price_per_sqft\n",
       "5464        KR Puram    3      1462.5   0.0    62.81         4294.70\n",
       "12443          other    4      4350.0   8.0  2600.00        59770.11\n",
       "7709   Chikkabanavar    4      2460.0   7.0    80.00         3252.03\n",
       "4340     Dasarahalli    7      2400.0   3.0   150.00         6250.00"
      ]
     },
     "execution_count": 109,
     "metadata": {},
     "output_type": "execute_result"
    }
   ],
   "source": [
    "df5[np.abs(df5.bath-df5.bhk)>2].sample(4)"
   ]
  },
  {
   "cell_type": "code",
   "execution_count": 120,
   "id": "740adfa6",
   "metadata": {},
   "outputs": [
    {
     "data": {
      "text/html": [
       "<div>\n",
       "<style scoped>\n",
       "    .dataframe tbody tr th:only-of-type {\n",
       "        vertical-align: middle;\n",
       "    }\n",
       "\n",
       "    .dataframe tbody tr th {\n",
       "        vertical-align: top;\n",
       "    }\n",
       "\n",
       "    .dataframe thead th {\n",
       "        text-align: right;\n",
       "    }\n",
       "</style>\n",
       "<table border=\"1\" class=\"dataframe\">\n",
       "  <thead>\n",
       "    <tr style=\"text-align: right;\">\n",
       "      <th></th>\n",
       "      <th>location</th>\n",
       "      <th>bhk</th>\n",
       "      <th>total_sqft</th>\n",
       "      <th>bath</th>\n",
       "      <th>price</th>\n",
       "      <th>price_per_sqft</th>\n",
       "    </tr>\n",
       "  </thead>\n",
       "  <tbody>\n",
       "  </tbody>\n",
       "</table>\n",
       "</div>"
      ],
      "text/plain": [
       "Empty DataFrame\n",
       "Columns: [location, bhk, total_sqft, bath, price, price_per_sqft]\n",
       "Index: []"
      ]
     },
     "execution_count": 120,
     "metadata": {},
     "output_type": "execute_result"
    }
   ],
   "source": [
    "df5.loc[df5[df5.bath==0].index,\"bath\"]=df5.bhk\n",
    "df5[df5.bath==0]"
   ]
  },
  {
   "cell_type": "code",
   "execution_count": 131,
   "id": "201e8dd5",
   "metadata": {},
   "outputs": [
    {
     "data": {
      "text/html": [
       "<div>\n",
       "<style scoped>\n",
       "    .dataframe tbody tr th:only-of-type {\n",
       "        vertical-align: middle;\n",
       "    }\n",
       "\n",
       "    .dataframe tbody tr th {\n",
       "        vertical-align: top;\n",
       "    }\n",
       "\n",
       "    .dataframe thead th {\n",
       "        text-align: right;\n",
       "    }\n",
       "</style>\n",
       "<table border=\"1\" class=\"dataframe\">\n",
       "  <thead>\n",
       "    <tr style=\"text-align: right;\">\n",
       "      <th></th>\n",
       "      <th>location</th>\n",
       "      <th>bhk</th>\n",
       "      <th>total_sqft</th>\n",
       "      <th>bath</th>\n",
       "      <th>price</th>\n",
       "      <th>price_per_sqft</th>\n",
       "    </tr>\n",
       "  </thead>\n",
       "  <tbody>\n",
       "    <tr>\n",
       "      <th>1078</th>\n",
       "      <td>other</td>\n",
       "      <td>9</td>\n",
       "      <td>3300.0</td>\n",
       "      <td>14.0</td>\n",
       "      <td>500.0</td>\n",
       "      <td>15151.52</td>\n",
       "    </tr>\n",
       "    <tr>\n",
       "      <th>2620</th>\n",
       "      <td>other</td>\n",
       "      <td>6</td>\n",
       "      <td>11338.0</td>\n",
       "      <td>9.0</td>\n",
       "      <td>1000.0</td>\n",
       "      <td>8819.90</td>\n",
       "    </tr>\n",
       "    <tr>\n",
       "      <th>2649</th>\n",
       "      <td>Malleshwaram</td>\n",
       "      <td>7</td>\n",
       "      <td>3000.0</td>\n",
       "      <td>4.0</td>\n",
       "      <td>900.0</td>\n",
       "      <td>30000.00</td>\n",
       "    </tr>\n",
       "    <tr>\n",
       "      <th>3000</th>\n",
       "      <td>Frazer Town</td>\n",
       "      <td>5</td>\n",
       "      <td>2350.0</td>\n",
       "      <td>2.0</td>\n",
       "      <td>423.0</td>\n",
       "      <td>18000.00</td>\n",
       "    </tr>\n",
       "    <tr>\n",
       "      <th>4340</th>\n",
       "      <td>Dasarahalli</td>\n",
       "      <td>7</td>\n",
       "      <td>2400.0</td>\n",
       "      <td>3.0</td>\n",
       "      <td>150.0</td>\n",
       "      <td>6250.00</td>\n",
       "    </tr>\n",
       "    <tr>\n",
       "      <th>5884</th>\n",
       "      <td>other</td>\n",
       "      <td>6</td>\n",
       "      <td>1800.0</td>\n",
       "      <td>3.0</td>\n",
       "      <td>105.0</td>\n",
       "      <td>5833.33</td>\n",
       "    </tr>\n",
       "    <tr>\n",
       "      <th>6048</th>\n",
       "      <td>JP Nagar</td>\n",
       "      <td>7</td>\n",
       "      <td>2700.0</td>\n",
       "      <td>4.0</td>\n",
       "      <td>160.0</td>\n",
       "      <td>5925.93</td>\n",
       "    </tr>\n",
       "    <tr>\n",
       "      <th>6838</th>\n",
       "      <td>Rajaji Nagar</td>\n",
       "      <td>5</td>\n",
       "      <td>7500.0</td>\n",
       "      <td>8.0</td>\n",
       "      <td>1700.0</td>\n",
       "      <td>22666.67</td>\n",
       "    </tr>\n",
       "    <tr>\n",
       "      <th>6862</th>\n",
       "      <td>other</td>\n",
       "      <td>8</td>\n",
       "      <td>3150.0</td>\n",
       "      <td>5.0</td>\n",
       "      <td>145.0</td>\n",
       "      <td>4603.17</td>\n",
       "    </tr>\n",
       "    <tr>\n",
       "      <th>7596</th>\n",
       "      <td>other</td>\n",
       "      <td>8</td>\n",
       "      <td>3000.0</td>\n",
       "      <td>4.0</td>\n",
       "      <td>130.0</td>\n",
       "      <td>4333.33</td>\n",
       "    </tr>\n",
       "    <tr>\n",
       "      <th>7709</th>\n",
       "      <td>Chikkabanavar</td>\n",
       "      <td>4</td>\n",
       "      <td>2460.0</td>\n",
       "      <td>7.0</td>\n",
       "      <td>80.0</td>\n",
       "      <td>3252.03</td>\n",
       "    </tr>\n",
       "    <tr>\n",
       "      <th>8315</th>\n",
       "      <td>other</td>\n",
       "      <td>6</td>\n",
       "      <td>1850.0</td>\n",
       "      <td>3.0</td>\n",
       "      <td>175.0</td>\n",
       "      <td>9459.46</td>\n",
       "    </tr>\n",
       "    <tr>\n",
       "      <th>9974</th>\n",
       "      <td>other</td>\n",
       "      <td>3</td>\n",
       "      <td>2400.0</td>\n",
       "      <td>6.0</td>\n",
       "      <td>775.0</td>\n",
       "      <td>32291.67</td>\n",
       "    </tr>\n",
       "    <tr>\n",
       "      <th>11075</th>\n",
       "      <td>Kengeri</td>\n",
       "      <td>8</td>\n",
       "      <td>3000.0</td>\n",
       "      <td>5.0</td>\n",
       "      <td>130.0</td>\n",
       "      <td>4333.33</td>\n",
       "    </tr>\n",
       "    <tr>\n",
       "      <th>11366</th>\n",
       "      <td>Nagasandra</td>\n",
       "      <td>4</td>\n",
       "      <td>7000.0</td>\n",
       "      <td>8.0</td>\n",
       "      <td>450.0</td>\n",
       "      <td>6428.57</td>\n",
       "    </tr>\n",
       "    <tr>\n",
       "      <th>12103</th>\n",
       "      <td>Thanisandra</td>\n",
       "      <td>3</td>\n",
       "      <td>1806.0</td>\n",
       "      <td>6.0</td>\n",
       "      <td>116.0</td>\n",
       "      <td>6423.03</td>\n",
       "    </tr>\n",
       "    <tr>\n",
       "      <th>12209</th>\n",
       "      <td>other</td>\n",
       "      <td>7</td>\n",
       "      <td>2240.0</td>\n",
       "      <td>4.0</td>\n",
       "      <td>700.0</td>\n",
       "      <td>31250.00</td>\n",
       "    </tr>\n",
       "    <tr>\n",
       "      <th>12443</th>\n",
       "      <td>other</td>\n",
       "      <td>4</td>\n",
       "      <td>4350.0</td>\n",
       "      <td>8.0</td>\n",
       "      <td>2600.0</td>\n",
       "      <td>59770.11</td>\n",
       "    </tr>\n",
       "    <tr>\n",
       "      <th>12700</th>\n",
       "      <td>Kumaraswami Layout</td>\n",
       "      <td>7</td>\n",
       "      <td>3000.0</td>\n",
       "      <td>4.0</td>\n",
       "      <td>400.0</td>\n",
       "      <td>13333.33</td>\n",
       "    </tr>\n",
       "    <tr>\n",
       "      <th>12726</th>\n",
       "      <td>other</td>\n",
       "      <td>6</td>\n",
       "      <td>2295.0</td>\n",
       "      <td>3.0</td>\n",
       "      <td>650.0</td>\n",
       "      <td>28322.44</td>\n",
       "    </tr>\n",
       "    <tr>\n",
       "      <th>13067</th>\n",
       "      <td>other</td>\n",
       "      <td>10</td>\n",
       "      <td>7150.0</td>\n",
       "      <td>13.0</td>\n",
       "      <td>3600.0</td>\n",
       "      <td>50349.65</td>\n",
       "    </tr>\n",
       "  </tbody>\n",
       "</table>\n",
       "</div>"
      ],
      "text/plain": [
       "                 location  bhk  total_sqft  bath   price  price_per_sqft\n",
       "1078                other    9      3300.0  14.0   500.0        15151.52\n",
       "2620                other    6     11338.0   9.0  1000.0         8819.90\n",
       "2649         Malleshwaram    7      3000.0   4.0   900.0        30000.00\n",
       "3000          Frazer Town    5      2350.0   2.0   423.0        18000.00\n",
       "4340          Dasarahalli    7      2400.0   3.0   150.0         6250.00\n",
       "5884                other    6      1800.0   3.0   105.0         5833.33\n",
       "6048             JP Nagar    7      2700.0   4.0   160.0         5925.93\n",
       "6838         Rajaji Nagar    5      7500.0   8.0  1700.0        22666.67\n",
       "6862                other    8      3150.0   5.0   145.0         4603.17\n",
       "7596                other    8      3000.0   4.0   130.0         4333.33\n",
       "7709        Chikkabanavar    4      2460.0   7.0    80.0         3252.03\n",
       "8315                other    6      1850.0   3.0   175.0         9459.46\n",
       "9974                other    3      2400.0   6.0   775.0        32291.67\n",
       "11075             Kengeri    8      3000.0   5.0   130.0         4333.33\n",
       "11366          Nagasandra    4      7000.0   8.0   450.0         6428.57\n",
       "12103         Thanisandra    3      1806.0   6.0   116.0         6423.03\n",
       "12209               other    7      2240.0   4.0   700.0        31250.00\n",
       "12443               other    4      4350.0   8.0  2600.0        59770.11\n",
       "12700  Kumaraswami Layout    7      3000.0   4.0   400.0        13333.33\n",
       "12726               other    6      2295.0   3.0   650.0        28322.44\n",
       "13067               other   10      7150.0  13.0  3600.0        50349.65"
      ]
     },
     "execution_count": 131,
     "metadata": {},
     "output_type": "execute_result"
    }
   ],
   "source": [
    "d=df5[np.abs(df5.bath-df5.bhk)>2]\n",
    "d"
   ]
  },
  {
   "cell_type": "code",
   "execution_count": 132,
   "id": "661ed381",
   "metadata": {},
   "outputs": [],
   "source": [
    "df5=df5.drop(d.index)"
   ]
  },
  {
   "cell_type": "code",
   "execution_count": 135,
   "id": "e82a5b4c",
   "metadata": {},
   "outputs": [
    {
     "data": {
      "text/plain": [
       "2     5477\n",
       "3     4747\n",
       "4     1256\n",
       "1      558\n",
       "5      201\n",
       "6       87\n",
       "7       37\n",
       "8       22\n",
       "9       14\n",
       "10       5\n",
       "11       2\n",
       "16       1\n",
       "13       1\n",
       "Name: bhk, dtype: int64"
      ]
     },
     "execution_count": 135,
     "metadata": {},
     "output_type": "execute_result"
    }
   ],
   "source": [
    "df5.bhk.value_counts()"
   ]
  },
  {
   "cell_type": "code",
   "execution_count": 136,
   "id": "62433f84",
   "metadata": {
    "scrolled": true
   },
   "outputs": [
    {
     "data": {
      "text/html": [
       "<div>\n",
       "<style scoped>\n",
       "    .dataframe tbody tr th:only-of-type {\n",
       "        vertical-align: middle;\n",
       "    }\n",
       "\n",
       "    .dataframe tbody tr th {\n",
       "        vertical-align: top;\n",
       "    }\n",
       "\n",
       "    .dataframe thead th {\n",
       "        text-align: right;\n",
       "    }\n",
       "</style>\n",
       "<table border=\"1\" class=\"dataframe\">\n",
       "  <thead>\n",
       "    <tr style=\"text-align: right;\">\n",
       "      <th></th>\n",
       "      <th>location</th>\n",
       "      <th>bhk</th>\n",
       "      <th>total_sqft</th>\n",
       "      <th>bath</th>\n",
       "      <th>price</th>\n",
       "      <th>price_per_sqft</th>\n",
       "    </tr>\n",
       "  </thead>\n",
       "  <tbody>\n",
       "    <tr>\n",
       "      <th>459</th>\n",
       "      <td>other</td>\n",
       "      <td>11</td>\n",
       "      <td>5000.0</td>\n",
       "      <td>9.0</td>\n",
       "      <td>360.0</td>\n",
       "      <td>7200.00</td>\n",
       "    </tr>\n",
       "    <tr>\n",
       "      <th>3096</th>\n",
       "      <td>other</td>\n",
       "      <td>10</td>\n",
       "      <td>12000.0</td>\n",
       "      <td>12.0</td>\n",
       "      <td>525.0</td>\n",
       "      <td>4375.00</td>\n",
       "    </tr>\n",
       "    <tr>\n",
       "      <th>3609</th>\n",
       "      <td>other</td>\n",
       "      <td>16</td>\n",
       "      <td>10000.0</td>\n",
       "      <td>16.0</td>\n",
       "      <td>550.0</td>\n",
       "      <td>5500.00</td>\n",
       "    </tr>\n",
       "    <tr>\n",
       "      <th>7979</th>\n",
       "      <td>other</td>\n",
       "      <td>11</td>\n",
       "      <td>6000.0</td>\n",
       "      <td>12.0</td>\n",
       "      <td>150.0</td>\n",
       "      <td>2500.00</td>\n",
       "    </tr>\n",
       "    <tr>\n",
       "      <th>8636</th>\n",
       "      <td>Neeladri Nagar</td>\n",
       "      <td>10</td>\n",
       "      <td>4000.0</td>\n",
       "      <td>12.0</td>\n",
       "      <td>160.0</td>\n",
       "      <td>4000.00</td>\n",
       "    </tr>\n",
       "    <tr>\n",
       "      <th>9769</th>\n",
       "      <td>other</td>\n",
       "      <td>10</td>\n",
       "      <td>3300.0</td>\n",
       "      <td>9.0</td>\n",
       "      <td>450.0</td>\n",
       "      <td>13636.36</td>\n",
       "    </tr>\n",
       "    <tr>\n",
       "      <th>9935</th>\n",
       "      <td>other</td>\n",
       "      <td>13</td>\n",
       "      <td>5425.0</td>\n",
       "      <td>13.0</td>\n",
       "      <td>275.0</td>\n",
       "      <td>5069.12</td>\n",
       "    </tr>\n",
       "    <tr>\n",
       "      <th>11142</th>\n",
       "      <td>Munnekollal</td>\n",
       "      <td>10</td>\n",
       "      <td>7200.0</td>\n",
       "      <td>10.0</td>\n",
       "      <td>200.0</td>\n",
       "      <td>2777.78</td>\n",
       "    </tr>\n",
       "    <tr>\n",
       "      <th>11327</th>\n",
       "      <td>Kogilu</td>\n",
       "      <td>10</td>\n",
       "      <td>3280.0</td>\n",
       "      <td>9.0</td>\n",
       "      <td>450.0</td>\n",
       "      <td>13719.51</td>\n",
       "    </tr>\n",
       "  </tbody>\n",
       "</table>\n",
       "</div>"
      ],
      "text/plain": [
       "             location  bhk  total_sqft  bath  price  price_per_sqft\n",
       "459             other   11      5000.0   9.0  360.0         7200.00\n",
       "3096            other   10     12000.0  12.0  525.0         4375.00\n",
       "3609            other   16     10000.0  16.0  550.0         5500.00\n",
       "7979            other   11      6000.0  12.0  150.0         2500.00\n",
       "8636   Neeladri Nagar   10      4000.0  12.0  160.0         4000.00\n",
       "9769            other   10      3300.0   9.0  450.0        13636.36\n",
       "9935            other   13      5425.0  13.0  275.0         5069.12\n",
       "11142     Munnekollal   10      7200.0  10.0  200.0         2777.78\n",
       "11327          Kogilu   10      3280.0   9.0  450.0        13719.51"
      ]
     },
     "execution_count": 136,
     "metadata": {},
     "output_type": "execute_result"
    }
   ],
   "source": [
    "df5[df5.bhk>9]"
   ]
  },
  {
   "cell_type": "code",
   "execution_count": 139,
   "id": "40ca5584",
   "metadata": {
    "scrolled": true
   },
   "outputs": [
    {
     "data": {
      "text/plain": [
       "array([4, 3, 7, 2, 6, 5, 1], dtype=int64)"
      ]
     },
     "execution_count": 139,
     "metadata": {},
     "output_type": "execute_result"
    }
   ],
   "source": [
    "df5[df5.location=='Rajaji Nagar'].bhk.unique()"
   ]
  },
  {
   "cell_type": "code",
   "execution_count": 153,
   "id": "83d66850",
   "metadata": {},
   "outputs": [
    {
     "data": {
      "text/plain": [
       "array(['Electronic City Phase II', 'Chikka Tirupathi', 'Uttarahalli',\n",
       "       'Lingadheeranahalli', 'Kothanur', 'Whitefield', 'Old Airport Road',\n",
       "       'Rajaji Nagar', 'Marathahalli', '7th Phase JP Nagar', 'Gottigere',\n",
       "       'Sarjapur', 'Mysore Road', 'Bisuvanahalli',\n",
       "       'Raja Rajeshwari Nagar', 'other', 'Kengeri', 'Binny Pete',\n",
       "       'Thanisandra', 'Bellandur', 'Electronic City', 'Ramagondanahalli',\n",
       "       'Yelahanka', 'Hebbal', 'Kasturi Nagar', 'Kanakpura Road',\n",
       "       'Electronics City Phase 1', 'Kundalahalli', 'Chikkalasandra',\n",
       "       'Murugeshpalya', 'Sarjapur  Road', 'Doddathoguru', 'KR Puram',\n",
       "       'Bhoganhalli', 'Lakshminarayana Pura', 'Begur Road', 'Devanahalli',\n",
       "       'Varthur', 'Bommanahalli', 'Gunjur', 'Hegde Nagar', 'Haralur Road',\n",
       "       'Hennur Road', 'Kothannur', 'Kalena Agrahara', 'ISRO Layout',\n",
       "       'Garudachar Palya', 'EPIP Zone', 'Dasanapura', 'Kasavanhalli',\n",
       "       'Sanjay nagar', 'Domlur', 'Sarjapura - Attibele Road',\n",
       "       'Yeshwanthpur', 'Chandapura', 'Nagarbhavi', 'Ramamurthy Nagar',\n",
       "       'Malleshwaram', 'Akshaya Nagar', 'Shampura', 'Kadugodi',\n",
       "       'LB Shastri Nagar', 'Hormavu', 'Kudlu Gate', '8th Phase JP Nagar',\n",
       "       'Bommasandra Industrial Area', 'Anandapura',\n",
       "       'Vishveshwarya Layout', 'Kengeri Satellite Town', 'Kannamangala',\n",
       "       'Devarachikkanahalli', 'Hulimavu', 'Mahalakshmi Layout',\n",
       "       'Hosa Road', 'CV Raman Nagar', 'Hebbal Kempapura', 'Vijayanagar',\n",
       "       'Pattandur Agrahara', 'HSR Layout', 'Nagasandra', 'Kogilu',\n",
       "       'Panathur', 'Padmanabhanagar', '1st Block Jayanagar',\n",
       "       'Kammasandra', 'Dasarahalli', 'Magadi Road', 'Koramangala',\n",
       "       'Dommasandra', 'Budigere', 'Kalyan nagar', 'OMBR Layout',\n",
       "       'Horamavu Agara', 'Ambedkar Nagar', 'Attibele', 'Talaghattapura',\n",
       "       'Balagere', 'Jigani', 'Gollarapalya Hosahalli', 'Old Madras Road',\n",
       "       'Kaggadasapura', '9th Phase JP Nagar', 'Jakkur', 'TC Palaya',\n",
       "       'Singasandra', 'AECS Layout', 'Mallasandra', 'Begur', 'JP Nagar',\n",
       "       'Malleshpalya', 'Munnekollal', 'Giri Nagar', 'Kaval Byrasandra',\n",
       "       'Kaggalipura', '6th Phase JP Nagar', 'Ulsoor', 'Thigalarapalya',\n",
       "       'Somasundara Palya', 'Basaveshwara Nagar', 'Bommasandra',\n",
       "       'Ardendale', 'Harlur', 'Kodihalli', 'Narayanapura',\n",
       "       'Bannerghatta Road', 'Hennur', '5th Phase JP Nagar', 'Kodigehaali',\n",
       "       'Billekahalli', 'Jalahalli', 'Mahadevpura', 'Anekal', 'Sompura',\n",
       "       'Dodda Nekkundi', 'Hosur Road', 'Battarahalli', 'Ambalipura',\n",
       "       'Hoodi', 'Brookefield', 'Yelenahalli', 'Vittasandra',\n",
       "       '2nd Stage Nagarbhavi', 'Vidyaranyapura', 'Amruthahalli',\n",
       "       'Kodigehalli', 'Subramanyapura', 'Kereguddadahalli', 'Kambipura',\n",
       "       'Banashankari Stage III', 'Sector 7 HSR Layout', 'Rajiv Nagar',\n",
       "       'Arekere', 'Mico Layout', 'Kammanahalli', 'Banashankari',\n",
       "       'Chikkabanavar', 'HRBR Layout', 'Nehru Nagar', 'Kanakapura',\n",
       "       'Konanakunte', 'R.T. Nagar', 'Tumkur Road', 'Vasanthapura',\n",
       "       'GM Palaya', 'Jalahalli East', 'Hosakerehalli', 'Indira Nagar',\n",
       "       'Kodichikkanahalli', 'Varthur Road', 'Anjanapura', 'Abbigere',\n",
       "       'Tindlu', 'Gubbalala', 'Parappana Agrahara', 'Cunningham Road',\n",
       "       'Kudlu', 'Vishwapriya Layout', 'Banashankari Stage VI', 'Cox Town',\n",
       "       'Kathriguppe', 'Yelahanka New Town', 'Sahakara Nagar',\n",
       "       'Rachenahalli', 'Yelachenahalli', 'Green Glen Layout',\n",
       "       'Thubarahalli', 'Horamavu Banaswadi', '1st Phase JP Nagar',\n",
       "       'NGR Layout', 'Seegehalli', 'BEML Layout', 'NRI Layout', 'ITPL',\n",
       "       'Margondanahalli', 'Babusapalaya', 'Iblur Village', 'Ananth Nagar',\n",
       "       'Channasandra', 'Choodasandra', 'Kaikondrahalli', 'Neeladri Nagar',\n",
       "       'Frazer Town', 'Cooke Town', 'Doddakallasandra', 'Chamrajpet',\n",
       "       'Rayasandra', 'Pai Layout', 'Banashankari Stage V', 'Sonnenahalli',\n",
       "       'Benson Town', '2nd Phase Judicial Layout', 'Poorna Pragna Layout',\n",
       "       'Judicial Layout', 'Banashankari Stage II', 'Karuna Nagar',\n",
       "       'Banjara Layout', 'Marsur', 'Basavangudi', 'Bannerghatta',\n",
       "       'Bommenahalli', 'HBR Layout', 'Laggere', 'Prithvi Layout',\n",
       "       'Banaswadi', 'Sector 2 HSR Layout', 'Badavala Nagar',\n",
       "       'Nagavarapalya', 'BTM Layout', '5th Block Hbr Layout', 'Nagavara',\n",
       "       'BTM 2nd Stage', 'Hoskote', 'Doddaballapur', 'Kumaraswami Layout',\n",
       "       'Sarakki Nagar', 'Bharathi Nagar', 'HAL 2nd Stage',\n",
       "       'Sultan Palaya', 'Kadubeesanahalli', 'Shivaji Nagar',\n",
       "       'Kenchenahalli'], dtype=object)"
      ]
     },
     "execution_count": 153,
     "metadata": {},
     "output_type": "execute_result"
    }
   ],
   "source": [
    "df5.location.unique()"
   ]
  },
  {
   "cell_type": "code",
   "execution_count": 161,
   "id": "aa55de50",
   "metadata": {},
   "outputs": [],
   "source": [
    "colors=['red','green','blue','yellow','#00ffff','#ff00bf','black','#937f91','#ff4000','#937f3c']\n",
    "\n",
    "def plot_loc_bhk(df,location):\n",
    "    df=df[df.location==location][['bhk','total_sqft','price']]\n",
    "    matplotlib.rcParams['figure.figsize']=(15,10)\n",
    "    for i,bhk in enumerate(df.bhk.unique()):\n",
    "        bhk_df=df[df.bhk==bhk]\n",
    "        plt.scatter(bhk_df.total_sqft,bhk_df.price,color=colors[i],label=f'{bhk} BHK',s=50)\n",
    "    plt.xlabel('total sqft')\n",
    "    plt.ylabel('total price')\n",
    "    plt.title(location)\n",
    "    plt.legend()"
   ]
  },
  {
   "cell_type": "code",
   "execution_count": 157,
   "id": "ab907ec1",
   "metadata": {},
   "outputs": [
    {
     "data": {
      "image/png": "[encoded data removed]",
      "text/plain": [
       "<Figure size 1080x720 with 1 Axes>"
      ]
     },
     "metadata": {
      "needs_background": "light"
     },
     "output_type": "display_data"
    }
   ],
   "source": [
    "plot_loc_bhk(df5,'Rajaji Nagar')"
   ]
  },
  {
   "cell_type": "code",
   "execution_count": 159,
   "id": "640bdb80",
   "metadata": {},
   "outputs": [
    {
     "data": {
      "image/png": "[encoded data removed]",
      "text/plain": [
       "<Figure size 1080x720 with 1 Axes>"
      ]
     },
     "metadata": {
      "needs_background": "light"
     },
     "output_type": "display_data"
    }
   ],
   "source": [
    "plot_loc_bhk(df5,'Uttarahalli')"
   ]
  },
  {
   "cell_type": "code",
   "execution_count": 162,
   "id": "1d5f3940",
   "metadata": {},
   "outputs": [
    {
     "data": {
      "image/png": "[encoded data removed]",
      "text/plain": [
       "<Figure size 1080x720 with 1 Axes>"
      ]
     },
     "metadata": {
      "needs_background": "light"
     },
     "output_type": "display_data"
    }
   ],
   "source": [
    "plot_loc_bhk(df5,'Kothanur')"
   ]
  },
  {
   "cell_type": "code",
   "execution_count": 194,
   "id": "78d690cb",
   "metadata": {},
   "outputs": [
    {
     "data": {
      "text/plain": [
       "((8696, 6), (12408, 6))"
      ]
     },
     "execution_count": 194,
     "metadata": {},
     "output_type": "execute_result"
    }
   ],
   "source": [
    "def remove_bhk_outliers(df):\n",
    "    exclude_indices=np.array([])\n",
    "    for location,location_df in df.groupby('location'):\n",
    "        bhk_stats={}\n",
    "        for bhk,bhk_df in location_df.groupby(\"bhk\"):\n",
    "            bhk_stats[bhk]={\n",
    "                'mean': np.mean(bhk_df['price_per_sqft']),\n",
    "                'count': bhk_df.shape[0]\n",
    "            }\n",
    "        for bhk,bhk_df in location_df.groupby(\"bhk\"):\n",
    "            stats=bhk_stats.get(bhk-1)\n",
    "            if stats and stats['count']>5:\n",
    "                exclude_indices=np.append(exclude_indices,bhk_df[bhk_df['price_per_sqft']<stats['mean']].index.values)\n",
    "    return df.drop(exclude_indices,axis='index')\n",
    "\n",
    "df6=remove_bhk_outliers(df5)\n",
    "df6.shape ,df5.shape            "
   ]
  },
  {
   "cell_type": "code",
   "execution_count": 168,
   "id": "371dab5e",
   "metadata": {},
   "outputs": [
    {
     "data": {
      "image/png": "[encoded data removed]",
      "text/plain": [
       "<Figure size 1080x720 with 1 Axes>"
      ]
     },
     "metadata": {
      "needs_background": "light"
     },
     "output_type": "display_data"
    }
   ],
   "source": [
    "plot_loc_bhk(df6,'Uttarahalli')"
   ]
  },
  {
   "cell_type": "code",
   "execution_count": 171,
   "id": "1bb18c81",
   "metadata": {},
   "outputs": [
    {
     "data": {
      "image/png": "[encoded data removed]",
      "text/plain": [
       "<Figure size 720x360 with 1 Axes>"
      ]
     },
     "metadata": {
      "needs_background": "light"
     },
     "output_type": "display_data"
    }
   ],
   "source": [
    "matplotlib.rcParams[\"figure.figsize\"]=(10,5)\n",
    "plt.hist(df5['price_per_sqft'],rwidth=0.8)\n",
    "plt.xlabel(\"price per sqft\")\n",
    "plt.ylabel('count')\n",
    "plt.title('area distribution')\n",
    "plt.show()"
   ]
  },
  {
   "cell_type": "code",
   "execution_count": 177,
   "id": "1ae85420",
   "metadata": {},
   "outputs": [
    {
     "data": {
      "text/plain": [
       "<AxesSubplot:xlabel='price', ylabel='Count'>"
      ]
     },
     "execution_count": 177,
     "metadata": {},
     "output_type": "execute_result"
    },
    {
     "data": {
      "image/png": "[encoded data removed]",
      "text/plain": [
       "<Figure size 864x432 with 1 Axes>"
      ]
     },
     "metadata": {
      "needs_background": "light"
     },
     "output_type": "display_data"
    }
   ],
   "source": [
    "plt.figure(figsize=(12,6))\n",
    "sns.histplot(df6.price,bins=20)"
   ]
  },
  {
   "cell_type": "code",
   "execution_count": 183,
   "id": "4eba737f",
   "metadata": {},
   "outputs": [
    {
     "data": {
      "text/plain": [
       "<AxesSubplot:xlabel='total_sqft', ylabel='price'>"
      ]
     },
     "execution_count": 183,
     "metadata": {},
     "output_type": "execute_result"
    },
    {
     "data": {
      "image/png": "[encoded data removed]",
      "text/plain": [
       "<Figure size 864x432 with 1 Axes>"
      ]
     },
     "metadata": {
      "needs_background": "light"
     },
     "output_type": "display_data"
    }
   ],
   "source": [
    "plt.figure(figsize=(12,6))\n",
    "sns.scatterplot(x=np.log(df6.total_sqft),y=np.log(df6.price))"
   ]
  },
  {
   "cell_type": "code",
   "execution_count": 198,
   "id": "89593c1b",
   "metadata": {},
   "outputs": [],
   "source": [
    "upper_limit=np.exp(9.5)\n",
    "df6=df6.drop(df6[df6.total_sqft>upper_limit].index)"
   ]
  },
  {
   "cell_type": "code",
   "execution_count": 200,
   "id": "fbba6041",
   "metadata": {},
   "outputs": [
    {
     "data": {
      "text/plain": [
       "<AxesSubplot:xlabel='bhk', ylabel='price'>"
      ]
     },
     "execution_count": 200,
     "metadata": {},
     "output_type": "execute_result"
    },
    {
     "data": {
      "image/png": "[encoded data removed]",
      "text/plain": [
       "<Figure size 1080x720 with 1 Axes>"
      ]
     },
     "metadata": {
      "needs_background": "light"
     },
     "output_type": "display_data"
    }
   ],
   "source": [
    "sns.scatterplot(x=df6.bhk,y=df6.price)"
   ]
  },
  {
   "cell_type": "code",
   "execution_count": 202,
   "id": "fe1aaadc",
   "metadata": {},
   "outputs": [
    {
     "data": {
      "text/plain": [
       "<AxesSubplot:xlabel='bhk', ylabel='total_sqft'>"
      ]
     },
     "execution_count": 202,
     "metadata": {},
     "output_type": "execute_result"
    },
    {
     "data": {
      "image/png": "[encoded data removed]",
      "text/plain": [
       "<Figure size 1080x720 with 1 Axes>"
      ]
     },
     "metadata": {
      "needs_background": "light"
     },
     "output_type": "display_data"
    }
   ],
   "source": [
    "sns.scatterplot(x=df6.bhk,y=df6.total_sqft)"
   ]
  },
  {
   "cell_type": "code",
   "execution_count": 201,
   "id": "efc7de65",
   "metadata": {},
   "outputs": [
    {
     "data": {
      "text/html": [
       "<div>\n",
       "<style scoped>\n",
       "    .dataframe tbody tr th:only-of-type {\n",
       "        vertical-align: middle;\n",
       "    }\n",
       "\n",
       "    .dataframe tbody tr th {\n",
       "        vertical-align: top;\n",
       "    }\n",
       "\n",
       "    .dataframe thead th {\n",
       "        text-align: right;\n",
       "    }\n",
       "</style>\n",
       "<table border=\"1\" class=\"dataframe\">\n",
       "  <thead>\n",
       "    <tr style=\"text-align: right;\">\n",
       "      <th></th>\n",
       "      <th>location</th>\n",
       "      <th>bhk</th>\n",
       "      <th>total_sqft</th>\n",
       "      <th>bath</th>\n",
       "      <th>price</th>\n",
       "      <th>price_per_sqft</th>\n",
       "    </tr>\n",
       "  </thead>\n",
       "  <tbody>\n",
       "    <tr>\n",
       "      <th>459</th>\n",
       "      <td>other</td>\n",
       "      <td>11</td>\n",
       "      <td>5000.0</td>\n",
       "      <td>9.0</td>\n",
       "      <td>360.0</td>\n",
       "      <td>7200.00</td>\n",
       "    </tr>\n",
       "    <tr>\n",
       "      <th>3609</th>\n",
       "      <td>other</td>\n",
       "      <td>16</td>\n",
       "      <td>10000.0</td>\n",
       "      <td>16.0</td>\n",
       "      <td>550.0</td>\n",
       "      <td>5500.00</td>\n",
       "    </tr>\n",
       "    <tr>\n",
       "      <th>7979</th>\n",
       "      <td>other</td>\n",
       "      <td>11</td>\n",
       "      <td>6000.0</td>\n",
       "      <td>12.0</td>\n",
       "      <td>150.0</td>\n",
       "      <td>2500.00</td>\n",
       "    </tr>\n",
       "    <tr>\n",
       "      <th>9935</th>\n",
       "      <td>other</td>\n",
       "      <td>13</td>\n",
       "      <td>5425.0</td>\n",
       "      <td>13.0</td>\n",
       "      <td>275.0</td>\n",
       "      <td>5069.12</td>\n",
       "    </tr>\n",
       "  </tbody>\n",
       "</table>\n",
       "</div>"
      ],
      "text/plain": [
       "     location  bhk  total_sqft  bath  price  price_per_sqft\n",
       "459     other   11      5000.0   9.0  360.0         7200.00\n",
       "3609    other   16     10000.0  16.0  550.0         5500.00\n",
       "7979    other   11      6000.0  12.0  150.0         2500.00\n",
       "9935    other   13      5425.0  13.0  275.0         5069.12"
      ]
     },
     "execution_count": 201,
     "metadata": {},
     "output_type": "execute_result"
    }
   ],
   "source": [
    "df6[df6.bhk>10]"
   ]
  },
  {
   "cell_type": "code",
   "execution_count": 203,
   "id": "f94f2ca3",
   "metadata": {},
   "outputs": [],
   "source": [
    "df6=df6.drop(df6[df6.bhk>10].index)"
   ]
  },
  {
   "cell_type": "code",
   "execution_count": 204,
   "id": "972f3e51",
   "metadata": {},
   "outputs": [
    {
     "data": {
      "text/plain": [
       "location           object\n",
       "bhk                 int64\n",
       "total_sqft        float64\n",
       "bath              float64\n",
       "price             float64\n",
       "price_per_sqft    float64\n",
       "dtype: object"
      ]
     },
     "execution_count": 204,
     "metadata": {},
     "output_type": "execute_result"
    }
   ],
   "source": [
    "df6.dtypes"
   ]
  },
  {
   "cell_type": "code",
   "execution_count": 208,
   "id": "0b4653ff",
   "metadata": {},
   "outputs": [
    {
     "data": {
      "text/html": [
       "<div>\n",
       "<style scoped>\n",
       "    .dataframe tbody tr th:only-of-type {\n",
       "        vertical-align: middle;\n",
       "    }\n",
       "\n",
       "    .dataframe tbody tr th {\n",
       "        vertical-align: top;\n",
       "    }\n",
       "\n",
       "    .dataframe thead th {\n",
       "        text-align: right;\n",
       "    }\n",
       "</style>\n",
       "<table border=\"1\" class=\"dataframe\">\n",
       "  <thead>\n",
       "    <tr style=\"text-align: right;\">\n",
       "      <th></th>\n",
       "      <th>bhk</th>\n",
       "      <th>total_sqft</th>\n",
       "      <th>bath</th>\n",
       "      <th>price</th>\n",
       "      <th>price_per_sqft</th>\n",
       "    </tr>\n",
       "  </thead>\n",
       "  <tbody>\n",
       "    <tr>\n",
       "      <th>bhk</th>\n",
       "      <td>1.000000</td>\n",
       "      <td>0.678151</td>\n",
       "      <td>0.888037</td>\n",
       "      <td>0.524883</td>\n",
       "      <td>0.407697</td>\n",
       "    </tr>\n",
       "    <tr>\n",
       "      <th>total_sqft</th>\n",
       "      <td>0.678151</td>\n",
       "      <td>1.000000</td>\n",
       "      <td>0.709506</td>\n",
       "      <td>0.790831</td>\n",
       "      <td>0.378681</td>\n",
       "    </tr>\n",
       "    <tr>\n",
       "      <th>bath</th>\n",
       "      <td>0.888037</td>\n",
       "      <td>0.709506</td>\n",
       "      <td>1.000000</td>\n",
       "      <td>0.551097</td>\n",
       "      <td>0.405958</td>\n",
       "    </tr>\n",
       "    <tr>\n",
       "      <th>price</th>\n",
       "      <td>0.524883</td>\n",
       "      <td>0.790831</td>\n",
       "      <td>0.551097</td>\n",
       "      <td>1.000000</td>\n",
       "      <td>0.734491</td>\n",
       "    </tr>\n",
       "    <tr>\n",
       "      <th>price_per_sqft</th>\n",
       "      <td>0.407697</td>\n",
       "      <td>0.378681</td>\n",
       "      <td>0.405958</td>\n",
       "      <td>0.734491</td>\n",
       "      <td>1.000000</td>\n",
       "    </tr>\n",
       "  </tbody>\n",
       "</table>\n",
       "</div>"
      ],
      "text/plain": [
       "                     bhk  total_sqft      bath     price  price_per_sqft\n",
       "bhk             1.000000    0.678151  0.888037  0.524883        0.407697\n",
       "total_sqft      0.678151    1.000000  0.709506  0.790831        0.378681\n",
       "bath            0.888037    0.709506  1.000000  0.551097        0.405958\n",
       "price           0.524883    0.790831  0.551097  1.000000        0.734491\n",
       "price_per_sqft  0.407697    0.378681  0.405958  0.734491        1.000000"
      ]
     },
     "execution_count": 208,
     "metadata": {},
     "output_type": "execute_result"
    }
   ],
   "source": [
    "df6.corr()"
   ]
  },
  {
   "cell_type": "code",
   "execution_count": 209,
   "id": "455691df",
   "metadata": {},
   "outputs": [],
   "source": [
    "df7=df6.drop('price_per_sqft',axis=1)"
   ]
  },
  {
   "cell_type": "code",
   "execution_count": 210,
   "id": "0263a22c",
   "metadata": {},
   "outputs": [
    {
     "data": {
      "text/html": [
       "<div>\n",
       "<style scoped>\n",
       "    .dataframe tbody tr th:only-of-type {\n",
       "        vertical-align: middle;\n",
       "    }\n",
       "\n",
       "    .dataframe tbody tr th {\n",
       "        vertical-align: top;\n",
       "    }\n",
       "\n",
       "    .dataframe thead th {\n",
       "        text-align: right;\n",
       "    }\n",
       "</style>\n",
       "<table border=\"1\" class=\"dataframe\">\n",
       "  <thead>\n",
       "    <tr style=\"text-align: right;\">\n",
       "      <th></th>\n",
       "      <th>location</th>\n",
       "      <th>bhk</th>\n",
       "      <th>total_sqft</th>\n",
       "      <th>bath</th>\n",
       "      <th>price</th>\n",
       "    </tr>\n",
       "  </thead>\n",
       "  <tbody>\n",
       "    <tr>\n",
       "      <th>10455</th>\n",
       "      <td>Hennur Road</td>\n",
       "      <td>3</td>\n",
       "      <td>7.591357</td>\n",
       "      <td>3.0</td>\n",
       "      <td>4.897840</td>\n",
       "    </tr>\n",
       "    <tr>\n",
       "      <th>1060</th>\n",
       "      <td>Yelahanka</td>\n",
       "      <td>2</td>\n",
       "      <td>7.118016</td>\n",
       "      <td>2.0</td>\n",
       "      <td>4.382027</td>\n",
       "    </tr>\n",
       "    <tr>\n",
       "      <th>3146</th>\n",
       "      <td>Murugeshpalya</td>\n",
       "      <td>3</td>\n",
       "      <td>7.346010</td>\n",
       "      <td>3.0</td>\n",
       "      <td>4.304065</td>\n",
       "    </tr>\n",
       "    <tr>\n",
       "      <th>13166</th>\n",
       "      <td>Doddathoguru</td>\n",
       "      <td>2</td>\n",
       "      <td>6.810142</td>\n",
       "      <td>2.0</td>\n",
       "      <td>3.688879</td>\n",
       "    </tr>\n",
       "    <tr>\n",
       "      <th>9319</th>\n",
       "      <td>Kaggadasapura</td>\n",
       "      <td>2</td>\n",
       "      <td>6.652863</td>\n",
       "      <td>2.0</td>\n",
       "      <td>3.384390</td>\n",
       "    </tr>\n",
       "  </tbody>\n",
       "</table>\n",
       "</div>"
      ],
      "text/plain": [
       "            location  bhk  total_sqft  bath     price\n",
       "10455    Hennur Road    3    7.591357   3.0  4.897840\n",
       "1060       Yelahanka    2    7.118016   2.0  4.382027\n",
       "3146   Murugeshpalya    3    7.346010   3.0  4.304065\n",
       "13166   Doddathoguru    2    6.810142   2.0  3.688879\n",
       "9319   Kaggadasapura    2    6.652863   2.0  3.384390"
      ]
     },
     "execution_count": 210,
     "metadata": {},
     "output_type": "execute_result"
    }
   ],
   "source": [
    "df7.price=np.log(df6.price)\n",
    "df7.total_sqft=np.log(df6.total_sqft)\n",
    "df7.sample(5)"
   ]
  },
  {
   "cell_type": "code",
   "execution_count": 211,
   "id": "3b392e66",
   "metadata": {},
   "outputs": [
    {
     "data": {
      "text/html": [
       "<div>\n",
       "<style scoped>\n",
       "    .dataframe tbody tr th:only-of-type {\n",
       "        vertical-align: middle;\n",
       "    }\n",
       "\n",
       "    .dataframe tbody tr th {\n",
       "        vertical-align: top;\n",
       "    }\n",
       "\n",
       "    .dataframe thead th {\n",
       "        text-align: right;\n",
       "    }\n",
       "</style>\n",
       "<table border=\"1\" class=\"dataframe\">\n",
       "  <thead>\n",
       "    <tr style=\"text-align: right;\">\n",
       "      <th></th>\n",
       "      <th>bhk</th>\n",
       "      <th>total_sqft</th>\n",
       "      <th>bath</th>\n",
       "      <th>price</th>\n",
       "    </tr>\n",
       "  </thead>\n",
       "  <tbody>\n",
       "    <tr>\n",
       "      <th>bhk</th>\n",
       "      <td>1.000000</td>\n",
       "      <td>0.763298</td>\n",
       "      <td>0.888037</td>\n",
       "      <td>0.708997</td>\n",
       "    </tr>\n",
       "    <tr>\n",
       "      <th>total_sqft</th>\n",
       "      <td>0.763298</td>\n",
       "      <td>1.000000</td>\n",
       "      <td>0.771411</td>\n",
       "      <td>0.847009</td>\n",
       "    </tr>\n",
       "    <tr>\n",
       "      <th>bath</th>\n",
       "      <td>0.888037</td>\n",
       "      <td>0.771411</td>\n",
       "      <td>1.000000</td>\n",
       "      <td>0.715238</td>\n",
       "    </tr>\n",
       "    <tr>\n",
       "      <th>price</th>\n",
       "      <td>0.708997</td>\n",
       "      <td>0.847009</td>\n",
       "      <td>0.715238</td>\n",
       "      <td>1.000000</td>\n",
       "    </tr>\n",
       "  </tbody>\n",
       "</table>\n",
       "</div>"
      ],
      "text/plain": [
       "                 bhk  total_sqft      bath     price\n",
       "bhk         1.000000    0.763298  0.888037  0.708997\n",
       "total_sqft  0.763298    1.000000  0.771411  0.847009\n",
       "bath        0.888037    0.771411  1.000000  0.715238\n",
       "price       0.708997    0.847009  0.715238  1.000000"
      ]
     },
     "execution_count": 211,
     "metadata": {},
     "output_type": "execute_result"
    }
   ],
   "source": [
    "df7.corr()"
   ]
  },
  {
   "cell_type": "code",
   "execution_count": 372,
   "id": "0996adcb",
   "metadata": {},
   "outputs": [
    {
     "data": {
      "text/html": [
       "<div>\n",
       "<style scoped>\n",
       "    .dataframe tbody tr th:only-of-type {\n",
       "        vertical-align: middle;\n",
       "    }\n",
       "\n",
       "    .dataframe tbody tr th {\n",
       "        vertical-align: top;\n",
       "    }\n",
       "\n",
       "    .dataframe thead th {\n",
       "        text-align: right;\n",
       "    }\n",
       "</style>\n",
       "<table border=\"1\" class=\"dataframe\">\n",
       "  <thead>\n",
       "    <tr style=\"text-align: right;\">\n",
       "      <th></th>\n",
       "      <th>bhk</th>\n",
       "      <th>total_sqft</th>\n",
       "      <th>bath</th>\n",
       "    </tr>\n",
       "  </thead>\n",
       "  <tbody>\n",
       "    <tr>\n",
       "      <th>0</th>\n",
       "      <td>-0.613505</td>\n",
       "      <td>-0.667607</td>\n",
       "      <td>-0.521366</td>\n",
       "    </tr>\n",
       "    <tr>\n",
       "      <th>2</th>\n",
       "      <td>0.412071</td>\n",
       "      <td>0.036420</td>\n",
       "      <td>-0.521366</td>\n",
       "    </tr>\n",
       "    <tr>\n",
       "      <th>3</th>\n",
       "      <td>0.412071</td>\n",
       "      <td>0.160642</td>\n",
       "      <td>0.396994</td>\n",
       "    </tr>\n",
       "    <tr>\n",
       "      <th>4</th>\n",
       "      <td>-0.613505</td>\n",
       "      <td>-0.377435</td>\n",
       "      <td>-0.521366</td>\n",
       "    </tr>\n",
       "    <tr>\n",
       "      <th>6</th>\n",
       "      <td>1.437647</td>\n",
       "      <td>1.490057</td>\n",
       "      <td>1.315354</td>\n",
       "    </tr>\n",
       "  </tbody>\n",
       "</table>\n",
       "</div>"
      ],
      "text/plain": [
       "        bhk  total_sqft      bath\n",
       "0 -0.613505   -0.667607 -0.521366\n",
       "2  0.412071    0.036420 -0.521366\n",
       "3  0.412071    0.160642  0.396994\n",
       "4 -0.613505   -0.377435 -0.521366\n",
       "6  1.437647    1.490057  1.315354"
      ]
     },
     "execution_count": 372,
     "metadata": {},
     "output_type": "execute_result"
    }
   ],
   "source": [
    "from sklearn.preprocessing import StandardScaler\n",
    "input_scaler=StandardScaler()\n",
    "input_scaled_df=pd.DataFrame(input_scaler.fit_transform(df7[['bhk','total_sqft','bath']]),\n",
    "                       columns=['bhk','total_sqft','bath'],index=df7.index)\n",
    "input_scaled_df.head()"
   ]
  },
  {
   "cell_type": "code",
   "execution_count": 383,
   "id": "43801ae4",
   "metadata": {},
   "outputs": [
    {
     "data": {
      "text/plain": [
       "array([[-1.07708408],\n",
       "       [-0.46900165],\n",
       "       [ 0.09294324],\n",
       "       ...,\n",
       "       [-0.51218009],\n",
       "       [ 2.24784522],\n",
       "       [-2.1728683 ]])"
      ]
     },
     "execution_count": 383,
     "metadata": {},
     "output_type": "execute_result"
    }
   ],
   "source": [
    "price_scaler=StandardScaler()\n",
    "price_scaled=price_scaler.fit_transform(df7.price.values.reshape(-1,1))\n",
    "price_scaled"
   ]
  },
  {
   "cell_type": "code",
   "execution_count": 385,
   "id": "490dd059",
   "metadata": {
    "scrolled": true
   },
   "outputs": [
    {
     "data": {
      "text/html": [
       "<div>\n",
       "<style scoped>\n",
       "    .dataframe tbody tr th:only-of-type {\n",
       "        vertical-align: middle;\n",
       "    }\n",
       "\n",
       "    .dataframe tbody tr th {\n",
       "        vertical-align: top;\n",
       "    }\n",
       "\n",
       "    .dataframe thead th {\n",
       "        text-align: right;\n",
       "    }\n",
       "</style>\n",
       "<table border=\"1\" class=\"dataframe\">\n",
       "  <thead>\n",
       "    <tr style=\"text-align: right;\">\n",
       "      <th></th>\n",
       "      <th>bhk</th>\n",
       "      <th>total_sqft</th>\n",
       "      <th>bath</th>\n",
       "      <th>1st Phase JP Nagar</th>\n",
       "      <th>2nd Phase Judicial Layout</th>\n",
       "      <th>2nd Stage Nagarbhavi</th>\n",
       "      <th>5th Block Hbr Layout</th>\n",
       "      <th>5th Phase JP Nagar</th>\n",
       "      <th>6th Phase JP Nagar</th>\n",
       "      <th>7th Phase JP Nagar</th>\n",
       "      <th>...</th>\n",
       "      <th>Vishveshwarya Layout</th>\n",
       "      <th>Vishwapriya Layout</th>\n",
       "      <th>Vittasandra</th>\n",
       "      <th>Whitefield</th>\n",
       "      <th>Yelachenahalli</th>\n",
       "      <th>Yelahanka</th>\n",
       "      <th>Yelahanka New Town</th>\n",
       "      <th>Yelenahalli</th>\n",
       "      <th>Yeshwanthpur</th>\n",
       "      <th>other</th>\n",
       "    </tr>\n",
       "  </thead>\n",
       "  <tbody>\n",
       "    <tr>\n",
       "      <th>5413</th>\n",
       "      <td>-0.613505</td>\n",
       "      <td>-0.523933</td>\n",
       "      <td>-0.521366</td>\n",
       "      <td>0</td>\n",
       "      <td>0</td>\n",
       "      <td>0</td>\n",
       "      <td>0</td>\n",
       "      <td>0</td>\n",
       "      <td>0</td>\n",
       "      <td>0</td>\n",
       "      <td>...</td>\n",
       "      <td>0</td>\n",
       "      <td>0</td>\n",
       "      <td>0</td>\n",
       "      <td>0</td>\n",
       "      <td>0</td>\n",
       "      <td>0</td>\n",
       "      <td>0</td>\n",
       "      <td>0</td>\n",
       "      <td>0</td>\n",
       "      <td>0</td>\n",
       "    </tr>\n",
       "    <tr>\n",
       "      <th>4127</th>\n",
       "      <td>-0.613505</td>\n",
       "      <td>-0.396431</td>\n",
       "      <td>-0.521366</td>\n",
       "      <td>0</td>\n",
       "      <td>0</td>\n",
       "      <td>0</td>\n",
       "      <td>0</td>\n",
       "      <td>0</td>\n",
       "      <td>0</td>\n",
       "      <td>0</td>\n",
       "      <td>...</td>\n",
       "      <td>0</td>\n",
       "      <td>0</td>\n",
       "      <td>0</td>\n",
       "      <td>0</td>\n",
       "      <td>0</td>\n",
       "      <td>0</td>\n",
       "      <td>0</td>\n",
       "      <td>0</td>\n",
       "      <td>0</td>\n",
       "      <td>1</td>\n",
       "    </tr>\n",
       "    <tr>\n",
       "      <th>3926</th>\n",
       "      <td>1.437647</td>\n",
       "      <td>2.777841</td>\n",
       "      <td>1.315354</td>\n",
       "      <td>0</td>\n",
       "      <td>0</td>\n",
       "      <td>0</td>\n",
       "      <td>0</td>\n",
       "      <td>0</td>\n",
       "      <td>0</td>\n",
       "      <td>0</td>\n",
       "      <td>...</td>\n",
       "      <td>0</td>\n",
       "      <td>0</td>\n",
       "      <td>0</td>\n",
       "      <td>0</td>\n",
       "      <td>0</td>\n",
       "      <td>0</td>\n",
       "      <td>0</td>\n",
       "      <td>0</td>\n",
       "      <td>0</td>\n",
       "      <td>0</td>\n",
       "    </tr>\n",
       "    <tr>\n",
       "      <th>981</th>\n",
       "      <td>0.412071</td>\n",
       "      <td>-0.034020</td>\n",
       "      <td>-0.521366</td>\n",
       "      <td>0</td>\n",
       "      <td>0</td>\n",
       "      <td>0</td>\n",
       "      <td>0</td>\n",
       "      <td>0</td>\n",
       "      <td>0</td>\n",
       "      <td>0</td>\n",
       "      <td>...</td>\n",
       "      <td>0</td>\n",
       "      <td>0</td>\n",
       "      <td>0</td>\n",
       "      <td>0</td>\n",
       "      <td>0</td>\n",
       "      <td>0</td>\n",
       "      <td>0</td>\n",
       "      <td>0</td>\n",
       "      <td>0</td>\n",
       "      <td>0</td>\n",
       "    </tr>\n",
       "    <tr>\n",
       "      <th>5283</th>\n",
       "      <td>-0.613505</td>\n",
       "      <td>-0.691376</td>\n",
       "      <td>-0.521366</td>\n",
       "      <td>0</td>\n",
       "      <td>0</td>\n",
       "      <td>0</td>\n",
       "      <td>0</td>\n",
       "      <td>0</td>\n",
       "      <td>0</td>\n",
       "      <td>0</td>\n",
       "      <td>...</td>\n",
       "      <td>0</td>\n",
       "      <td>0</td>\n",
       "      <td>0</td>\n",
       "      <td>0</td>\n",
       "      <td>0</td>\n",
       "      <td>0</td>\n",
       "      <td>0</td>\n",
       "      <td>0</td>\n",
       "      <td>0</td>\n",
       "      <td>0</td>\n",
       "    </tr>\n",
       "  </tbody>\n",
       "</table>\n",
       "<p>5 rows × 243 columns</p>\n",
       "</div>"
      ],
      "text/plain": [
       "           bhk  total_sqft      bath  1st Phase JP Nagar  \\\n",
       "5413 -0.613505   -0.523933 -0.521366                   0   \n",
       "4127 -0.613505   -0.396431 -0.521366                   0   \n",
       "3926  1.437647    2.777841  1.315354                   0   \n",
       "981   0.412071   -0.034020 -0.521366                   0   \n",
       "5283 -0.613505   -0.691376 -0.521366                   0   \n",
       "\n",
       "      2nd Phase Judicial Layout  2nd Stage Nagarbhavi  5th Block Hbr Layout  \\\n",
       "5413                          0                     0                     0   \n",
       "4127                          0                     0                     0   \n",
       "3926                          0                     0                     0   \n",
       "981                           0                     0                     0   \n",
       "5283                          0                     0                     0   \n",
       "\n",
       "      5th Phase JP Nagar  6th Phase JP Nagar  7th Phase JP Nagar  ...  \\\n",
       "5413                   0                   0                   0  ...   \n",
       "4127                   0                   0                   0  ...   \n",
       "3926                   0                   0                   0  ...   \n",
       "981                    0                   0                   0  ...   \n",
       "5283                   0                   0                   0  ...   \n",
       "\n",
       "      Vishveshwarya Layout  Vishwapriya Layout  Vittasandra  Whitefield  \\\n",
       "5413                     0                   0            0           0   \n",
       "4127                     0                   0            0           0   \n",
       "3926                     0                   0            0           0   \n",
       "981                      0                   0            0           0   \n",
       "5283                     0                   0            0           0   \n",
       "\n",
       "      Yelachenahalli  Yelahanka  Yelahanka New Town  Yelenahalli  \\\n",
       "5413               0          0                   0            0   \n",
       "4127               0          0                   0            0   \n",
       "3926               0          0                   0            0   \n",
       "981                0          0                   0            0   \n",
       "5283               0          0                   0            0   \n",
       "\n",
       "      Yeshwanthpur  other  \n",
       "5413             0      0  \n",
       "4127             0      1  \n",
       "3926             0      0  \n",
       "981              0      0  \n",
       "5283             0      0  \n",
       "\n",
       "[5 rows x 243 columns]"
      ]
     },
     "execution_count": 385,
     "metadata": {},
     "output_type": "execute_result"
    }
   ],
   "source": [
    "dummy_df=pd.get_dummies(df7.location,drop_first=True)\n",
    "X=pd.concat([input_scaled_df,dummy_df],axis=1)\n",
    "X.sample(5)"
   ]
  },
  {
   "cell_type": "code",
   "execution_count": 234,
   "id": "a477aa10",
   "metadata": {},
   "outputs": [],
   "source": [
    "X=final_df.drop('price',axis='columns')"
   ]
  },
  {
   "cell_type": "code",
   "execution_count": 384,
   "id": "a52c6130",
   "metadata": {},
   "outputs": [],
   "source": [
    "y=price_scaled"
   ]
  },
  {
   "cell_type": "code",
   "execution_count": 444,
   "id": "7ffe4464",
   "metadata": {},
   "outputs": [
    {
     "data": {
      "text/plain": [
       "0.8340020856325698"
      ]
     },
     "execution_count": 444,
     "metadata": {},
     "output_type": "execute_result"
    }
   ],
   "source": [
    "X_train,X_test,y_train,y_test = train_test_split(X,y,test_size=0.2,random_state=10)\n",
    "reg=LinearRegression()\n",
    "reg.fit(X_train,y_train)\n",
    "reg.score(X_test,y_test)"
   ]
  },
  {
   "cell_type": "code",
   "execution_count": 238,
   "id": "318a2dc2",
   "metadata": {},
   "outputs": [],
   "source": [
    "cv=ShuffleSplit(n_splits=5,test_size=0.2,random_state=0)"
   ]
  },
  {
   "cell_type": "code",
   "execution_count": 239,
   "id": "bea3bfa3",
   "metadata": {},
   "outputs": [
    {
     "data": {
      "text/html": [
       "<div>\n",
       "<style scoped>\n",
       "    .dataframe tbody tr th:only-of-type {\n",
       "        vertical-align: middle;\n",
       "    }\n",
       "\n",
       "    .dataframe tbody tr th {\n",
       "        vertical-align: top;\n",
       "    }\n",
       "\n",
       "    .dataframe thead th {\n",
       "        text-align: right;\n",
       "    }\n",
       "</style>\n",
       "<table border=\"1\" class=\"dataframe\">\n",
       "  <thead>\n",
       "    <tr style=\"text-align: right;\">\n",
       "      <th></th>\n",
       "      <th>0</th>\n",
       "    </tr>\n",
       "  </thead>\n",
       "  <tbody>\n",
       "    <tr>\n",
       "      <th>SVR(C=10)</th>\n",
       "      <td>0.853127</td>\n",
       "    </tr>\n",
       "    <tr>\n",
       "      <th>RandomForestRegressor()</th>\n",
       "      <td>0.833084</td>\n",
       "    </tr>\n",
       "    <tr>\n",
       "      <th>KNeighborsRegressor()</th>\n",
       "      <td>0.831719</td>\n",
       "    </tr>\n",
       "    <tr>\n",
       "      <th>LinearRegression()</th>\n",
       "      <td>0.831371</td>\n",
       "    </tr>\n",
       "    <tr>\n",
       "      <th>Ridge()</th>\n",
       "      <td>0.831091</td>\n",
       "    </tr>\n",
       "    <tr>\n",
       "      <th>GradientBoostingRegressor()</th>\n",
       "      <td>0.824312</td>\n",
       "    </tr>\n",
       "    <tr>\n",
       "      <th>DecisionTreeRegressor()</th>\n",
       "      <td>0.770690</td>\n",
       "    </tr>\n",
       "    <tr>\n",
       "      <th>Lasso()</th>\n",
       "      <td>-0.000935</td>\n",
       "    </tr>\n",
       "  </tbody>\n",
       "</table>\n",
       "</div>"
      ],
      "text/plain": [
       "                                    0\n",
       "SVR(C=10)                    0.853127\n",
       "RandomForestRegressor()      0.833084\n",
       "KNeighborsRegressor()        0.831719\n",
       "LinearRegression()           0.831371\n",
       "Ridge()                      0.831091\n",
       "GradientBoostingRegressor()  0.824312\n",
       "DecisionTreeRegressor()      0.770690\n",
       "Lasso()                     -0.000935"
      ]
     },
     "execution_count": 239,
     "metadata": {},
     "output_type": "execute_result"
    }
   ],
   "source": [
    "models=[Lasso(),Ridge(),LinearRegression(),RandomForestRegressor() \\\n",
    "         ,DecisionTreeRegressor(),SVR(C=1.3),KNeighborsRegressor(n_neighbors=7),GradientBoostingRegressor()]\n",
    "\n",
    "score=[]\n",
    "for model in models:\n",
    "    score.append(cross_val_score(model,X,y,n_jobs=-1,cv=cv).mean())\n",
    "pd.DataFrame(score,index=models).sort_values(by=0,ascending=False)"
   ]
  },
  {
   "cell_type": "code",
   "execution_count": 296,
   "id": "c25000ab",
   "metadata": {},
   "outputs": [
    {
     "data": {
      "text/plain": [
       "array(['Electronic City Phase II', 'Uttarahalli', 'Lingadheeranahalli',\n",
       "       'Kothanur', 'Old Airport Road', 'Rajaji Nagar', 'Whitefield',\n",
       "       '7th Phase JP Nagar', 'Gottigere', 'Sarjapur', 'Mysore Road',\n",
       "       'Bisuvanahalli', 'other', 'Kengeri', 'Binny Pete', 'Thanisandra',\n",
       "       'Bellandur', 'Ramagondanahalli', 'Electronic City', 'Yelahanka',\n",
       "       'Hebbal', 'Kasturi Nagar', 'Kanakpura Road', 'Kundalahalli',\n",
       "       'Murugeshpalya', 'Doddathoguru', 'KR Puram',\n",
       "       'Lakshminarayana Pura', 'Begur Road', 'Devanahalli', 'Varthur',\n",
       "       'Bommanahalli', 'Gunjur', 'Marathahalli', 'Hegde Nagar',\n",
       "       'Haralur Road', 'Hennur Road', 'Kothannur', 'Kalena Agrahara',\n",
       "       'ISRO Layout', 'Garudachar Palya', 'EPIP Zone', 'Dasanapura',\n",
       "       'Kasavanhalli', 'Sanjay nagar', 'Domlur',\n",
       "       'Sarjapura - Attibele Road', 'Ramamurthy Nagar', 'Sarjapur  Road',\n",
       "       'Malleshwaram', 'Akshaya Nagar', 'Shampura', 'Kadugodi', 'Hormavu',\n",
       "       'Kudlu Gate', '8th Phase JP Nagar', 'Bommasandra Industrial Area',\n",
       "       'Anandapura', 'Vishveshwarya Layout', 'Kengeri Satellite Town',\n",
       "       'Kannamangala', 'Hulimavu', 'Mahalakshmi Layout', 'Hosa Road',\n",
       "       'Hebbal Kempapura', 'Pattandur Agrahara', 'Nagasandra', 'Kogilu',\n",
       "       'Panathur', 'Padmanabhanagar', '1st Block Jayanagar',\n",
       "       'Kammasandra', 'Electronics City Phase 1', 'Dasarahalli',\n",
       "       'Magadi Road', 'Dommasandra', 'Kalyan nagar', 'Chandapura',\n",
       "       'OMBR Layout', 'Horamavu Agara', 'Ambedkar Nagar',\n",
       "       'Raja Rajeshwari Nagar', 'Budigere', 'Talaghattapura', 'Balagere',\n",
       "       'Gollarapalya Hosahalli', 'Old Madras Road', 'Kaggadasapura',\n",
       "       '9th Phase JP Nagar', 'Jakkur', 'TC Palaya', 'Singasandra',\n",
       "       'Vijayanagar', 'AECS Layout', 'Mallasandra', 'JP Nagar',\n",
       "       'Malleshpalya', 'Munnekollal', 'Giri Nagar', 'Kaval Byrasandra',\n",
       "       '6th Phase JP Nagar', 'Ulsoor', 'Thigalarapalya',\n",
       "       'Devarachikkanahalli', 'Basaveshwara Nagar', 'Bommasandra',\n",
       "       'Ardendale', 'Harlur', 'Kodihalli', 'Narayanapura',\n",
       "       'Bannerghatta Road', 'Hennur', '5th Phase JP Nagar', 'Kodigehaali',\n",
       "       'Mahadevpura', 'Anekal', 'Sompura', 'Yeshwanthpur',\n",
       "       'Dodda Nekkundi', 'Hosur Road', 'Battarahalli', 'Billekahalli',\n",
       "       'Nagarbhavi', 'Ambalipura', 'Hoodi', 'CV Raman Nagar',\n",
       "       'Brookefield', 'Yelenahalli', 'Vittasandra', 'Chikkalasandra',\n",
       "       '2nd Stage Nagarbhavi', 'Vidyaranyapura', 'Amruthahalli',\n",
       "       'Koramangala', 'Kodigehalli', 'Subramanyapura', 'Kereguddadahalli',\n",
       "       'Kambipura', 'Rajiv Nagar', 'Arekere', 'HSR Layout', 'Mico Layout',\n",
       "       'Kammanahalli', 'Chikkabanavar', 'Attibele', 'HRBR Layout',\n",
       "       'Banashankari Stage III', 'Jigani', 'Nehru Nagar', 'Kanakapura',\n",
       "       'Konanakunte', 'Tumkur Road', 'Vasanthapura', 'Jalahalli',\n",
       "       'GM Palaya', 'Jalahalli East', 'Hosakerehalli',\n",
       "       'Kodichikkanahalli', 'Varthur Road', 'Anjanapura', 'Abbigere',\n",
       "       'Tindlu', 'Gubbalala', 'Parappana Agrahara', 'Banashankari',\n",
       "       'Cunningham Road', 'Kudlu', 'Vishwapriya Layout',\n",
       "       'Banashankari Stage VI', 'Kathriguppe', 'Yelahanka New Town',\n",
       "       'Rachenahalli', 'Green Glen Layout', 'Thubarahalli', 'NGR Layout',\n",
       "       'Sahakara Nagar', 'Seegehalli', 'BEML Layout', 'ITPL',\n",
       "       'Somasundara Palya', 'Indira Nagar', 'Margondanahalli',\n",
       "       'Horamavu Banaswadi', 'Iblur Village', 'Yelachenahalli',\n",
       "       'Ananth Nagar', 'Channasandra', 'Choodasandra', 'Kaikondrahalli',\n",
       "       'Neeladri Nagar', 'Frazer Town', 'Kaggalipura', 'Cooke Town',\n",
       "       'Doddakallasandra', 'Chamrajpet', 'Rayasandra', 'Chikka Tirupathi',\n",
       "       'Pai Layout', 'Banashankari Stage V', 'Begur', 'Benson Town',\n",
       "       '2nd Phase Judicial Layout', 'Poorna Pragna Layout',\n",
       "       'Judicial Layout', 'Banashankari Stage II', 'Bhoganhalli',\n",
       "       'Banjara Layout', 'Marsur', 'Karuna Nagar', 'Bommenahalli',\n",
       "       'R.T. Nagar', 'Laggere', 'Prithvi Layout', 'Bannerghatta',\n",
       "       'Sector 7 HSR Layout', 'Banaswadi', 'Sector 2 HSR Layout',\n",
       "       'Badavala Nagar', 'NRI Layout', 'Basavangudi', 'Nagavarapalya',\n",
       "       'BTM Layout', '5th Block Hbr Layout', 'BTM 2nd Stage',\n",
       "       'Sonnenahalli', 'Hoskote', 'HBR Layout', '1st Phase JP Nagar',\n",
       "       'Doddaballapur', 'Kumaraswami Layout', 'Nagavara', 'Sarakki Nagar',\n",
       "       'Bharathi Nagar', 'Cox Town', 'HAL 2nd Stage', 'LB Shastri Nagar',\n",
       "       'Sultan Palaya', 'Babusapalaya', 'Kadubeesanahalli',\n",
       "       'Shivaji Nagar', 'Kenchenahalli'], dtype=object)"
      ]
     },
     "execution_count": 296,
     "metadata": {},
     "output_type": "execute_result"
    }
   ],
   "source": [
    "df7.location.unique()"
   ]
  },
  {
   "cell_type": "code",
   "execution_count": 305,
   "id": "05099f34",
   "metadata": {},
   "outputs": [
    {
     "data": {
      "text/plain": [
       "0.8568108799782952"
      ]
     },
     "execution_count": 305,
     "metadata": {},
     "output_type": "execute_result"
    }
   ],
   "source": [
    "X_train,X_test,y_train,y_test = train_test_split(X,y,test_size=0.2,random_state=10)\n",
    "model=SVR(C=1.3)\n",
    "model.fit(X_train,y_train)\n",
    "model.score(X_test,y_test)"
   ]
  },
  {
   "cell_type": "code",
   "execution_count": 463,
   "id": "1fc8e31d",
   "metadata": {},
   "outputs": [],
   "source": [
    "def predict_home_price(bhk,total_sqft,bath,location):\n",
    "    loc_index=np.where(X.columns==location)[0][0]\n",
    "    \n",
    "    x=np.zeros(len(X.columns))\n",
    "    x[0],x[1],x[2]= input_scaler.transform([[bhk,np.log(total_sqft),bath]])[0]\n",
    "    x[loc_index]=1\n",
    "     \n",
    "    return np.exp(price_scaler.inverse_transform([model.predict([x])]))[0]"
   ]
  },
  {
   "cell_type": "code",
   "execution_count": 464,
   "id": "043e54a1",
   "metadata": {},
   "outputs": [
    {
     "name": "stderr",
     "output_type": "stream",
     "text": [
      "C:\\ProgramData\\Anaconda3\\lib\\site-packages\\sklearn\\base.py:450: UserWarning: X does not have valid feature names, but StandardScaler was fitted with feature names\n",
      "  warnings.warn(\n",
      "C:\\ProgramData\\Anaconda3\\lib\\site-packages\\sklearn\\base.py:450: UserWarning: X does not have valid feature names, but SVR was fitted with feature names\n",
      "  warnings.warn(\n"
     ]
    },
    {
     "data": {
      "text/plain": [
       "array([[146.58291486]])"
      ]
     },
     "execution_count": 464,
     "metadata": {},
     "output_type": "execute_result"
    }
   ],
   "source": [
    "predict_home_price(3,1934,3,'Kogilu')"
   ]
  },
  {
   "cell_type": "code",
   "execution_count": 465,
   "id": "5201ae69",
   "metadata": {},
   "outputs": [],
   "source": [
    "import pickle\n",
    "\n",
    "with open('model.pickle','wb') as f:\n",
    "    pickle.dump(model,f)"
   ]
  },
  {
   "cell_type": "code",
   "execution_count": 466,
   "id": "dae26b16",
   "metadata": {},
   "outputs": [],
   "source": [
    "import json\n",
    "\n",
    "columns={\n",
    "    'data-columns':[col.lower() for col in final_df.columns]\n",
    "}\n",
    "\n",
    "with open('colummns.json','w') as f:\n",
    "    f.write(json.dumps(columns))"
   ]
  },
  {
   "cell_type": "code",
   "execution_count": null,
   "id": "6317859a",
   "metadata": {},
   "outputs": [],
   "source": []
  }
 ],
 "metadata": {
  "kernelspec": {
   "display_name": "Python 3 (ipykernel)",
   "language": "python",
   "name": "python3"
  },
  "language_info": {
   "codemirror_mode": {
    "name": "ipython",
    "version": 3
   },
   "file_extension": ".py",
   "mimetype": "text/x-python",
   "name": "python",
   "nbconvert_exporter": "python",
   "pygments_lexer": "ipython3",
   "version": "3.10.7"
  }
 },
 "nbformat": 4,
 "nbformat_minor": 5
}
