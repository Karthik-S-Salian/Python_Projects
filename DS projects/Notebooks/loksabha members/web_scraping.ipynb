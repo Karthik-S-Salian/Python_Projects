{
 "cells": [
  {
   "cell_type": "code",
   "execution_count": 1,
   "id": "8d2642b0",
   "metadata": {},
   "outputs": [],
   "source": [
    "import requests\n",
    "from bs4 import BeautifulSoup\n",
    "import re\n",
    "import pandas as pd"
   ]
  },
  {
   "cell_type": "code",
   "execution_count": 31,
   "id": "78b97110",
   "metadata": {},
   "outputs": [],
   "source": [
    "d=dict()\n",
    "for i in range(1,17):\n",
    "    d1=dict()\n",
    "    for mode in ['lokaralpha','womenar','nominated1to12']:\n",
    "        soup = BeautifulSoup(requests.get(f\"https://loksabha.nic.in/Members/{mode}.aspx?lsno={i}&tab=0\").text, 'lxml')\n",
    "        row_list = soup.find(\"table\", {\"class\": \"member_list_table\"}).find_all(\"tr\")[1:]\n",
    "        l=list()\n",
    "        for row in row_list:\n",
    "            l1=list()\n",
    "            for col in row.find_all(\"td\"):\n",
    "                l1.append(re.sub(r\" {1,}\",\" \",col.text.strip()))\n",
    "            l.append(l1)\n",
    "        d1[mode]=l\n",
    "    d[i]=d1\n"
   ]
  },
  {
   "cell_type": "code",
   "execution_count": 69,
   "id": "dfbd9a75",
   "metadata": {},
   "outputs": [],
   "source": [
    "final_df=pd.DataFrame(columns=[\"name\",'party','Constituency & State','gender','is_nominated',\"nth loksabha\"])\n",
    "\n",
    "mode =['lokaralpha','womenar','nominated1to12']\n",
    "for key,values in d.items():\n",
    "    x,y,z=pd.DataFrame(values[mode[0]]),pd.DataFrame(values[mode[1]]),pd.DataFrame(values[mode[2]])\n",
    "    x[\"gender\"]=\"male\"\n",
    "    x['is_nominated']=0\n",
    "    l1=list(set(x[1]) & set(y[1]))\n",
    "    l2=list(set(x[1]) & set(z[1]))\n",
    "    if not(len(l1)==len(y[1]) or len(l2)==len(z[1])):\n",
    "        print(\"error\",len(l1)-len(y[1]),len(l2)-len(z[1]),i)\n",
    "    x.loc[x[x[1].isin(l1)].index,'gender']=\"female\"\n",
    "    x.loc[x[x[1].isin(l2)].index,'is_nominated']=1\n",
    "    x['nth loksabha']=key\n",
    "    x.drop(0,axis=1,inplace=True)\n",
    "    x.columns=[\"name\",'party','Constituency & State','gender','is_nominated',\"nth loksabha\"]\n",
    "    final_df=pd.concat([final_df,x],ignore_index=True)"
   ]
  },
  {
   "cell_type": "code",
   "execution_count": 70,
   "id": "6f538d1f",
   "metadata": {},
   "outputs": [
    {
     "data": {
      "text/html": [
       "<div>\n",
       "<style scoped>\n",
       "    .dataframe tbody tr th:only-of-type {\n",
       "        vertical-align: middle;\n",
       "    }\n",
       "\n",
       "    .dataframe tbody tr th {\n",
       "        vertical-align: top;\n",
       "    }\n",
       "\n",
       "    .dataframe thead th {\n",
       "        text-align: right;\n",
       "    }\n",
       "</style>\n",
       "<table border=\"1\" class=\"dataframe\">\n",
       "  <thead>\n",
       "    <tr style=\"text-align: right;\">\n",
       "      <th></th>\n",
       "      <th>name</th>\n",
       "      <th>party</th>\n",
       "      <th>Constituency &amp; State</th>\n",
       "      <th>gender</th>\n",
       "      <th>is_nominated</th>\n",
       "      <th>nth loksabha</th>\n",
       "    </tr>\n",
       "  </thead>\n",
       "  <tbody>\n",
       "    <tr>\n",
       "      <th>0</th>\n",
       "      <td>Abdullabhai,Mulla Taherali Mulla</td>\n",
       "      <td>Congress</td>\n",
       "      <td>Chanda (Madhya Pradesh )</td>\n",
       "      <td>male</td>\n",
       "      <td>0</td>\n",
       "      <td>1</td>\n",
       "    </tr>\n",
       "    <tr>\n",
       "      <th>1</th>\n",
       "      <td>Abdus Sattar,Shri</td>\n",
       "      <td>Congress</td>\n",
       "      <td>Kalna-Katwa (West Bengal )</td>\n",
       "      <td>male</td>\n",
       "      <td>0</td>\n",
       "      <td>1</td>\n",
       "    </tr>\n",
       "    <tr>\n",
       "      <th>2</th>\n",
       "      <td>Achal Singh,Seth</td>\n",
       "      <td>Congress</td>\n",
       "      <td>Agra (Uttar Pradesh )</td>\n",
       "      <td>male</td>\n",
       "      <td>0</td>\n",
       "      <td>1</td>\n",
       "    </tr>\n",
       "    <tr>\n",
       "      <th>3</th>\n",
       "      <td>Achalu,Shri Sunkam</td>\n",
       "      <td>PDF</td>\n",
       "      <td>Nalgonda-SC (Hyderabad )</td>\n",
       "      <td>male</td>\n",
       "      <td>0</td>\n",
       "      <td>1</td>\n",
       "    </tr>\n",
       "    <tr>\n",
       "      <th>4</th>\n",
       "      <td>Achint Ram,Lala</td>\n",
       "      <td>Congress</td>\n",
       "      <td>Hissar (Punjab )</td>\n",
       "      <td>male</td>\n",
       "      <td>0</td>\n",
       "      <td>1</td>\n",
       "    </tr>\n",
       "  </tbody>\n",
       "</table>\n",
       "</div>"
      ],
      "text/plain": [
       "                               name     party        Constituency & State  \\\n",
       "0  Abdullabhai,Mulla Taherali Mulla  Congress    Chanda (Madhya Pradesh )   \n",
       "1                 Abdus Sattar,Shri  Congress  Kalna-Katwa (West Bengal )   \n",
       "2                  Achal Singh,Seth  Congress       Agra (Uttar Pradesh )   \n",
       "3                Achalu,Shri Sunkam       PDF    Nalgonda-SC (Hyderabad )   \n",
       "4                   Achint Ram,Lala  Congress            Hissar (Punjab )   \n",
       "\n",
       "  gender is_nominated nth loksabha  \n",
       "0   male            0            1  \n",
       "1   male            0            1  \n",
       "2   male            0            1  \n",
       "3   male            0            1  \n",
       "4   male            0            1  "
      ]
     },
     "execution_count": 70,
     "metadata": {},
     "output_type": "execute_result"
    }
   ],
   "source": [
    "final_df.head()"
   ]
  },
  {
   "cell_type": "code",
   "execution_count": 71,
   "id": "b64b0e38",
   "metadata": {},
   "outputs": [
    {
     "data": {
      "text/plain": [
       "name                    8889\n",
       "party                   8889\n",
       "Constituency & State    8889\n",
       "gender                  8889\n",
       "is_nominated            8889\n",
       "nth loksabha            8889\n",
       "dtype: int64"
      ]
     },
     "execution_count": 71,
     "metadata": {},
     "output_type": "execute_result"
    }
   ],
   "source": [
    "final_df.count()"
   ]
  },
  {
   "cell_type": "code",
   "execution_count": 73,
   "id": "0e0a15dd",
   "metadata": {},
   "outputs": [
    {
     "ename": "AttributeError",
     "evalue": "module 'pandas' has no attribute 'to_csv'",
     "output_type": "error",
     "traceback": [
      "\u001b[1;31m---------------------------------------------------------------------------\u001b[0m",
      "\u001b[1;31mAttributeError\u001b[0m                            Traceback (most recent call last)",
      "Cell \u001b[1;32mIn [73], line 1\u001b[0m\n\u001b[1;32m----> 1\u001b[0m \u001b[43mpd\u001b[49m\u001b[38;5;241;43m.\u001b[39;49m\u001b[43mto_csv\u001b[49m(\u001b[38;5;124m\"\u001b[39m\u001b[38;5;124m1-16 loksabha members.csv\u001b[39m\u001b[38;5;124m\"\u001b[39m)\n",
      "File \u001b[1;32m~\\AppData\\Local\\Programs\\Python\\Python310\\lib\\site-packages\\pandas\\__init__.py:264\u001b[0m, in \u001b[0;36m__getattr__\u001b[1;34m(name)\u001b[0m\n\u001b[0;32m    260\u001b[0m     \u001b[38;5;28;01mfrom\u001b[39;00m \u001b[38;5;21;01mpandas\u001b[39;00m\u001b[38;5;21;01m.\u001b[39;00m\u001b[38;5;21;01mcore\u001b[39;00m\u001b[38;5;21;01m.\u001b[39;00m\u001b[38;5;21;01marrays\u001b[39;00m\u001b[38;5;21;01m.\u001b[39;00m\u001b[38;5;21;01msparse\u001b[39;00m \u001b[38;5;28;01mimport\u001b[39;00m SparseArray \u001b[38;5;28;01mas\u001b[39;00m _SparseArray\n\u001b[0;32m    262\u001b[0m     \u001b[38;5;28;01mreturn\u001b[39;00m _SparseArray\n\u001b[1;32m--> 264\u001b[0m \u001b[38;5;28;01mraise\u001b[39;00m \u001b[38;5;167;01mAttributeError\u001b[39;00m(\u001b[38;5;124mf\u001b[39m\u001b[38;5;124m\"\u001b[39m\u001b[38;5;124mmodule \u001b[39m\u001b[38;5;124m'\u001b[39m\u001b[38;5;124mpandas\u001b[39m\u001b[38;5;124m'\u001b[39m\u001b[38;5;124m has no attribute \u001b[39m\u001b[38;5;124m'\u001b[39m\u001b[38;5;132;01m{\u001b[39;00mname\u001b[38;5;132;01m}\u001b[39;00m\u001b[38;5;124m'\u001b[39m\u001b[38;5;124m\"\u001b[39m)\n",
      "\u001b[1;31mAttributeError\u001b[0m: module 'pandas' has no attribute 'to_csv'"
     ]
    }
   ],
   "source": [
    "final_df.to_csv(\"1-16 loksabha members.csv\")"
   ]
  },
  {
   "cell_type": "code",
   "execution_count": null,
   "id": "902fe884",
   "metadata": {},
   "outputs": [],
   "source": []
  }
 ],
 "metadata": {
  "kernelspec": {
   "display_name": "Python 3 (ipykernel)",
   "language": "python",
   "name": "python3"
  },
  "language_info": {
   "codemirror_mode": {
    "name": "ipython",
    "version": 3
   },
   "file_extension": ".py",
   "mimetype": "text/x-python",
   "name": "python",
   "nbconvert_exporter": "python",
   "pygments_lexer": "ipython3",
   "version": "3.10.7"
  }
 },
 "nbformat": 4,
 "nbformat_minor": 5
}
