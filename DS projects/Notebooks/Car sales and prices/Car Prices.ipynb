{
 "cells": [
  {
   "cell_type": "code",
   "execution_count": 372,
   "id": "1ebf970b",
   "metadata": {},
   "outputs": [],
   "source": [
    "import pandas as pd\n",
    "import numpy as np\n",
    "import matplotlib.pyplot as plt\n",
    "%matplotlib inline\n",
    "from sklearn.model_selection import cross_val_score\n",
    "from time import strptime,time,mktime\n",
    "from sklearn.preprocessing import OrdinalEncoder,StandardScaler\n",
    "from sklearn.ensemble import RandomForestRegressor\n",
    "from sklearn.tree import DecisionTreeRegressor\n",
    "from sklearn.svm import SVR\n",
    "from sklearn.neighbors import KNeighborsRegressor\n",
    "from sklearn.linear_model import Lasso,Ridge,LinearRegression\n",
    "from sklearn.decomposition import PCA\n",
    "from seaborn import heatmap,pairplot\n",
    "from sklearn.feature_selection import SelectKBest,mutual_info_regression"
   ]
  },
  {
   "cell_type": "code",
   "execution_count": 373,
   "id": "07002218",
   "metadata": {},
   "outputs": [],
   "source": [
    "colors=['red','green','blue','yellow','violet','#00ffff','#ff00bf','#937f3c','#937f91','#630ff0']"
   ]
  },
  {
   "cell_type": "code",
   "execution_count": 374,
   "id": "be68ff32",
   "metadata": {},
   "outputs": [
    {
     "data": {
      "text/html": [
       "<div>\n",
       "<style scoped>\n",
       "    .dataframe tbody tr th:only-of-type {\n",
       "        vertical-align: middle;\n",
       "    }\n",
       "\n",
       "    .dataframe tbody tr th {\n",
       "        vertical-align: top;\n",
       "    }\n",
       "\n",
       "    .dataframe thead th {\n",
       "        text-align: right;\n",
       "    }\n",
       "</style>\n",
       "<table border=\"1\" class=\"dataframe\">\n",
       "  <thead>\n",
       "    <tr style=\"text-align: right;\">\n",
       "      <th></th>\n",
       "      <th>Manufacturer</th>\n",
       "      <th>Model</th>\n",
       "      <th>Sales_in_thousands</th>\n",
       "      <th>__year_resale_value</th>\n",
       "      <th>Vehicle_type</th>\n",
       "      <th>Price_in_thousands</th>\n",
       "      <th>Engine_size</th>\n",
       "      <th>Horsepower</th>\n",
       "      <th>Wheelbase</th>\n",
       "      <th>Width</th>\n",
       "      <th>Length</th>\n",
       "      <th>Curb_weight</th>\n",
       "      <th>Fuel_capacity</th>\n",
       "      <th>Fuel_efficiency</th>\n",
       "      <th>Latest_Launch</th>\n",
       "      <th>Power_perf_factor</th>\n",
       "    </tr>\n",
       "  </thead>\n",
       "  <tbody>\n",
       "    <tr>\n",
       "      <th>0</th>\n",
       "      <td>Acura</td>\n",
       "      <td>Integra</td>\n",
       "      <td>16.919</td>\n",
       "      <td>16.360</td>\n",
       "      <td>Passenger</td>\n",
       "      <td>21.50</td>\n",
       "      <td>1.8</td>\n",
       "      <td>140.0</td>\n",
       "      <td>101.2</td>\n",
       "      <td>67.3</td>\n",
       "      <td>172.4</td>\n",
       "      <td>2.639</td>\n",
       "      <td>13.2</td>\n",
       "      <td>28.0</td>\n",
       "      <td>2/2/2012</td>\n",
       "      <td>58.280150</td>\n",
       "    </tr>\n",
       "    <tr>\n",
       "      <th>1</th>\n",
       "      <td>Acura</td>\n",
       "      <td>TL</td>\n",
       "      <td>39.384</td>\n",
       "      <td>19.875</td>\n",
       "      <td>Passenger</td>\n",
       "      <td>28.40</td>\n",
       "      <td>3.2</td>\n",
       "      <td>225.0</td>\n",
       "      <td>108.1</td>\n",
       "      <td>70.3</td>\n",
       "      <td>192.9</td>\n",
       "      <td>3.517</td>\n",
       "      <td>17.2</td>\n",
       "      <td>25.0</td>\n",
       "      <td>6/3/2011</td>\n",
       "      <td>91.370778</td>\n",
       "    </tr>\n",
       "    <tr>\n",
       "      <th>2</th>\n",
       "      <td>Acura</td>\n",
       "      <td>CL</td>\n",
       "      <td>14.114</td>\n",
       "      <td>18.225</td>\n",
       "      <td>Passenger</td>\n",
       "      <td>NaN</td>\n",
       "      <td>3.2</td>\n",
       "      <td>225.0</td>\n",
       "      <td>106.9</td>\n",
       "      <td>70.6</td>\n",
       "      <td>192.0</td>\n",
       "      <td>3.470</td>\n",
       "      <td>17.2</td>\n",
       "      <td>26.0</td>\n",
       "      <td>1/4/2012</td>\n",
       "      <td>NaN</td>\n",
       "    </tr>\n",
       "    <tr>\n",
       "      <th>3</th>\n",
       "      <td>Acura</td>\n",
       "      <td>RL</td>\n",
       "      <td>8.588</td>\n",
       "      <td>29.725</td>\n",
       "      <td>Passenger</td>\n",
       "      <td>42.00</td>\n",
       "      <td>3.5</td>\n",
       "      <td>210.0</td>\n",
       "      <td>114.6</td>\n",
       "      <td>71.4</td>\n",
       "      <td>196.6</td>\n",
       "      <td>3.850</td>\n",
       "      <td>18.0</td>\n",
       "      <td>22.0</td>\n",
       "      <td>3/10/2011</td>\n",
       "      <td>91.389779</td>\n",
       "    </tr>\n",
       "    <tr>\n",
       "      <th>4</th>\n",
       "      <td>Audi</td>\n",
       "      <td>A4</td>\n",
       "      <td>20.397</td>\n",
       "      <td>22.255</td>\n",
       "      <td>Passenger</td>\n",
       "      <td>23.99</td>\n",
       "      <td>1.8</td>\n",
       "      <td>150.0</td>\n",
       "      <td>102.6</td>\n",
       "      <td>68.2</td>\n",
       "      <td>178.0</td>\n",
       "      <td>2.998</td>\n",
       "      <td>16.4</td>\n",
       "      <td>27.0</td>\n",
       "      <td>10/8/2011</td>\n",
       "      <td>62.777639</td>\n",
       "    </tr>\n",
       "  </tbody>\n",
       "</table>\n",
       "</div>"
      ],
      "text/plain": [
       "  Manufacturer    Model  Sales_in_thousands  __year_resale_value Vehicle_type  \\\n",
       "0        Acura  Integra              16.919               16.360    Passenger   \n",
       "1        Acura       TL              39.384               19.875    Passenger   \n",
       "2        Acura       CL              14.114               18.225    Passenger   \n",
       "3        Acura       RL               8.588               29.725    Passenger   \n",
       "4         Audi       A4              20.397               22.255    Passenger   \n",
       "\n",
       "   Price_in_thousands  Engine_size  Horsepower  Wheelbase  Width  Length  \\\n",
       "0               21.50          1.8       140.0      101.2   67.3   172.4   \n",
       "1               28.40          3.2       225.0      108.1   70.3   192.9   \n",
       "2                 NaN          3.2       225.0      106.9   70.6   192.0   \n",
       "3               42.00          3.5       210.0      114.6   71.4   196.6   \n",
       "4               23.99          1.8       150.0      102.6   68.2   178.0   \n",
       "\n",
       "   Curb_weight  Fuel_capacity  Fuel_efficiency Latest_Launch  \\\n",
       "0        2.639           13.2             28.0      2/2/2012   \n",
       "1        3.517           17.2             25.0      6/3/2011   \n",
       "2        3.470           17.2             26.0      1/4/2012   \n",
       "3        3.850           18.0             22.0     3/10/2011   \n",
       "4        2.998           16.4             27.0     10/8/2011   \n",
       "\n",
       "   Power_perf_factor  \n",
       "0          58.280150  \n",
       "1          91.370778  \n",
       "2                NaN  \n",
       "3          91.389779  \n",
       "4          62.777639  "
      ]
     },
     "execution_count": 374,
     "metadata": {},
     "output_type": "execute_result"
    }
   ],
   "source": [
    "df1=pd.read_csv(\"../resources/Excel_sheets/Car_sales.csv\")\n",
    "df1.head()"
   ]
  },
  {
   "cell_type": "code",
   "execution_count": 375,
   "id": "29ad98ac",
   "metadata": {
    "scrolled": false
   },
   "outputs": [
    {
     "name": "stdout",
     "output_type": "stream",
     "text": [
      "<class 'pandas.core.frame.DataFrame'>\n",
      "RangeIndex: 157 entries, 0 to 156\n",
      "Data columns (total 16 columns):\n",
      " #   Column               Non-Null Count  Dtype  \n",
      "---  ------               --------------  -----  \n",
      " 0   Manufacturer         157 non-null    object \n",
      " 1   Model                157 non-null    object \n",
      " 2   Sales_in_thousands   157 non-null    float64\n",
      " 3   __year_resale_value  121 non-null    float64\n",
      " 4   Vehicle_type         157 non-null    object \n",
      " 5   Price_in_thousands   155 non-null    float64\n",
      " 6   Engine_size          156 non-null    float64\n",
      " 7   Horsepower           156 non-null    float64\n",
      " 8   Wheelbase            156 non-null    float64\n",
      " 9   Width                156 non-null    float64\n",
      " 10  Length               156 non-null    float64\n",
      " 11  Curb_weight          155 non-null    float64\n",
      " 12  Fuel_capacity        156 non-null    float64\n",
      " 13  Fuel_efficiency      154 non-null    float64\n",
      " 14  Latest_Launch        157 non-null    object \n",
      " 15  Power_perf_factor    155 non-null    float64\n",
      "dtypes: float64(12), object(4)\n",
      "memory usage: 19.8+ KB\n"
     ]
    }
   ],
   "source": [
    "df1.info()"
   ]
  },
  {
   "cell_type": "markdown",
   "id": "673fa972",
   "metadata": {},
   "source": [
    "lowercasing column names for easiness"
   ]
  },
  {
   "cell_type": "code",
   "execution_count": 376,
   "id": "faaa81df",
   "metadata": {},
   "outputs": [
    {
     "data": {
      "text/html": [
       "<div>\n",
       "<style scoped>\n",
       "    .dataframe tbody tr th:only-of-type {\n",
       "        vertical-align: middle;\n",
       "    }\n",
       "\n",
       "    .dataframe tbody tr th {\n",
       "        vertical-align: top;\n",
       "    }\n",
       "\n",
       "    .dataframe thead th {\n",
       "        text-align: right;\n",
       "    }\n",
       "</style>\n",
       "<table border=\"1\" class=\"dataframe\">\n",
       "  <thead>\n",
       "    <tr style=\"text-align: right;\">\n",
       "      <th></th>\n",
       "      <th>manufacturer</th>\n",
       "      <th>model</th>\n",
       "      <th>sales_in_thousands</th>\n",
       "      <th>__year_resale_value</th>\n",
       "      <th>vehicle_type</th>\n",
       "      <th>price_in_thousands</th>\n",
       "      <th>engine_size</th>\n",
       "      <th>horsepower</th>\n",
       "      <th>wheelbase</th>\n",
       "      <th>width</th>\n",
       "      <th>length</th>\n",
       "      <th>curb_weight</th>\n",
       "      <th>fuel_capacity</th>\n",
       "      <th>fuel_efficiency</th>\n",
       "      <th>latest_launch</th>\n",
       "      <th>power_perf_factor</th>\n",
       "    </tr>\n",
       "  </thead>\n",
       "  <tbody>\n",
       "    <tr>\n",
       "      <th>0</th>\n",
       "      <td>Acura</td>\n",
       "      <td>Integra</td>\n",
       "      <td>16.919</td>\n",
       "      <td>16.360</td>\n",
       "      <td>Passenger</td>\n",
       "      <td>21.5</td>\n",
       "      <td>1.8</td>\n",
       "      <td>140.0</td>\n",
       "      <td>101.2</td>\n",
       "      <td>67.3</td>\n",
       "      <td>172.4</td>\n",
       "      <td>2.639</td>\n",
       "      <td>13.2</td>\n",
       "      <td>28.0</td>\n",
       "      <td>2/2/2012</td>\n",
       "      <td>58.280150</td>\n",
       "    </tr>\n",
       "    <tr>\n",
       "      <th>1</th>\n",
       "      <td>Acura</td>\n",
       "      <td>TL</td>\n",
       "      <td>39.384</td>\n",
       "      <td>19.875</td>\n",
       "      <td>Passenger</td>\n",
       "      <td>28.4</td>\n",
       "      <td>3.2</td>\n",
       "      <td>225.0</td>\n",
       "      <td>108.1</td>\n",
       "      <td>70.3</td>\n",
       "      <td>192.9</td>\n",
       "      <td>3.517</td>\n",
       "      <td>17.2</td>\n",
       "      <td>25.0</td>\n",
       "      <td>6/3/2011</td>\n",
       "      <td>91.370778</td>\n",
       "    </tr>\n",
       "  </tbody>\n",
       "</table>\n",
       "</div>"
      ],
      "text/plain": [
       "  manufacturer    model  sales_in_thousands  __year_resale_value vehicle_type  \\\n",
       "0        Acura  Integra              16.919               16.360    Passenger   \n",
       "1        Acura       TL              39.384               19.875    Passenger   \n",
       "\n",
       "   price_in_thousands  engine_size  horsepower  wheelbase  width  length  \\\n",
       "0                21.5          1.8       140.0      101.2   67.3   172.4   \n",
       "1                28.4          3.2       225.0      108.1   70.3   192.9   \n",
       "\n",
       "   curb_weight  fuel_capacity  fuel_efficiency latest_launch  \\\n",
       "0        2.639           13.2             28.0      2/2/2012   \n",
       "1        3.517           17.2             25.0      6/3/2011   \n",
       "\n",
       "   power_perf_factor  \n",
       "0          58.280150  \n",
       "1          91.370778  "
      ]
     },
     "execution_count": 376,
     "metadata": {},
     "output_type": "execute_result"
    }
   ],
   "source": [
    "df1.columns=[x.lower() for x in df1.columns]\n",
    "df1.head(2)"
   ]
  },
  {
   "cell_type": "markdown",
   "id": "1f961908",
   "metadata": {},
   "source": [
    "## DATA CLEANING"
   ]
  },
  {
   "cell_type": "code",
   "execution_count": 377,
   "id": "10c3ff50",
   "metadata": {},
   "outputs": [
    {
     "data": {
      "text/plain": [
       "manufacturer            0\n",
       "model                   0\n",
       "sales_in_thousands      0\n",
       "__year_resale_value    36\n",
       "vehicle_type            0\n",
       "price_in_thousands      2\n",
       "engine_size             1\n",
       "horsepower              1\n",
       "wheelbase               1\n",
       "width                   1\n",
       "length                  1\n",
       "curb_weight             2\n",
       "fuel_capacity           1\n",
       "fuel_efficiency         3\n",
       "latest_launch           0\n",
       "power_perf_factor       2\n",
       "dtype: int64"
      ]
     },
     "execution_count": 377,
     "metadata": {},
     "output_type": "execute_result"
    }
   ],
   "source": [
    "df1.isnull().sum()"
   ]
  },
  {
   "cell_type": "code",
   "execution_count": 378,
   "id": "929492fd",
   "metadata": {},
   "outputs": [
    {
     "data": {
      "image/png": "[encoded data removed]",
      "text/plain": [
       "<Figure size 432x288 with 1 Axes>"
      ]
     },
     "metadata": {
      "needs_background": "light"
     },
     "output_type": "display_data"
    }
   ],
   "source": [
    "plt.scatter(df1.__year_resale_value,df1.price_in_thousands,color=colors[4])\n",
    "plt.xlabel('__year_resale_value')\n",
    "plt.ylabel('price')\n",
    "plt.show()"
   ]
  },
  {
   "cell_type": "markdown",
   "id": "151e634c",
   "metadata": {},
   "source": [
    "from this scatter plot it is evident that price and year_resale_value are linearly related\n",
    "hence we can use linear_regression model to predict the missing values"
   ]
  },
  {
   "cell_type": "code",
   "execution_count": 379,
   "id": "66a4012c",
   "metadata": {},
   "outputs": [
    {
     "data": {
      "text/plain": [
       "0"
      ]
     },
     "execution_count": 379,
     "metadata": {},
     "output_type": "execute_result"
    }
   ],
   "source": [
    "len(df1[df1[['__year_resale_value','price_in_thousands']].isna().all(axis=1)])"
   ]
  },
  {
   "cell_type": "markdown",
   "id": "ee86abb2",
   "metadata": {},
   "source": [
    "both are not null hence we can use linear_regression model with any problem"
   ]
  },
  {
   "cell_type": "code",
   "execution_count": 380,
   "id": "2b4d2282",
   "metadata": {},
   "outputs": [],
   "source": [
    "d_df=df1.dropna(subset=['__year_resale_value','price_in_thousands'])\n",
    "y=d_df.__year_resale_value.values\n",
    "X=d_df.price_in_thousands.values.reshape(-1,1)"
   ]
  },
  {
   "cell_type": "code",
   "execution_count": 381,
   "id": "b3265da0",
   "metadata": {},
   "outputs": [
    {
     "data": {
      "text/plain": [
       "0.9098114540463296"
      ]
     },
     "execution_count": 381,
     "metadata": {},
     "output_type": "execute_result"
    }
   ],
   "source": [
    "model1=LinearRegression()\n",
    "model1.fit(X,y)\n",
    "model1.score(X,y)"
   ]
  },
  {
   "cell_type": "code",
   "execution_count": 382,
   "id": "88fddc91",
   "metadata": {},
   "outputs": [
    {
     "data": {
      "text/plain": [
       "0"
      ]
     },
     "execution_count": 382,
     "metadata": {},
     "output_type": "execute_result"
    }
   ],
   "source": [
    "df2=df1.copy()\n",
    "d=df1[df1.__year_resale_value.isna()]\n",
    "n=d.index\n",
    "df2.loc[n,['__year_resale_value']]=model1.predict(d[['price_in_thousands']])\n",
    "df2.__year_resale_value.isna().sum()"
   ]
  },
  {
   "cell_type": "code",
   "execution_count": 383,
   "id": "6cbad3e0",
   "metadata": {},
   "outputs": [],
   "source": [
    "m=model1.coef_\n",
    "b=model1.intercept_"
   ]
  },
  {
   "cell_type": "code",
   "execution_count": 384,
   "id": "935c31d5",
   "metadata": {},
   "outputs": [
    {
     "data": {
      "text/plain": [
       "0"
      ]
     },
     "execution_count": 384,
     "metadata": {},
     "output_type": "execute_result"
    }
   ],
   "source": [
    "d=df2[df2.price_in_thousands.isna()]\n",
    "n=d.index\n",
    "df2.loc[n,['price_in_thousands']]=(d.__year_resale_value.values-b)/m[0]\n",
    "df2.price_in_thousands.isna().sum()"
   ]
  },
  {
   "cell_type": "code",
   "execution_count": 385,
   "id": "0d4a3b7d",
   "metadata": {},
   "outputs": [
    {
     "data": {
      "image/png": "[encoded data removed]",
      "text/plain": [
       "<Figure size 432x288 with 1 Axes>"
      ]
     },
     "metadata": {
      "needs_background": "light"
     },
     "output_type": "display_data"
    }
   ],
   "source": [
    "plt.scatter(df2.price_in_thousands,df2.__year_resale_value,color=colors[7])\n",
    "plt.plot(df2.price_in_thousands,model1.predict(df2[['price_in_thousands']]),color=colors[0])\n",
    "plt.xlabel('__year_resale_value')\n",
    "plt.ylabel('price')\n",
    "plt.show()"
   ]
  },
  {
   "cell_type": "markdown",
   "id": "2babf4d1",
   "metadata": {},
   "source": [
    "filling null in other columns with  mean"
   ]
  },
  {
   "cell_type": "code",
   "execution_count": 386,
   "id": "9386a521",
   "metadata": {},
   "outputs": [
    {
     "data": {
      "text/plain": [
       "manufacturer           0\n",
       "model                  0\n",
       "sales_in_thousands     0\n",
       "__year_resale_value    0\n",
       "vehicle_type           0\n",
       "price_in_thousands     0\n",
       "engine_size            0\n",
       "horsepower             0\n",
       "wheelbase              0\n",
       "width                  0\n",
       "length                 0\n",
       "curb_weight            0\n",
       "fuel_capacity          0\n",
       "fuel_efficiency        0\n",
       "latest_launch          0\n",
       "power_perf_factor      0\n",
       "dtype: int64"
      ]
     },
     "execution_count": 386,
     "metadata": {},
     "output_type": "execute_result"
    }
   ],
   "source": [
    "df3=df2.copy()\n",
    "for column in df2.columns:\n",
    "    if df2[column].isnull().sum():\n",
    "        df3[column]=df2[column].fillna(df2[column].mean())\n",
    "        \n",
    "df4.isnull().sum()"
   ]
  },
  {
   "cell_type": "markdown",
   "id": "939c9ed3",
   "metadata": {},
   "source": [
    "### Feature Engineering"
   ]
  },
  {
   "cell_type": "code",
   "execution_count": 388,
   "id": "ccdd9ecf",
   "metadata": {
    "scrolled": false
   },
   "outputs": [
    {
     "data": {
      "text/plain": [
       "array(['2/2/2012', '6/3/2011', '1/4/2012', '3/10/2011', '10/8/2011',\n",
       "       '8/9/2011', '2/27/2012', '6/28/2011', '1/29/2012', '4/4/2011',\n",
       "       '11/2/2011', '9/3/2011', '3/23/2012', '7/23/2011', '2/23/2012',\n",
       "       '4/29/2011', '11/27/2011', '9/28/2011', '4/17/2012', '8/17/2011',\n",
       "       '3/19/2012', '5/24/2011', '12/22/2011', '10/23/2011', '5/12/2012',\n",
       "       '9/11/2011', '4/13/2012', '6/18/2011', '1/16/2012', '11/17/2011',\n",
       "       '6/6/2012', '10/6/2011', '5/8/2012', '7/13/2011', '2/10/2012',\n",
       "       '12/12/2011', '7/1/2012', '10/31/2011', '6/2/2012', '8/7/2011',\n",
       "       '3/6/2012', '1/6/2012', '7/26/2012', '11/25/2011', '6/27/2012',\n",
       "       '9/1/2011', '3/31/2012', '1/31/2012', '8/20/2012', '12/20/2011',\n",
       "       '7/22/2012', '9/26/2011', '4/25/2012', '2/25/2012', '9/14/2012',\n",
       "       '1/14/2012', '8/16/2012', '10/21/2011', '5/20/2012', '3/21/2012',\n",
       "       '10/9/2012', '2/8/2012', '9/10/2012', '11/15/2011', '6/14/2012',\n",
       "       '4/15/2012', '11/3/2012', '3/4/2012', '10/5/2012', '12/10/2011',\n",
       "       '7/9/2012', '5/10/2012', '11/28/2012', '3/29/2012', '10/30/2012',\n",
       "       '8/3/2012', '6/4/2012', '12/23/2012', '4/23/2012', '11/24/2012',\n",
       "       '8/28/2012', '6/29/2012', '1/17/2012', '5/18/2012', '12/19/2012',\n",
       "       '9/22/2012', '7/24/2012', '2/13/2008', '10/20/2009', '4/24/2011',\n",
       "       '7/12/2011', '6/13/2011', '3/17/2011', '1/16/2011', '8/6/2011',\n",
       "       '7/8/2011', '4/11/2011', '2/10/2011', '8/31/2011', '8/2/2011',\n",
       "       '5/6/2011', '3/7/2011', '9/25/2011', '1/24/2011', '8/27/2011',\n",
       "       '5/31/2011', '4/1/2011', '2/18/2011', '9/21/2011', '6/25/2011',\n",
       "       '4/26/2011', '11/14/2011', '1/25/2012', '11/26/2012', '6/16/2012',\n",
       "       '10/15/2012', '5/18/2011', '2/19/2012', '12/21/2012', '7/11/2011',\n",
       "       '11/9/2012', '6/12/2011', '3/16/2011', '1/15/2011', '8/5/2011',\n",
       "       '12/4/2012', '7/7/2011', '12/29/2012', '8/1/2011', '10/20/2011'],\n",
       "      dtype=object)"
      ]
     },
     "execution_count": 388,
     "metadata": {},
     "output_type": "execute_result"
    }
   ],
   "source": [
    "df3.latest_launch.unique()"
   ]
  },
  {
   "cell_type": "markdown",
   "id": "82d8aa87",
   "metadata": {},
   "source": [
    "All the launch dates are within 2012 ,\n",
    "\n",
    "i will create a new column which coverts date into no of days from launch date to 1/1/13"
   ]
  },
  {
   "cell_type": "code",
   "execution_count": 389,
   "id": "81272d76",
   "metadata": {},
   "outputs": [],
   "source": [
    "t=mktime(strptime('1/1/2013',\"%m/%d/%Y\"))"
   ]
  },
  {
   "cell_type": "code",
   "execution_count": 391,
   "id": "b546a3c2",
   "metadata": {},
   "outputs": [
    {
     "data": {
      "text/html": [
       "<div>\n",
       "<style scoped>\n",
       "    .dataframe tbody tr th:only-of-type {\n",
       "        vertical-align: middle;\n",
       "    }\n",
       "\n",
       "    .dataframe tbody tr th {\n",
       "        vertical-align: top;\n",
       "    }\n",
       "\n",
       "    .dataframe thead th {\n",
       "        text-align: right;\n",
       "    }\n",
       "</style>\n",
       "<table border=\"1\" class=\"dataframe\">\n",
       "  <thead>\n",
       "    <tr style=\"text-align: right;\">\n",
       "      <th></th>\n",
       "      <th>manufacturer</th>\n",
       "      <th>model</th>\n",
       "      <th>sales_in_thousands</th>\n",
       "      <th>__year_resale_value</th>\n",
       "      <th>vehicle_type</th>\n",
       "      <th>price_in_thousands</th>\n",
       "      <th>engine_size</th>\n",
       "      <th>horsepower</th>\n",
       "      <th>wheelbase</th>\n",
       "      <th>width</th>\n",
       "      <th>length</th>\n",
       "      <th>curb_weight</th>\n",
       "      <th>fuel_capacity</th>\n",
       "      <th>fuel_efficiency</th>\n",
       "      <th>power_perf_factor</th>\n",
       "      <th>days_after_launch(1/1/13)</th>\n",
       "    </tr>\n",
       "  </thead>\n",
       "  <tbody>\n",
       "    <tr>\n",
       "      <th>0</th>\n",
       "      <td>Acura</td>\n",
       "      <td>Integra</td>\n",
       "      <td>16.919</td>\n",
       "      <td>16.360</td>\n",
       "      <td>Passenger</td>\n",
       "      <td>21.5</td>\n",
       "      <td>1.8</td>\n",
       "      <td>140.0</td>\n",
       "      <td>101.2</td>\n",
       "      <td>67.3</td>\n",
       "      <td>172.4</td>\n",
       "      <td>2.639</td>\n",
       "      <td>13.2</td>\n",
       "      <td>28.0</td>\n",
       "      <td>58.280150</td>\n",
       "      <td>334</td>\n",
       "    </tr>\n",
       "    <tr>\n",
       "      <th>1</th>\n",
       "      <td>Acura</td>\n",
       "      <td>TL</td>\n",
       "      <td>39.384</td>\n",
       "      <td>19.875</td>\n",
       "      <td>Passenger</td>\n",
       "      <td>28.4</td>\n",
       "      <td>3.2</td>\n",
       "      <td>225.0</td>\n",
       "      <td>108.1</td>\n",
       "      <td>70.3</td>\n",
       "      <td>192.9</td>\n",
       "      <td>3.517</td>\n",
       "      <td>17.2</td>\n",
       "      <td>25.0</td>\n",
       "      <td>91.370778</td>\n",
       "      <td>578</td>\n",
       "    </tr>\n",
       "  </tbody>\n",
       "</table>\n",
       "</div>"
      ],
      "text/plain": [
       "  manufacturer    model  sales_in_thousands  __year_resale_value vehicle_type  \\\n",
       "0        Acura  Integra              16.919               16.360    Passenger   \n",
       "1        Acura       TL              39.384               19.875    Passenger   \n",
       "\n",
       "   price_in_thousands  engine_size  horsepower  wheelbase  width  length  \\\n",
       "0                21.5          1.8       140.0      101.2   67.3   172.4   \n",
       "1                28.4          3.2       225.0      108.1   70.3   192.9   \n",
       "\n",
       "   curb_weight  fuel_capacity  fuel_efficiency  power_perf_factor  \\\n",
       "0        2.639           13.2             28.0          58.280150   \n",
       "1        3.517           17.2             25.0          91.370778   \n",
       "\n",
       "   days_after_launch(1/1/13)  \n",
       "0                        334  \n",
       "1                        578  "
      ]
     },
     "execution_count": 391,
     "metadata": {},
     "output_type": "execute_result"
    }
   ],
   "source": [
    "df4=df3.copy()\n",
    "day=24*3600\n",
    "df4['days_after_launch(1/1/13)']=df3['latest_launch'].apply(lambda x: int((t-mktime(strptime(x,\"%m/%d/%Y\")))/day))\n",
    "df4.drop('latest_launch',axis=1,inplace=True)\n",
    "df4.head(2)"
   ]
  },
  {
   "cell_type": "markdown",
   "id": "c6701938",
   "metadata": {},
   "source": [
    "moving target variable to left for easiness"
   ]
  },
  {
   "cell_type": "code",
   "execution_count": 392,
   "id": "99204840",
   "metadata": {
    "scrolled": false
   },
   "outputs": [
    {
     "data": {
      "text/html": [
       "<div>\n",
       "<style scoped>\n",
       "    .dataframe tbody tr th:only-of-type {\n",
       "        vertical-align: middle;\n",
       "    }\n",
       "\n",
       "    .dataframe tbody tr th {\n",
       "        vertical-align: top;\n",
       "    }\n",
       "\n",
       "    .dataframe thead th {\n",
       "        text-align: right;\n",
       "    }\n",
       "</style>\n",
       "<table border=\"1\" class=\"dataframe\">\n",
       "  <thead>\n",
       "    <tr style=\"text-align: right;\">\n",
       "      <th></th>\n",
       "      <th>manufacturer</th>\n",
       "      <th>model</th>\n",
       "      <th>sales_in_thousands</th>\n",
       "      <th>__year_resale_value</th>\n",
       "      <th>vehicle_type</th>\n",
       "      <th>engine_size</th>\n",
       "      <th>horsepower</th>\n",
       "      <th>wheelbase</th>\n",
       "      <th>width</th>\n",
       "      <th>length</th>\n",
       "      <th>curb_weight</th>\n",
       "      <th>fuel_capacity</th>\n",
       "      <th>fuel_efficiency</th>\n",
       "      <th>power_perf_factor</th>\n",
       "      <th>days_after_launch(1/1/13)</th>\n",
       "      <th>price_in_thousands</th>\n",
       "    </tr>\n",
       "  </thead>\n",
       "  <tbody>\n",
       "    <tr>\n",
       "      <th>0</th>\n",
       "      <td>Acura</td>\n",
       "      <td>Integra</td>\n",
       "      <td>16.919</td>\n",
       "      <td>16.360</td>\n",
       "      <td>Passenger</td>\n",
       "      <td>1.8</td>\n",
       "      <td>140.0</td>\n",
       "      <td>101.2</td>\n",
       "      <td>67.3</td>\n",
       "      <td>172.4</td>\n",
       "      <td>2.639</td>\n",
       "      <td>13.2</td>\n",
       "      <td>28.0</td>\n",
       "      <td>58.280150</td>\n",
       "      <td>334</td>\n",
       "      <td>21.5</td>\n",
       "    </tr>\n",
       "    <tr>\n",
       "      <th>1</th>\n",
       "      <td>Acura</td>\n",
       "      <td>TL</td>\n",
       "      <td>39.384</td>\n",
       "      <td>19.875</td>\n",
       "      <td>Passenger</td>\n",
       "      <td>3.2</td>\n",
       "      <td>225.0</td>\n",
       "      <td>108.1</td>\n",
       "      <td>70.3</td>\n",
       "      <td>192.9</td>\n",
       "      <td>3.517</td>\n",
       "      <td>17.2</td>\n",
       "      <td>25.0</td>\n",
       "      <td>91.370778</td>\n",
       "      <td>578</td>\n",
       "      <td>28.4</td>\n",
       "    </tr>\n",
       "  </tbody>\n",
       "</table>\n",
       "</div>"
      ],
      "text/plain": [
       "  manufacturer    model  sales_in_thousands  __year_resale_value vehicle_type  \\\n",
       "0        Acura  Integra              16.919               16.360    Passenger   \n",
       "1        Acura       TL              39.384               19.875    Passenger   \n",
       "\n",
       "   engine_size  horsepower  wheelbase  width  length  curb_weight  \\\n",
       "0          1.8       140.0      101.2   67.3   172.4        2.639   \n",
       "1          3.2       225.0      108.1   70.3   192.9        3.517   \n",
       "\n",
       "   fuel_capacity  fuel_efficiency  power_perf_factor  \\\n",
       "0           13.2             28.0          58.280150   \n",
       "1           17.2             25.0          91.370778   \n",
       "\n",
       "   days_after_launch(1/1/13)  price_in_thousands  \n",
       "0                        334                21.5  \n",
       "1                        578                28.4  "
      ]
     },
     "execution_count": 392,
     "metadata": {},
     "output_type": "execute_result"
    }
   ],
   "source": [
    "cols=df4.columns.tolist()\n",
    "cols.append(cols.pop(cols.index('price_in_thousands')))\n",
    "df4=df4[cols]\n",
    "df4.head(2)"
   ]
  },
  {
   "cell_type": "markdown",
   "id": "08533eb3",
   "metadata": {},
   "source": [
    "### Outlier detection"
   ]
  },
  {
   "cell_type": "code",
   "execution_count": 393,
   "id": "9cdf6258",
   "metadata": {
    "scrolled": true
   },
   "outputs": [
    {
     "data": {
      "text/html": [
       "<div>\n",
       "<style scoped>\n",
       "    .dataframe tbody tr th:only-of-type {\n",
       "        vertical-align: middle;\n",
       "    }\n",
       "\n",
       "    .dataframe tbody tr th {\n",
       "        vertical-align: top;\n",
       "    }\n",
       "\n",
       "    .dataframe thead th {\n",
       "        text-align: right;\n",
       "    }\n",
       "</style>\n",
       "<table border=\"1\" class=\"dataframe\">\n",
       "  <thead>\n",
       "    <tr style=\"text-align: right;\">\n",
       "      <th></th>\n",
       "      <th>sales_in_thousands</th>\n",
       "      <th>__year_resale_value</th>\n",
       "      <th>engine_size</th>\n",
       "      <th>horsepower</th>\n",
       "      <th>wheelbase</th>\n",
       "      <th>width</th>\n",
       "      <th>length</th>\n",
       "      <th>curb_weight</th>\n",
       "      <th>fuel_capacity</th>\n",
       "      <th>fuel_efficiency</th>\n",
       "      <th>power_perf_factor</th>\n",
       "      <th>days_after_launch(1/1/13)</th>\n",
       "      <th>price_in_thousands</th>\n",
       "    </tr>\n",
       "  </thead>\n",
       "  <tbody>\n",
       "    <tr>\n",
       "      <th>count</th>\n",
       "      <td>157.000000</td>\n",
       "      <td>157.000000</td>\n",
       "      <td>157.000000</td>\n",
       "      <td>157.000000</td>\n",
       "      <td>157.000000</td>\n",
       "      <td>157.00000</td>\n",
       "      <td>157.000000</td>\n",
       "      <td>157.000000</td>\n",
       "      <td>157.000000</td>\n",
       "      <td>157.000000</td>\n",
       "      <td>157.000000</td>\n",
       "      <td>157.000000</td>\n",
       "      <td>157.000000</td>\n",
       "    </tr>\n",
       "    <tr>\n",
       "      <th>mean</th>\n",
       "      <td>52.998076</td>\n",
       "      <td>19.066135</td>\n",
       "      <td>3.060897</td>\n",
       "      <td>185.948718</td>\n",
       "      <td>107.487179</td>\n",
       "      <td>71.15000</td>\n",
       "      <td>187.343590</td>\n",
       "      <td>3.378026</td>\n",
       "      <td>17.951923</td>\n",
       "      <td>23.844156</td>\n",
       "      <td>77.043591</td>\n",
       "      <td>394.229299</td>\n",
       "      <td>27.387714</td>\n",
       "    </tr>\n",
       "    <tr>\n",
       "      <th>std</th>\n",
       "      <td>68.029422</td>\n",
       "      <td>11.515161</td>\n",
       "      <td>1.041299</td>\n",
       "      <td>56.518297</td>\n",
       "      <td>7.616772</td>\n",
       "      <td>3.44079</td>\n",
       "      <td>13.388635</td>\n",
       "      <td>0.626447</td>\n",
       "      <td>3.875440</td>\n",
       "      <td>4.241326</td>\n",
       "      <td>24.980973</td>\n",
       "      <td>243.625524</td>\n",
       "      <td>14.259704</td>\n",
       "    </tr>\n",
       "    <tr>\n",
       "      <th>min</th>\n",
       "      <td>0.110000</td>\n",
       "      <td>5.160000</td>\n",
       "      <td>1.000000</td>\n",
       "      <td>55.000000</td>\n",
       "      <td>92.600000</td>\n",
       "      <td>62.60000</td>\n",
       "      <td>149.400000</td>\n",
       "      <td>1.895000</td>\n",
       "      <td>10.300000</td>\n",
       "      <td>15.000000</td>\n",
       "      <td>23.276272</td>\n",
       "      <td>3.000000</td>\n",
       "      <td>9.235000</td>\n",
       "    </tr>\n",
       "    <tr>\n",
       "      <th>25%</th>\n",
       "      <td>14.114000</td>\n",
       "      <td>12.025000</td>\n",
       "      <td>2.300000</td>\n",
       "      <td>150.000000</td>\n",
       "      <td>103.000000</td>\n",
       "      <td>68.40000</td>\n",
       "      <td>177.600000</td>\n",
       "      <td>2.975000</td>\n",
       "      <td>15.800000</td>\n",
       "      <td>21.000000</td>\n",
       "      <td>60.727447</td>\n",
       "      <td>213.000000</td>\n",
       "      <td>18.145000</td>\n",
       "    </tr>\n",
       "    <tr>\n",
       "      <th>50%</th>\n",
       "      <td>29.450000</td>\n",
       "      <td>15.408956</td>\n",
       "      <td>3.000000</td>\n",
       "      <td>180.000000</td>\n",
       "      <td>107.000000</td>\n",
       "      <td>70.60000</td>\n",
       "      <td>187.800000</td>\n",
       "      <td>3.368000</td>\n",
       "      <td>17.200000</td>\n",
       "      <td>24.000000</td>\n",
       "      <td>72.290355</td>\n",
       "      <td>388.000000</td>\n",
       "      <td>23.400000</td>\n",
       "    </tr>\n",
       "    <tr>\n",
       "      <th>75%</th>\n",
       "      <td>67.956000</td>\n",
       "      <td>20.940000</td>\n",
       "      <td>3.500000</td>\n",
       "      <td>215.000000</td>\n",
       "      <td>112.200000</td>\n",
       "      <td>73.40000</td>\n",
       "      <td>196.100000</td>\n",
       "      <td>3.778000</td>\n",
       "      <td>19.500000</td>\n",
       "      <td>26.000000</td>\n",
       "      <td>89.401935</td>\n",
       "      <td>544.000000</td>\n",
       "      <td>31.930000</td>\n",
       "    </tr>\n",
       "    <tr>\n",
       "      <th>max</th>\n",
       "      <td>540.561000</td>\n",
       "      <td>67.550000</td>\n",
       "      <td>8.000000</td>\n",
       "      <td>450.000000</td>\n",
       "      <td>138.700000</td>\n",
       "      <td>79.90000</td>\n",
       "      <td>224.500000</td>\n",
       "      <td>5.572000</td>\n",
       "      <td>32.000000</td>\n",
       "      <td>45.000000</td>\n",
       "      <td>188.144323</td>\n",
       "      <td>1784.000000</td>\n",
       "      <td>85.500000</td>\n",
       "    </tr>\n",
       "  </tbody>\n",
       "</table>\n",
       "</div>"
      ],
      "text/plain": [
       "       sales_in_thousands  __year_resale_value  engine_size  horsepower  \\\n",
       "count          157.000000           157.000000   157.000000  157.000000   \n",
       "mean            52.998076            19.066135     3.060897  185.948718   \n",
       "std             68.029422            11.515161     1.041299   56.518297   \n",
       "min              0.110000             5.160000     1.000000   55.000000   \n",
       "25%             14.114000            12.025000     2.300000  150.000000   \n",
       "50%             29.450000            15.408956     3.000000  180.000000   \n",
       "75%             67.956000            20.940000     3.500000  215.000000   \n",
       "max            540.561000            67.550000     8.000000  450.000000   \n",
       "\n",
       "        wheelbase      width      length  curb_weight  fuel_capacity  \\\n",
       "count  157.000000  157.00000  157.000000   157.000000     157.000000   \n",
       "mean   107.487179   71.15000  187.343590     3.378026      17.951923   \n",
       "std      7.616772    3.44079   13.388635     0.626447       3.875440   \n",
       "min     92.600000   62.60000  149.400000     1.895000      10.300000   \n",
       "25%    103.000000   68.40000  177.600000     2.975000      15.800000   \n",
       "50%    107.000000   70.60000  187.800000     3.368000      17.200000   \n",
       "75%    112.200000   73.40000  196.100000     3.778000      19.500000   \n",
       "max    138.700000   79.90000  224.500000     5.572000      32.000000   \n",
       "\n",
       "       fuel_efficiency  power_perf_factor  days_after_launch(1/1/13)  \\\n",
       "count       157.000000         157.000000                 157.000000   \n",
       "mean         23.844156          77.043591                 394.229299   \n",
       "std           4.241326          24.980973                 243.625524   \n",
       "min          15.000000          23.276272                   3.000000   \n",
       "25%          21.000000          60.727447                 213.000000   \n",
       "50%          24.000000          72.290355                 388.000000   \n",
       "75%          26.000000          89.401935                 544.000000   \n",
       "max          45.000000         188.144323                1784.000000   \n",
       "\n",
       "       price_in_thousands  \n",
       "count          157.000000  \n",
       "mean            27.387714  \n",
       "std             14.259704  \n",
       "min              9.235000  \n",
       "25%             18.145000  \n",
       "50%             23.400000  \n",
       "75%             31.930000  \n",
       "max             85.500000  "
      ]
     },
     "execution_count": 393,
     "metadata": {},
     "output_type": "execute_result"
    }
   ],
   "source": [
    "df4.describe()"
   ]
  },
  {
   "cell_type": "code",
   "execution_count": 422,
   "id": "03dcd260",
   "metadata": {},
   "outputs": [
    {
     "data": {
      "image/png": "[encoded data removed]",
      "text/plain": [
       "<Figure size 720x288 with 2 Axes>"
      ]
     },
     "metadata": {
      "needs_background": "light"
     },
     "output_type": "display_data"
    }
   ],
   "source": [
    "figu,ax=plt.subplots(1,2,figsize=(10,4))\n",
    "ax[0].hist(df4.sales_in_thousands)\n",
    "ax[1].hist(df4.__year_resale_value)\n",
    "ax[0].set_ylabel('count')\n",
    "ax[1].set_ylabel('count')\n",
    "ax[0].set_xlabel('sales_in_thousands')\n",
    "ax[1].set_xlabel('year_resale_value')\n",
    "plt.show()"
   ]
  },
  {
   "cell_type": "markdown",
   "id": "ae76efa4",
   "metadata": {},
   "source": [
    "i will use 3 std as criteria for outlier deleting all which are more than 3 std"
   ]
  },
  {
   "cell_type": "code",
   "execution_count": 394,
   "id": "be572577",
   "metadata": {
    "scrolled": false
   },
   "outputs": [
    {
     "data": {
      "text/html": [
       "<div>\n",
       "<style scoped>\n",
       "    .dataframe tbody tr th:only-of-type {\n",
       "        vertical-align: middle;\n",
       "    }\n",
       "\n",
       "    .dataframe tbody tr th {\n",
       "        vertical-align: top;\n",
       "    }\n",
       "\n",
       "    .dataframe thead th {\n",
       "        text-align: right;\n",
       "    }\n",
       "</style>\n",
       "<table border=\"1\" class=\"dataframe\">\n",
       "  <thead>\n",
       "    <tr style=\"text-align: right;\">\n",
       "      <th></th>\n",
       "      <th>manufacturer</th>\n",
       "      <th>model</th>\n",
       "      <th>sales_in_thousands</th>\n",
       "      <th>__year_resale_value</th>\n",
       "      <th>vehicle_type</th>\n",
       "      <th>engine_size</th>\n",
       "      <th>horsepower</th>\n",
       "      <th>wheelbase</th>\n",
       "      <th>width</th>\n",
       "      <th>length</th>\n",
       "      <th>curb_weight</th>\n",
       "      <th>fuel_capacity</th>\n",
       "      <th>fuel_efficiency</th>\n",
       "      <th>power_perf_factor</th>\n",
       "      <th>days_after_launch(1/1/13)</th>\n",
       "      <th>price_in_thousands</th>\n",
       "      <th>outlier</th>\n",
       "    </tr>\n",
       "  </thead>\n",
       "  <tbody>\n",
       "    <tr>\n",
       "      <th>94</th>\n",
       "      <td>Mercedes-B</td>\n",
       "      <td>S-Class</td>\n",
       "      <td>16.774</td>\n",
       "      <td>50.375000</td>\n",
       "      <td>Passenger</td>\n",
       "      <td>4.3</td>\n",
       "      <td>275.0</td>\n",
       "      <td>121.5</td>\n",
       "      <td>73.1</td>\n",
       "      <td>203.1</td>\n",
       "      <td>4.133</td>\n",
       "      <td>23.2</td>\n",
       "      <td>21.0</td>\n",
       "      <td>125.273876</td>\n",
       "      <td>568</td>\n",
       "      <td>69.700</td>\n",
       "      <td>price_in_thousands</td>\n",
       "    </tr>\n",
       "    <tr>\n",
       "      <th>90</th>\n",
       "      <td>Mercury</td>\n",
       "      <td>Mountaineer</td>\n",
       "      <td>27.609</td>\n",
       "      <td>20.430000</td>\n",
       "      <td>Car</td>\n",
       "      <td>4.0</td>\n",
       "      <td>210.0</td>\n",
       "      <td>111.6</td>\n",
       "      <td>70.2</td>\n",
       "      <td>190.1</td>\n",
       "      <td>3.876</td>\n",
       "      <td>21.0</td>\n",
       "      <td>18.0</td>\n",
       "      <td>85.949744</td>\n",
       "      <td>1784</td>\n",
       "      <td>27.560</td>\n",
       "      <td>days_after_launch(1/1/13)</td>\n",
       "    </tr>\n",
       "    <tr>\n",
       "      <th>91</th>\n",
       "      <td>Mercury</td>\n",
       "      <td>Villager</td>\n",
       "      <td>20.380</td>\n",
       "      <td>14.795000</td>\n",
       "      <td>Car</td>\n",
       "      <td>3.3</td>\n",
       "      <td>170.0</td>\n",
       "      <td>112.2</td>\n",
       "      <td>74.9</td>\n",
       "      <td>194.7</td>\n",
       "      <td>3.944</td>\n",
       "      <td>20.0</td>\n",
       "      <td>21.0</td>\n",
       "      <td>69.671461</td>\n",
       "      <td>1169</td>\n",
       "      <td>22.510</td>\n",
       "      <td>days_after_launch(1/1/13)</td>\n",
       "    </tr>\n",
       "    <tr>\n",
       "      <th>110</th>\n",
       "      <td>Oldsmobile</td>\n",
       "      <td>Alero</td>\n",
       "      <td>80.255</td>\n",
       "      <td>11.960415</td>\n",
       "      <td>Passenger</td>\n",
       "      <td>2.4</td>\n",
       "      <td>150.0</td>\n",
       "      <td>107.0</td>\n",
       "      <td>70.1</td>\n",
       "      <td>186.7</td>\n",
       "      <td>2.958</td>\n",
       "      <td>15.0</td>\n",
       "      <td>27.0</td>\n",
       "      <td>60.727447</td>\n",
       "      <td>1169</td>\n",
       "      <td>18.270</td>\n",
       "      <td>days_after_launch(1/1/13)</td>\n",
       "    </tr>\n",
       "    <tr>\n",
       "      <th>6</th>\n",
       "      <td>Audi</td>\n",
       "      <td>A8</td>\n",
       "      <td>1.380</td>\n",
       "      <td>39.000000</td>\n",
       "      <td>Passenger</td>\n",
       "      <td>4.2</td>\n",
       "      <td>310.0</td>\n",
       "      <td>113.0</td>\n",
       "      <td>74.0</td>\n",
       "      <td>198.2</td>\n",
       "      <td>3.902</td>\n",
       "      <td>23.7</td>\n",
       "      <td>21.0</td>\n",
       "      <td>134.656858</td>\n",
       "      <td>309</td>\n",
       "      <td>62.000</td>\n",
       "      <td>power_perf_factor</td>\n",
       "    </tr>\n",
       "    <tr>\n",
       "      <th>26</th>\n",
       "      <td>Chevrolet</td>\n",
       "      <td>Metro</td>\n",
       "      <td>21.855</td>\n",
       "      <td>5.160000</td>\n",
       "      <td>Passenger</td>\n",
       "      <td>1.0</td>\n",
       "      <td>55.0</td>\n",
       "      <td>93.1</td>\n",
       "      <td>62.6</td>\n",
       "      <td>149.4</td>\n",
       "      <td>1.895</td>\n",
       "      <td>10.3</td>\n",
       "      <td>45.0</td>\n",
       "      <td>23.276272</td>\n",
       "      <td>263</td>\n",
       "      <td>9.235</td>\n",
       "      <td>fuel_efficiency</td>\n",
       "    </tr>\n",
       "    <tr>\n",
       "      <th>41</th>\n",
       "      <td>Dodge</td>\n",
       "      <td>Ram Wagon</td>\n",
       "      <td>16.767</td>\n",
       "      <td>15.510000</td>\n",
       "      <td>Car</td>\n",
       "      <td>3.9</td>\n",
       "      <td>175.0</td>\n",
       "      <td>109.6</td>\n",
       "      <td>78.8</td>\n",
       "      <td>192.6</td>\n",
       "      <td>4.245</td>\n",
       "      <td>32.0</td>\n",
       "      <td>15.0</td>\n",
       "      <td>71.135292</td>\n",
       "      <td>361</td>\n",
       "      <td>21.315</td>\n",
       "      <td>fuel_capacity</td>\n",
       "    </tr>\n",
       "    <tr>\n",
       "      <th>42</th>\n",
       "      <td>Dodge</td>\n",
       "      <td>Ram Van</td>\n",
       "      <td>31.038</td>\n",
       "      <td>13.425000</td>\n",
       "      <td>Car</td>\n",
       "      <td>3.9</td>\n",
       "      <td>175.0</td>\n",
       "      <td>127.2</td>\n",
       "      <td>78.8</td>\n",
       "      <td>208.5</td>\n",
       "      <td>4.298</td>\n",
       "      <td>32.0</td>\n",
       "      <td>16.0</td>\n",
       "      <td>70.078322</td>\n",
       "      <td>159</td>\n",
       "      <td>18.575</td>\n",
       "      <td>fuel_capacity</td>\n",
       "    </tr>\n",
       "    <tr>\n",
       "      <th>18</th>\n",
       "      <td>Cadillac</td>\n",
       "      <td>Escalade</td>\n",
       "      <td>14.785</td>\n",
       "      <td>33.746620</td>\n",
       "      <td>Car</td>\n",
       "      <td>5.7</td>\n",
       "      <td>255.0</td>\n",
       "      <td>117.5</td>\n",
       "      <td>77.0</td>\n",
       "      <td>201.2</td>\n",
       "      <td>5.572</td>\n",
       "      <td>30.0</td>\n",
       "      <td>15.0</td>\n",
       "      <td>109.509117</td>\n",
       "      <td>259</td>\n",
       "      <td>46.225</td>\n",
       "      <td>curb_weight</td>\n",
       "    </tr>\n",
       "    <tr>\n",
       "      <th>74</th>\n",
       "      <td>Lexus</td>\n",
       "      <td>LX470</td>\n",
       "      <td>9.126</td>\n",
       "      <td>44.563737</td>\n",
       "      <td>Car</td>\n",
       "      <td>4.7</td>\n",
       "      <td>230.0</td>\n",
       "      <td>112.2</td>\n",
       "      <td>76.4</td>\n",
       "      <td>192.5</td>\n",
       "      <td>5.401</td>\n",
       "      <td>25.4</td>\n",
       "      <td>15.0</td>\n",
       "      <td>105.760458</td>\n",
       "      <td>63</td>\n",
       "      <td>60.105</td>\n",
       "      <td>curb_weight</td>\n",
       "    </tr>\n",
       "    <tr>\n",
       "      <th>78</th>\n",
       "      <td>Lincoln</td>\n",
       "      <td>Navigator</td>\n",
       "      <td>22.925</td>\n",
       "      <td>30.968304</td>\n",
       "      <td>Car</td>\n",
       "      <td>5.4</td>\n",
       "      <td>300.0</td>\n",
       "      <td>119.0</td>\n",
       "      <td>79.9</td>\n",
       "      <td>204.8</td>\n",
       "      <td>5.393</td>\n",
       "      <td>30.0</td>\n",
       "      <td>15.0</td>\n",
       "      <td>123.972047</td>\n",
       "      <td>9</td>\n",
       "      <td>42.660</td>\n",
       "      <td>curb_weight</td>\n",
       "    </tr>\n",
       "    <tr>\n",
       "      <th>40</th>\n",
       "      <td>Dodge</td>\n",
       "      <td>Ram Pickup</td>\n",
       "      <td>227.061</td>\n",
       "      <td>15.060000</td>\n",
       "      <td>Car</td>\n",
       "      <td>5.2</td>\n",
       "      <td>230.0</td>\n",
       "      <td>138.7</td>\n",
       "      <td>79.3</td>\n",
       "      <td>224.2</td>\n",
       "      <td>4.470</td>\n",
       "      <td>26.0</td>\n",
       "      <td>17.0</td>\n",
       "      <td>90.211700</td>\n",
       "      <td>301</td>\n",
       "      <td>19.460</td>\n",
       "      <td>wheelbase</td>\n",
       "    </tr>\n",
       "    <tr>\n",
       "      <th>43</th>\n",
       "      <td>Dodge</td>\n",
       "      <td>Dakota</td>\n",
       "      <td>111.313</td>\n",
       "      <td>11.260000</td>\n",
       "      <td>Car</td>\n",
       "      <td>2.5</td>\n",
       "      <td>120.0</td>\n",
       "      <td>131.0</td>\n",
       "      <td>71.5</td>\n",
       "      <td>215.0</td>\n",
       "      <td>3.557</td>\n",
       "      <td>22.0</td>\n",
       "      <td>19.0</td>\n",
       "      <td>49.645002</td>\n",
       "      <td>403</td>\n",
       "      <td>16.980</td>\n",
       "      <td>wheelbase</td>\n",
       "    </tr>\n",
       "    <tr>\n",
       "      <th>24</th>\n",
       "      <td>Chevrolet</td>\n",
       "      <td>Corvette</td>\n",
       "      <td>17.947</td>\n",
       "      <td>36.225000</td>\n",
       "      <td>Passenger</td>\n",
       "      <td>5.7</td>\n",
       "      <td>345.0</td>\n",
       "      <td>104.5</td>\n",
       "      <td>73.6</td>\n",
       "      <td>179.7</td>\n",
       "      <td>3.210</td>\n",
       "      <td>19.1</td>\n",
       "      <td>22.0</td>\n",
       "      <td>141.141150</td>\n",
       "      <td>234</td>\n",
       "      <td>45.705</td>\n",
       "      <td>horsepower</td>\n",
       "    </tr>\n",
       "    <tr>\n",
       "      <th>39</th>\n",
       "      <td>Dodge</td>\n",
       "      <td>Viper</td>\n",
       "      <td>0.916</td>\n",
       "      <td>58.470000</td>\n",
       "      <td>Passenger</td>\n",
       "      <td>8.0</td>\n",
       "      <td>450.0</td>\n",
       "      <td>96.2</td>\n",
       "      <td>75.7</td>\n",
       "      <td>176.7</td>\n",
       "      <td>3.375</td>\n",
       "      <td>19.0</td>\n",
       "      <td>16.0</td>\n",
       "      <td>188.144323</td>\n",
       "      <td>513</td>\n",
       "      <td>69.725</td>\n",
       "      <td>__year_resale_value</td>\n",
       "    </tr>\n",
       "    <tr>\n",
       "      <th>95</th>\n",
       "      <td>Mercedes-B</td>\n",
       "      <td>SL-Class</td>\n",
       "      <td>3.311</td>\n",
       "      <td>58.600000</td>\n",
       "      <td>Passenger</td>\n",
       "      <td>5.0</td>\n",
       "      <td>302.0</td>\n",
       "      <td>99.0</td>\n",
       "      <td>71.3</td>\n",
       "      <td>177.1</td>\n",
       "      <td>4.125</td>\n",
       "      <td>21.1</td>\n",
       "      <td>20.0</td>\n",
       "      <td>139.982294</td>\n",
       "      <td>656</td>\n",
       "      <td>82.600</td>\n",
       "      <td>__year_resale_value</td>\n",
       "    </tr>\n",
       "    <tr>\n",
       "      <th>99</th>\n",
       "      <td>Mercedes-B</td>\n",
       "      <td>CL500</td>\n",
       "      <td>0.954</td>\n",
       "      <td>64.354853</td>\n",
       "      <td>Passenger</td>\n",
       "      <td>5.0</td>\n",
       "      <td>302.0</td>\n",
       "      <td>113.6</td>\n",
       "      <td>73.1</td>\n",
       "      <td>196.6</td>\n",
       "      <td>4.115</td>\n",
       "      <td>23.2</td>\n",
       "      <td>20.0</td>\n",
       "      <td>141.100985</td>\n",
       "      <td>631</td>\n",
       "      <td>85.500</td>\n",
       "      <td>__year_resale_value</td>\n",
       "    </tr>\n",
       "    <tr>\n",
       "      <th>125</th>\n",
       "      <td>Porsche</td>\n",
       "      <td>Carrera Coupe</td>\n",
       "      <td>1.280</td>\n",
       "      <td>60.625000</td>\n",
       "      <td>Passenger</td>\n",
       "      <td>3.4</td>\n",
       "      <td>300.0</td>\n",
       "      <td>92.6</td>\n",
       "      <td>69.5</td>\n",
       "      <td>174.5</td>\n",
       "      <td>3.032</td>\n",
       "      <td>17.0</td>\n",
       "      <td>21.0</td>\n",
       "      <td>134.390975</td>\n",
       "      <td>11</td>\n",
       "      <td>71.020</td>\n",
       "      <td>__year_resale_value</td>\n",
       "    </tr>\n",
       "    <tr>\n",
       "      <th>126</th>\n",
       "      <td>Porsche</td>\n",
       "      <td>Carrera Cabrio</td>\n",
       "      <td>1.866</td>\n",
       "      <td>67.550000</td>\n",
       "      <td>Passenger</td>\n",
       "      <td>3.4</td>\n",
       "      <td>300.0</td>\n",
       "      <td>92.6</td>\n",
       "      <td>69.5</td>\n",
       "      <td>174.5</td>\n",
       "      <td>3.075</td>\n",
       "      <td>17.0</td>\n",
       "      <td>23.0</td>\n",
       "      <td>135.914710</td>\n",
       "      <td>540</td>\n",
       "      <td>74.970</td>\n",
       "      <td>__year_resale_value</td>\n",
       "    </tr>\n",
       "    <tr>\n",
       "      <th>52</th>\n",
       "      <td>Ford</td>\n",
       "      <td>Explorer</td>\n",
       "      <td>276.747</td>\n",
       "      <td>16.640000</td>\n",
       "      <td>Car</td>\n",
       "      <td>4.0</td>\n",
       "      <td>210.0</td>\n",
       "      <td>111.6</td>\n",
       "      <td>70.2</td>\n",
       "      <td>190.7</td>\n",
       "      <td>3.876</td>\n",
       "      <td>21.0</td>\n",
       "      <td>19.0</td>\n",
       "      <td>87.635496</td>\n",
       "      <td>251</td>\n",
       "      <td>31.930</td>\n",
       "      <td>sales_in_thousands</td>\n",
       "    </tr>\n",
       "    <tr>\n",
       "      <th>56</th>\n",
       "      <td>Ford</td>\n",
       "      <td>F-Series</td>\n",
       "      <td>540.561</td>\n",
       "      <td>15.075000</td>\n",
       "      <td>Car</td>\n",
       "      <td>4.6</td>\n",
       "      <td>220.0</td>\n",
       "      <td>138.5</td>\n",
       "      <td>79.1</td>\n",
       "      <td>224.5</td>\n",
       "      <td>4.241</td>\n",
       "      <td>25.1</td>\n",
       "      <td>18.0</td>\n",
       "      <td>89.401935</td>\n",
       "      <td>138</td>\n",
       "      <td>26.935</td>\n",
       "      <td>sales_in_thousands</td>\n",
       "    </tr>\n",
       "  </tbody>\n",
       "</table>\n",
       "</div>"
      ],
      "text/plain": [
       "    manufacturer           model  sales_in_thousands  __year_resale_value  \\\n",
       "94    Mercedes-B         S-Class              16.774            50.375000   \n",
       "90       Mercury     Mountaineer              27.609            20.430000   \n",
       "91       Mercury        Villager              20.380            14.795000   \n",
       "110   Oldsmobile           Alero              80.255            11.960415   \n",
       "6           Audi              A8               1.380            39.000000   \n",
       "26     Chevrolet           Metro              21.855             5.160000   \n",
       "41         Dodge       Ram Wagon              16.767            15.510000   \n",
       "42         Dodge         Ram Van              31.038            13.425000   \n",
       "18      Cadillac        Escalade              14.785            33.746620   \n",
       "74         Lexus           LX470               9.126            44.563737   \n",
       "78       Lincoln       Navigator              22.925            30.968304   \n",
       "40         Dodge      Ram Pickup             227.061            15.060000   \n",
       "43         Dodge          Dakota             111.313            11.260000   \n",
       "24     Chevrolet        Corvette              17.947            36.225000   \n",
       "39         Dodge           Viper               0.916            58.470000   \n",
       "95    Mercedes-B        SL-Class               3.311            58.600000   \n",
       "99    Mercedes-B           CL500               0.954            64.354853   \n",
       "125      Porsche   Carrera Coupe               1.280            60.625000   \n",
       "126      Porsche  Carrera Cabrio               1.866            67.550000   \n",
       "52          Ford        Explorer             276.747            16.640000   \n",
       "56          Ford        F-Series             540.561            15.075000   \n",
       "\n",
       "    vehicle_type  engine_size  horsepower  wheelbase  width  length  \\\n",
       "94     Passenger          4.3       275.0      121.5   73.1   203.1   \n",
       "90           Car          4.0       210.0      111.6   70.2   190.1   \n",
       "91           Car          3.3       170.0      112.2   74.9   194.7   \n",
       "110    Passenger          2.4       150.0      107.0   70.1   186.7   \n",
       "6      Passenger          4.2       310.0      113.0   74.0   198.2   \n",
       "26     Passenger          1.0        55.0       93.1   62.6   149.4   \n",
       "41           Car          3.9       175.0      109.6   78.8   192.6   \n",
       "42           Car          3.9       175.0      127.2   78.8   208.5   \n",
       "18           Car          5.7       255.0      117.5   77.0   201.2   \n",
       "74           Car          4.7       230.0      112.2   76.4   192.5   \n",
       "78           Car          5.4       300.0      119.0   79.9   204.8   \n",
       "40           Car          5.2       230.0      138.7   79.3   224.2   \n",
       "43           Car          2.5       120.0      131.0   71.5   215.0   \n",
       "24     Passenger          5.7       345.0      104.5   73.6   179.7   \n",
       "39     Passenger          8.0       450.0       96.2   75.7   176.7   \n",
       "95     Passenger          5.0       302.0       99.0   71.3   177.1   \n",
       "99     Passenger          5.0       302.0      113.6   73.1   196.6   \n",
       "125    Passenger          3.4       300.0       92.6   69.5   174.5   \n",
       "126    Passenger          3.4       300.0       92.6   69.5   174.5   \n",
       "52           Car          4.0       210.0      111.6   70.2   190.7   \n",
       "56           Car          4.6       220.0      138.5   79.1   224.5   \n",
       "\n",
       "     curb_weight  fuel_capacity  fuel_efficiency  power_perf_factor  \\\n",
       "94         4.133           23.2             21.0         125.273876   \n",
       "90         3.876           21.0             18.0          85.949744   \n",
       "91         3.944           20.0             21.0          69.671461   \n",
       "110        2.958           15.0             27.0          60.727447   \n",
       "6          3.902           23.7             21.0         134.656858   \n",
       "26         1.895           10.3             45.0          23.276272   \n",
       "41         4.245           32.0             15.0          71.135292   \n",
       "42         4.298           32.0             16.0          70.078322   \n",
       "18         5.572           30.0             15.0         109.509117   \n",
       "74         5.401           25.4             15.0         105.760458   \n",
       "78         5.393           30.0             15.0         123.972047   \n",
       "40         4.470           26.0             17.0          90.211700   \n",
       "43         3.557           22.0             19.0          49.645002   \n",
       "24         3.210           19.1             22.0         141.141150   \n",
       "39         3.375           19.0             16.0         188.144323   \n",
       "95         4.125           21.1             20.0         139.982294   \n",
       "99         4.115           23.2             20.0         141.100985   \n",
       "125        3.032           17.0             21.0         134.390975   \n",
       "126        3.075           17.0             23.0         135.914710   \n",
       "52         3.876           21.0             19.0          87.635496   \n",
       "56         4.241           25.1             18.0          89.401935   \n",
       "\n",
       "     days_after_launch(1/1/13)  price_in_thousands                    outlier  \n",
       "94                         568              69.700         price_in_thousands  \n",
       "90                        1784              27.560  days_after_launch(1/1/13)  \n",
       "91                        1169              22.510  days_after_launch(1/1/13)  \n",
       "110                       1169              18.270  days_after_launch(1/1/13)  \n",
       "6                          309              62.000          power_perf_factor  \n",
       "26                         263               9.235            fuel_efficiency  \n",
       "41                         361              21.315              fuel_capacity  \n",
       "42                         159              18.575              fuel_capacity  \n",
       "18                         259              46.225                curb_weight  \n",
       "74                          63              60.105                curb_weight  \n",
       "78                           9              42.660                curb_weight  \n",
       "40                         301              19.460                  wheelbase  \n",
       "43                         403              16.980                  wheelbase  \n",
       "24                         234              45.705                 horsepower  \n",
       "39                         513              69.725        __year_resale_value  \n",
       "95                         656              82.600        __year_resale_value  \n",
       "99                         631              85.500        __year_resale_value  \n",
       "125                         11              71.020        __year_resale_value  \n",
       "126                        540              74.970        __year_resale_value  \n",
       "52                         251              31.930         sales_in_thousands  \n",
       "56                         138              26.935         sales_in_thousands  "
      ]
     },
     "execution_count": 394,
     "metadata": {},
     "output_type": "execute_result"
    }
   ],
   "source": [
    "def remove_outlier(df):\n",
    "    num_df_cols=df.select_dtypes(include=[np.number]).columns\n",
    "    d=pd.DataFrame(columns=df.columns.to_list().append('outlier'))\n",
    "    for col in num_df_cols:\n",
    "        mean=df[col].mean()\n",
    "        std=df[col].std()\n",
    "        u_limit=mean+3*std\n",
    "        l_limit=mean-3*std\n",
    "        out=df[(df[col]<l_limit) | (df[col]>u_limit)].copy()\n",
    "        out['outlier']=col\n",
    "        d=pd.concat([out,d])\n",
    "        df=df[(df[col]>l_limit) & (df[col]<u_limit)]\n",
    "    return (df,d)\n",
    "    \n",
    "df5,d=remove_outlier(df4)\n",
    "d"
   ]
  },
  {
   "cell_type": "markdown",
   "id": "7e0d6837",
   "metadata": {},
   "source": [
    "most of the outliers are seems to be valid but still it is better to remove \n",
    "them for building better model"
   ]
  },
  {
   "cell_type": "code",
   "execution_count": 395,
   "id": "76c0fee4",
   "metadata": {},
   "outputs": [
    {
     "data": {
      "text/plain": [
       "21"
      ]
     },
     "execution_count": 395,
     "metadata": {},
     "output_type": "execute_result"
    }
   ],
   "source": [
    "df4.shape[0]-df5.shape[0]"
   ]
  },
  {
   "cell_type": "markdown",
   "id": "3a274a5b",
   "metadata": {},
   "source": [
    "we removed 21 outliers"
   ]
  },
  {
   "cell_type": "markdown",
   "id": "e10cdc0c",
   "metadata": {},
   "source": [
    "##  Data Analysis & Visualisation\n",
    "\n",
    "1. Manufacturer"
   ]
  },
  {
   "cell_type": "code",
   "execution_count": 25,
   "id": "3e5fe4fc",
   "metadata": {},
   "outputs": [
    {
     "data": {
      "text/plain": [
       "30"
      ]
     },
     "execution_count": 25,
     "metadata": {},
     "output_type": "execute_result"
    }
   ],
   "source": [
    "df4['manufacturer'].nunique()"
   ]
  },
  {
   "cell_type": "code",
   "execution_count": 26,
   "id": "6d565ba1",
   "metadata": {},
   "outputs": [
    {
     "data": {
      "text/plain": [
       "array(['Acura', 'Audi', 'BMW', 'Buick', 'Cadillac', 'Chevrolet',\n",
       "       'Chrysler', 'Dodge', 'Ford', 'Honda', 'Hyundai', 'Infiniti',\n",
       "       'Jaguar', 'Jeep', 'Lexus', 'Lincoln', 'Mitsubishi', 'Mercury',\n",
       "       'Mercedes-B', 'Nissan', 'Oldsmobile', 'Plymouth', 'Pontiac',\n",
       "       'Porsche', 'Saab', 'Saturn', 'Subaru', 'Toyota', 'Volkswagen',\n",
       "       'Volvo'], dtype=object)"
      ]
     },
     "execution_count": 26,
     "metadata": {},
     "output_type": "execute_result"
    }
   ],
   "source": [
    "Manf_name=df4['manufacturer'].unique()\n",
    "Manf_name"
   ]
  },
  {
   "cell_type": "markdown",
   "id": "056792bf",
   "metadata": {},
   "source": [
    "#### Top 10 companies with highest no of cars[models]"
   ]
  },
  {
   "cell_type": "code",
   "execution_count": 423,
   "id": "1d268b66",
   "metadata": {},
   "outputs": [
    {
     "data": {
      "image/png": "[encoded data removed]",
      "text/plain": [
       "<Figure size 792x288 with 1 Axes>"
      ]
     },
     "metadata": {
      "needs_background": "light"
     },
     "output_type": "display_data"
    }
   ],
   "source": [
    "high_mod=df4['manufacturer'].value_counts()[:10]\n",
    "plt.figure(figsize=(11,4))\n",
    "plt.bar(high_mod.index.values,high_mod.values,color='#937f91')\n",
    "plt.ylabel('No of Models')\n",
    "plt.xlabel('Manufacturer')\n",
    "plt.show()"
   ]
  },
  {
   "cell_type": "markdown",
   "id": "707e8119",
   "metadata": {},
   "source": [
    "Dodge and Toyota has highest no of model\n",
    "\n",
    "2. Model"
   ]
  },
  {
   "cell_type": "code",
   "execution_count": 164,
   "id": "61a4e9bb",
   "metadata": {},
   "outputs": [
    {
     "data": {
      "text/plain": [
       "array(['Neon'], dtype=object)"
      ]
     },
     "execution_count": 164,
     "metadata": {},
     "output_type": "execute_result"
    }
   ],
   "source": [
    "d=df4['model'].value_counts()\n",
    "mod=d[d>1].index.values\n",
    "mod"
   ]
  },
  {
   "cell_type": "code",
   "execution_count": 166,
   "id": "c016f5a6",
   "metadata": {},
   "outputs": [
    {
     "data": {
      "text/plain": [
       "array(['Dodge', 'Plymouth'], dtype=object)"
      ]
     },
     "execution_count": 166,
     "metadata": {},
     "output_type": "execute_result"
    }
   ],
   "source": [
    "df4[df4.model==mod[0]].manufacturer.values"
   ]
  },
  {
   "cell_type": "markdown",
   "id": "264f7540",
   "metadata": {},
   "source": [
    "Doged and Polymouth has cars of same model name as Neon"
   ]
  },
  {
   "cell_type": "markdown",
   "id": "7fe6a242",
   "metadata": {},
   "source": [
    "3. Sales"
   ]
  },
  {
   "cell_type": "code",
   "execution_count": 31,
   "id": "e5d1a3ae",
   "metadata": {},
   "outputs": [],
   "source": [
    "sales=df4.groupby('manufacturer')['sales_in_thousands'].sum().sort_values(ascending =False)\n",
    "sal_10=sales[:10]\n",
    "l=sal_10.index[:9].to_list()\n",
    "l.append('other')\n",
    "sal_10.index=l\n",
    "sal_10[9]=sum(sales.values[10:])"
   ]
  },
  {
   "cell_type": "code",
   "execution_count": 343,
   "id": "72e13eac",
   "metadata": {},
   "outputs": [
    {
     "data": {
      "image/png": "[encoded data removed]",
      "text/plain": [
       "<Figure size 504x504 with 1 Axes>"
      ]
     },
     "metadata": {},
     "output_type": "display_data"
    }
   ],
   "source": [
    "plt.figure(figsize=(7,7))\n",
    "plt.pie(sal_10,startangle=40,autopct='%1.1f%%',shadow=True,labels=sal.index)\n",
    "plt.show()"
   ]
  },
  {
   "cell_type": "markdown",
   "id": "e40f4c81",
   "metadata": {},
   "source": [
    "ford has highest sales "
   ]
  },
  {
   "cell_type": "code",
   "execution_count": 429,
   "id": "e3942c9a",
   "metadata": {},
   "outputs": [],
   "source": [
    "df6=df4.copy()\n",
    "df6['sell_price']=df6.sales_in_thousands*df6.price_in_thousands\n",
    "sell_price=df6.groupby('manufacturer')['sell_price'].sum().sort_values(ascending =False)[:10]"
   ]
  },
  {
   "cell_type": "code",
   "execution_count": 435,
   "id": "6fa68d2b",
   "metadata": {},
   "outputs": [
    {
     "data": {
      "image/png": "[encoded data removed]",
      "text/plain": [
       "<Figure size 1080x504 with 1 Axes>"
      ]
     },
     "metadata": {
      "needs_background": "light"
     },
     "output_type": "display_data"
    }
   ],
   "source": [
    "figu,ax=plt.subplots(figsize=(15,7))\n",
    "ax.barh(sell_price.index.values,sell_price.values*1000,color='#337091')\n",
    "ax.invert_yaxis()\n",
    "for i in ax.patches:\n",
    "    plt.text(i.get_width()+0.1,i.get_y()+0.5,str(round(i.get_width(),2)),fontsize=12,fontweight=\"bold\",color=\"grey\")\n",
    "ax.set_title(\"10 companies generated highest profit\",loc=\"right\")\n",
    "plt.show()"
   ]
  },
  {
   "cell_type": "markdown",
   "id": "b90c9f20",
   "metadata": {},
   "source": [
    "Ford is generating highest revenue by providing more no of models"
   ]
  },
  {
   "cell_type": "code",
   "execution_count": 442,
   "id": "688862c0",
   "metadata": {
    "scrolled": true
   },
   "outputs": [
    {
     "data": {
      "text/html": [
       "<div>\n",
       "<style scoped>\n",
       "    .dataframe tbody tr th:only-of-type {\n",
       "        vertical-align: middle;\n",
       "    }\n",
       "\n",
       "    .dataframe tbody tr th {\n",
       "        vertical-align: top;\n",
       "    }\n",
       "\n",
       "    .dataframe thead th {\n",
       "        text-align: right;\n",
       "    }\n",
       "</style>\n",
       "<table border=\"1\" class=\"dataframe\">\n",
       "  <thead>\n",
       "    <tr style=\"text-align: right;\">\n",
       "      <th></th>\n",
       "      <th>manufacturer</th>\n",
       "      <th>model</th>\n",
       "      <th>sales_in_thousands</th>\n",
       "      <th>__year_resale_value</th>\n",
       "      <th>vehicle_type</th>\n",
       "      <th>engine_size</th>\n",
       "      <th>horsepower</th>\n",
       "      <th>wheelbase</th>\n",
       "      <th>width</th>\n",
       "      <th>length</th>\n",
       "      <th>curb_weight</th>\n",
       "      <th>fuel_capacity</th>\n",
       "      <th>fuel_efficiency</th>\n",
       "      <th>power_perf_factor</th>\n",
       "      <th>days_after_launch(1/1/13)</th>\n",
       "      <th>price_in_thousands</th>\n",
       "      <th>sell_price</th>\n",
       "    </tr>\n",
       "  </thead>\n",
       "  <tbody>\n",
       "    <tr>\n",
       "      <th>0</th>\n",
       "      <td>Acura</td>\n",
       "      <td>Integra</td>\n",
       "      <td>16.919</td>\n",
       "      <td>16.360</td>\n",
       "      <td>Passenger</td>\n",
       "      <td>1.8</td>\n",
       "      <td>140.0</td>\n",
       "      <td>101.2</td>\n",
       "      <td>67.3</td>\n",
       "      <td>172.4</td>\n",
       "      <td>2.639</td>\n",
       "      <td>13.2</td>\n",
       "      <td>28.0</td>\n",
       "      <td>58.280150</td>\n",
       "      <td>334</td>\n",
       "      <td>21.500000</td>\n",
       "      <td>363.758500</td>\n",
       "    </tr>\n",
       "    <tr>\n",
       "      <th>1</th>\n",
       "      <td>Acura</td>\n",
       "      <td>TL</td>\n",
       "      <td>39.384</td>\n",
       "      <td>19.875</td>\n",
       "      <td>Passenger</td>\n",
       "      <td>3.2</td>\n",
       "      <td>225.0</td>\n",
       "      <td>108.1</td>\n",
       "      <td>70.3</td>\n",
       "      <td>192.9</td>\n",
       "      <td>3.517</td>\n",
       "      <td>17.2</td>\n",
       "      <td>25.0</td>\n",
       "      <td>91.370778</td>\n",
       "      <td>578</td>\n",
       "      <td>28.400000</td>\n",
       "      <td>1118.505600</td>\n",
       "    </tr>\n",
       "    <tr>\n",
       "      <th>2</th>\n",
       "      <td>Acura</td>\n",
       "      <td>CL</td>\n",
       "      <td>14.114</td>\n",
       "      <td>18.225</td>\n",
       "      <td>Passenger</td>\n",
       "      <td>3.2</td>\n",
       "      <td>225.0</td>\n",
       "      <td>106.9</td>\n",
       "      <td>70.6</td>\n",
       "      <td>192.0</td>\n",
       "      <td>3.470</td>\n",
       "      <td>17.2</td>\n",
       "      <td>26.0</td>\n",
       "      <td>77.043591</td>\n",
       "      <td>363</td>\n",
       "      <td>26.308411</td>\n",
       "      <td>371.316914</td>\n",
       "    </tr>\n",
       "    <tr>\n",
       "      <th>3</th>\n",
       "      <td>Acura</td>\n",
       "      <td>RL</td>\n",
       "      <td>8.588</td>\n",
       "      <td>29.725</td>\n",
       "      <td>Passenger</td>\n",
       "      <td>3.5</td>\n",
       "      <td>210.0</td>\n",
       "      <td>114.6</td>\n",
       "      <td>71.4</td>\n",
       "      <td>196.6</td>\n",
       "      <td>3.850</td>\n",
       "      <td>18.0</td>\n",
       "      <td>22.0</td>\n",
       "      <td>91.389779</td>\n",
       "      <td>663</td>\n",
       "      <td>42.000000</td>\n",
       "      <td>360.696000</td>\n",
       "    </tr>\n",
       "    <tr>\n",
       "      <th>4</th>\n",
       "      <td>Audi</td>\n",
       "      <td>A4</td>\n",
       "      <td>20.397</td>\n",
       "      <td>22.255</td>\n",
       "      <td>Passenger</td>\n",
       "      <td>1.8</td>\n",
       "      <td>150.0</td>\n",
       "      <td>102.6</td>\n",
       "      <td>68.2</td>\n",
       "      <td>178.0</td>\n",
       "      <td>2.998</td>\n",
       "      <td>16.4</td>\n",
       "      <td>27.0</td>\n",
       "      <td>62.777639</td>\n",
       "      <td>451</td>\n",
       "      <td>23.990000</td>\n",
       "      <td>489.324030</td>\n",
       "    </tr>\n",
       "  </tbody>\n",
       "</table>\n",
       "</div>"
      ],
      "text/plain": [
       "  manufacturer    model  sales_in_thousands  __year_resale_value vehicle_type  \\\n",
       "0        Acura  Integra              16.919               16.360    Passenger   \n",
       "1        Acura       TL              39.384               19.875    Passenger   \n",
       "2        Acura       CL              14.114               18.225    Passenger   \n",
       "3        Acura       RL               8.588               29.725    Passenger   \n",
       "4         Audi       A4              20.397               22.255    Passenger   \n",
       "\n",
       "   engine_size  horsepower  wheelbase  width  length  curb_weight  \\\n",
       "0          1.8       140.0      101.2   67.3   172.4        2.639   \n",
       "1          3.2       225.0      108.1   70.3   192.9        3.517   \n",
       "2          3.2       225.0      106.9   70.6   192.0        3.470   \n",
       "3          3.5       210.0      114.6   71.4   196.6        3.850   \n",
       "4          1.8       150.0      102.6   68.2   178.0        2.998   \n",
       "\n",
       "   fuel_capacity  fuel_efficiency  power_perf_factor  \\\n",
       "0           13.2             28.0          58.280150   \n",
       "1           17.2             25.0          91.370778   \n",
       "2           17.2             26.0          77.043591   \n",
       "3           18.0             22.0          91.389779   \n",
       "4           16.4             27.0          62.777639   \n",
       "\n",
       "   days_after_launch(1/1/13)  price_in_thousands   sell_price  \n",
       "0                        334           21.500000   363.758500  \n",
       "1                        578           28.400000  1118.505600  \n",
       "2                        363           26.308411   371.316914  \n",
       "3                        663           42.000000   360.696000  \n",
       "4                        451           23.990000   489.324030  "
      ]
     },
     "execution_count": 442,
     "metadata": {},
     "output_type": "execute_result"
    }
   ],
   "source": [
    "df6.head()"
   ]
  },
  {
   "cell_type": "code",
   "execution_count": 449,
   "id": "75c9961a",
   "metadata": {
    "scrolled": false
   },
   "outputs": [
    {
     "data": {
      "text/plain": [
       "<seaborn.axisgrid.PairGrid at 0x272d128a220>"
      ]
     },
     "execution_count": 449,
     "metadata": {},
     "output_type": "execute_result"
    },
    {
     "data": {
      "image/png": "[encoded data removed]",
      "text/plain": [
       "<Figure size 720x720 with 20 Axes>"
      ]
     },
     "metadata": {
      "needs_background": "light"
     },
     "output_type": "display_data"
    }
   ],
   "source": [
    "pairplot(df4[['sales_in_thousands','horsepower','price_in_thousands','fuel_efficiency']])"
   ]
  },
  {
   "cell_type": "markdown",
   "id": "180a9cd0",
   "metadata": {},
   "source": [
    "* we can observe all the histograms are right skewed and some ouliers present in all graph\n",
    "(outliers are already deleted here i used old dataframe)\n",
    "* cars with lower price sell more than higher one \n",
    "* cars with higher horsepower has lesser fuelefficiency\n",
    "\n"
   ]
  },
  {
   "cell_type": "markdown",
   "id": "4cb86467",
   "metadata": {},
   "source": [
    "## DATA POCESSING AND BUILDING MODEL FOR TARGET AS PRICE"
   ]
  },
  {
   "cell_type": "markdown",
   "id": "d6aa7a8c",
   "metadata": {},
   "source": [
    "### DATA PREPROCESSING"
   ]
  },
  {
   "cell_type": "code",
   "execution_count": 46,
   "id": "e671e47b",
   "metadata": {},
   "outputs": [
    {
     "data": {
      "text/html": [
       "<div>\n",
       "<style scoped>\n",
       "    .dataframe tbody tr th:only-of-type {\n",
       "        vertical-align: middle;\n",
       "    }\n",
       "\n",
       "    .dataframe tbody tr th {\n",
       "        vertical-align: top;\n",
       "    }\n",
       "\n",
       "    .dataframe thead th {\n",
       "        text-align: right;\n",
       "    }\n",
       "</style>\n",
       "<table border=\"1\" class=\"dataframe\">\n",
       "  <thead>\n",
       "    <tr style=\"text-align: right;\">\n",
       "      <th></th>\n",
       "      <th>manufacturer</th>\n",
       "      <th>model</th>\n",
       "      <th>sales_in_thousands</th>\n",
       "      <th>__year_resale_value</th>\n",
       "      <th>vehicle_type</th>\n",
       "      <th>engine_size</th>\n",
       "      <th>horsepower</th>\n",
       "      <th>wheelbase</th>\n",
       "      <th>width</th>\n",
       "      <th>length</th>\n",
       "      <th>curb_weight</th>\n",
       "      <th>fuel_capacity</th>\n",
       "      <th>fuel_efficiency</th>\n",
       "      <th>power_perf_factor</th>\n",
       "      <th>days_after_launch(1/1/13)</th>\n",
       "      <th>price_in_thousands</th>\n",
       "    </tr>\n",
       "  </thead>\n",
       "  <tbody>\n",
       "  </tbody>\n",
       "</table>\n",
       "</div>"
      ],
      "text/plain": [
       "Empty DataFrame\n",
       "Columns: [manufacturer, model, sales_in_thousands, __year_resale_value, vehicle_type, engine_size, horsepower, wheelbase, width, length, curb_weight, fuel_capacity, fuel_efficiency, power_perf_factor, days_after_launch(1/1/13), price_in_thousands]\n",
       "Index: []"
      ]
     },
     "execution_count": 46,
     "metadata": {},
     "output_type": "execute_result"
    }
   ],
   "source": [
    "df5[df5.model=='Neon']"
   ]
  },
  {
   "cell_type": "markdown",
   "id": "b5e7588c",
   "metadata": {},
   "source": [
    "model named neon has 2 manufacturers and we can observe that two model has same features\n",
    "except sales and lauch date this probably be data error we shall delete these"
   ]
  },
  {
   "cell_type": "code",
   "execution_count": 89,
   "id": "c20bf212",
   "metadata": {},
   "outputs": [],
   "source": [
    "df7=df5.copy()"
   ]
  },
  {
   "cell_type": "code",
   "execution_count": 36,
   "id": "7724f29b",
   "metadata": {},
   "outputs": [],
   "source": [
    "df7.drop(df7[df7.model=='Neon'].index,inplace=True)"
   ]
  },
  {
   "cell_type": "code",
   "execution_count": 90,
   "id": "f466fdf3",
   "metadata": {},
   "outputs": [],
   "source": [
    "nam=df7[['model','price_in_thousands']].sort_values(by='price_in_thousands').model.values\n",
    "encod=OrdinalEncoder(categories=[nam])\n",
    "df7.model=encod.fit_transform(df5[['model']])"
   ]
  },
  {
   "cell_type": "code",
   "execution_count": 94,
   "id": "40c690fd",
   "metadata": {},
   "outputs": [],
   "source": [
    "df7.vehicle_type.replace({'Car':0,'Passenger':1},inplace=True)"
   ]
  },
  {
   "cell_type": "code",
   "execution_count": 97,
   "id": "96b7c388",
   "metadata": {},
   "outputs": [],
   "source": [
    "name=df7.groupby('manufacturer')['price_in_thousands'].mean().sort_values().index\n",
    "encod2=OrdinalEncoder(categories=[name])\n",
    "df7.manufacturer=encod2.fit_transform(df5[['manufacturer']])"
   ]
  },
  {
   "cell_type": "code",
   "execution_count": 98,
   "id": "212fb26b",
   "metadata": {},
   "outputs": [
    {
     "data": {
      "text/plain": [
       "<AxesSubplot:>"
      ]
     },
     "execution_count": 98,
     "metadata": {},
     "output_type": "execute_result"
    },
    {
     "data": {
      "image/png": "[encoded data removed]",
      "text/plain": [
       "<Figure size 1440x1080 with 2 Axes>"
      ]
     },
     "metadata": {
      "needs_background": "light"
     },
     "output_type": "display_data"
    }
   ],
   "source": [
    "plt.figure(figsize=(20,15))\n",
    "mask = np.triu(np.ones_like(df7.corr(), dtype=bool))\n",
    "heatmap(df7.corr(),annot=True,mask=mask)"
   ]
  },
  {
   "cell_type": "markdown",
   "id": "86aa9f06",
   "metadata": {},
   "source": [
    "there is strong multicollinearity between many of the features price of car \n",
    "\n",
    "vehicle_type and launch date has no relation with any of the values hence i will drop those columns\n",
    "\n",
    "power_factor and horsepower has high collrellation hence we can drop horsepower column\n",
    "\n",
    "year_resale_value , power_factor and model has highest influence on price of car"
   ]
  },
  {
   "cell_type": "code",
   "execution_count": 112,
   "id": "5d4b2259",
   "metadata": {},
   "outputs": [],
   "source": [
    "drop_list=['wheelbase','length','width','sales_in_thousands',\\\n",
    "           'fuel_capacity','vehicle_type','days_after_launch(1/1/13)','horsepower']\n",
    "df8=df7.drop(drop_list,axis=1).copy()"
   ]
  },
  {
   "cell_type": "markdown",
   "id": "4a02995d",
   "metadata": {},
   "source": [
    "I will reduce all the column having correlation value less than 0.5 to 1 column using PCA"
   ]
  },
  {
   "cell_type": "code",
   "execution_count": 113,
   "id": "d8189ec3",
   "metadata": {},
   "outputs": [
    {
     "data": {
      "text/html": [
       "<div>\n",
       "<style scoped>\n",
       "    .dataframe tbody tr th:only-of-type {\n",
       "        vertical-align: middle;\n",
       "    }\n",
       "\n",
       "    .dataframe tbody tr th {\n",
       "        vertical-align: top;\n",
       "    }\n",
       "\n",
       "    .dataframe thead th {\n",
       "        text-align: right;\n",
       "    }\n",
       "</style>\n",
       "<table border=\"1\" class=\"dataframe\">\n",
       "  <thead>\n",
       "    <tr style=\"text-align: right;\">\n",
       "      <th></th>\n",
       "      <th>manufacturer</th>\n",
       "      <th>model</th>\n",
       "      <th>__year_resale_value</th>\n",
       "      <th>engine_size</th>\n",
       "      <th>curb_weight</th>\n",
       "      <th>fuel_efficiency</th>\n",
       "      <th>power_perf_factor</th>\n",
       "      <th>price_in_thousands</th>\n",
       "      <th>pca1</th>\n",
       "    </tr>\n",
       "  </thead>\n",
       "  <tbody>\n",
       "    <tr>\n",
       "      <th>0</th>\n",
       "      <td>124.0</td>\n",
       "      <td>54.0</td>\n",
       "      <td>16.360</td>\n",
       "      <td>1.8</td>\n",
       "      <td>2.639</td>\n",
       "      <td>28.0</td>\n",
       "      <td>58.280150</td>\n",
       "      <td>21.5</td>\n",
       "      <td>-34.050747</td>\n",
       "    </tr>\n",
       "    <tr>\n",
       "      <th>1</th>\n",
       "      <td>124.0</td>\n",
       "      <td>96.0</td>\n",
       "      <td>19.875</td>\n",
       "      <td>3.2</td>\n",
       "      <td>3.517</td>\n",
       "      <td>25.0</td>\n",
       "      <td>91.370778</td>\n",
       "      <td>28.4</td>\n",
       "      <td>-10.924929</td>\n",
       "    </tr>\n",
       "  </tbody>\n",
       "</table>\n",
       "</div>"
      ],
      "text/plain": [
       "   manufacturer  model  __year_resale_value  engine_size  curb_weight  \\\n",
       "0         124.0   54.0               16.360          1.8        2.639   \n",
       "1         124.0   96.0               19.875          3.2        3.517   \n",
       "\n",
       "   fuel_efficiency  power_perf_factor  price_in_thousands       pca1  \n",
       "0             28.0          58.280150                21.5 -34.050747  \n",
       "1             25.0          91.370778                28.4 -10.924929  "
      ]
     },
     "execution_count": 113,
     "metadata": {},
     "output_type": "execute_result"
    }
   ],
   "source": [
    "pca=PCA(n_components=1)\n",
    "df8['pca1']=pca.fit_transform(df7[['wheelbase','length','width','sales_in_thousands','fuel_capacity']])\n",
    "df8.head(2)"
   ]
  },
  {
   "cell_type": "code",
   "execution_count": 105,
   "id": "6964bf79",
   "metadata": {},
   "outputs": [
    {
     "data": {
      "text/plain": [
       "array([0.93163824])"
      ]
     },
     "execution_count": 105,
     "metadata": {},
     "output_type": "execute_result"
    }
   ],
   "source": [
    "pca.explained_variance_ratio_"
   ]
  },
  {
   "cell_type": "code",
   "execution_count": 116,
   "id": "62222e75",
   "metadata": {},
   "outputs": [],
   "source": [
    "X=df8.drop('price_in_thousands',axis=1)"
   ]
  },
  {
   "cell_type": "markdown",
   "id": "1b147db9",
   "metadata": {},
   "source": [
    "Scaling of data"
   ]
  },
  {
   "cell_type": "code",
   "execution_count": 117,
   "id": "8feb9473",
   "metadata": {},
   "outputs": [],
   "source": [
    "scale=StandardScaler()\n",
    "X_scaled=scale.fit_transform(X)"
   ]
  },
  {
   "cell_type": "code",
   "execution_count": 120,
   "id": "22370b3b",
   "metadata": {},
   "outputs": [],
   "source": [
    "y=df8.price_in_thousands"
   ]
  },
  {
   "cell_type": "markdown",
   "id": "3e8f9811",
   "metadata": {},
   "source": [
    "### MODEL Building"
   ]
  },
  {
   "cell_type": "code",
   "execution_count": 159,
   "id": "84d889a3",
   "metadata": {},
   "outputs": [
    {
     "data": {
      "text/html": [
       "<div>\n",
       "<style scoped>\n",
       "    .dataframe tbody tr th:only-of-type {\n",
       "        vertical-align: middle;\n",
       "    }\n",
       "\n",
       "    .dataframe tbody tr th {\n",
       "        vertical-align: top;\n",
       "    }\n",
       "\n",
       "    .dataframe thead th {\n",
       "        text-align: right;\n",
       "    }\n",
       "</style>\n",
       "<table border=\"1\" class=\"dataframe\">\n",
       "  <thead>\n",
       "    <tr style=\"text-align: right;\">\n",
       "      <th></th>\n",
       "      <th>0</th>\n",
       "    </tr>\n",
       "  </thead>\n",
       "  <tbody>\n",
       "    <tr>\n",
       "      <th>RandomForestRegressor()</th>\n",
       "      <td>0.990962</td>\n",
       "    </tr>\n",
       "    <tr>\n",
       "      <th>DecisionTreeRegressor()</th>\n",
       "      <td>0.990478</td>\n",
       "    </tr>\n",
       "    <tr>\n",
       "      <th>Ridge()</th>\n",
       "      <td>0.938681</td>\n",
       "    </tr>\n",
       "    <tr>\n",
       "      <th>LinearRegression()</th>\n",
       "      <td>0.938285</td>\n",
       "    </tr>\n",
       "    <tr>\n",
       "      <th>Lasso()</th>\n",
       "      <td>0.932936</td>\n",
       "    </tr>\n",
       "    <tr>\n",
       "      <th>SVR(C=10)</th>\n",
       "      <td>0.909150</td>\n",
       "    </tr>\n",
       "    <tr>\n",
       "      <th>KNeighborsRegressor()</th>\n",
       "      <td>0.891864</td>\n",
       "    </tr>\n",
       "  </tbody>\n",
       "</table>\n",
       "</div>"
      ],
      "text/plain": [
       "                                0\n",
       "RandomForestRegressor()  0.990962\n",
       "DecisionTreeRegressor()  0.990478\n",
       "Ridge()                  0.938681\n",
       "LinearRegression()       0.938285\n",
       "Lasso()                  0.932936\n",
       "SVR(C=10)                0.909150\n",
       "KNeighborsRegressor()    0.891864"
      ]
     },
     "execution_count": 159,
     "metadata": {},
     "output_type": "execute_result"
    }
   ],
   "source": [
    "models=[Lasso(),Ridge(),LinearRegression(),RandomForestRegressor() \\\n",
    "         ,DecisionTreeRegressor(),SVR(C=10),KNeighborsRegressor()]\n",
    "\n",
    "score=[]\n",
    "for model in models:\n",
    "    score.append(cross_val_score(model,X_scaled,y,n_jobs=-1).mean())\n",
    "pd.DataFrame(score,index=models).sort_values(by=0,ascending=False)"
   ]
  },
  {
   "cell_type": "markdown",
   "id": "f2a50416",
   "metadata": {},
   "source": [
    "Randomforestregressor ouperformed all other model with accuracy of 99%"
   ]
  },
  {
   "cell_type": "markdown",
   "id": "be388563",
   "metadata": {},
   "source": [
    "## DATA PROCESSING AND BUILDING MODEL FOR TARGET AS SALES"
   ]
  },
  {
   "cell_type": "markdown",
   "id": "2e7e0c38",
   "metadata": {},
   "source": [
    "###  Data Preprocessing"
   ]
  },
  {
   "cell_type": "code",
   "execution_count": 301,
   "id": "00724550",
   "metadata": {},
   "outputs": [],
   "source": [
    "df9=df5.copy()"
   ]
  },
  {
   "cell_type": "code",
   "execution_count": 302,
   "id": "b27b84f6",
   "metadata": {},
   "outputs": [],
   "source": [
    "df9.drop(df9[df9.model=='Neon'].index,inplace=True)"
   ]
  },
  {
   "cell_type": "markdown",
   "id": "60101ccc",
   "metadata": {},
   "source": [
    "I will encode categorical  columns with no according to their sales"
   ]
  },
  {
   "cell_type": "code",
   "execution_count": 303,
   "id": "d0ce2760",
   "metadata": {},
   "outputs": [],
   "source": [
    "nam=df9[['model','sales_in_thousands']].sort_values(by='sales_in_thousands').model.values\n",
    "encod=OrdinalEncoder(categories=[nam])\n",
    "df9.model=encod.fit_transform(df9[['model']])"
   ]
  },
  {
   "cell_type": "code",
   "execution_count": 304,
   "id": "d80b9c28",
   "metadata": {},
   "outputs": [],
   "source": [
    "df9.vehicle_type.replace({'Car':0,'Passenger':1},inplace=True)"
   ]
  },
  {
   "cell_type": "code",
   "execution_count": 305,
   "id": "ad05d7a5",
   "metadata": {},
   "outputs": [],
   "source": [
    "name=df9.groupby('manufacturer')['sales_in_thousands'].mean().sort_values().index\n",
    "encod2=OrdinalEncoder(categories=[name])\n",
    "df9.manufacturer=encod2.fit_transform(df9[['manufacturer']])"
   ]
  },
  {
   "cell_type": "code",
   "execution_count": 306,
   "id": "8d23b9c6",
   "metadata": {},
   "outputs": [
    {
     "data": {
      "text/plain": [
       "<AxesSubplot:>"
      ]
     },
     "execution_count": 306,
     "metadata": {},
     "output_type": "execute_result"
    },
    {
     "data": {
      "image/png": "[encoded data removed]",
      "text/plain": [
       "<Figure size 1440x1080 with 2 Axes>"
      ]
     },
     "metadata": {
      "needs_background": "light"
     },
     "output_type": "display_data"
    }
   ],
   "source": [
    "plt.figure(figsize=(20,15))\n",
    "mask = np.triu(np.ones_like(df9.corr(), dtype=bool))\n",
    "heatmap(df9.corr(),annot=True,mask=mask)"
   ]
  },
  {
   "cell_type": "markdown",
   "id": "d1d568b8",
   "metadata": {},
   "source": [
    "most of the features donot have correlation with no of sales \n",
    "\n",
    "i will  use sklearn SelectKBest to find 5 most sutable column"
   ]
  },
  {
   "cell_type": "code",
   "execution_count": 307,
   "id": "c246245e",
   "metadata": {},
   "outputs": [
    {
     "data": {
      "text/html": [
       "<div>\n",
       "<style scoped>\n",
       "    .dataframe tbody tr th:only-of-type {\n",
       "        vertical-align: middle;\n",
       "    }\n",
       "\n",
       "    .dataframe tbody tr th {\n",
       "        vertical-align: top;\n",
       "    }\n",
       "\n",
       "    .dataframe thead th {\n",
       "        text-align: right;\n",
       "    }\n",
       "</style>\n",
       "<table border=\"1\" class=\"dataframe\">\n",
       "  <thead>\n",
       "    <tr style=\"text-align: right;\">\n",
       "      <th></th>\n",
       "      <th>score</th>\n",
       "      <th>col_nam</th>\n",
       "    </tr>\n",
       "  </thead>\n",
       "  <tbody>\n",
       "    <tr>\n",
       "      <th>1</th>\n",
       "      <td>2.649925</td>\n",
       "      <td>model</td>\n",
       "    </tr>\n",
       "    <tr>\n",
       "      <th>0</th>\n",
       "      <td>0.480052</td>\n",
       "      <td>manufacturer</td>\n",
       "    </tr>\n",
       "    <tr>\n",
       "      <th>2</th>\n",
       "      <td>0.188093</td>\n",
       "      <td>__year_resale_value</td>\n",
       "    </tr>\n",
       "    <tr>\n",
       "      <th>14</th>\n",
       "      <td>0.149260</td>\n",
       "      <td>price_in_thousands</td>\n",
       "    </tr>\n",
       "    <tr>\n",
       "      <th>10</th>\n",
       "      <td>0.054343</td>\n",
       "      <td>fuel_capacity</td>\n",
       "    </tr>\n",
       "    <tr>\n",
       "      <th>12</th>\n",
       "      <td>0.047352</td>\n",
       "      <td>power_perf_factor</td>\n",
       "    </tr>\n",
       "    <tr>\n",
       "      <th>7</th>\n",
       "      <td>0.021163</td>\n",
       "      <td>width</td>\n",
       "    </tr>\n",
       "    <tr>\n",
       "      <th>3</th>\n",
       "      <td>0.009412</td>\n",
       "      <td>vehicle_type</td>\n",
       "    </tr>\n",
       "    <tr>\n",
       "      <th>6</th>\n",
       "      <td>0.002943</td>\n",
       "      <td>wheelbase</td>\n",
       "    </tr>\n",
       "    <tr>\n",
       "      <th>4</th>\n",
       "      <td>0.000000</td>\n",
       "      <td>engine_size</td>\n",
       "    </tr>\n",
       "    <tr>\n",
       "      <th>5</th>\n",
       "      <td>0.000000</td>\n",
       "      <td>horsepower</td>\n",
       "    </tr>\n",
       "    <tr>\n",
       "      <th>8</th>\n",
       "      <td>0.000000</td>\n",
       "      <td>length</td>\n",
       "    </tr>\n",
       "    <tr>\n",
       "      <th>9</th>\n",
       "      <td>0.000000</td>\n",
       "      <td>curb_weight</td>\n",
       "    </tr>\n",
       "    <tr>\n",
       "      <th>11</th>\n",
       "      <td>0.000000</td>\n",
       "      <td>fuel_efficiency</td>\n",
       "    </tr>\n",
       "    <tr>\n",
       "      <th>13</th>\n",
       "      <td>0.000000</td>\n",
       "      <td>days_after_launch(1/1/13)</td>\n",
       "    </tr>\n",
       "  </tbody>\n",
       "</table>\n",
       "</div>"
      ],
      "text/plain": [
       "       score                    col_nam\n",
       "1   2.649925                      model\n",
       "0   0.480052               manufacturer\n",
       "2   0.188093        __year_resale_value\n",
       "14  0.149260         price_in_thousands\n",
       "10  0.054343              fuel_capacity\n",
       "12  0.047352          power_perf_factor\n",
       "7   0.021163                      width\n",
       "3   0.009412               vehicle_type\n",
       "6   0.002943                  wheelbase\n",
       "4   0.000000                engine_size\n",
       "5   0.000000                 horsepower\n",
       "8   0.000000                     length\n",
       "9   0.000000                curb_weight\n",
       "11  0.000000            fuel_efficiency\n",
       "13  0.000000  days_after_launch(1/1/13)"
      ]
     },
     "execution_count": 307,
     "metadata": {},
     "output_type": "execute_result"
    }
   ],
   "source": [
    "X = df9.drop('sales_in_thousands',axis=1)\n",
    "y = df9.sales_in_thousands\n",
    "bestfeatures = SelectKBest(score_func=mutual_info_regression,k=10)\n",
    "fit = bestfeatures.fit(X,y)\n",
    "dbest= pd.DataFrame(fit.scores_,columns=['score'])\n",
    "dbest['col_nam']= pd.DataFrame(X.columns)\n",
    "dbest.sort_values(by='score',ascending=False,inplace=True)\n",
    "dbest"
   ]
  },
  {
   "cell_type": "code",
   "execution_count": 308,
   "id": "71935c4f",
   "metadata": {},
   "outputs": [],
   "source": [
    "most_related=dbest.col_nam.values[:5]\n",
    "df10=df9[most_related].copy()"
   ]
  },
  {
   "cell_type": "code",
   "execution_count": 309,
   "id": "7d39a212",
   "metadata": {},
   "outputs": [
    {
     "data": {
      "text/html": [
       "<div>\n",
       "<style scoped>\n",
       "    .dataframe tbody tr th:only-of-type {\n",
       "        vertical-align: middle;\n",
       "    }\n",
       "\n",
       "    .dataframe tbody tr th {\n",
       "        vertical-align: top;\n",
       "    }\n",
       "\n",
       "    .dataframe thead th {\n",
       "        text-align: right;\n",
       "    }\n",
       "</style>\n",
       "<table border=\"1\" class=\"dataframe\">\n",
       "  <thead>\n",
       "    <tr style=\"text-align: right;\">\n",
       "      <th></th>\n",
       "      <th>model</th>\n",
       "      <th>manufacturer</th>\n",
       "      <th>__year_resale_value</th>\n",
       "      <th>price_in_thousands</th>\n",
       "      <th>fuel_capacity</th>\n",
       "      <th>pca1</th>\n",
       "    </tr>\n",
       "  </thead>\n",
       "  <tbody>\n",
       "    <tr>\n",
       "      <th>0</th>\n",
       "      <td>38.0</td>\n",
       "      <td>10.0</td>\n",
       "      <td>16.360</td>\n",
       "      <td>21.5</td>\n",
       "      <td>13.2</td>\n",
       "      <td>46.297867</td>\n",
       "    </tr>\n",
       "    <tr>\n",
       "      <th>1</th>\n",
       "      <td>76.0</td>\n",
       "      <td>10.0</td>\n",
       "      <td>19.875</td>\n",
       "      <td>28.4</td>\n",
       "      <td>17.2</td>\n",
       "      <td>-195.434418</td>\n",
       "    </tr>\n",
       "  </tbody>\n",
       "</table>\n",
       "</div>"
      ],
      "text/plain": [
       "   model  manufacturer  __year_resale_value  price_in_thousands  \\\n",
       "0   38.0          10.0               16.360                21.5   \n",
       "1   76.0          10.0               19.875                28.4   \n",
       "\n",
       "   fuel_capacity        pca1  \n",
       "0           13.2   46.297867  \n",
       "1           17.2 -195.434418  "
      ]
     },
     "execution_count": 309,
     "metadata": {},
     "output_type": "execute_result"
    }
   ],
   "source": [
    "pca=PCA(1)\n",
    "df10['pca1']=pca.fit_transform(df9[dbest.col_nam.values[5:]])\n",
    "df10.head(2)"
   ]
  },
  {
   "cell_type": "code",
   "execution_count": 310,
   "id": "336e63f2",
   "metadata": {},
   "outputs": [
    {
     "data": {
      "text/plain": [
       "array([0.939214])"
      ]
     },
     "execution_count": 310,
     "metadata": {},
     "output_type": "execute_result"
    }
   ],
   "source": [
    "pca.explained_variance_ratio_"
   ]
  },
  {
   "cell_type": "code",
   "execution_count": 311,
   "id": "ec86e64a",
   "metadata": {},
   "outputs": [
    {
     "data": {
      "text/plain": [
       "<AxesSubplot:>"
      ]
     },
     "execution_count": 311,
     "metadata": {},
     "output_type": "execute_result"
    },
    {
     "data": {
      "image/png": "[encoded data removed]",
      "text/plain": [
       "<Figure size 720x504 with 2 Axes>"
      ]
     },
     "metadata": {
      "needs_background": "light"
     },
     "output_type": "display_data"
    }
   ],
   "source": [
    "df10['sales']=df9.sales_in_thousands\n",
    "plt.figure(figsize=(10,7))\n",
    "mask = np.triu(np.ones_like(df10.corr(), dtype=bool))\n",
    "heatmap(df10.corr(),annot=True,mask=mask)"
   ]
  },
  {
   "cell_type": "code",
   "execution_count": 312,
   "id": "5fb2ad08",
   "metadata": {},
   "outputs": [],
   "source": [
    "X_sales=df10.drop('sales',axis=1)\n",
    "y_sales=df10.sales"
   ]
  },
  {
   "cell_type": "code",
   "execution_count": 313,
   "id": "a91f7ec1",
   "metadata": {},
   "outputs": [],
   "source": [
    "scale_sales=StandardScaler()\n",
    "X_scaled_sales=scale.fit_transform(X)"
   ]
  },
  {
   "cell_type": "markdown",
   "id": "8e001e13",
   "metadata": {},
   "source": [
    "### Model Building"
   ]
  },
  {
   "cell_type": "code",
   "execution_count": 426,
   "id": "d23ea2f0",
   "metadata": {},
   "outputs": [
    {
     "data": {
      "text/html": [
       "<div>\n",
       "<style scoped>\n",
       "    .dataframe tbody tr th:only-of-type {\n",
       "        vertical-align: middle;\n",
       "    }\n",
       "\n",
       "    .dataframe tbody tr th {\n",
       "        vertical-align: top;\n",
       "    }\n",
       "\n",
       "    .dataframe thead th {\n",
       "        text-align: right;\n",
       "    }\n",
       "</style>\n",
       "<table border=\"1\" class=\"dataframe\">\n",
       "  <thead>\n",
       "    <tr style=\"text-align: right;\">\n",
       "      <th></th>\n",
       "      <th>0</th>\n",
       "    </tr>\n",
       "  </thead>\n",
       "  <tbody>\n",
       "    <tr>\n",
       "      <th>DecisionTreeRegressor()</th>\n",
       "      <td>0.984911</td>\n",
       "    </tr>\n",
       "    <tr>\n",
       "      <th>RandomForestRegressor()</th>\n",
       "      <td>0.977084</td>\n",
       "    </tr>\n",
       "  </tbody>\n",
       "</table>\n",
       "</div>"
      ],
      "text/plain": [
       "                                0\n",
       "DecisionTreeRegressor()  0.984911\n",
       "RandomForestRegressor()  0.977084"
      ]
     },
     "execution_count": 426,
     "metadata": {},
     "output_type": "execute_result"
    }
   ],
   "source": [
    "models_sales=[RandomForestRegressor(),DecisionTreeRegressor()]\n",
    "\n",
    "score_sales=[]\n",
    "for model in models_sales:\n",
    "    score_sales.append(cross_val_score(model,X_scaled_sales,y_sales,n_jobs=-1).mean())\n",
    "pd.DataFrame(score_sales,index=models_sales).sort_values(by=0,ascending=False)"
   ]
  },
  {
   "cell_type": "code",
   "execution_count": null,
   "id": "ebb6ec0d",
   "metadata": {},
   "outputs": [],
   "source": []
  },
  {
   "cell_type": "code",
   "execution_count": null,
   "id": "3a95f4c3",
   "metadata": {},
   "outputs": [],
   "source": []
  }
 ],
 "metadata": {
  "kernelspec": {
   "display_name": "Python 3",
   "language": "python",
   "name": "python3"
  },
  "language_info": {
   "codemirror_mode": {
    "name": "ipython",
    "version": 3
   },
   "file_extension": ".py",
   "mimetype": "text/x-python",
   "name": "python",
   "nbconvert_exporter": "python",
   "pygments_lexer": "ipython3",
   "version": "3.8.8"
  }
 },
 "nbformat": 4,
 "nbformat_minor": 5
}
