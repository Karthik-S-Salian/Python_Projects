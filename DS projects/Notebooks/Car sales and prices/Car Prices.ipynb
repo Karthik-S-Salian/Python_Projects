{
 "cells": [
  {
   "cell_type": "code",
   "execution_count": 1,
   "id": "1ebf970b",
   "metadata": {},
   "outputs": [
    {
     "ename": "ModuleNotFoundError",
     "evalue": "No module named 'sklearn'",
     "output_type": "error",
     "traceback": [
      "\u001b[1;31m---------------------------------------------------------------------------\u001b[0m",
      "\u001b[1;31mModuleNotFoundError\u001b[0m                       Traceback (most recent call last)",
      "Cell \u001b[1;32mIn [1], line 5\u001b[0m\n\u001b[0;32m      3\u001b[0m \u001b[38;5;28;01mimport\u001b[39;00m \u001b[38;5;21;01mmatplotlib\u001b[39;00m\u001b[38;5;21;01m.\u001b[39;00m\u001b[38;5;21;01mpyplot\u001b[39;00m \u001b[38;5;28;01mas\u001b[39;00m \u001b[38;5;21;01mplt\u001b[39;00m\n\u001b[0;32m      4\u001b[0m get_ipython()\u001b[38;5;241m.\u001b[39mrun_line_magic(\u001b[38;5;124m'\u001b[39m\u001b[38;5;124mmatplotlib\u001b[39m\u001b[38;5;124m'\u001b[39m, \u001b[38;5;124m'\u001b[39m\u001b[38;5;124minline\u001b[39m\u001b[38;5;124m'\u001b[39m)\n\u001b[1;32m----> 5\u001b[0m \u001b[38;5;28;01mfrom\u001b[39;00m \u001b[38;5;21;01msklearn\u001b[39;00m\u001b[38;5;21;01m.\u001b[39;00m\u001b[38;5;21;01mmodel_selection\u001b[39;00m \u001b[38;5;28;01mimport\u001b[39;00m cross_val_score\n\u001b[0;32m      6\u001b[0m \u001b[38;5;28;01mfrom\u001b[39;00m \u001b[38;5;21;01mtime\u001b[39;00m \u001b[38;5;28;01mimport\u001b[39;00m strptime,time,mktime\n\u001b[0;32m      7\u001b[0m \u001b[38;5;28;01mfrom\u001b[39;00m \u001b[38;5;21;01msklearn\u001b[39;00m\u001b[38;5;21;01m.\u001b[39;00m\u001b[38;5;21;01mpreprocessing\u001b[39;00m \u001b[38;5;28;01mimport\u001b[39;00m OrdinalEncoder,StandardScaler\n",
      "\u001b[1;31mModuleNotFoundError\u001b[0m: No module named 'sklearn'"
     ]
    }
   ],
   "source": [
    "import pandas as pd\n",
    "import numpy as np\n",
    "import matplotlib.pyplot as plt\n",
    "%matplotlib inline\n",
    "from sklearn.model_selection import cross_val_score\n",
    "from time import strptime,time,mktime\n",
    "from sklearn.preprocessing import OrdinalEncoder,StandardScaler\n",
    "from sklearn.ensemble import RandomForestRegressor\n",
    "from sklearn.tree import DecisionTreeRegressor\n",
    "from sklearn.svm import SVR\n",
    "from sklearn.neighbors import KNeighborsRegressor\n",
    "from sklearn.linear_model import Lasso,Ridge,LinearRegression\n",
    "from sklearn.decomposition import PCA\n",
    "from seaborn import heatmap,pairplot\n",
    "from sklearn.feature_selection import SelectKBest,mutual_info_regression"
   ]
  },
  {
   "cell_type": "code",
   "execution_count": null,
   "id": "07002218",
   "metadata": {},
   "outputs": [],
   "source": [
    "colors=['red','green','blue','yellow','violet','#00ffff','#ff00bf','#937f3c','#937f91','#630ff0']"
   ]
  },
  {
   "cell_type": "code",
   "execution_count": null,
   "id": "be68ff32",
   "metadata": {},
   "outputs": [],
   "source": [
    "df1=pd.read_csv(\"../resources/Excel_sheets/Car_sales.csv\")\n",
    "df1.head()"
   ]
  },
  {
   "cell_type": "code",
   "execution_count": null,
   "id": "29ad98ac",
   "metadata": {
    "scrolled": false
   },
   "outputs": [],
   "source": [
    "df1.info()"
   ]
  },
  {
   "cell_type": "markdown",
   "id": "673fa972",
   "metadata": {},
   "source": [
    "lowercasing column names for easiness"
   ]
  },
  {
   "cell_type": "code",
   "execution_count": null,
   "id": "faaa81df",
   "metadata": {},
   "outputs": [],
   "source": [
    "df1.columns=[x.lower() for x in df1.columns]\n",
    "df1.head(2)"
   ]
  },
  {
   "cell_type": "markdown",
   "id": "1f961908",
   "metadata": {},
   "source": [
    "## DATA CLEANING"
   ]
  },
  {
   "cell_type": "code",
   "execution_count": null,
   "id": "10c3ff50",
   "metadata": {},
   "outputs": [],
   "source": [
    "df1.isnull().sum()"
   ]
  },
  {
   "cell_type": "code",
   "execution_count": null,
   "id": "929492fd",
   "metadata": {},
   "outputs": [],
   "source": [
    "plt.scatter(df1.__year_resale_value,df1.price_in_thousands,color=colors[4])\n",
    "plt.xlabel('__year_resale_value')\n",
    "plt.ylabel('price')\n",
    "plt.show()"
   ]
  },
  {
   "cell_type": "markdown",
   "id": "151e634c",
   "metadata": {},
   "source": [
    "from this scatter plot it is evident that price and year_resale_value are linearly related\n",
    "hence we can use linear_regression model to predict the missing values"
   ]
  },
  {
   "cell_type": "code",
   "execution_count": null,
   "id": "66a4012c",
   "metadata": {},
   "outputs": [],
   "source": [
    "len(df1[df1[['__year_resale_value','price_in_thousands']].isna().all(axis=1)])"
   ]
  },
  {
   "cell_type": "markdown",
   "id": "ee86abb2",
   "metadata": {},
   "source": [
    "both are not null hence we can use linear_regression model with any problem"
   ]
  },
  {
   "cell_type": "code",
   "execution_count": null,
   "id": "2b4d2282",
   "metadata": {},
   "outputs": [],
   "source": [
    "d_df=df1.dropna(subset=['__year_resale_value','price_in_thousands'])\n",
    "y=d_df.__year_resale_value.values\n",
    "X=d_df.price_in_thousands.values.reshape(-1,1)"
   ]
  },
  {
   "cell_type": "code",
   "execution_count": null,
   "id": "b3265da0",
   "metadata": {},
   "outputs": [],
   "source": [
    "model1=LinearRegression()\n",
    "model1.fit(X,y)\n",
    "model1.score(X,y)"
   ]
  },
  {
   "cell_type": "code",
   "execution_count": null,
   "id": "88fddc91",
   "metadata": {},
   "outputs": [],
   "source": [
    "df2=df1.copy()\n",
    "d=df1[df1.__year_resale_value.isna()]\n",
    "n=d.index\n",
    "df2.loc[n,['__year_resale_value']]=model1.predict(d[['price_in_thousands']])\n",
    "df2.__year_resale_value.isna().sum()"
   ]
  },
  {
   "cell_type": "code",
   "execution_count": null,
   "id": "6cbad3e0",
   "metadata": {},
   "outputs": [],
   "source": [
    "m=model1.coef_\n",
    "b=model1.intercept_"
   ]
  },
  {
   "cell_type": "code",
   "execution_count": null,
   "id": "935c31d5",
   "metadata": {},
   "outputs": [],
   "source": [
    "d=df2[df2.price_in_thousands.isna()]\n",
    "n=d.index\n",
    "df2.loc[n,['price_in_thousands']]=(d.__year_resale_value.values-b)/m[0]\n",
    "df2.price_in_thousands.isna().sum()"
   ]
  },
  {
   "cell_type": "code",
   "execution_count": null,
   "id": "0d4a3b7d",
   "metadata": {},
   "outputs": [],
   "source": [
    "plt.scatter(df2.price_in_thousands,df2.__year_resale_value,color=colors[7])\n",
    "plt.plot(df2.price_in_thousands,model1.predict(df2[['price_in_thousands']]),color=colors[0])\n",
    "plt.xlabel('__year_resale_value')\n",
    "plt.ylabel('price')\n",
    "plt.show()"
   ]
  },
  {
   "cell_type": "markdown",
   "id": "2babf4d1",
   "metadata": {},
   "source": [
    "filling null in other columns with  mean"
   ]
  },
  {
   "cell_type": "code",
   "execution_count": null,
   "id": "9386a521",
   "metadata": {},
   "outputs": [],
   "source": [
    "df3=df2.copy()\n",
    "for column in df2.columns:\n",
    "    if df2[column].isnull().sum():\n",
    "        df3[column]=df2[column].fillna(df2[column].mean())\n",
    "        \n",
    "df4.isnull().sum()"
   ]
  },
  {
   "cell_type": "markdown",
   "id": "939c9ed3",
   "metadata": {},
   "source": [
    "### Feature Engineering"
   ]
  },
  {
   "cell_type": "code",
   "execution_count": null,
   "id": "ccdd9ecf",
   "metadata": {
    "scrolled": false
   },
   "outputs": [],
   "source": [
    "df3.latest_launch.unique()"
   ]
  },
  {
   "cell_type": "markdown",
   "id": "82d8aa87",
   "metadata": {},
   "source": [
    "All the launch dates are within 2012 ,\n",
    "\n",
    "i will create a new column which coverts date into no of days from launch date to 1/1/13"
   ]
  },
  {
   "cell_type": "code",
   "execution_count": null,
   "id": "81272d76",
   "metadata": {},
   "outputs": [],
   "source": [
    "t=mktime(strptime('1/1/2013',\"%m/%d/%Y\"))"
   ]
  },
  {
   "cell_type": "code",
   "execution_count": null,
   "id": "b546a3c2",
   "metadata": {},
   "outputs": [],
   "source": [
    "df4=df3.copy()\n",
    "day=24*3600\n",
    "df4['days_after_launch(1/1/13)']=df3['latest_launch'].apply(lambda x: int((t-mktime(strptime(x,\"%m/%d/%Y\")))/day))\n",
    "df4.drop('latest_launch',axis=1,inplace=True)\n",
    "df4.head(2)"
   ]
  },
  {
   "cell_type": "markdown",
   "id": "c6701938",
   "metadata": {},
   "source": [
    "moving target variable to left for easiness"
   ]
  },
  {
   "cell_type": "code",
   "execution_count": null,
   "id": "99204840",
   "metadata": {
    "scrolled": false
   },
   "outputs": [],
   "source": [
    "cols=df4.columns.tolist()\n",
    "cols.append(cols.pop(cols.index('price_in_thousands')))\n",
    "df4=df4[cols]\n",
    "df4.head(2)"
   ]
  },
  {
   "cell_type": "markdown",
   "id": "08533eb3",
   "metadata": {},
   "source": [
    "### Outlier detection"
   ]
  },
  {
   "cell_type": "code",
   "execution_count": null,
   "id": "9cdf6258",
   "metadata": {
    "scrolled": true
   },
   "outputs": [],
   "source": [
    "df4.describe()"
   ]
  },
  {
   "cell_type": "code",
   "execution_count": null,
   "id": "03dcd260",
   "metadata": {},
   "outputs": [],
   "source": [
    "figu,ax=plt.subplots(1,2,figsize=(10,4))\n",
    "ax[0].hist(df4.sales_in_thousands)\n",
    "ax[1].hist(df4.__year_resale_value)\n",
    "ax[0].set_ylabel('count')\n",
    "ax[1].set_ylabel('count')\n",
    "ax[0].set_xlabel('sales_in_thousands')\n",
    "ax[1].set_xlabel('year_resale_value')\n",
    "plt.show()"
   ]
  },
  {
   "cell_type": "markdown",
   "id": "ae76efa4",
   "metadata": {},
   "source": [
    "i will use 3 std as criteria for outlier deleting all which are more than 3 std"
   ]
  },
  {
   "cell_type": "code",
   "execution_count": null,
   "id": "be572577",
   "metadata": {
    "scrolled": false
   },
   "outputs": [],
   "source": [
    "def remove_outlier(df):\n",
    "    num_df_cols=df.select_dtypes(include=[np.number]).columns\n",
    "    d=pd.DataFrame(columns=df.columns.to_list().append('outlier'))\n",
    "    for col in num_df_cols:\n",
    "        mean=df[col].mean()\n",
    "        std=df[col].std()\n",
    "        u_limit=mean+3*std\n",
    "        l_limit=mean-3*std\n",
    "        out=df[(df[col]<l_limit) | (df[col]>u_limit)].copy()\n",
    "        out['outlier']=col\n",
    "        d=pd.concat([out,d])\n",
    "        df=df[(df[col]>l_limit) & (df[col]<u_limit)]\n",
    "    return (df,d)\n",
    "    \n",
    "df5,d=remove_outlier(df4)\n",
    "d"
   ]
  },
  {
   "cell_type": "markdown",
   "id": "7e0d6837",
   "metadata": {},
   "source": [
    "most of the outliers are seems to be valid but still it is better to remove \n",
    "them for building better model"
   ]
  },
  {
   "cell_type": "code",
   "execution_count": null,
   "id": "76c0fee4",
   "metadata": {},
   "outputs": [],
   "source": [
    "df4.shape[0]-df5.shape[0]"
   ]
  },
  {
   "cell_type": "markdown",
   "id": "3a274a5b",
   "metadata": {},
   "source": [
    "we removed 21 outliers"
   ]
  },
  {
   "cell_type": "markdown",
   "id": "e10cdc0c",
   "metadata": {},
   "source": [
    "##  Data Analysis & Visualisation\n",
    "\n",
    "1. Manufacturer"
   ]
  },
  {
   "cell_type": "code",
   "execution_count": null,
   "id": "3e5fe4fc",
   "metadata": {},
   "outputs": [],
   "source": [
    "df4['manufacturer'].nunique()"
   ]
  },
  {
   "cell_type": "code",
   "execution_count": null,
   "id": "6d565ba1",
   "metadata": {},
   "outputs": [],
   "source": [
    "Manf_name=df4['manufacturer'].unique()\n",
    "Manf_name"
   ]
  },
  {
   "cell_type": "markdown",
   "id": "056792bf",
   "metadata": {},
   "source": [
    "#### Top 10 companies with highest no of cars[models]"
   ]
  },
  {
   "cell_type": "code",
   "execution_count": null,
   "id": "1d268b66",
   "metadata": {},
   "outputs": [],
   "source": [
    "high_mod=df4['manufacturer'].value_counts()[:10]\n",
    "plt.figure(figsize=(11,4))\n",
    "plt.bar(high_mod.index.values,high_mod.values,color='#937f91')\n",
    "plt.ylabel('No of Models')\n",
    "plt.xlabel('Manufacturer')\n",
    "plt.show()"
   ]
  },
  {
   "cell_type": "markdown",
   "id": "707e8119",
   "metadata": {},
   "source": [
    "Dodge and Toyota has highest no of model\n",
    "\n",
    "2. Model"
   ]
  },
  {
   "cell_type": "code",
   "execution_count": null,
   "id": "61a4e9bb",
   "metadata": {},
   "outputs": [],
   "source": [
    "d=df4['model'].value_counts()\n",
    "mod=d[d>1].index.values\n",
    "mod"
   ]
  },
  {
   "cell_type": "code",
   "execution_count": null,
   "id": "c016f5a6",
   "metadata": {},
   "outputs": [],
   "source": [
    "df4[df4.model==mod[0]].manufacturer.values"
   ]
  },
  {
   "cell_type": "markdown",
   "id": "264f7540",
   "metadata": {},
   "source": [
    "Doged and Polymouth has cars of same model name as Neon"
   ]
  },
  {
   "cell_type": "markdown",
   "id": "7fe6a242",
   "metadata": {},
   "source": [
    "3. Sales"
   ]
  },
  {
   "cell_type": "code",
   "execution_count": null,
   "id": "e5d1a3ae",
   "metadata": {},
   "outputs": [],
   "source": [
    "sales=df4.groupby('manufacturer')['sales_in_thousands'].sum().sort_values(ascending =False)\n",
    "sal_10=sales[:10]\n",
    "l=sal_10.index[:9].to_list()\n",
    "l.append('other')\n",
    "sal_10.index=l\n",
    "sal_10[9]=sum(sales.values[10:])"
   ]
  },
  {
   "cell_type": "code",
   "execution_count": null,
   "id": "72e13eac",
   "metadata": {},
   "outputs": [],
   "source": [
    "plt.figure(figsize=(7,7))\n",
    "plt.pie(sal_10,startangle=40,autopct='%1.1f%%',shadow=True,labels=sal.index)\n",
    "plt.show()"
   ]
  },
  {
   "cell_type": "markdown",
   "id": "e40f4c81",
   "metadata": {},
   "source": [
    "ford has highest sales "
   ]
  },
  {
   "cell_type": "code",
   "execution_count": null,
   "id": "e3942c9a",
   "metadata": {},
   "outputs": [],
   "source": [
    "df6=df4.copy()\n",
    "df6['sell_price']=df6.sales_in_thousands*df6.price_in_thousands\n",
    "sell_price=df6.groupby('manufacturer')['sell_price'].sum().sort_values(ascending =False)[:10]"
   ]
  },
  {
   "cell_type": "code",
   "execution_count": null,
   "id": "6fa68d2b",
   "metadata": {},
   "outputs": [],
   "source": [
    "figu,ax=plt.subplots(figsize=(15,7))\n",
    "ax.barh(sell_price.index.values,sell_price.values*1000,color='#337091')\n",
    "ax.invert_yaxis()\n",
    "for i in ax.patches:\n",
    "    plt.text(i.get_width()+0.1,i.get_y()+0.5,str(round(i.get_width(),2)),fontsize=12,fontweight=\"bold\",color=\"grey\")\n",
    "ax.set_title(\"10 companies generated highest profit\",loc=\"right\")\n",
    "plt.show()"
   ]
  },
  {
   "cell_type": "markdown",
   "id": "b90c9f20",
   "metadata": {},
   "source": [
    "Ford is generating highest revenue by providing more no of models"
   ]
  },
  {
   "cell_type": "code",
   "execution_count": null,
   "id": "688862c0",
   "metadata": {
    "scrolled": true
   },
   "outputs": [],
   "source": [
    "df6.head()"
   ]
  },
  {
   "cell_type": "code",
   "execution_count": null,
   "id": "75c9961a",
   "metadata": {
    "scrolled": false
   },
   "outputs": [],
   "source": [
    "pairplot(df4[['sales_in_thousands','horsepower','price_in_thousands','fuel_efficiency']])"
   ]
  },
  {
   "cell_type": "markdown",
   "id": "180a9cd0",
   "metadata": {},
   "source": [
    "* we can observe all the histograms are right skewed and some ouliers present in all graph\n",
    "(outliers are already deleted here i used old dataframe)\n",
    "* cars with lower price sell more than higher one \n",
    "* cars with higher horsepower has lesser fuelefficiency\n",
    "\n"
   ]
  },
  {
   "cell_type": "markdown",
   "id": "4cb86467",
   "metadata": {},
   "source": [
    "## DATA POCESSING AND BUILDING MODEL FOR TARGET AS PRICE"
   ]
  },
  {
   "cell_type": "markdown",
   "id": "d6aa7a8c",
   "metadata": {},
   "source": [
    "### DATA PREPROCESSING"
   ]
  },
  {
   "cell_type": "code",
   "execution_count": null,
   "id": "e671e47b",
   "metadata": {},
   "outputs": [],
   "source": [
    "df5[df5.model=='Neon']"
   ]
  },
  {
   "cell_type": "markdown",
   "id": "b5e7588c",
   "metadata": {},
   "source": [
    "model named neon has 2 manufacturers and we can observe that two model has same features\n",
    "except sales and lauch date this probably be data error we shall delete these"
   ]
  },
  {
   "cell_type": "code",
   "execution_count": null,
   "id": "c20bf212",
   "metadata": {},
   "outputs": [],
   "source": [
    "df7=df5.copy()"
   ]
  },
  {
   "cell_type": "code",
   "execution_count": null,
   "id": "7724f29b",
   "metadata": {},
   "outputs": [],
   "source": [
    "df7.drop(df7[df7.model=='Neon'].index,inplace=True)"
   ]
  },
  {
   "cell_type": "code",
   "execution_count": null,
   "id": "f466fdf3",
   "metadata": {},
   "outputs": [],
   "source": [
    "nam=df7[['model','price_in_thousands']].sort_values(by='price_in_thousands').model.values\n",
    "encod=OrdinalEncoder(categories=[nam])\n",
    "df7.model=encod.fit_transform(df5[['model']])"
   ]
  },
  {
   "cell_type": "code",
   "execution_count": null,
   "id": "40c690fd",
   "metadata": {},
   "outputs": [],
   "source": [
    "df7.vehicle_type.replace({'Car':0,'Passenger':1},inplace=True)"
   ]
  },
  {
   "cell_type": "code",
   "execution_count": null,
   "id": "96b7c388",
   "metadata": {},
   "outputs": [],
   "source": [
    "name=df7.groupby('manufacturer')['price_in_thousands'].mean().sort_values().index\n",
    "encod2=OrdinalEncoder(categories=[name])\n",
    "df7.manufacturer=encod2.fit_transform(df5[['manufacturer']])"
   ]
  },
  {
   "cell_type": "code",
   "execution_count": null,
   "id": "212fb26b",
   "metadata": {},
   "outputs": [],
   "source": [
    "plt.figure(figsize=(20,15))\n",
    "mask = np.triu(np.ones_like(df7.corr(), dtype=bool))\n",
    "heatmap(df7.corr(),annot=True,mask=mask)"
   ]
  },
  {
   "cell_type": "markdown",
   "id": "86aa9f06",
   "metadata": {},
   "source": [
    "there is strong multicollinearity between many of the features price of car \n",
    "\n",
    "vehicle_type and launch date has no relation with any of the values hence i will drop those columns\n",
    "\n",
    "power_factor and horsepower has high collrellation hence we can drop horsepower column\n",
    "\n",
    "year_resale_value , power_factor and model has highest influence on price of car"
   ]
  },
  {
   "cell_type": "code",
   "execution_count": null,
   "id": "5d4b2259",
   "metadata": {},
   "outputs": [],
   "source": [
    "drop_list=['wheelbase','length','width','sales_in_thousands',\\\n",
    "           'fuel_capacity','vehicle_type','days_after_launch(1/1/13)','horsepower']\n",
    "df8=df7.drop(drop_list,axis=1).copy()"
   ]
  },
  {
   "cell_type": "markdown",
   "id": "4a02995d",
   "metadata": {},
   "source": [
    "I will reduce all the column having correlation value less than 0.5 to 1 column using PCA"
   ]
  },
  {
   "cell_type": "code",
   "execution_count": null,
   "id": "d8189ec3",
   "metadata": {},
   "outputs": [],
   "source": [
    "pca=PCA(n_components=1)\n",
    "df8['pca1']=pca.fit_transform(df7[['wheelbase','length','width','sales_in_thousands','fuel_capacity']])\n",
    "df8.head(2)"
   ]
  },
  {
   "cell_type": "code",
   "execution_count": null,
   "id": "6964bf79",
   "metadata": {},
   "outputs": [],
   "source": [
    "pca.explained_variance_ratio_"
   ]
  },
  {
   "cell_type": "code",
   "execution_count": null,
   "id": "62222e75",
   "metadata": {},
   "outputs": [],
   "source": [
    "X=df8.drop('price_in_thousands',axis=1)"
   ]
  },
  {
   "cell_type": "markdown",
   "id": "1b147db9",
   "metadata": {},
   "source": [
    "Scaling of data"
   ]
  },
  {
   "cell_type": "code",
   "execution_count": null,
   "id": "8feb9473",
   "metadata": {},
   "outputs": [],
   "source": [
    "scale=StandardScaler()\n",
    "X_scaled=scale.fit_transform(X)"
   ]
  },
  {
   "cell_type": "code",
   "execution_count": null,
   "id": "22370b3b",
   "metadata": {},
   "outputs": [],
   "source": [
    "y=df8.price_in_thousands"
   ]
  },
  {
   "cell_type": "markdown",
   "id": "3e8f9811",
   "metadata": {},
   "source": [
    "### MODEL Building"
   ]
  },
  {
   "cell_type": "code",
   "execution_count": null,
   "id": "84d889a3",
   "metadata": {},
   "outputs": [],
   "source": [
    "models=[Lasso(),Ridge(),LinearRegression(),RandomForestRegressor() \\\n",
    "         ,DecisionTreeRegressor(),SVR(C=10),KNeighborsRegressor()]\n",
    "\n",
    "score=[]\n",
    "for model in models:\n",
    "    score.append(cross_val_score(model,X_scaled,y,n_jobs=-1).mean())\n",
    "pd.DataFrame(score,index=models).sort_values(by=0,ascending=False)"
   ]
  },
  {
   "cell_type": "markdown",
   "id": "f2a50416",
   "metadata": {},
   "source": [
    "Randomforestregressor ouperformed all other model with accuracy of 99%"
   ]
  },
  {
   "cell_type": "markdown",
   "id": "be388563",
   "metadata": {},
   "source": [
    "## DATA PROCESSING AND BUILDING MODEL FOR TARGET AS SALES"
   ]
  },
  {
   "cell_type": "markdown",
   "id": "2e7e0c38",
   "metadata": {},
   "source": [
    "###  Data Preprocessing"
   ]
  },
  {
   "cell_type": "code",
   "execution_count": null,
   "id": "00724550",
   "metadata": {},
   "outputs": [],
   "source": [
    "df9=df5.copy()"
   ]
  },
  {
   "cell_type": "code",
   "execution_count": null,
   "id": "b27b84f6",
   "metadata": {},
   "outputs": [],
   "source": [
    "df9.drop(df9[df9.model=='Neon'].index,inplace=True)"
   ]
  },
  {
   "cell_type": "markdown",
   "id": "60101ccc",
   "metadata": {},
   "source": [
    "I will encode categorical  columns with no according to their sales"
   ]
  },
  {
   "cell_type": "code",
   "execution_count": null,
   "id": "d0ce2760",
   "metadata": {},
   "outputs": [],
   "source": [
    "nam=df9[['model','sales_in_thousands']].sort_values(by='sales_in_thousands').model.values\n",
    "encod=OrdinalEncoder(categories=[nam])\n",
    "df9.model=encod.fit_transform(df9[['model']])"
   ]
  },
  {
   "cell_type": "code",
   "execution_count": null,
   "id": "d80b9c28",
   "metadata": {},
   "outputs": [],
   "source": [
    "df9.vehicle_type.replace({'Car':0,'Passenger':1},inplace=True)"
   ]
  },
  {
   "cell_type": "code",
   "execution_count": null,
   "id": "ad05d7a5",
   "metadata": {},
   "outputs": [],
   "source": [
    "name=df9.groupby('manufacturer')['sales_in_thousands'].mean().sort_values().index\n",
    "encod2=OrdinalEncoder(categories=[name])\n",
    "df9.manufacturer=encod2.fit_transform(df9[['manufacturer']])"
   ]
  },
  {
   "cell_type": "code",
   "execution_count": null,
   "id": "8d23b9c6",
   "metadata": {},
   "outputs": [],
   "source": [
    "plt.figure(figsize=(20,15))\n",
    "mask = np.triu(np.ones_like(df9.corr(), dtype=bool))\n",
    "heatmap(df9.corr(),annot=True,mask=mask)"
   ]
  },
  {
   "cell_type": "markdown",
   "id": "d1d568b8",
   "metadata": {},
   "source": [
    "most of the features donot have correlation with no of sales \n",
    "\n",
    "i will  use sklearn SelectKBest to find 5 most sutable column"
   ]
  },
  {
   "cell_type": "code",
   "execution_count": null,
   "id": "c246245e",
   "metadata": {},
   "outputs": [],
   "source": [
    "X = df9.drop('sales_in_thousands',axis=1)\n",
    "y = df9.sales_in_thousands\n",
    "bestfeatures = SelectKBest(score_func=mutual_info_regression,k=10)\n",
    "fit = bestfeatures.fit(X,y)\n",
    "dbest= pd.DataFrame(fit.scores_,columns=['score'])\n",
    "dbest['col_nam']= pd.DataFrame(X.columns)\n",
    "dbest.sort_values(by='score',ascending=False,inplace=True)\n",
    "dbest"
   ]
  },
  {
   "cell_type": "code",
   "execution_count": null,
   "id": "71935c4f",
   "metadata": {},
   "outputs": [],
   "source": [
    "most_related=dbest.col_nam.values[:5]\n",
    "df10=df9[most_related].copy()"
   ]
  },
  {
   "cell_type": "code",
   "execution_count": null,
   "id": "7d39a212",
   "metadata": {},
   "outputs": [],
   "source": [
    "pca=PCA(1)\n",
    "df10['pca1']=pca.fit_transform(df9[dbest.col_nam.values[5:]])\n",
    "df10.head(2)"
   ]
  },
  {
   "cell_type": "code",
   "execution_count": null,
   "id": "336e63f2",
   "metadata": {},
   "outputs": [],
   "source": [
    "pca.explained_variance_ratio_"
   ]
  },
  {
   "cell_type": "code",
   "execution_count": null,
   "id": "ec86e64a",
   "metadata": {},
   "outputs": [],
   "source": [
    "df10['sales']=df9.sales_in_thousands\n",
    "plt.figure(figsize=(10,7))\n",
    "mask = np.triu(np.ones_like(df10.corr(), dtype=bool))\n",
    "heatmap(df10.corr(),annot=True,mask=mask)"
   ]
  },
  {
   "cell_type": "code",
   "execution_count": null,
   "id": "5fb2ad08",
   "metadata": {},
   "outputs": [],
   "source": [
    "X_sales=df10.drop('sales',axis=1)\n",
    "y_sales=df10.sales"
   ]
  },
  {
   "cell_type": "code",
   "execution_count": null,
   "id": "a91f7ec1",
   "metadata": {},
   "outputs": [],
   "source": [
    "scale_sales=StandardScaler()\n",
    "X_scaled_sales=scale.fit_transform(X)"
   ]
  },
  {
   "cell_type": "markdown",
   "id": "8e001e13",
   "metadata": {},
   "source": [
    "### Model Building"
   ]
  },
  {
   "cell_type": "code",
   "execution_count": null,
   "id": "d23ea2f0",
   "metadata": {},
   "outputs": [],
   "source": [
    "models_sales=[RandomForestRegressor(),DecisionTreeRegressor()]\n",
    "\n",
    "score_sales=[]\n",
    "for model in models_sales:\n",
    "    score_sales.append(cross_val_score(model,X_scaled_sales,y_sales,n_jobs=-1).mean())\n",
    "pd.DataFrame(score_sales,index=models_sales).sort_values(by=0,ascending=False)"
   ]
  },
  {
   "cell_type": "code",
   "execution_count": null,
   "id": "ebb6ec0d",
   "metadata": {},
   "outputs": [],
   "source": []
  },
  {
   "cell_type": "code",
   "execution_count": null,
   "id": "3a95f4c3",
   "metadata": {},
   "outputs": [],
   "source": []
  }
 ],
 "metadata": {
  "kernelspec": {
   "display_name": "Python 3 (ipykernel)",
   "language": "python",
   "name": "python3"
  },
  "language_info": {
   "codemirror_mode": {
    "name": "ipython",
    "version": 3
   },
   "file_extension": ".py",
   "mimetype": "text/x-python",
   "name": "python",
   "nbconvert_exporter": "python",
   "pygments_lexer": "ipython3",
   "version": "3.10.7"
  }
 },
 "nbformat": 4,
 "nbformat_minor": 5
}
