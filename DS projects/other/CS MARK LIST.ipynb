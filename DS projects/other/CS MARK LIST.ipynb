{
 "cells": [
  {
   "cell_type": "code",
   "execution_count": 1,
   "id": "ca2487fb",
   "metadata": {},
   "outputs": [],
   "source": [
    "import pandas as pd\n",
    "from camelot import read_pdf"
   ]
  },
  {
   "cell_type": "code",
   "execution_count": 2,
   "id": "5c383813",
   "metadata": {},
   "outputs": [],
   "source": [
    "in_pdf=read_pdf(\"resources\\PDF\\cs-marklist.pdf\",flavor='lattice',pages='1,2,3')"
   ]
  },
  {
   "cell_type": "code",
   "execution_count": 3,
   "id": "5f95d223",
   "metadata": {},
   "outputs": [],
   "source": [
    "page=[]\n",
    "for n in in_pdf:\n",
    "    y=n.df\n",
    "    y.drop([0],inplace=True)\n",
    "    page.append(y)\n",
    "    \n",
    "df2=pd.concat(page,ignore_index=True)"
   ]
  },
  {
   "cell_type": "code",
   "execution_count": 4,
   "id": "8068dfa0",
   "metadata": {},
   "outputs": [],
   "source": [
    "df3=df2.copy()"
   ]
  },
  {
   "cell_type": "code",
   "execution_count": 5,
   "id": "b83219eb",
   "metadata": {},
   "outputs": [],
   "source": [
    "df3.columns=[\"Score\",\"Name\",\"Stream\"]"
   ]
  },
  {
   "cell_type": "code",
   "execution_count": 6,
   "id": "6dad629e",
   "metadata": {},
   "outputs": [
    {
     "data": {
      "text/plain": [
       "(115, 3)"
      ]
     },
     "execution_count": 6,
     "metadata": {},
     "output_type": "execute_result"
    }
   ],
   "source": [
    "df3.shape"
   ]
  },
  {
   "cell_type": "code",
   "execution_count": 7,
   "id": "82be7e01",
   "metadata": {
    "scrolled": true
   },
   "outputs": [
    {
     "data": {
      "text/html": [
       "<div>\n",
       "<style scoped>\n",
       "    .dataframe tbody tr th:only-of-type {\n",
       "        vertical-align: middle;\n",
       "    }\n",
       "\n",
       "    .dataframe tbody tr th {\n",
       "        vertical-align: top;\n",
       "    }\n",
       "\n",
       "    .dataframe thead th {\n",
       "        text-align: right;\n",
       "    }\n",
       "</style>\n",
       "<table border=\"1\" class=\"dataframe\">\n",
       "  <thead>\n",
       "    <tr style=\"text-align: right;\">\n",
       "      <th></th>\n",
       "      <th>Score</th>\n",
       "      <th>Name</th>\n",
       "      <th>Stream</th>\n",
       "    </tr>\n",
       "  </thead>\n",
       "  <tbody>\n",
       "    <tr>\n",
       "      <th>0</th>\n",
       "      <td></td>\n",
       "      <td>17 / 25 Rifa ayesha</td>\n",
       "      <td>SCIENCE</td>\n",
       "    </tr>\n",
       "    <tr>\n",
       "      <th>1</th>\n",
       "      <td></td>\n",
       "      <td>21 / 25 Preethi</td>\n",
       "      <td>SCIENCE</td>\n",
       "    </tr>\n",
       "    <tr>\n",
       "      <th>2</th>\n",
       "      <td></td>\n",
       "      <td>11 / 25 Smaran shetty</td>\n",
       "      <td>COMMERCE</td>\n",
       "    </tr>\n",
       "    <tr>\n",
       "      <th>3</th>\n",
       "      <td></td>\n",
       "      <td>20 / 25 Ashish v shetty</td>\n",
       "      <td>SCIENCE</td>\n",
       "    </tr>\n",
       "    <tr>\n",
       "      <th>4</th>\n",
       "      <td>24 / 25 Vinit</td>\n",
       "      <td></td>\n",
       "      <td>SCIENCE</td>\n",
       "    </tr>\n",
       "  </tbody>\n",
       "</table>\n",
       "</div>"
      ],
      "text/plain": [
       "           Score                     Name    Stream\n",
       "0                     17 / 25 Rifa ayesha   SCIENCE\n",
       "1                         21 / 25 Preethi   SCIENCE\n",
       "2                   11 / 25 Smaran shetty  COMMERCE\n",
       "3                 20 / 25 Ashish v shetty   SCIENCE\n",
       "4  24 / 25 Vinit                            SCIENCE"
      ]
     },
     "execution_count": 7,
     "metadata": {},
     "output_type": "execute_result"
    }
   ],
   "source": [
    "df3.head()"
   ]
  },
  {
   "cell_type": "code",
   "execution_count": 8,
   "id": "9d380c65",
   "metadata": {},
   "outputs": [],
   "source": [
    "df1=df3.copy()"
   ]
  },
  {
   "cell_type": "code",
   "execution_count": 9,
   "id": "b3292112",
   "metadata": {},
   "outputs": [],
   "source": [
    "df1[\"Stream\"][df1.Stream==\"\"]=df1.Name\n",
    "df1.loc[df1[\"Score\"]=='',\"Score\"]=df1.Name\n",
    "df1[\"Name\"][df1.Name==\"\"]=df1.Score"
   ]
  },
  {
   "cell_type": "code",
   "execution_count": 10,
   "id": "3e17d50e",
   "metadata": {
    "scrolled": true
   },
   "outputs": [
    {
     "data": {
      "text/html": [
       "<div>\n",
       "<style scoped>\n",
       "    .dataframe tbody tr th:only-of-type {\n",
       "        vertical-align: middle;\n",
       "    }\n",
       "\n",
       "    .dataframe tbody tr th {\n",
       "        vertical-align: top;\n",
       "    }\n",
       "\n",
       "    .dataframe thead th {\n",
       "        text-align: right;\n",
       "    }\n",
       "</style>\n",
       "<table border=\"1\" class=\"dataframe\">\n",
       "  <thead>\n",
       "    <tr style=\"text-align: right;\">\n",
       "      <th></th>\n",
       "      <th>Score</th>\n",
       "      <th>Name</th>\n",
       "      <th>Stream</th>\n",
       "    </tr>\n",
       "  </thead>\n",
       "  <tbody>\n",
       "    <tr>\n",
       "      <th>0</th>\n",
       "      <td>17 / 25 Rifa ayesha</td>\n",
       "      <td>17 / 25 Rifa ayesha</td>\n",
       "      <td>SCIENCE</td>\n",
       "    </tr>\n",
       "    <tr>\n",
       "      <th>1</th>\n",
       "      <td>21 / 25 Preethi</td>\n",
       "      <td>21 / 25 Preethi</td>\n",
       "      <td>SCIENCE</td>\n",
       "    </tr>\n",
       "    <tr>\n",
       "      <th>2</th>\n",
       "      <td>11 / 25 Smaran shetty</td>\n",
       "      <td>11 / 25 Smaran shetty</td>\n",
       "      <td>COMMERCE</td>\n",
       "    </tr>\n",
       "    <tr>\n",
       "      <th>3</th>\n",
       "      <td>20 / 25 Ashish v shetty</td>\n",
       "      <td>20 / 25 Ashish v shetty</td>\n",
       "      <td>SCIENCE</td>\n",
       "    </tr>\n",
       "    <tr>\n",
       "      <th>4</th>\n",
       "      <td>24 / 25 Vinit</td>\n",
       "      <td>24 / 25 Vinit</td>\n",
       "      <td>SCIENCE</td>\n",
       "    </tr>\n",
       "  </tbody>\n",
       "</table>\n",
       "</div>"
      ],
      "text/plain": [
       "                     Score                     Name    Stream\n",
       "0      17 / 25 Rifa ayesha      17 / 25 Rifa ayesha   SCIENCE\n",
       "1          21 / 25 Preethi          21 / 25 Preethi   SCIENCE\n",
       "2    11 / 25 Smaran shetty    11 / 25 Smaran shetty  COMMERCE\n",
       "3  20 / 25 Ashish v shetty  20 / 25 Ashish v shetty   SCIENCE\n",
       "4            24 / 25 Vinit            24 / 25 Vinit   SCIENCE"
      ]
     },
     "execution_count": 10,
     "metadata": {},
     "output_type": "execute_result"
    }
   ],
   "source": [
    "df1.head()"
   ]
  },
  {
   "cell_type": "code",
   "execution_count": 11,
   "id": "e101ab67",
   "metadata": {
    "scrolled": true
   },
   "outputs": [],
   "source": [
    "df1.replace({\n",
    "    \"Name\":['[0-9/]','SCIENCE','COMMERCE'],\n",
    "    \"Score\":['/ 25','[A-Za-z..]'],\n",
    "    \"Stream\":[\"[^'SCIENCE','COMMERCE']\"]\n",
    "},'',regex=True,inplace=True)\n",
    "\n",
    "df1.Stream=df1[\"Stream\"].replace(r'[A-Z]+SCIENCE',\"SCIENCE\",regex=True)\n",
    "df1.Stream=df1[\"Stream\"].replace(r'[A-Z]+COMMERCE',\"COMMERCE\",regex=True)"
   ]
  },
  {
   "cell_type": "code",
   "execution_count": 12,
   "id": "2965c783",
   "metadata": {},
   "outputs": [
    {
     "data": {
      "text/html": [
       "<div>\n",
       "<style scoped>\n",
       "    .dataframe tbody tr th:only-of-type {\n",
       "        vertical-align: middle;\n",
       "    }\n",
       "\n",
       "    .dataframe tbody tr th {\n",
       "        vertical-align: top;\n",
       "    }\n",
       "\n",
       "    .dataframe thead th {\n",
       "        text-align: right;\n",
       "    }\n",
       "</style>\n",
       "<table border=\"1\" class=\"dataframe\">\n",
       "  <thead>\n",
       "    <tr style=\"text-align: right;\">\n",
       "      <th></th>\n",
       "      <th>Score</th>\n",
       "      <th>Name</th>\n",
       "      <th>Stream</th>\n",
       "    </tr>\n",
       "  </thead>\n",
       "  <tbody>\n",
       "    <tr>\n",
       "      <th>0</th>\n",
       "      <td>17</td>\n",
       "      <td>Rifa ayesha</td>\n",
       "      <td>SCIENCE</td>\n",
       "    </tr>\n",
       "    <tr>\n",
       "      <th>1</th>\n",
       "      <td>21</td>\n",
       "      <td>Preethi</td>\n",
       "      <td>SCIENCE</td>\n",
       "    </tr>\n",
       "    <tr>\n",
       "      <th>2</th>\n",
       "      <td>11</td>\n",
       "      <td>Smaran shetty</td>\n",
       "      <td>COMMERCE</td>\n",
       "    </tr>\n",
       "    <tr>\n",
       "      <th>3</th>\n",
       "      <td>20</td>\n",
       "      <td>Ashish v shetty</td>\n",
       "      <td>SCIENCE</td>\n",
       "    </tr>\n",
       "    <tr>\n",
       "      <th>4</th>\n",
       "      <td>24</td>\n",
       "      <td>Vinit</td>\n",
       "      <td>SCIENCE</td>\n",
       "    </tr>\n",
       "  </tbody>\n",
       "</table>\n",
       "</div>"
      ],
      "text/plain": [
       "    Score                Name    Stream\n",
       "0   17            Rifa ayesha   SCIENCE\n",
       "1    21               Preethi   SCIENCE\n",
       "2   11          Smaran shetty  COMMERCE\n",
       "3  20         Ashish v shetty   SCIENCE\n",
       "4    24                 Vinit   SCIENCE"
      ]
     },
     "execution_count": 12,
     "metadata": {},
     "output_type": "execute_result"
    }
   ],
   "source": [
    "df1.head()"
   ]
  },
  {
   "cell_type": "code",
   "execution_count": 13,
   "id": "5daad167",
   "metadata": {},
   "outputs": [],
   "source": [
    "df1.Name=df1.Name.str.lower()"
   ]
  },
  {
   "cell_type": "code",
   "execution_count": 14,
   "id": "7512bd5d",
   "metadata": {},
   "outputs": [],
   "source": [
    "df1.Score=df1.Score.apply(pd.to_numeric)"
   ]
  },
  {
   "cell_type": "code",
   "execution_count": 15,
   "id": "9275aaf6",
   "metadata": {},
   "outputs": [
    {
     "data": {
      "text/plain": [
       "dtype('int64')"
      ]
     },
     "execution_count": 15,
     "metadata": {},
     "output_type": "execute_result"
    }
   ],
   "source": [
    "df1.Score.dtype"
   ]
  },
  {
   "cell_type": "code",
   "execution_count": 16,
   "id": "63cf552b",
   "metadata": {
    "scrolled": true
   },
   "outputs": [
    {
     "data": {
      "text/html": [
       "<div>\n",
       "<style scoped>\n",
       "    .dataframe tbody tr th:only-of-type {\n",
       "        vertical-align: middle;\n",
       "    }\n",
       "\n",
       "    .dataframe tbody tr th {\n",
       "        vertical-align: top;\n",
       "    }\n",
       "\n",
       "    .dataframe thead th {\n",
       "        text-align: right;\n",
       "    }\n",
       "</style>\n",
       "<table border=\"1\" class=\"dataframe\">\n",
       "  <thead>\n",
       "    <tr style=\"text-align: right;\">\n",
       "      <th></th>\n",
       "      <th>Score</th>\n",
       "      <th>Name</th>\n",
       "      <th>Stream</th>\n",
       "    </tr>\n",
       "  </thead>\n",
       "  <tbody>\n",
       "    <tr>\n",
       "      <th>0</th>\n",
       "      <td>17</td>\n",
       "      <td>rifa ayesha</td>\n",
       "      <td>SCIENCE</td>\n",
       "    </tr>\n",
       "    <tr>\n",
       "      <th>1</th>\n",
       "      <td>21</td>\n",
       "      <td>preethi</td>\n",
       "      <td>SCIENCE</td>\n",
       "    </tr>\n",
       "    <tr>\n",
       "      <th>2</th>\n",
       "      <td>11</td>\n",
       "      <td>smaran shetty</td>\n",
       "      <td>COMMERCE</td>\n",
       "    </tr>\n",
       "    <tr>\n",
       "      <th>3</th>\n",
       "      <td>20</td>\n",
       "      <td>ashish v shetty</td>\n",
       "      <td>SCIENCE</td>\n",
       "    </tr>\n",
       "    <tr>\n",
       "      <th>4</th>\n",
       "      <td>24</td>\n",
       "      <td>vinit</td>\n",
       "      <td>SCIENCE</td>\n",
       "    </tr>\n",
       "  </tbody>\n",
       "</table>\n",
       "</div>"
      ],
      "text/plain": [
       "   Score                Name    Stream\n",
       "0     17         rifa ayesha   SCIENCE\n",
       "1     21             preethi   SCIENCE\n",
       "2     11       smaran shetty  COMMERCE\n",
       "3     20     ashish v shetty   SCIENCE\n",
       "4     24               vinit   SCIENCE"
      ]
     },
     "execution_count": 16,
     "metadata": {},
     "output_type": "execute_result"
    }
   ],
   "source": [
    "df1.head()"
   ]
  },
  {
   "cell_type": "code",
   "execution_count": 17,
   "id": "f6cf2dfa",
   "metadata": {},
   "outputs": [
    {
     "data": {
      "text/html": [
       "<div>\n",
       "<style scoped>\n",
       "    .dataframe tbody tr th:only-of-type {\n",
       "        vertical-align: middle;\n",
       "    }\n",
       "\n",
       "    .dataframe tbody tr th {\n",
       "        vertical-align: top;\n",
       "    }\n",
       "\n",
       "    .dataframe thead th {\n",
       "        text-align: right;\n",
       "    }\n",
       "</style>\n",
       "<table border=\"1\" class=\"dataframe\">\n",
       "  <thead>\n",
       "    <tr style=\"text-align: right;\">\n",
       "      <th></th>\n",
       "      <th>Score</th>\n",
       "      <th>Name</th>\n",
       "      <th>Stream</th>\n",
       "    </tr>\n",
       "  </thead>\n",
       "  <tbody>\n",
       "    <tr>\n",
       "      <th>9</th>\n",
       "      <td>25</td>\n",
       "      <td>sumith</td>\n",
       "      <td>SCIENCE</td>\n",
       "    </tr>\n",
       "    <tr>\n",
       "      <th>13</th>\n",
       "      <td>25</td>\n",
       "      <td>thrupthi</td>\n",
       "      <td>COMMERCE</td>\n",
       "    </tr>\n",
       "    <tr>\n",
       "      <th>67</th>\n",
       "      <td>25</td>\n",
       "      <td>thrisha.u.shetty</td>\n",
       "      <td>SCIENCE</td>\n",
       "    </tr>\n",
       "  </tbody>\n",
       "</table>\n",
       "</div>"
      ],
      "text/plain": [
       "    Score                 Name    Stream\n",
       "9      25               sumith   SCIENCE\n",
       "13     25             thrupthi  COMMERCE\n",
       "67     25     thrisha.u.shetty   SCIENCE"
      ]
     },
     "execution_count": 17,
     "metadata": {},
     "output_type": "execute_result"
    }
   ],
   "source": [
    "df1.loc[df1.Score==25]"
   ]
  },
  {
   "cell_type": "code",
   "execution_count": null,
   "id": "ef4ad10d",
   "metadata": {},
   "outputs": [],
   "source": []
  }
 ],
 "metadata": {
  "kernelspec": {
   "display_name": "Python 3",
   "language": "python",
   "name": "python3"
  },
  "language_info": {
   "codemirror_mode": {
    "name": "ipython",
    "version": 3
   },
   "file_extension": ".py",
   "mimetype": "text/x-python",
   "name": "python",
   "nbconvert_exporter": "python",
   "pygments_lexer": "ipython3",
   "version": "3.8.8"
  }
 },
 "nbformat": 4,
 "nbformat_minor": 5
}
