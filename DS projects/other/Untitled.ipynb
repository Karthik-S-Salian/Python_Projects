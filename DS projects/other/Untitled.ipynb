{
 "cells": [
  {
   "cell_type": "code",
   "execution_count": 26,
   "id": "ca5ef869",
   "metadata": {},
   "outputs": [
    {
     "name": "stdout",
     "output_type": "stream",
     "text": [
      "0*$2*$4*$6$$8$$\n",
      "\n",
      "0*$2*$4$$6$$8$$\n",
      "\n",
      "0*$2$$4$$6$$8$$\n",
      "\n"
     ]
    }
   ],
   "source": [
    "from math import log\n",
    "\n",
    "def pattern(width,row,start):\n",
    "    n=2*width\n",
    "    shift=n\n",
    "    for r in range(n):\n",
    "        if start<=r<=log(n,2):\n",
    "            shift=shift/2\n",
    "            for i in range(n):\n",
    "                print(2*i,end=\"\")\n",
    "                if not (2*i)//shift:\n",
    "                    #print(\"here\",shift)\n",
    "                    print(\"*$\",end=\"\")\n",
    "                else:\n",
    "                    print(\"$$\",end=\"\")\n",
    "            print('\\n')\n",
    "            \n",
    "\n",
    "pattern(5,4,1)"
   ]
  },
  {
   "cell_type": "code",
   "execution_count": 4,
   "id": "4f063e22",
   "metadata": {},
   "outputs": [],
   "source": [
    "import numpy as np"
   ]
  },
  {
   "cell_type": "code",
   "execution_count": 5,
   "id": "be84e11f",
   "metadata": {},
   "outputs": [],
   "source": [
    "def cuboid(center,length):\n",
    "    x,y,z=center\n",
    "    vertex_list=[]\n",
    "    l1,l2,l3=length\n",
    "    l1=l1//2\n",
    "    l2=l2//2\n",
    "    l3=l3//2\n",
    "\n",
    "    for i in (-l1,l1):\n",
    "        for j in (-l2,l2):\n",
    "            for k in (-l3,l3):\n",
    "                vertex_list.append((x+i,y+j,z+k))\n",
    "\n",
    "    edge_list=((0,2),(2,3),(3,7),(5,7),(1,5),(1,3),(2,6),(6,7),(4,6),(4,5),(0,4),(0,1))\n",
    "    return vertex_list,edge_list"
   ]
  },
  {
   "cell_type": "code",
   "execution_count": 13,
   "id": "10e6d299",
   "metadata": {},
   "outputs": [
    {
     "data": {
      "text/plain": [
       "array([[-250, -250,  150],\n",
       "       [-250, -250,  650],\n",
       "       [-250,  250,  150],\n",
       "       [-250,  250,  650],\n",
       "       [ 250, -250,  150],\n",
       "       [ 250, -250,  650],\n",
       "       [ 250,  250,  150],\n",
       "       [ 250,  250,  650]], dtype=int16)"
      ]
     },
     "execution_count": 13,
     "metadata": {},
     "output_type": "execute_result"
    }
   ],
   "source": [
    "arr=np.array(cuboid((0,0,400),(500,500,500))[0],dtype=np.int16)\n",
    "arr"
   ]
  },
  {
   "cell_type": "code",
   "execution_count": 7,
   "id": "bfe07d0c",
   "metadata": {},
   "outputs": [
    {
     "data": {
      "text/plain": [
       "array([  0.,   0., 400.])"
      ]
     },
     "execution_count": 7,
     "metadata": {},
     "output_type": "execute_result"
    }
   ],
   "source": [
    "np.mean(arr,axis=0)"
   ]
  },
  {
   "cell_type": "code",
   "execution_count": 8,
   "id": "36a4541a",
   "metadata": {},
   "outputs": [
    {
     "data": {
      "text/plain": [
       "array([10.        , 11.33333333, 14.66666667])"
      ]
     },
     "execution_count": 8,
     "metadata": {},
     "output_type": "execute_result"
    }
   ],
   "source": [
    "a = np.array([[5, 9, 13], [14, 10, 12], [11, 15, 19]])\n",
    "np.mean(a,axis=0)"
   ]
  },
  {
   "cell_type": "code",
   "execution_count": 16,
   "id": "f68ded89",
   "metadata": {},
   "outputs": [
    {
     "data": {
      "text/plain": [
       "[[283, -66],\n",
       " [436, -542],\n",
       " [-192, -219],\n",
       " [-39, -695],\n",
       " [283, -66],\n",
       " [436, -542],\n",
       " [-192, -219],\n",
       " [-39, -695]]"
      ]
     },
     "execution_count": 16,
     "metadata": {},
     "output_type": "execute_result"
    }
   ],
   "source": [
    "theta=60\n",
    "tfm=np.array([[np.cos(theta),np.sin(theta)],[-np.sin(theta),np.cos(theta)]])\n",
    "np.dot(arr[:,1:],tfm).astype(np.int16,copy=False).tolist()"
   ]
  },
  {
   "cell_type": "code",
   "execution_count": null,
   "id": "f8cf08ee",
   "metadata": {},
   "outputs": [],
   "source": []
  },
  {
   "cell_type": "code",
   "execution_count": null,
   "id": "1bf8aca5",
   "metadata": {},
   "outputs": [],
   "source": []
  }
 ],
 "metadata": {
  "kernelspec": {
   "display_name": "Python 3 (ipykernel)",
   "language": "python",
   "name": "python3"
  },
  "language_info": {
   "codemirror_mode": {
    "name": "ipython",
    "version": 3
   },
   "file_extension": ".py",
   "mimetype": "text/x-python",
   "name": "python",
   "nbconvert_exporter": "python",
   "pygments_lexer": "ipython3",
   "version": "3.9.13"
  }
 },
 "nbformat": 4,
 "nbformat_minor": 5
}
