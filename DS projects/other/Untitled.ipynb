{
 "cells": [
  {
   "cell_type": "code",
   "execution_count": 26,
   "id": "ca5ef869",
   "metadata": {},
   "outputs": [
    {
     "name": "stdout",
     "output_type": "stream",
     "text": [
      "0*$2*$4*$6$$8$$\n",
      "\n",
      "0*$2*$4$$6$$8$$\n",
      "\n",
      "0*$2$$4$$6$$8$$\n",
      "\n"
     ]
    }
   ],
   "source": [
    "from math import log\n",
    "\n",
    "def pattern(width,row,start):\n",
    "    n=2*width\n",
    "    shift=n\n",
    "    for r in range(n):\n",
    "        if start<=r<=log(n,2):\n",
    "            shift=shift/2\n",
    "            for i in range(n):\n",
    "                print(2*i,end=\"\")\n",
    "                if not (2*i)//shift:\n",
    "                    #print(\"here\",shift)\n",
    "                    print(\"*$\",end=\"\")\n",
    "                else:\n",
    "                    print(\"$$\",end=\"\")\n",
    "            print('\\n')\n",
    "            \n",
    "\n",
    "pattern(5,4,1)"
   ]
  },
  {
   "cell_type": "code",
   "execution_count": null,
   "id": "4f063e22",
   "metadata": {},
   "outputs": [],
   "source": []
  }
 ],
 "metadata": {
  "kernelspec": {
   "display_name": "Python 3",
   "language": "python",
   "name": "python3"
  },
  "language_info": {
   "codemirror_mode": {
    "name": "ipython",
    "version": 3
   },
   "file_extension": ".py",
   "mimetype": "text/x-python",
   "name": "python",
   "nbconvert_exporter": "python",
   "pygments_lexer": "ipython3",
   "version": "3.8.8"
  }
 },
 "nbformat": 4,
 "nbformat_minor": 5
}
